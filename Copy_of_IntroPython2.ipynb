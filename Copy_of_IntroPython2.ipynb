{
  "cells": [
    {
      "cell_type": "markdown",
      "source": [
        "# **Python: From Tools to Healthcare Applications**\n",
        "\n",
        "*Week 2 (Part 1) - Lists, Dictionaries, Tuples, Loops, Functions, Args, Error Handling*\n",
        "---\n",
        "Compiled for SHP by Shubh & Pooja\n",
        "\n",
        "---\n",
        "\n"
      ],
      "metadata": {
        "id": "yfC1Lqbr7yZ2"
      }
    },
    {
      "cell_type": "markdown",
      "metadata": {
        "id": "Z4iFF-sQge6U"
      },
      "source": [
        "# **Warm Up**\n",
        "\n",
        "Write a piece of code that given as string variable, does the following:\n",
        "- Prints \"short word\" for words with up to 4 letters, \"medium work\" for words with more than 4 and less than 10 letters, and \"long word\" for words with 10 letters or more.\n",
        "- Print if the word has an even or an odd number of letters.\n",
        "- Checks if the word starts with \"s\" and if not prints its first letter.\n",
        "- Print \"the Force is strong with you\" if the word is \"jedi\".\n",
        "\n",
        "Test it out by setting a variable \"my_word\" to a few different values and making sure it does what you want / expect."
      ]
    },
    {
      "cell_type": "code",
      "execution_count": null,
      "metadata": {
        "id": "iOs8sEEvYfPy"
      },
      "outputs": [],
      "source": [
        "# paste your code here and test it!"
      ]
    },
    {
      "cell_type": "markdown",
      "metadata": {
        "id": "_AWuFTVkjqnz"
      },
      "source": [
        "# Lists\n",
        "\n",
        "Lists let you define a sequence of anything -- strings, integers, floats, other lists, etc.\n",
        "\n",
        "Many of the same operations that work with strings also work with lists. The main difference is that lists are mutable, which means that you can change elements of the list after it has been created."
      ]
    },
    {
      "cell_type": "code",
      "execution_count": null,
      "metadata": {
        "id": "T1KmFwXiiaeT"
      },
      "outputs": [],
      "source": [
        "teachers = ['Abhi', 'Sharon', 'Renata', 32, '32']"
      ]
    },
    {
      "cell_type": "code",
      "execution_count": null,
      "metadata": {
        "colab": {
          "base_uri": "https://localhost:8080/",
          "height": 35
        },
        "id": "GlsdIOesj1y0",
        "outputId": "de825953-aa1b-4a07-d4ef-e052db1ffabc"
      },
      "outputs": [
        {
          "output_type": "execute_result",
          "data": {
            "text/plain": [
              "'Abhi'"
            ],
            "application/vnd.google.colaboratory.intrinsic+json": {
              "type": "string"
            }
          },
          "metadata": {},
          "execution_count": 3
        }
      ],
      "source": [
        "teachers[0]"
      ]
    },
    {
      "cell_type": "code",
      "execution_count": null,
      "metadata": {
        "colab": {
          "base_uri": "https://localhost:8080/",
          "height": 35
        },
        "id": "j1q-U7eDj3lx",
        "outputId": "684ffd0d-6b08-47ca-e1a1-397148067e30"
      },
      "outputs": [
        {
          "output_type": "execute_result",
          "data": {
            "text/plain": [
              "'32'"
            ],
            "application/vnd.google.colaboratory.intrinsic+json": {
              "type": "string"
            }
          },
          "metadata": {},
          "execution_count": 4
        }
      ],
      "source": [
        "teachers[-1]"
      ]
    },
    {
      "cell_type": "code",
      "execution_count": null,
      "metadata": {
        "colab": {
          "base_uri": "https://localhost:8080/"
        },
        "id": "-ph49H9Aj6Ct",
        "outputId": "dbae116a-8304-4000-9f09-ddb02d8a3f57"
      },
      "outputs": [
        {
          "output_type": "execute_result",
          "data": {
            "text/plain": [
              "['Abhi',\n",
              " 'Sharon',\n",
              " 'Renata',\n",
              " 32,\n",
              " '32',\n",
              " 'Abhi',\n",
              " 'Sharon',\n",
              " 'Renata',\n",
              " 32,\n",
              " '32',\n",
              " 'Abhi',\n",
              " 'Sharon',\n",
              " 'Renata',\n",
              " 32,\n",
              " '32']"
            ]
          },
          "metadata": {},
          "execution_count": 5
        }
      ],
      "source": [
        "teachers*3"
      ]
    },
    {
      "cell_type": "markdown",
      "metadata": {
        "id": "tjPAWkWAldDU"
      },
      "source": [
        "## Append"
      ]
    },
    {
      "cell_type": "code",
      "execution_count": null,
      "metadata": {
        "id": "QyUEcgvSlbgV"
      },
      "outputs": [],
      "source": [
        "teachers.append('Angelica')"
      ]
    },
    {
      "cell_type": "code",
      "execution_count": null,
      "metadata": {
        "colab": {
          "base_uri": "https://localhost:8080/"
        },
        "id": "cNYk0vnwllsf",
        "outputId": "b546d67e-8b80-48dd-97d7-4a18870de96a"
      },
      "outputs": [
        {
          "output_type": "execute_result",
          "data": {
            "text/plain": [
              "['Abhi', 'Sharon', 'Renata', 32, '32', 'Angelica']"
            ]
          },
          "metadata": {},
          "execution_count": 7
        }
      ],
      "source": [
        "teachers"
      ]
    },
    {
      "cell_type": "markdown",
      "metadata": {
        "id": "tQZyY5cglrOr"
      },
      "source": [
        "## Removing elements from a list"
      ]
    },
    {
      "cell_type": "code",
      "execution_count": null,
      "metadata": {
        "id": "JgVBcxO4lpgY"
      },
      "outputs": [],
      "source": [
        "teachers.remove('Renata')"
      ]
    },
    {
      "cell_type": "code",
      "execution_count": null,
      "metadata": {
        "colab": {
          "base_uri": "https://localhost:8080/"
        },
        "id": "RcYEHN8nl0Tm",
        "outputId": "6c8abcb9-b2a0-4e90-eb30-b9b87ddfbe54"
      },
      "outputs": [
        {
          "output_type": "execute_result",
          "data": {
            "text/plain": [
              "['Abhi', 'Sharon', 32, '32', 'Angelica']"
            ]
          },
          "metadata": {},
          "execution_count": 9
        }
      ],
      "source": [
        "teachers"
      ]
    },
    {
      "cell_type": "code",
      "execution_count": null,
      "metadata": {
        "id": "a9SajKNul2Uu"
      },
      "outputs": [],
      "source": [
        "del teachers[1] # also works to remove multiple elements with slicing, which will be taught in a future class"
      ]
    },
    {
      "cell_type": "code",
      "execution_count": null,
      "metadata": {
        "colab": {
          "base_uri": "https://localhost:8080/"
        },
        "id": "R9ihATFKl49N",
        "outputId": "86da1499-9cf6-4a83-c66a-1b0c70b015a7"
      },
      "outputs": [
        {
          "output_type": "execute_result",
          "data": {
            "text/plain": [
              "['Abhi', 32, '32', 'Angelica']"
            ]
          },
          "metadata": {},
          "execution_count": 11
        }
      ],
      "source": [
        "teachers"
      ]
    },
    {
      "cell_type": "code",
      "execution_count": null,
      "metadata": {
        "colab": {
          "base_uri": "https://localhost:8080/",
          "height": 35
        },
        "id": "QrlT4JkTl6ve",
        "outputId": "2dfde100-8871-4910-d984-36ed2a460b46"
      },
      "outputs": [
        {
          "output_type": "execute_result",
          "data": {
            "text/plain": [
              "'32'"
            ],
            "application/vnd.google.colaboratory.intrinsic+json": {
              "type": "string"
            }
          },
          "metadata": {},
          "execution_count": 14
        }
      ],
      "source": [
        "teachers.pop(1) # remove item at index 1 from list & returns it. If don't enter an index, will remove last item."
      ]
    },
    {
      "cell_type": "code",
      "execution_count": null,
      "metadata": {
        "colab": {
          "base_uri": "https://localhost:8080/"
        },
        "id": "8E8j_OXBmAAE",
        "outputId": "89b192ea-27de-4c09-d7e6-635c8526d28c"
      },
      "outputs": [
        {
          "output_type": "execute_result",
          "data": {
            "text/plain": [
              "['Abhi', 'Angelica']"
            ]
          },
          "metadata": {},
          "execution_count": 15
        }
      ],
      "source": [
        "teachers"
      ]
    },
    {
      "cell_type": "markdown",
      "metadata": {
        "id": "k6V5CLkW5frL"
      },
      "source": [
        "## List of Lists\n"
      ]
    },
    {
      "cell_type": "code",
      "execution_count": null,
      "metadata": {
        "id": "OYkok4UhXXbl",
        "colab": {
          "base_uri": "https://localhost:8080/"
        },
        "outputId": "690c2c24-64c9-489f-c406-fc9ee116786f"
      },
      "outputs": [
        {
          "output_type": "stream",
          "name": "stdout",
          "text": [
            "[[1, 2, 3], ['a', 'b', 'c']]\n"
          ]
        }
      ],
      "source": [
        "n=[1,2,3]\n",
        "s = ['a', 'b', 'c']\n",
        "list_of_list = [n,s]\n",
        "print(list_of_list)"
      ]
    },
    {
      "cell_type": "code",
      "execution_count": null,
      "metadata": {
        "colab": {
          "base_uri": "https://localhost:8080/"
        },
        "id": "Oajnwsdy5lWQ",
        "outputId": "4d752c68-2dd9-4881-f0ae-99c596f19c99"
      },
      "outputs": [
        {
          "output_type": "stream",
          "name": "stdout",
          "text": [
            "['a', 'b', 'c', [1, 2, 3]]\n"
          ]
        }
      ],
      "source": [
        "# append adds the argument inside the parentheses as one element in the list\n",
        "s.append(n)\n",
        "print(s)"
      ]
    },
    {
      "cell_type": "code",
      "execution_count": null,
      "metadata": {
        "colab": {
          "base_uri": "https://localhost:8080/"
        },
        "id": "wAJs7FSv5nSI",
        "outputId": "109a0418-e316-4126-da68-44ceb1327fd8"
      },
      "outputs": [
        {
          "output_type": "stream",
          "name": "stdout",
          "text": [
            "['a', 'b', 'c', [1, 2, 3], 1, 2, 3]\n"
          ]
        }
      ],
      "source": [
        "# appends each element of n to list s\n",
        "s.extend(n)\n",
        "print(s)"
      ]
    },
    {
      "cell_type": "code",
      "execution_count": null,
      "metadata": {
        "colab": {
          "base_uri": "https://localhost:8080/"
        },
        "id": "o6s4iGDX5pb_",
        "outputId": "b7bec1ce-f02a-40be-d8c0-4e5d219e6d34"
      },
      "outputs": [
        {
          "output_type": "stream",
          "name": "stdout",
          "text": [
            "[1, 2, 3]\n",
            "['a', 'b', 'c', [1, 2, 3], 1, 2, 3]\n"
          ]
        }
      ],
      "source": [
        "print(n)\n",
        "print(s)"
      ]
    },
    {
      "cell_type": "markdown",
      "metadata": {
        "id": "SmFIohv2XbaI"
      },
      "source": [
        "**Obs.:** When you have a list that contains within it another mutable object, such as other lists, there are differences between `deepcopy` and the shallow `.copy` option that comes with lists. We don't have time to get into why this is, but you can check the extra notebook about this topic at home. The main takeaway is if you want to avoid changing the original list or the original list changing the copy, use deepcopy!\n"
      ]
    },
    {
      "cell_type": "markdown",
      "metadata": {
        "id": "czL0X2nR55jP"
      },
      "source": [
        "## Exercise:\n",
        "\n",
        "What will the following code block print?\n",
        "For each print statement, comment what you think it will be and then test before moving on to the next print statement.\n",
        "\n",
        "```\n",
        "test_list = []\n",
        "test_list +=['do']\n",
        "test_list.append('re')\n",
        "test_list.append(['mi','fa', 'so'])\n",
        "test_list.extend(['la', 'ti'])\n",
        "print(len(test_list)) #1\n",
        "print(test_list) #2\n",
        "print(test_list[2]) #3\n",
        "\n",
        "del test_list[2][0]\n",
        "print(test_list) #4\n",
        "\n",
        "test_list[3] = []\n",
        "print(test_list) #5\n",
        "\n",
        "```\n"
      ]
    },
    {
      "cell_type": "code",
      "source": [
        "test_list = []\n",
        "test_list +=['do']\n",
        "test_list.append('re')\n",
        "print(test_list)\n",
        "test_list.append(['mi','fa', 'so'])\n",
        "test_list.extend(['la', 'ti'])\n",
        "print(len(test_list)) #1\n",
        "print(test_list) #2\n",
        "print(test_list[2]) #3"
      ],
      "metadata": {
        "colab": {
          "base_uri": "https://localhost:8080/"
        },
        "id": "qYqbYkVzAwip",
        "outputId": "0f96e92f-d249-4504-ac62-f31dc8265fd2"
      },
      "execution_count": null,
      "outputs": [
        {
          "output_type": "stream",
          "name": "stdout",
          "text": [
            "['do', 're']\n",
            "5\n",
            "['do', 're', ['mi', 'fa', 'so'], 'la', 'ti']\n",
            "['mi', 'fa', 'so']\n"
          ]
        }
      ]
    },
    {
      "cell_type": "code",
      "execution_count": null,
      "metadata": {
        "id": "wBdYXnc-ZDJO",
        "colab": {
          "base_uri": "https://localhost:8080/"
        },
        "outputId": "ebf55351-b57f-4010-b5a9-56462248973a"
      },
      "outputs": [
        {
          "output_type": "stream",
          "name": "stdout",
          "text": [
            "['do', 're', ['fa', 'so'], 'la', 'ti']\n",
            "['do', 're', ['fa', 'so'], [], 'ti']\n"
          ]
        }
      ],
      "source": [
        "del test_list[2][0]\n",
        "print(test_list) #4\n",
        "\n",
        "test_list[3] = []\n",
        "print(test_list) #5"
      ]
    },
    {
      "cell_type": "markdown",
      "metadata": {
        "id": "wJzLT0Vi5-RF"
      },
      "source": [
        "# Dictionaries\n",
        "\n",
        "Dictionaries are a mutable datatype consisting of key and value pairs. They are good for quickly accessing the values of arbitrary keys. Keys and values can both be any data type.\n",
        "\n",
        "Dictionaries look like this:\n",
        "```\n",
        "{\n",
        "  key0: value0,\n",
        "  key1: value1,\n",
        "  key2: value2\n",
        "}\n",
        "```"
      ]
    },
    {
      "cell_type": "code",
      "execution_count": null,
      "metadata": {
        "id": "CI4_CwuW59Et"
      },
      "outputs": [],
      "source": [
        "# Dictionaries:\n",
        "monkey_A = {\n",
        "'spiketimes': [0,20,34,56],\n",
        "'name': 'Einstein',\n",
        "}"
      ]
    },
    {
      "cell_type": "code",
      "execution_count": null,
      "metadata": {
        "id": "2TsEQlsW6DLO",
        "colab": {
          "base_uri": "https://localhost:8080/"
        },
        "outputId": "e7f47a6d-cf29-4a49-a973-eeb062e20b77"
      },
      "outputs": [
        {
          "output_type": "execute_result",
          "data": {
            "text/plain": [
              "{'spiketimes': [0, 20, 34, 56], 'name': 'Einstein'}"
            ]
          },
          "metadata": {},
          "execution_count": 2
        }
      ],
      "source": [
        "monkey_A"
      ]
    },
    {
      "cell_type": "code",
      "execution_count": null,
      "metadata": {
        "id": "5tiYsGZ06LOQ",
        "colab": {
          "base_uri": "https://localhost:8080/"
        },
        "outputId": "b310d157-c745-4065-caa9-95838e9d0e2a"
      },
      "outputs": [
        {
          "output_type": "execute_result",
          "data": {
            "text/plain": [
              "dict_keys(['spiketimes', 'name'])"
            ]
          },
          "metadata": {},
          "execution_count": 3
        }
      ],
      "source": [
        "# lists the keys in the dictionar\n",
        "monkey_A.keys()"
      ]
    },
    {
      "cell_type": "code",
      "execution_count": null,
      "metadata": {
        "id": "GV6D8qy46Uhz",
        "colab": {
          "base_uri": "https://localhost:8080/"
        },
        "outputId": "e95ca2a1-4e04-413e-fd85-a69086d38427"
      },
      "outputs": [
        {
          "output_type": "execute_result",
          "data": {
            "text/plain": [
              "[0, 20, 34, 56]"
            ]
          },
          "metadata": {},
          "execution_count": 4
        }
      ],
      "source": [
        "monkey_A['spiketimes'] # gets the value at the key inside the brackets"
      ]
    },
    {
      "cell_type": "markdown",
      "metadata": {
        "id": "F2ZmXzNI6cgf"
      },
      "source": [
        "What will `monkey_A['name']` output?\n",
        "\n",
        "Guess, and then type and run below."
      ]
    },
    {
      "cell_type": "code",
      "execution_count": null,
      "metadata": {
        "id": "Jy6DPTOUa6RJ"
      },
      "outputs": [],
      "source": [
        "# type here"
      ]
    },
    {
      "cell_type": "code",
      "execution_count": null,
      "metadata": {
        "id": "7TJfcNbd6b3X"
      },
      "outputs": [],
      "source": [
        "monkey_A['lab'] = 'Churchland' # adds key, value pair to dictionary ('lab' is the key, 'Churchland' is the value)"
      ]
    },
    {
      "cell_type": "code",
      "execution_count": null,
      "metadata": {
        "id": "ZFQbpiwM6ZZR",
        "colab": {
          "base_uri": "https://localhost:8080/"
        },
        "outputId": "80684e96-0161-413d-ac91-cb74535d2d4d"
      },
      "outputs": [
        {
          "output_type": "execute_result",
          "data": {
            "text/plain": [
              "{'spiketimes': [0, 20, 34, 56], 'name': 'Einstein', 'lab': 'Churchland'}"
            ]
          },
          "metadata": {},
          "execution_count": 7
        }
      ],
      "source": [
        "monkey_A"
      ]
    },
    {
      "cell_type": "code",
      "execution_count": null,
      "metadata": {
        "id": "fk2Bi9oG6uu2",
        "colab": {
          "base_uri": "https://localhost:8080/"
        },
        "outputId": "507a1e4e-c298-408f-f632-d0f9040072e4"
      },
      "outputs": [
        {
          "output_type": "execute_result",
          "data": {
            "text/plain": [
              "True"
            ]
          },
          "metadata": {},
          "execution_count": 8
        }
      ],
      "source": [
        "'lab' in monkey_A # test if a key is in a dictionary\n",
        "# this also work with strings (e.g. 'hi' in 'abhi' will be True)"
      ]
    },
    {
      "cell_type": "code",
      "execution_count": null,
      "metadata": {
        "id": "a1Puo1UO6xlt",
        "colab": {
          "base_uri": "https://localhost:8080/"
        },
        "outputId": "147d30b0-adfc-4003-c526-8756ea25e55e"
      },
      "outputs": [
        {
          "output_type": "execute_result",
          "data": {
            "text/plain": [
              "False"
            ]
          },
          "metadata": {},
          "execution_count": 9
        }
      ],
      "source": [
        "del monkey_A['lab'] # delete a key value pair\n",
        "'lab' in monkey_A"
      ]
    },
    {
      "cell_type": "code",
      "execution_count": null,
      "metadata": {
        "id": "G6Jk5PrS60Mt",
        "colab": {
          "base_uri": "https://localhost:8080/"
        },
        "outputId": "043613c2-1781-4276-8dde-17161fe4baaf"
      },
      "outputs": [
        {
          "output_type": "execute_result",
          "data": {
            "text/plain": [
              "{'spiketimes': [0, 20, 34, 56], 'name': 'Einstein'}"
            ]
          },
          "metadata": {},
          "execution_count": 10
        }
      ],
      "source": [
        "monkey_A"
      ]
    },
    {
      "cell_type": "markdown",
      "metadata": {
        "id": "CAP4VDqm64N7"
      },
      "source": [
        "You can create dictionaries from lists and by setting keys equal to values using the `dict` constructor."
      ]
    },
    {
      "cell_type": "code",
      "execution_count": null,
      "metadata": {
        "id": "Tei-aZ1O63KP",
        "colab": {
          "base_uri": "https://localhost:8080/"
        },
        "outputId": "58fccf0a-3eaa-427c-8a3b-3a7591412ec8"
      },
      "outputs": [
        {
          "output_type": "stream",
          "name": "stdout",
          "text": [
            "[(1, 'Renata'), (2, 'Renata'), (3, 'Renata'), (4, 'Sharon'), (5, 'Sharon')]\n"
          ]
        },
        {
          "output_type": "execute_result",
          "data": {
            "text/plain": [
              "{1: 'Renata', 2: 'Renata', 3: 'Renata', 4: 'Sharon', 5: 'Sharon'}"
            ]
          },
          "metadata": {},
          "execution_count": 11
        }
      ],
      "source": [
        "my_list = [(1,'Renata'), (2, 'Renata'), (3, 'Renata'), (4, 'Sharon'), (5,'Sharon')]\n",
        "print(my_list)\n",
        "dict(my_list)"
      ]
    },
    {
      "cell_type": "code",
      "execution_count": null,
      "metadata": {
        "id": "UhjpVQ0H6_cc",
        "colab": {
          "base_uri": "https://localhost:8080/"
        },
        "outputId": "fbc5d0e7-be1c-4c72-f9b4-372aebc1fd01"
      },
      "outputs": [
        {
          "output_type": "execute_result",
          "data": {
            "text/plain": [
              "{'instructor_1': 'Renata', 'instructor_2': 'Sharon', 'instructor_3': 'Abhi'}"
            ]
          },
          "metadata": {},
          "execution_count": 12
        }
      ],
      "source": [
        "dict(instructor_1 = 'Renata', instructor_2 = 'Sharon', instructor_3 = 'Abhi')"
      ]
    },
    {
      "cell_type": "markdown",
      "metadata": {
        "id": "lh2e3hHS7ESp"
      },
      "source": [
        "Note that dictionary keys need to be unique, so, for example:"
      ]
    },
    {
      "cell_type": "code",
      "execution_count": null,
      "metadata": {
        "id": "U-M_V_I_7Cj7",
        "colab": {
          "base_uri": "https://localhost:8080/"
        },
        "outputId": "595c4554-e73f-4dd9-ad94-0179f8689956"
      },
      "outputs": [
        {
          "output_type": "execute_result",
          "data": {
            "text/plain": [
              "{1: 'Abhi'}"
            ]
          },
          "metadata": {},
          "execution_count": 11
        }
      ],
      "source": [
        "my_list = [(1,'Renata'), (1, 'Abhi')]\n",
        "dict(my_list)"
      ]
    },
    {
      "cell_type": "markdown",
      "metadata": {
        "id": "St1Sfayf7LCc"
      },
      "source": [
        "Will not give what we expect, but values do not need to be unique, which is why the below works."
      ]
    },
    {
      "cell_type": "code",
      "execution_count": null,
      "metadata": {
        "id": "ixoazRKT7Iu_",
        "colab": {
          "base_uri": "https://localhost:8080/"
        },
        "outputId": "71e2a69e-b838-41b1-86bd-c197d0cdde77"
      },
      "outputs": [
        {
          "output_type": "execute_result",
          "data": {
            "text/plain": [
              "{1: 'Renata', 2: 'Renata'}"
            ]
          },
          "metadata": {},
          "execution_count": 12
        }
      ],
      "source": [
        "my_list = [(1,'Renata'), (2, 'Renata')]\n",
        "dict(my_list)"
      ]
    },
    {
      "cell_type": "markdown",
      "metadata": {
        "id": "AZDvqAFm7P69"
      },
      "source": [
        "## Exercise\n",
        "\n",
        "1. Create a dictionary (using any of the above methods) of what you would order for lunch if you could. Have the keys be the menu items, and the values be their prices. Store the dictionary in a variable called `lunch_menu`\n",
        "2. Print out the keys of the dictionary.\n",
        "3. Get the price for a specific menu item out of the dictionary.\n",
        "4. Check if a certain menu item is in the dictionary.\n",
        "5. Delete that menu item from the dictionary.\n",
        "6. Check again if that menu item is in the dictionary."
      ]
    },
    {
      "cell_type": "code",
      "execution_count": null,
      "metadata": {
        "id": "RG-ywLE17O-5"
      },
      "outputs": [],
      "source": [
        "lunch_menu ={\n",
        "    'pasta' :1.50,\n",
        "    'burger' : 2.45,\n",
        "    'salad' : 1.25\n",
        "}"
      ]
    },
    {
      "cell_type": "code",
      "execution_count": null,
      "metadata": {
        "id": "ijt_IY4i7Woy"
      },
      "outputs": [],
      "source": [
        "lunch_menu.keys()"
      ]
    },
    {
      "cell_type": "code",
      "execution_count": null,
      "metadata": {
        "id": "8vhcSZRR7Zgx"
      },
      "outputs": [],
      "source": [
        "lunch_menu['pasta']"
      ]
    },
    {
      "cell_type": "code",
      "execution_count": null,
      "metadata": {
        "id": "ynQXcN4u7dCv"
      },
      "outputs": [],
      "source": [
        "'pasta' in lunch_menu"
      ]
    },
    {
      "cell_type": "code",
      "execution_count": null,
      "metadata": {
        "id": "7G17uYNm7hEM"
      },
      "outputs": [],
      "source": [
        "del lunch_menu['pasta']"
      ]
    },
    {
      "cell_type": "code",
      "execution_count": null,
      "metadata": {
        "id": "CB64Sanz7k0Y"
      },
      "outputs": [],
      "source": [
        "'pasta'in lunch_menu"
      ]
    },
    {
      "cell_type": "markdown",
      "metadata": {
        "id": "OrO5W_l97o-Z"
      },
      "source": [
        "# Tuples\n",
        "Tuples are static, or immutable. Like strings, you cannot modify them once you have created them. Slicing works with tuples like it works with lists. Tuples are useful when you want to make sure something cannot accidentally get modified, and we will use them when we learn about functions next class."
      ]
    },
    {
      "cell_type": "code",
      "execution_count": null,
      "metadata": {
        "id": "LCH0EYzW7n5A"
      },
      "outputs": [],
      "source": [
        "my_tup = 'test',0,1"
      ]
    },
    {
      "cell_type": "code",
      "execution_count": null,
      "metadata": {
        "id": "eX8vcDx_7wIg",
        "colab": {
          "base_uri": "https://localhost:8080/"
        },
        "outputId": "ad6b698e-f728-4c80-e943-526e27130306"
      },
      "outputs": [
        {
          "output_type": "execute_result",
          "data": {
            "text/plain": [
              "('test', 0, 1)"
            ]
          },
          "metadata": {},
          "execution_count": 4
        }
      ],
      "source": [
        "my_tup"
      ]
    },
    {
      "cell_type": "code",
      "execution_count": null,
      "metadata": {
        "id": "9uk73e9I70D8",
        "colab": {
          "base_uri": "https://localhost:8080/",
          "height": 35
        },
        "outputId": "b70b1b58-6cec-4dde-988a-c74c48357e7d"
      },
      "outputs": [
        {
          "output_type": "execute_result",
          "data": {
            "text/plain": [
              "'test'"
            ],
            "application/vnd.google.colaboratory.intrinsic+json": {
              "type": "string"
            }
          },
          "metadata": {},
          "execution_count": 5
        }
      ],
      "source": [
        "my_tup[0]"
      ]
    },
    {
      "cell_type": "markdown",
      "metadata": {
        "id": "N2KTRB9B76TC"
      },
      "source": [
        "What will `my_tup[1]` output? Guess before typing and checking below."
      ]
    },
    {
      "cell_type": "code",
      "execution_count": null,
      "metadata": {
        "id": "mQdHV_vd72r2",
        "colab": {
          "base_uri": "https://localhost:8080/"
        },
        "outputId": "5a741bce-e3e2-479b-afd3-79da1d53de6e"
      },
      "outputs": [
        {
          "output_type": "execute_result",
          "data": {
            "text/plain": [
              "0"
            ]
          },
          "metadata": {},
          "execution_count": 6
        }
      ],
      "source": [
        " my_tup[1]"
      ]
    },
    {
      "cell_type": "code",
      "execution_count": null,
      "metadata": {
        "id": "qdDAWcjq8MMO",
        "colab": {
          "base_uri": "https://localhost:8080/",
          "height": 179
        },
        "outputId": "126ebad2-0316-4bf5-abed-a41960189ec4"
      },
      "outputs": [
        {
          "output_type": "error",
          "ename": "TypeError",
          "evalue": "ignored",
          "traceback": [
            "\u001b[0;31m---------------------------------------------------------------------------\u001b[0m",
            "\u001b[0;31mTypeError\u001b[0m                                 Traceback (most recent call last)",
            "\u001b[0;32m<ipython-input-7-23307dbb1cda>\u001b[0m in \u001b[0;36m<cell line: 1>\u001b[0;34m()\u001b[0m\n\u001b[0;32m----> 1\u001b[0;31m \u001b[0mmy_tup\u001b[0m\u001b[0;34m[\u001b[0m\u001b[0;36m0\u001b[0m\u001b[0;34m]\u001b[0m \u001b[0;34m=\u001b[0m \u001b[0;34m'it worked'\u001b[0m \u001b[0;31m# will this line work? Guess before trying.\u001b[0m\u001b[0;34m\u001b[0m\u001b[0;34m\u001b[0m\u001b[0m\n\u001b[0m",
            "\u001b[0;31mTypeError\u001b[0m: 'tuple' object does not support item assignment"
          ]
        }
      ],
      "source": [
        "my_tup[0] = 'it worked' # will this line work? Guess before trying."
      ]
    },
    {
      "cell_type": "code",
      "execution_count": null,
      "metadata": {
        "id": "9VEIwXRm8PIU",
        "colab": {
          "base_uri": "https://localhost:8080/",
          "height": 179
        },
        "outputId": "9f94ab66-e4c2-4e60-a60b-336b35dcb234"
      },
      "outputs": [
        {
          "output_type": "error",
          "ename": "TypeError",
          "evalue": "ignored",
          "traceback": [
            "\u001b[0;31m---------------------------------------------------------------------------\u001b[0m",
            "\u001b[0;31mTypeError\u001b[0m                                 Traceback (most recent call last)",
            "\u001b[0;32m<ipython-input-8-48af06a6e344>\u001b[0m in \u001b[0;36m<cell line: 1>\u001b[0;34m()\u001b[0m\n\u001b[0;32m----> 1\u001b[0;31m \u001b[0mmy_tup\u001b[0m \u001b[0;34m+\u001b[0m \u001b[0;36m0\u001b[0m \u001b[0;31m# what about this?\u001b[0m\u001b[0;34m\u001b[0m\u001b[0;34m\u001b[0m\u001b[0m\n\u001b[0m",
            "\u001b[0;31mTypeError\u001b[0m: can only concatenate tuple (not \"int\") to tuple"
          ]
        }
      ],
      "source": [
        "my_tup + 0 # what about this?"
      ]
    },
    {
      "cell_type": "code",
      "execution_count": null,
      "metadata": {
        "id": "s-IFJO8H8RqG",
        "colab": {
          "base_uri": "https://localhost:8080/"
        },
        "outputId": "bfb73aa9-0568-4ea9-93ae-bdf0a54b55b0"
      },
      "outputs": [
        {
          "output_type": "execute_result",
          "data": {
            "text/plain": [
              "('test', 0, 1, 0)"
            ]
          },
          "metadata": {},
          "execution_count": 9
        }
      ],
      "source": [
        "my_tup + (0,) # creates a new tuple, but my_tup is unchanged."
      ]
    },
    {
      "cell_type": "code",
      "execution_count": null,
      "metadata": {
        "id": "23IEMNmQ8VSd",
        "colab": {
          "base_uri": "https://localhost:8080/"
        },
        "outputId": "aa49c7d2-51c6-4370-91cc-403eb4faaa7f"
      },
      "outputs": [
        {
          "output_type": "execute_result",
          "data": {
            "text/plain": [
              "('test', 0, 1)"
            ]
          },
          "metadata": {},
          "execution_count": 10
        }
      ],
      "source": [
        "my_tup"
      ]
    },
    {
      "cell_type": "code",
      "execution_count": null,
      "metadata": {
        "id": "JB9MqQw78Xgb"
      },
      "outputs": [],
      "source": [
        "new_tup = my_tup + (0,)"
      ]
    },
    {
      "cell_type": "code",
      "execution_count": null,
      "metadata": {
        "id": "9NAHRm6O8aL5",
        "colab": {
          "base_uri": "https://localhost:8080/"
        },
        "outputId": "ad1ea46e-721c-4526-d042-6a899b2b9d4d"
      },
      "outputs": [
        {
          "output_type": "execute_result",
          "data": {
            "text/plain": [
              "('test', 0, 1, 0)"
            ]
          },
          "metadata": {},
          "execution_count": 12
        }
      ],
      "source": [
        "new_tup # what will new_tup be?"
      ]
    },
    {
      "cell_type": "code",
      "execution_count": null,
      "metadata": {
        "id": "D0rcwaaP8dg9",
        "colab": {
          "base_uri": "https://localhost:8080/",
          "height": 179
        },
        "outputId": "3352646e-7be4-43ef-c34f-71f8441e8cac"
      },
      "outputs": [
        {
          "output_type": "error",
          "ename": "TypeError",
          "evalue": "ignored",
          "traceback": [
            "\u001b[0;31m---------------------------------------------------------------------------\u001b[0m",
            "\u001b[0;31mTypeError\u001b[0m                                 Traceback (most recent call last)",
            "\u001b[0;32m<ipython-input-13-540e1ada511c>\u001b[0m in \u001b[0;36m<cell line: 1>\u001b[0;34m()\u001b[0m\n\u001b[0;32m----> 1\u001b[0;31m \u001b[0;32mdel\u001b[0m \u001b[0mmy_tup\u001b[0m\u001b[0;34m[\u001b[0m\u001b[0;36m0\u001b[0m\u001b[0;34m]\u001b[0m\u001b[0;34m\u001b[0m\u001b[0;34m\u001b[0m\u001b[0m\n\u001b[0m",
            "\u001b[0;31mTypeError\u001b[0m: 'tuple' object doesn't support item deletion"
          ]
        }
      ],
      "source": [
        "del my_tup[0]"
      ]
    },
    {
      "cell_type": "markdown",
      "metadata": {
        "id": "kSXXDx8C8je1"
      },
      "source": [
        "## Tuple Unpacking and Packing\n",
        "\n",
        "Tuple packing and unpacking refers to separating a tuple into variables or joining variables into a tuple. When unpacking `_` is used as a placeholder for a tuple value you do not care about using in further code."
      ]
    },
    {
      "cell_type": "code",
      "execution_count": null,
      "metadata": {
        "id": "hvE1KgET8nil",
        "colab": {
          "base_uri": "https://localhost:8080/",
          "height": 179
        },
        "outputId": "f891f1b3-c95b-410a-aafb-a2648e2b4d07"
      },
      "outputs": [
        {
          "output_type": "error",
          "ename": "ValueError",
          "evalue": "ignored",
          "traceback": [
            "\u001b[0;31m---------------------------------------------------------------------------\u001b[0m",
            "\u001b[0;31mValueError\u001b[0m                                Traceback (most recent call last)",
            "\u001b[0;32m<ipython-input-14-4d93ad4674ca>\u001b[0m in \u001b[0;36m<cell line: 1>\u001b[0;34m()\u001b[0m\n\u001b[0;32m----> 1\u001b[0;31m \u001b[0ma\u001b[0m\u001b[0;34m,\u001b[0m\u001b[0mb\u001b[0m \u001b[0;34m=\u001b[0m \u001b[0mmy_tup\u001b[0m \u001b[0;31m# fails because only have two values to unpack into but tuple has 3\u001b[0m\u001b[0;34m\u001b[0m\u001b[0;34m\u001b[0m\u001b[0m\n\u001b[0m",
            "\u001b[0;31mValueError\u001b[0m: too many values to unpack (expected 2)"
          ]
        }
      ],
      "source": [
        "a,b = my_tup # fails because only have two values to unpack into but tuple has 3"
      ]
    },
    {
      "cell_type": "code",
      "execution_count": null,
      "metadata": {
        "id": "g9qgU4ER9cXx"
      },
      "outputs": [],
      "source": [
        "a,b,_ = my_tup # tuple unpacking"
      ]
    },
    {
      "cell_type": "code",
      "execution_count": null,
      "metadata": {
        "id": "Lt_xECEZ9fgb",
        "colab": {
          "base_uri": "https://localhost:8080/"
        },
        "outputId": "64434ec5-6e68-48f1-c5f3-fdea07dd85ef"
      },
      "outputs": [
        {
          "output_type": "stream",
          "name": "stdout",
          "text": [
            "test 0\n"
          ]
        }
      ],
      "source": [
        "print(a,b)"
      ]
    },
    {
      "cell_type": "code",
      "execution_count": null,
      "metadata": {
        "id": "CIA3qcTY9hVn"
      },
      "outputs": [],
      "source": [
        "new_tup = 1,2,3 # tuple packing"
      ]
    },
    {
      "cell_type": "code",
      "execution_count": null,
      "metadata": {
        "id": "2J2dufoI9jd2",
        "colab": {
          "base_uri": "https://localhost:8080/"
        },
        "outputId": "1d0e796a-a477-4c95-f890-3289a1973181"
      },
      "outputs": [
        {
          "output_type": "execute_result",
          "data": {
            "text/plain": [
              "(1, 2, 3)"
            ]
          },
          "metadata": {},
          "execution_count": 18
        }
      ],
      "source": [
        "new_tup"
      ]
    },
    {
      "cell_type": "code",
      "execution_count": null,
      "metadata": {
        "id": "a_Omb6Cn9l7O",
        "colab": {
          "base_uri": "https://localhost:8080/"
        },
        "outputId": "afb72d55-77bf-4787-c2a0-cae8b08df05a"
      },
      "outputs": [
        {
          "output_type": "stream",
          "name": "stdout",
          "text": [
            "((1, 2), 3)\n"
          ]
        }
      ],
      "source": [
        "hierarchical_tup = (1,2),3\n",
        "print(hierarchical_tup)"
      ]
    },
    {
      "cell_type": "code",
      "execution_count": null,
      "metadata": {
        "id": "_I-NBkgX9y9i",
        "colab": {
          "base_uri": "https://localhost:8080/",
          "height": 214
        },
        "outputId": "8de259a0-71ae-4190-a620-85a689eb2239"
      },
      "outputs": [
        {
          "output_type": "error",
          "ename": "ValueError",
          "evalue": "ignored",
          "traceback": [
            "\u001b[0;31m---------------------------------------------------------------------------\u001b[0m",
            "\u001b[0;31mValueError\u001b[0m                                Traceback (most recent call last)",
            "\u001b[0;32m<ipython-input-20-aeb3af6a5d82>\u001b[0m in \u001b[0;36m<cell line: 2>\u001b[0;34m()\u001b[0m\n\u001b[1;32m      1\u001b[0m \u001b[0;31m# Let's say we want a b and c to represent the three elements in our hierarchical tuple\u001b[0m\u001b[0;34m\u001b[0m\u001b[0;34m\u001b[0m\u001b[0m\n\u001b[0;32m----> 2\u001b[0;31m \u001b[0ma\u001b[0m\u001b[0;34m,\u001b[0m\u001b[0mb\u001b[0m\u001b[0;34m,\u001b[0m\u001b[0mc\u001b[0m \u001b[0;34m=\u001b[0m \u001b[0mhierarchical_tup\u001b[0m\u001b[0;34m\u001b[0m\u001b[0;34m\u001b[0m\u001b[0m\n\u001b[0m\u001b[1;32m      3\u001b[0m \u001b[0;31m# Why does this fail?\u001b[0m\u001b[0;34m\u001b[0m\u001b[0;34m\u001b[0m\u001b[0m\n",
            "\u001b[0;31mValueError\u001b[0m: not enough values to unpack (expected 3, got 2)"
          ]
        }
      ],
      "source": [
        "# Let's say we want a b and c to represent the three elements in our hierarchical tuple\n",
        "a,b,c = hierarchical_tup\n",
        "# Why does this fail?"
      ]
    },
    {
      "cell_type": "code",
      "source": [
        "(a,b), c = hierarchical_tup"
      ],
      "metadata": {
        "id": "U1Q9DuGUqKIe"
      },
      "execution_count": null,
      "outputs": []
    },
    {
      "cell_type": "code",
      "execution_count": null,
      "metadata": {
        "id": "7pS0xMC591LV"
      },
      "outputs": [],
      "source": [
        "# How can we unpack this?\n",
        "\n",
        "# Unpack multiple tuples\n",
        "\n",
        "x, c = hierarchical_tup\n",
        "a,b = x\n",
        "\n",
        "# Hierarchical Tuple Unpacking\n",
        "\n",
        "(a,b),c = hierarchical_tup"
      ]
    },
    {
      "cell_type": "markdown",
      "metadata": {
        "id": "dMxxn1kt98AL"
      },
      "source": [
        "## Exercise:\n",
        "\n",
        "1. Are tuples mutable or immutable?\n",
        "2. Create a tuple of your and your coding partner's names, called `our_names`.\n",
        "3. Change your name to the name of one of the other people at your table (Can you?)\n",
        "4. Create a new tuple of `whole_table_names` with `our_names` and your other tablemate's names.\n",
        "5. Unpack the `whole_table_names`, using a placeholder for your own name\n",
        "6. Print everyone else's names using the unpacked values."
      ]
    },
    {
      "cell_type": "code",
      "execution_count": null,
      "metadata": {
        "id": "DkHX-0Lu93mu"
      },
      "outputs": [],
      "source": [
        "#1. Immutable\n",
        "our_names = 'Riya', 'Fred'"
      ]
    },
    {
      "cell_type": "code",
      "source": [
        "our_names[0] = 'Andrea'"
      ],
      "metadata": {
        "colab": {
          "base_uri": "https://localhost:8080/",
          "height": 179
        },
        "id": "E9i4MVYoqrjJ",
        "outputId": "0065ea79-d012-4842-b6b4-c8232d9aba98"
      },
      "execution_count": null,
      "outputs": [
        {
          "output_type": "error",
          "ename": "NameError",
          "evalue": "ignored",
          "traceback": [
            "\u001b[0;31m---------------------------------------------------------------------------\u001b[0m",
            "\u001b[0;31mNameError\u001b[0m                                 Traceback (most recent call last)",
            "\u001b[0;32m<ipython-input-23-b048fb8be46c>\u001b[0m in \u001b[0;36m<cell line: 1>\u001b[0;34m()\u001b[0m\n\u001b[0;32m----> 1\u001b[0;31m \u001b[0mour_names\u001b[0m\u001b[0;34m[\u001b[0m\u001b[0;36m0\u001b[0m\u001b[0;34m]\u001b[0m \u001b[0;34m=\u001b[0m \u001b[0;34m'Andrea'\u001b[0m\u001b[0;34m\u001b[0m\u001b[0;34m\u001b[0m\u001b[0m\n\u001b[0m",
            "\u001b[0;31mNameError\u001b[0m: name 'our_names' is not defined"
          ]
        }
      ]
    },
    {
      "cell_type": "markdown",
      "metadata": {
        "id": "ho7JVRuu-N5k"
      },
      "source": [
        "# For loops\n",
        "\n",
        "For loops let us repeat code, for example when iterating through a dictionary, list, or a tuple. We can also use for loops when we want to repeat code a certain number of times."
      ]
    },
    {
      "cell_type": "markdown",
      "metadata": {
        "id": "6IvJjQWk-QvR"
      },
      "source": [
        "### Directly iterate through a list"
      ]
    },
    {
      "cell_type": "code",
      "execution_count": null,
      "metadata": {
        "id": "Gizt8mDl-EFT",
        "colab": {
          "base_uri": "https://localhost:8080/"
        },
        "outputId": "f1ed6be9-0a41-452a-ab75-47665edbb2e4"
      },
      "outputs": [
        {
          "output_type": "stream",
          "name": "stdout",
          "text": [
            "Abhi\n",
            "Sharon\n",
            "Renata\n"
          ]
        }
      ],
      "source": [
        "teachers = ['Abhi', 'Sharon', 'Renata']\n",
        "for val in teachers: # directly iterate through the items in a list.\n",
        "    print(val)"
      ]
    },
    {
      "cell_type": "markdown",
      "metadata": {
        "id": "18q94IWi-ZPD"
      },
      "source": [
        "### Directly iterate through a tuple\n",
        "\n",
        "This works in the same way as for a list. Can you write something like above using new_tup instead of teachers? Try it below."
      ]
    },
    {
      "cell_type": "code",
      "execution_count": null,
      "metadata": {
        "id": "VxYXVZYC-Vu_",
        "colab": {
          "base_uri": "https://localhost:8080/"
        },
        "outputId": "4e96b461-a8e4-4f73-f077-20ad63df9367"
      },
      "outputs": [
        {
          "output_type": "stream",
          "name": "stdout",
          "text": [
            "1\n",
            "2\n",
            "3\n"
          ]
        }
      ],
      "source": [
        "for val in new_tup:\n",
        "    print(val)"
      ]
    },
    {
      "cell_type": "markdown",
      "metadata": {
        "id": "uEf7-rAd-eqM"
      },
      "source": [
        "### Directly Iterate through a Dict"
      ]
    },
    {
      "cell_type": "code",
      "execution_count": null,
      "metadata": {
        "id": "-4TXFEZZ-cTJ",
        "colab": {
          "base_uri": "https://localhost:8080/",
          "height": 214
        },
        "outputId": "c843b017-0433-40c5-fb59-02666f1114f1"
      },
      "outputs": [
        {
          "output_type": "error",
          "ename": "NameError",
          "evalue": "ignored",
          "traceback": [
            "\u001b[0;31m---------------------------------------------------------------------------\u001b[0m",
            "\u001b[0;31mNameError\u001b[0m                                 Traceback (most recent call last)",
            "\u001b[0;32m<ipython-input-26-e746d1366a54>\u001b[0m in \u001b[0;36m<cell line: 1>\u001b[0;34m()\u001b[0m\n\u001b[0;32m----> 1\u001b[0;31m \u001b[0mprint\u001b[0m\u001b[0;34m(\u001b[0m\u001b[0mmonkey_A\u001b[0m\u001b[0;34m.\u001b[0m\u001b[0mkeys\u001b[0m\u001b[0;34m(\u001b[0m\u001b[0;34m)\u001b[0m\u001b[0;34m)\u001b[0m\u001b[0;34m\u001b[0m\u001b[0;34m\u001b[0m\u001b[0m\n\u001b[0m\u001b[1;32m      2\u001b[0m \u001b[0;32mfor\u001b[0m \u001b[0mk\u001b[0m \u001b[0;32min\u001b[0m \u001b[0mmonkey_A\u001b[0m\u001b[0;34m.\u001b[0m\u001b[0mkeys\u001b[0m\u001b[0;34m(\u001b[0m\u001b[0;34m)\u001b[0m\u001b[0;34m:\u001b[0m\u001b[0;34m\u001b[0m\u001b[0;34m\u001b[0m\u001b[0m\n\u001b[1;32m      3\u001b[0m     \u001b[0mprint\u001b[0m\u001b[0;34m(\u001b[0m\u001b[0mk\u001b[0m\u001b[0;34m,\u001b[0m\u001b[0mmonkey_A\u001b[0m\u001b[0;34m[\u001b[0m\u001b[0mk\u001b[0m\u001b[0;34m]\u001b[0m\u001b[0;34m)\u001b[0m\u001b[0;34m\u001b[0m\u001b[0;34m\u001b[0m\u001b[0m\n",
            "\u001b[0;31mNameError\u001b[0m: name 'monkey_A' is not defined"
          ]
        }
      ],
      "source": [
        "print(monkey_A.keys())\n",
        "for k in monkey_A.keys():\n",
        "    print(k,monkey_A[k])"
      ]
    },
    {
      "cell_type": "code",
      "execution_count": null,
      "metadata": {
        "id": "boukKNfo-p43",
        "colab": {
          "base_uri": "https://localhost:8080/"
        },
        "outputId": "a4ebb64f-8ba9-4b82-889f-996ae38d0922"
      },
      "outputs": [
        {
          "output_type": "stream",
          "name": "stdout",
          "text": [
            "dict_items([('spiketimes', [0, 20, 34, 56]), ('name', 'Einstein')])\n",
            "spiketimes [0, 20, 34, 56]\n",
            "name Einstein\n",
            "spiketimes [0, 20, 34, 56]\n",
            "name Einstein\n"
          ]
        }
      ],
      "source": [
        "print(monkey_A.items())# list of items\n",
        "\n",
        "for key, value in monkey_A.items(): # combines tuple unpacking with items\n",
        "    print(key, value)\n",
        "\n",
        "# the above is equivalent to:\n",
        "for item in monkey_A.items():\n",
        "    key, value = item\n",
        "    print(key, value)"
      ]
    },
    {
      "cell_type": "markdown",
      "metadata": {
        "id": "2MatuNcP-vgl"
      },
      "source": [
        "### Range"
      ]
    },
    {
      "cell_type": "code",
      "execution_count": null,
      "metadata": {
        "id": "rZElA0qX-tai",
        "colab": {
          "base_uri": "https://localhost:8080/"
        },
        "outputId": "6c0ea7cc-a5c7-415d-fb3a-9c4386667454"
      },
      "outputs": [
        {
          "output_type": "stream",
          "name": "stdout",
          "text": [
            "0\n",
            "1\n",
            "2\n",
            "3\n",
            "4\n",
            "5\n"
          ]
        }
      ],
      "source": [
        "for i in range(6):\n",
        "    print(i)"
      ]
    },
    {
      "cell_type": "markdown",
      "metadata": {
        "id": "WdBV4AHo-0Kd"
      },
      "source": [
        "Can you create for loop through a range like above that starts at 1 and stops at 7 (inclusive)?\n",
        "\n",
        "Try below."
      ]
    },
    {
      "cell_type": "code",
      "execution_count": null,
      "metadata": {
        "id": "tjezUjBA-x16",
        "colab": {
          "base_uri": "https://localhost:8080/"
        },
        "outputId": "67d3a955-ac78-4d92-c77a-9c34dc6c40d9"
      },
      "outputs": [
        {
          "output_type": "stream",
          "name": "stdout",
          "text": [
            "1\n",
            "2\n",
            "3\n",
            "4\n",
            "5\n",
            "6\n",
            "7\n"
          ]
        }
      ],
      "source": [
        "for i in range(1,8):\n",
        "    print(i)"
      ]
    },
    {
      "cell_type": "markdown",
      "metadata": {
        "id": "mfK4DupC-5RK"
      },
      "source": [
        "What about one that starts at 0 and ends at 6 (inclusive) where only every other number is iterated through? (Hint: use the step argument to range)"
      ]
    },
    {
      "cell_type": "code",
      "execution_count": null,
      "metadata": {
        "id": "yWbVv_7U-2yJ",
        "colab": {
          "base_uri": "https://localhost:8080/"
        },
        "outputId": "35d59b57-1091-462b-c22e-532f88b61309"
      },
      "outputs": [
        {
          "output_type": "stream",
          "name": "stdout",
          "text": [
            "0\n",
            "2\n",
            "4\n",
            "6\n"
          ]
        }
      ],
      "source": [
        "for i in range(0,7,2):\n",
        "    print(i)"
      ]
    },
    {
      "cell_type": "markdown",
      "metadata": {
        "id": "3hWfh1TY--e6"
      },
      "source": [
        "How can we use range with a for loop to print both the index and the value for each element of a list?\n",
        "\n",
        "When you want to modify entries in a list, it is helpful to have the index for the entries."
      ]
    },
    {
      "cell_type": "code",
      "execution_count": null,
      "metadata": {
        "id": "MZTAEQE7-8DJ",
        "colab": {
          "base_uri": "https://localhost:8080/"
        },
        "outputId": "23d44816-69f5-4995-8b38-387786c538c0"
      },
      "outputs": [
        {
          "output_type": "stream",
          "name": "stdout",
          "text": [
            "['Abhi', 'Sharon', 'Renata']\n",
            "0 Abhi\n",
            "1 Sharon\n",
            "2 Renata\n"
          ]
        }
      ],
      "source": [
        "print(teachers)\n",
        "for i in range(len(teachers)):\n",
        "  print(i, teachers[i])\n",
        "  teachers[i] += 's'"
      ]
    },
    {
      "cell_type": "code",
      "execution_count": null,
      "metadata": {
        "id": "mj3pWGB6_BKW",
        "colab": {
          "base_uri": "https://localhost:8080/"
        },
        "outputId": "63f5d629-20f6-422a-e82d-dc5503377b62"
      },
      "outputs": [
        {
          "output_type": "execute_result",
          "data": {
            "text/plain": [
              "['Abhis', 'Sharons', 'Renatas']"
            ]
          },
          "metadata": {},
          "execution_count": 28
        }
      ],
      "source": [
        "teachers # what do you expect this to output?"
      ]
    },
    {
      "cell_type": "markdown",
      "metadata": {
        "id": "TPMH9D3U_Fag"
      },
      "source": [
        "### List Comprehension\n",
        "With something called **list comprehension**, you can use a for loop in line to create dictionaries and lists like this:"
      ]
    },
    {
      "cell_type": "code",
      "execution_count": null,
      "metadata": {
        "id": "3nw_v41w_DQn",
        "colab": {
          "base_uri": "https://localhost:8080/"
        },
        "outputId": "657cb888-4720-4a26-e890-a6fc884df99e"
      },
      "outputs": [
        {
          "output_type": "stream",
          "name": "stdout",
          "text": [
            "[0, 4, 16]\n",
            "[0, 4, 16]\n"
          ]
        }
      ],
      "source": [
        "my_list = [x**2  for x in range(6) if x%2==0] # only uses x's where the condition is true\n",
        "print(my_list)\n",
        "\n",
        "# The above code is equivalent to:\n",
        "my_list = []\n",
        "for x in range(6):\n",
        "  if x%2 == 0:\n",
        "    my_list.append(x**2)\n",
        "\n",
        "print(my_list)"
      ]
    },
    {
      "cell_type": "code",
      "execution_count": null,
      "metadata": {
        "id": "Wp0tlj-D_H_f",
        "colab": {
          "base_uri": "https://localhost:8080/"
        },
        "outputId": "9134c444-e062-4830-db96-cdc8fc8b576f"
      },
      "outputs": [
        {
          "output_type": "stream",
          "name": "stdout",
          "text": [
            "{0: 0, 1: 1, 2: 4, 3: 9, 4: 16, 5: 25}\n",
            "{0: 0, 1: 1, 2: 4, 3: 9, 4: 16, 5: 25}\n"
          ]
        }
      ],
      "source": [
        "my_dict = {x:x**2 for x in range(6)}\n",
        "print(my_dict)\n",
        "\n",
        "# The above code is equivalent to:\n",
        "my_dict = {}\n",
        "for x in range(6):\n",
        "  my_dict[x] = x**2\n",
        "\n",
        "print(my_dict)"
      ]
    },
    {
      "cell_type": "markdown",
      "metadata": {
        "id": "-tvrNDm1_NZr"
      },
      "source": [
        "### Exercise:\n",
        "1. Create a list using list comprehension where any values between 2 and 10 inclusive that are divisible by 3 are added to the list. Assign the list to a variable called `divisible_3s`.\n",
        "2. Using a for loop, print the index and the value at that index for every element in `divisible_3s`.\n",
        "3. Create a dictionary using list comprehension where the key is $x^3$ and the value is $x^2$ for x's between 1 and 4 inclusive. Assign the dictionary to variable `cube_square`.\n",
        "4. Print the key and value for every key, value pair in `cube_square`"
      ]
    },
    {
      "cell_type": "code",
      "execution_count": null,
      "metadata": {
        "id": "X8MEMj0WlkKi",
        "colab": {
          "base_uri": "https://localhost:8080/"
        },
        "outputId": "f407d64b-840e-490f-dd29-0395566f7b6d"
      },
      "outputs": [
        {
          "output_type": "stream",
          "name": "stdout",
          "text": [
            "[3, 6, 9]\n"
          ]
        }
      ],
      "source": [
        "divisible_3s = [x for x in range(2,11) if x%3 == 0]\n",
        "print(divisible_3s)\n"
      ]
    },
    {
      "cell_type": "code",
      "execution_count": null,
      "metadata": {
        "id": "kXHiLmr1kst8",
        "colab": {
          "base_uri": "https://localhost:8080/"
        },
        "outputId": "5a2e3704-e422-4070-f570-4d24fe5f425b"
      },
      "outputs": [
        {
          "output_type": "stream",
          "name": "stdout",
          "text": [
            "0 3\n",
            "1 6\n",
            "2 9\n"
          ]
        }
      ],
      "source": [
        "for x in range(len(divisible_3s)):\n",
        "  print(x, divisible_3s[x])"
      ]
    },
    {
      "cell_type": "code",
      "execution_count": null,
      "metadata": {
        "id": "EVJBdJ1Clkmq",
        "colab": {
          "base_uri": "https://localhost:8080/"
        },
        "outputId": "f12df66b-9d03-4509-c020-12666fc44f8d"
      },
      "outputs": [
        {
          "output_type": "stream",
          "name": "stdout",
          "text": [
            "{1: 1, 8: 4, 27: 9, 64: 16}\n"
          ]
        }
      ],
      "source": [
        "cube_square = {x**3: x**2 for x in range(1,5) }\n"
      ]
    },
    {
      "cell_type": "code",
      "execution_count": null,
      "metadata": {
        "id": "aaYGz62f_KNl",
        "colab": {
          "base_uri": "https://localhost:8080/"
        },
        "outputId": "9b81a34c-cede-43de-dbcd-208d6f2efb39"
      },
      "outputs": [
        {
          "output_type": "stream",
          "name": "stdout",
          "text": [
            "{1: 1, 8: 4, 27: 9, 64: 16}\n"
          ]
        }
      ],
      "source": [
        "print(cube_square)"
      ]
    },
    {
      "cell_type": "markdown",
      "metadata": {
        "id": "CnlV8PVo_S0P"
      },
      "source": [
        "## Enumerate\n",
        "\n",
        "Enumerate lets you access both the index and the item itself for an item in a list -- this is useful when you want access to both the item and the index of that item in the body of the loop. You can always access the item by using `item = list[index]` but enumerate lets you shorten this."
      ]
    },
    {
      "cell_type": "code",
      "execution_count": null,
      "metadata": {
        "id": "mj8rJu7c_Quv"
      },
      "outputs": [],
      "source": [
        "# define a dictionary\n",
        "expat = {\n",
        "    \"appetizer\": ['cauliflower wings', 'tater tots'],\n",
        "    \"main\": ['curry', 'burger'],\n",
        "    \"dessert\": ['ice cream', 'pastry']\n",
        "}"
      ]
    },
    {
      "cell_type": "code",
      "execution_count": null,
      "metadata": {
        "id": "hmISpZPI_VTP",
        "colab": {
          "base_uri": "https://localhost:8080/"
        },
        "outputId": "e37df167-dc71-4314-8e47-802c9ff7dd28"
      },
      "outputs": [
        {
          "output_type": "stream",
          "name": "stdout",
          "text": [
            "0 cauliflower wings\n",
            "1 tater tots\n"
          ]
        }
      ],
      "source": [
        "# What if we want both the index and the value at that index for a list?\n",
        "for i in range(len(expat[\"appetizer\"])):\n",
        "  print(i, expat[\"appetizer\"][i])"
      ]
    },
    {
      "cell_type": "code",
      "execution_count": null,
      "metadata": {
        "id": "9tR3EdVB_W-v",
        "colab": {
          "base_uri": "https://localhost:8080/"
        },
        "outputId": "c8fc0786-c958-4682-be16-2722aff910ac"
      },
      "outputs": [
        {
          "output_type": "stream",
          "name": "stdout",
          "text": [
            "cauliflower wings\n",
            "tater tots\n"
          ]
        }
      ],
      "source": [
        "for item in expat[\"appetizer\"]:\n",
        "  print(item)"
      ]
    },
    {
      "cell_type": "code",
      "execution_count": null,
      "metadata": {
        "id": "PKbsVzlR_Yyd",
        "colab": {
          "base_uri": "https://localhost:8080/"
        },
        "outputId": "df7f93e2-2f95-453a-9995-eff4974ed923"
      },
      "outputs": [
        {
          "output_type": "stream",
          "name": "stdout",
          "text": [
            "0 cauliflower wings\n",
            "1 tater tots\n"
          ]
        }
      ],
      "source": [
        "# Enumerate lets us get both at the same time elegantly!\n",
        "for i, item in enumerate(expat[\"appetizer\"]):\n",
        "  print(i, item)"
      ]
    },
    {
      "cell_type": "code",
      "execution_count": null,
      "metadata": {
        "id": "KiVTPBit_agf"
      },
      "outputs": [],
      "source": [
        "# We can also use enumerate with the dictionary to number (key, value) pairs.\n",
        "for i, (key, value) in enumerate(expat.items()):\n",
        "  print(i, key, value)"
      ]
    },
    {
      "cell_type": "markdown",
      "metadata": {
        "id": "yyxCguLM_gae"
      },
      "source": [
        "### Exercise:\n",
        "\n",
        "Can you use a for loop with enumerate to remove all odd numbers from `evens`, so that `evens` contains all the even digits? Use `pop` or `del`, don't use `remove` for this."
      ]
    },
    {
      "cell_type": "code",
      "execution_count": null,
      "metadata": {
        "id": "xplpgybC_c6m",
        "colab": {
          "base_uri": "https://localhost:8080/"
        },
        "outputId": "c218cd5f-7098-47b9-a879-e1f727921493"
      },
      "outputs": [
        {
          "output_type": "stream",
          "name": "stdout",
          "text": [
            "[1, 2, 3, 4, 5, 6, 7, 8, 9, 10, 11, 12, 13, 14, 15, 16, 17, 18, 19, 20]\n",
            "[1, 3, 4, 5, 6, 7, 8, 9, 10, 11, 12, 13, 14, 15, 16, 17, 18, 19, 20]\n",
            "[1, 3, 4, 5, 6, 7, 8, 9, 10, 11, 12, 13, 14, 15, 16, 17, 18, 19, 20]\n",
            "[1, 3, 4, 6, 7, 8, 9, 10, 11, 12, 13, 14, 15, 16, 17, 18, 19, 20]\n",
            "[1, 3, 4, 6, 7, 8, 9, 10, 11, 12, 13, 14, 15, 16, 17, 18, 19, 20]\n",
            "[1, 3, 4, 6, 7, 9, 10, 11, 12, 13, 14, 15, 16, 17, 18, 19, 20]\n",
            "[1, 3, 4, 6, 7, 9, 10, 11, 12, 13, 14, 15, 16, 17, 18, 19, 20]\n",
            "[1, 3, 4, 6, 7, 9, 10, 12, 13, 14, 15, 16, 17, 18, 19, 20]\n",
            "[1, 3, 4, 6, 7, 9, 10, 12, 13, 14, 15, 16, 17, 18, 19, 20]\n",
            "[1, 3, 4, 6, 7, 9, 10, 12, 13, 15, 16, 17, 18, 19, 20]\n",
            "[1, 3, 4, 6, 7, 9, 10, 12, 13, 15, 16, 17, 18, 19, 20]\n",
            "[1, 3, 4, 6, 7, 9, 10, 12, 13, 15, 16, 18, 19, 20]\n",
            "[1, 3, 4, 6, 7, 9, 10, 12, 13, 15, 16, 18, 19, 20]\n",
            "[1, 3, 4, 6, 7, 9, 10, 12, 13, 15, 16, 18, 19]\n"
          ]
        }
      ],
      "source": [
        "evens = [1,2,3,4,5,6,7,8,9,10,11,12,13,14,15,16,17,18,19,20]\n",
        "for i, item in enumerate(evens):\n",
        "  if i%2 == 1:\n",
        "    evens.pop(i)\n",
        "  print(evens)"
      ]
    },
    {
      "cell_type": "code",
      "source": [],
      "metadata": {
        "id": "Ju3kv95yN2Lo"
      },
      "execution_count": null,
      "outputs": []
    },
    {
      "cell_type": "markdown",
      "metadata": {
        "id": "T7qaN74zAzyL"
      },
      "source": [
        "# While loops\n",
        "\n",
        "While loops, unlike for loops, will iterate indefinitely, until the condition following the while is False. You might want to do this if you are using an iterative algorithm where you want the performance to get above a certain level before stopping, for example with machine learning (more on this later)."
      ]
    },
    {
      "cell_type": "code",
      "execution_count": null,
      "metadata": {
        "id": "a1LkUiWn_kzk",
        "colab": {
          "base_uri": "https://localhost:8080/"
        },
        "outputId": "a5278213-662e-4d57-af23-dba707c92d07"
      },
      "outputs": [
        {
          "output_type": "stream",
          "name": "stdout",
          "text": [
            "8192\n"
          ]
        }
      ],
      "source": [
        "# While loops\n",
        "# find largest power of 2 less than 9000\n",
        "power = 0\n",
        "while 2**power < 9000:\n",
        "  power +=1\n",
        "power-=1\n",
        "print(2**power)"
      ]
    },
    {
      "cell_type": "markdown",
      "metadata": {
        "id": "8T82jN-OA6ES"
      },
      "source": [
        "If you put a condition that is never False, your code may run indefinitely, and you may have to interrupt your kernel to get it to stop."
      ]
    },
    {
      "cell_type": "code",
      "execution_count": null,
      "metadata": {
        "id": "bG5S-RUZBCtD"
      },
      "outputs": [],
      "source": [
        "i=0\n",
        "while i < 10:\n",
        "  print(i)"
      ]
    },
    {
      "cell_type": "markdown",
      "metadata": {
        "id": "0sPwWNa9BEXx"
      },
      "source": [
        "## Exercise:\n",
        "The Collatz sequence begins with some starting number. Given its previous number $n$, it generates the next number based on the following rule: if $n$ is even, the next number is $n/2$. If $n$ is odd, the next number is $3n+1$.\n",
        "\n",
        "Write some code below that generates the Collatz sequence for a starting number of $27$ until the number hits $1$."
      ]
    },
    {
      "cell_type": "code",
      "execution_count": null,
      "metadata": {
        "id": "EuQ_osmLA9mI"
      },
      "outputs": [],
      "source": [
        "# Collatz sequence\n"
      ]
    },
    {
      "cell_type": "markdown",
      "metadata": {
        "id": "425r6g5gBLt8"
      },
      "source": [
        "# Break and Continue\n",
        "\n",
        "`break` and `continue` are statements that can be used within loops.\n",
        "\n",
        "When code reaches a `continue` statement, it jumps to the next iteration of the loop without running the rest of the code in the loop.\n",
        "\n",
        "When code reaches a `break` statement it jumps outside the loop (skipping any remaining iterations) without running the rest of the code in the loop.\n",
        "\n",
        "A `pass` statement, finally is completely ignored. This is useful when code is required syntactically, but you don't actually want to run anything there.\n",
        "\n",
        "For these statements it may not be entirely clear right now what their purpose is, but they become particularly useful in managing more complex code."
      ]
    },
    {
      "cell_type": "code",
      "execution_count": null,
      "metadata": {
        "id": "74DeTEeXBI_g",
        "colab": {
          "base_uri": "https://localhost:8080/"
        },
        "outputId": "d1b530bc-69b0-4417-fb3e-c3162e9c4ede"
      },
      "outputs": [
        {
          "output_type": "stream",
          "name": "stdout",
          "text": [
            "New loop\n",
            "New loop\n",
            "1\n",
            "New loop\n",
            "New loop\n",
            "3\n",
            "New loop\n",
            "New loop\n",
            "5\n",
            "New loop\n",
            "New loop\n",
            "7\n",
            "New loop\n",
            "New loop\n",
            "9\n"
          ]
        }
      ],
      "source": [
        "for i in range(10):\n",
        "  print('New loop')\n",
        "  if i%2==0:\n",
        "    continue\n",
        "  print(i) # This command is skipped for all even numbers"
      ]
    },
    {
      "cell_type": "code",
      "execution_count": null,
      "metadata": {
        "id": "bAP5dWEWBQFD",
        "colab": {
          "base_uri": "https://localhost:8080/"
        },
        "outputId": "3ce62cbc-0d6d-424c-d9cc-201a9f0cb79e"
      },
      "outputs": [
        {
          "output_type": "stream",
          "name": "stdout",
          "text": [
            "New loop\n",
            "0\n",
            "New loop\n",
            "1\n",
            "New loop\n",
            "2\n",
            "New loop\n",
            "3\n",
            "New loop\n",
            "4\n",
            "New loop\n"
          ]
        }
      ],
      "source": [
        "for i in range(10):\n",
        "  print('New loop')\n",
        "  if i==5:\n",
        "    break # Leaves the loop completely once it encounters this statement\n",
        "  print(i)"
      ]
    },
    {
      "cell_type": "code",
      "execution_count": null,
      "metadata": {
        "id": "mQxP5ykrBSOd"
      },
      "outputs": [],
      "source": [
        "for i in range(10):\n",
        "  print('New loop')\n",
        "  if i==5:\n",
        "    pass # Leaves the loop completely once it encounters this statement\n",
        "  print(i)"
      ]
    },
    {
      "cell_type": "markdown",
      "metadata": {
        "id": "6bLeLWZuBVYB"
      },
      "source": [
        "## Exercises\n",
        "\n",
        "1. Fix this code so it runs."
      ]
    },
    {
      "cell_type": "code",
      "execution_count": null,
      "metadata": {
        "id": "Krr9vNhmBUT_"
      },
      "outputs": [],
      "source": []
    },
    {
      "cell_type": "markdown",
      "metadata": {
        "id": "ovV1aq2iBZ66"
      },
      "source": [
        "2. Add something we just learned about to this code so the last thing it prints is 10."
      ]
    },
    {
      "cell_type": "code",
      "execution_count": null,
      "metadata": {
        "id": "7ngxuj1KBYuH"
      },
      "outputs": [],
      "source": []
    },
    {
      "cell_type": "markdown",
      "metadata": {
        "id": "1CLlFR9OBhWC"
      },
      "source": [
        "3. Add something we just learned to the below code so it doesn't print multiples of 3\n"
      ]
    },
    {
      "cell_type": "code",
      "execution_count": null,
      "metadata": {
        "id": "LdjD1tOMBdjk"
      },
      "outputs": [],
      "source": []
    },
    {
      "cell_type": "markdown",
      "metadata": {
        "id": "oeEiJMgxBnJh"
      },
      "source": [
        "# Functions\n",
        "\n",
        "Currently, you are writing code simply by defining code that will be executed immediately. As you create larger codebases and share them with other people, it will be important for you to structure your code in functions: structure which execute a certain piece of code.\n",
        "\n",
        "For example, the Fibonacci sequence starts with $x_0=0$ and $x_1=1$. We then define $x_{j+2}=x_j+x_{j+1}$. The following functions prints out each value of the Fibonacci sequence until some value $n$.\n",
        "\n",
        "You can recognize functions by the `def` symbol in the beginning. `fibonacci` is the function's name and the variable in parentheses afterwards is an argument provided to the function. (Multiple arguments would be separated by commas.)\n"
      ]
    },
    {
      "cell_type": "code",
      "execution_count": null,
      "metadata": {
        "id": "m1hs159wBmGc"
      },
      "outputs": [],
      "source": [
        "def fibonacci(n):\n",
        "  \"\"\"\n",
        "  Print fibonnacci series up to n.\n",
        "  Args:\n",
        "      n (int): Maximum value of the fibonacci series to print.\n",
        "\n",
        "  \"\"\"\n",
        "  a,b = 0, 1\n",
        "  while a <n:\n",
        "    print(a)\n",
        "    next= a+b\n",
        "    a = b\n",
        "    b = next"
      ]
    },
    {
      "cell_type": "code",
      "execution_count": null,
      "metadata": {
        "id": "GwHQSVH9Bslj"
      },
      "outputs": [],
      "source": [
        "fibonacci (3000)"
      ]
    },
    {
      "cell_type": "code",
      "execution_count": null,
      "metadata": {
        "id": "RhTLplvXBuh8"
      },
      "outputs": [],
      "source": [
        "help(fibonacci)"
      ]
    },
    {
      "cell_type": "markdown",
      "metadata": {
        "id": "LczLpH5GBy_f"
      },
      "source": [
        "## Exercise\n",
        "\n",
        "Write a function (called `collatz`) that takes in a starting value and prints out each value of the Collatz sequence. As a reminder, the rule was:\n",
        "- if the previous value $n$ was even, the next value is $n/2$.\n",
        "- if the previous value was odd, the next value is $3n+1$.\n",
        "Let the function end when the value taken is $1$."
      ]
    },
    {
      "cell_type": "code",
      "execution_count": null,
      "metadata": {
        "id": "GlFUahxvBx62"
      },
      "outputs": [],
      "source": []
    },
    {
      "cell_type": "code",
      "execution_count": null,
      "metadata": {
        "id": "OAoG3UELB5ny"
      },
      "outputs": [],
      "source": []
    },
    {
      "cell_type": "markdown",
      "metadata": {
        "id": "HR7gvMeGB_Xq"
      },
      "source": [
        "## return\n",
        "\n",
        "The return sequence leaves the function and returns any variable coming afterwards."
      ]
    },
    {
      "cell_type": "code",
      "execution_count": null,
      "metadata": {
        "id": "fm6KT6MUB8Zd"
      },
      "outputs": [],
      "source": [
        "def fib_return (n):\n",
        "  \"\"\"\n",
        "  Print fibonnacci series up to n.\n",
        "  Args:\n",
        "      n (int): Maximum value of the fibonacci series to return.\n",
        "  Returns:\n",
        "      list: List of fibonacci sequence values\n",
        "  \"\"\"\n",
        "\n",
        "  fib_list = []\n",
        "  a,b = 0, 1\n",
        "  while a <n:\n",
        "    fib_list.append(a)\n",
        "    next= a+b\n",
        "    a = b\n",
        "    b = next\n",
        "  return fib_list"
      ]
    },
    {
      "cell_type": "code",
      "execution_count": null,
      "metadata": {
        "id": "E-ny6eM8CF6C"
      },
      "outputs": [],
      "source": [
        "fib_return(1000)"
      ]
    },
    {
      "cell_type": "code",
      "execution_count": null,
      "metadata": {
        "id": "9qpbj7YaCHke"
      },
      "outputs": [],
      "source": [
        "my_fib_list = fib_return(1000)"
      ]
    },
    {
      "cell_type": "code",
      "execution_count": null,
      "metadata": {
        "id": "HPTRBcdhCJcL"
      },
      "outputs": [],
      "source": [
        "my_fib_list"
      ]
    },
    {
      "cell_type": "markdown",
      "metadata": {
        "id": "sRln9IGJCL_s"
      },
      "source": [
        "## Default arguments"
      ]
    },
    {
      "cell_type": "code",
      "execution_count": null,
      "metadata": {
        "id": "uxXoul6RCK7w"
      },
      "outputs": [],
      "source": [
        "# We cannot run fib_return without specifying n:\n",
        "fib_return()"
      ]
    },
    {
      "cell_type": "code",
      "execution_count": null,
      "metadata": {
        "id": "-V835vQjCQGR"
      },
      "outputs": [],
      "source": [
        "# Default arguments can be specified but don't have to be:\n",
        "def fib_return (n=1):\n",
        "  \"\"\"\n",
        "  Print fibonnacci series up to n.\n",
        "  Args:\n",
        "      n (int): Maximum value of the fibonacci series to return. Default value is 1.\n",
        "  Returns:\n",
        "      list: List of fibonacci sequence values\n",
        "  \"\"\"\n",
        "\n",
        "  fib_list = []\n",
        "  a,b = 0, 1\n",
        "  while a <n:\n",
        "    fib_list.append(a)\n",
        "    next= a+b\n",
        "    a = b\n",
        "    b = next\n",
        "  return fib_list"
      ]
    },
    {
      "cell_type": "code",
      "execution_count": null,
      "metadata": {
        "id": "ebCLA2i0CTYR"
      },
      "outputs": [],
      "source": [
        "fib_return()"
      ]
    },
    {
      "cell_type": "code",
      "execution_count": null,
      "metadata": {
        "id": "xygNbCn2CVYb"
      },
      "outputs": [],
      "source": [
        "fib_return(10)"
      ]
    },
    {
      "cell_type": "markdown",
      "metadata": {
        "id": "8MsZzoxRCYpi"
      },
      "source": [
        "## Warning about default arguments\n",
        "\n",
        "Your default arguments should never be mutable. Otherwise repeated function calls can interact with each other."
      ]
    },
    {
      "cell_type": "code",
      "execution_count": null,
      "metadata": {
        "id": "Meo-yJDJCXIZ"
      },
      "outputs": [],
      "source": [
        "# mutable arguments\n",
        "\n",
        "def f(a, L=[]):\n",
        "    L.append(a)\n",
        "    return L\n",
        "\n",
        "print(f(1)) # predict what will happen?\n",
        "print(f(2))\n",
        "print(f(3))"
      ]
    },
    {
      "cell_type": "code",
      "execution_count": null,
      "metadata": {
        "id": "-X_jjjJTChU1"
      },
      "outputs": [],
      "source": [
        "# Which data types are mutable -> dictionaries and lists"
      ]
    },
    {
      "cell_type": "code",
      "execution_count": null,
      "metadata": {
        "id": "FJPmGwvPCkrO"
      },
      "outputs": [],
      "source": [
        "# Solution\n",
        "def f(a, L=None):\n",
        "    if L is None: # None now provides a marker that we would like to use the default argument.\n",
        "        L = []\n",
        "    L.append(a)\n",
        "    return L\n",
        "\n",
        "print(f(1))\n",
        "print(f(2))\n",
        "print(f(3))"
      ]
    },
    {
      "cell_type": "markdown",
      "metadata": {
        "id": "e4xuXi9sCoRI"
      },
      "source": [
        "## Args and kwargs\n",
        "\n",
        "You can also use a piece of code that allows you to provide arbitrary arguments (with or without keywords) to your function. If you use `*args` as one of the arguments of your function, this will take any unnamed argument and put all of them in a tuple:"
      ]
    },
    {
      "cell_type": "code",
      "execution_count": null,
      "metadata": {
        "id": "-AJXkppJCmyQ"
      },
      "outputs": [],
      "source": [
        "def f(a, *args):\n",
        "  print(a)\n",
        "  print(args)\n",
        "f(1, 2, 3)"
      ]
    },
    {
      "cell_type": "code",
      "execution_count": null,
      "metadata": {
        "id": "ga5hxQwRCwzP"
      },
      "outputs": [],
      "source": [
        "f(1, 2, 3, 4)"
      ]
    },
    {
      "cell_type": "code",
      "execution_count": null,
      "metadata": {
        "id": "_ZLKOpPxCyjl"
      },
      "outputs": [],
      "source": [
        "# The name args is not important\n",
        "def f(a, *variable):\n",
        "  print(a)\n",
        "  print(variable)\n",
        "f(1, 2, 3)\n",
        "f(1, 2, 3, 4)"
      ]
    },
    {
      "cell_type": "markdown",
      "metadata": {
        "id": "L3gIjQeUC2wT"
      },
      "source": [
        "Similarly, if you put two asterisks in front of your variable (e.g. ``**kwargs``), it will assign all names variables to kwargs (in a dictionary format)."
      ]
    },
    {
      "cell_type": "code",
      "execution_count": null,
      "metadata": {
        "id": "chPFtWNmC0St"
      },
      "outputs": [],
      "source": [
        "def f(a, **kwargs):\n",
        "  print(a)\n",
        "  print(kwargs)\n",
        "f(a=1, b=2, c=3)"
      ]
    },
    {
      "cell_type": "markdown",
      "metadata": {
        "id": "pCiQyoCcC_cH"
      },
      "source": [
        "Again, we're mostly explaining this so you are familiar with it later on, when it will become extremely useful."
      ]
    },
    {
      "cell_type": "markdown",
      "metadata": {
        "id": "FbnErvSyDVpy"
      },
      "source": [
        "# Errors\n",
        "\n",
        "By now, we have seen several pieces of code that have failed to run. In that case, Python does not only raise an error, but also specifies what exactly went wrong."
      ]
    },
    {
      "cell_type": "code",
      "execution_count": null,
      "metadata": {
        "id": "eUwWGfAtC6_U"
      },
      "outputs": [],
      "source": [
        "# A syntax error indicates that your code is not properly formatted:\n",
        "a = 2\n",
        "print(a+3"
      ]
    },
    {
      "cell_type": "code",
      "execution_count": null,
      "metadata": {
        "id": "xYzPnTf4DZM8"
      },
      "outputs": [],
      "source": [
        "# A type error indicates that a function received an input of the wrong type\n",
        "a = '2'\n",
        "print(a+3)"
      ]
    },
    {
      "cell_type": "code",
      "execution_count": null,
      "metadata": {
        "id": "El-hKtbjDbHZ"
      },
      "outputs": [],
      "source": [
        "# An index error suggests that it is not possible to index an object in the attempted way.\n",
        "a = [2, 3]\n",
        "a[3]"
      ]
    },
    {
      "cell_type": "markdown",
      "metadata": {
        "id": "i0z36NjgDfZB"
      },
      "source": [
        "You can return errors yourself using the command `raise`:"
      ]
    },
    {
      "cell_type": "code",
      "execution_count": null,
      "metadata": {
        "id": "0OtPGaA9DdCC"
      },
      "outputs": [],
      "source": [
        "a = 3\n",
        "if a == 3:\n",
        "  raise ValueError('a should not be three')"
      ]
    },
    {
      "cell_type": "markdown",
      "metadata": {
        "id": "ovw807R8Di9O"
      },
      "source": [
        "## Exercise\n",
        "Write a function `integer_add` that takes two arguments and adds them together. If either of the arguments are not integers, it should raise an error. What is the correct error for this issue?"
      ]
    },
    {
      "cell_type": "code",
      "execution_count": null,
      "metadata": {
        "id": "9NIAPPmyWBn1"
      },
      "outputs": [],
      "source": []
    },
    {
      "cell_type": "markdown",
      "metadata": {
        "id": "KZXg3FLODsMo"
      },
      "source": [
        "# Try / Except\n",
        "\n",
        "\n",
        "`try` tries the code in the `try` codeblock, and if it gives an error, runs code in an `except` code block. Best practice is to specify the errors you expect in the `except` statement so that you don't accidentally allow an unexpected error to go by unreported and unnoticed.\n",
        "\n",
        "For example, lets say that we want to count the number of occurrences of each letter in a given word -- for this example we will use abracadabra, but we want our code to work on any word.\n",
        "\n",
        "We might decide to do this using a dictionary where the keys are the letters and the values are the number of times that letter has occurred. We only want to have letters that do occur in the word as keys in our dictionary."
      ]
    },
    {
      "cell_type": "code",
      "execution_count": null,
      "metadata": {
        "id": "sb6n1GccDrQw"
      },
      "outputs": [],
      "source": [
        "word = \"abracadabra\"\n",
        "\n",
        "letter_counts = {}\n",
        "for letter in word: # we can loop through strings like lists or tuples.\n",
        "  letter_counts[letter]+=1 # add one to the value at key letter"
      ]
    },
    {
      "cell_type": "code",
      "execution_count": null,
      "metadata": {
        "id": "DeM2_CZ5Dx-m"
      },
      "outputs": [],
      "source": [
        "word = \"abracadabra\"\n",
        "\n",
        "\n",
        "letter_counts = {}\n",
        "for letter in word:\n",
        "  try:\n",
        "    letter_counts[letter]+=1\n",
        "  except KeyError: # we specify the type of error we expect here\n",
        "    letter_counts[letter] = 1\n",
        "\n",
        "print(letter_counts)"
      ]
    },
    {
      "cell_type": "markdown",
      "metadata": {
        "id": "-Kd8oB-cD2vz"
      },
      "source": [
        "See below for why it is important to specify the type of error you expect. Since we specified the type of error we expected and got a different error, we still find out that there is an error, and can take precautions to make sure we don't, for example, overwrite important info."
      ]
    },
    {
      "cell_type": "code",
      "execution_count": null,
      "metadata": {
        "id": "qNpBOmraD0Y5"
      },
      "outputs": [],
      "source": [
        "word = \"abracadabra\"\n",
        "\n",
        "\n",
        "letter_counts = {}\n",
        "letter_counts['a'] = \"important info that should not be overwritten\" # something unexpected as a value\n",
        "for letter in word:\n",
        "  try:\n",
        "    letter_counts[letter]+=1\n",
        "  except KeyError: # we specify the type of error we expect here\n",
        "    letter_counts[letter] = 1\n",
        "\n",
        "print(letter_counts)"
      ]
    },
    {
      "cell_type": "markdown",
      "metadata": {
        "id": "tYhdSCHzD9F5"
      },
      "source": [
        "What happens if you do not specify KeyError after `except` and just write `except:`?\n",
        "\n",
        "Try modifying below."
      ]
    },
    {
      "cell_type": "code",
      "execution_count": null,
      "metadata": {
        "id": "Yymh343wD6kT"
      },
      "outputs": [],
      "source": [
        "word = \"abracadabra\"\n",
        "\n",
        "\n",
        "letter_counts = {}\n",
        "letter_counts['a'] = \"important info that should not be overwritten\" # something unexpected as a value\n",
        "for letter in word:\n",
        "  try:\n",
        "    letter_counts[letter]+=1\n",
        "  except KeyError: # we specify the type of error we expect here\n",
        "    letter_counts[letter] = 1\n",
        "\n",
        "print(letter_counts)"
      ]
    },
    {
      "cell_type": "markdown",
      "metadata": {
        "id": "LLj8zyJEEGFy"
      },
      "source": [
        "### Exercise:\n",
        "Use try/except to write code that takes numbers a and b and prints a/b. If it gets an error (for example b is 0), it should instead print \"Cannot divide by zero\". Try your code with a few different choices of a and b to make sure it works correctly."
      ]
    },
    {
      "cell_type": "code",
      "execution_count": null,
      "metadata": {
        "id": "2WHXtuSiEDvU"
      },
      "outputs": [],
      "source": []
    }
  ],
  "metadata": {
    "colab": {
      "provenance": []
    },
    "kernelspec": {
      "display_name": "Python 3 (ipykernel)",
      "language": "python",
      "name": "python3"
    },
    "language_info": {
      "codemirror_mode": {
        "name": "ipython",
        "version": 3
      },
      "file_extension": ".py",
      "mimetype": "text/x-python",
      "name": "python",
      "nbconvert_exporter": "python",
      "pygments_lexer": "ipython3",
      "version": "3.11.4"
    }
  },
  "nbformat": 4,
  "nbformat_minor": 0
}