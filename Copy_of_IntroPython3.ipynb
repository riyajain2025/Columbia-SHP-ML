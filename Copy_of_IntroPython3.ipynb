{
  "cells": [
    {
      "cell_type": "markdown",
      "source": [
        "# **Python: From Tools to Healthcare Applications**\n",
        "\n",
        "*Week 2 (Part 2) - Numpy, Pandas & Matplotlib*\n",
        "---\n",
        "Compiled for SHP by Shubh & Pooja\n",
        "\n",
        "---\n",
        "\n"
      ],
      "metadata": {
        "id": "yfC1Lqbr7yZ2"
      }
    },
    {
      "cell_type": "markdown",
      "metadata": {
        "id": "PULGwtNQGio5"
      },
      "source": [
        "# Numpy\n",
        "\n",
        "We often want to work with arrays of numerical data, for example a list of firing rates. We can store such data using basic Python, more specifically as a list of numbers:"
      ]
    },
    {
      "cell_type": "code",
      "execution_count": null,
      "metadata": {
        "id": "Kwrbdv0TGjsE"
      },
      "outputs": [],
      "source": [
        "lst_1 = [25, 20, 40, 5]"
      ]
    },
    {
      "cell_type": "markdown",
      "metadata": {
        "id": "_h3axDgYG1ze"
      },
      "source": [
        "But these lists are missing a lot of functionality that we find useful for handling numerical data. (You may be used to these from Matlab or R.) For example, suppose you want to multiply each number by 2. We may want the following command to work:"
      ]
    },
    {
      "cell_type": "code",
      "execution_count": null,
      "metadata": {
        "id": "NyH3FjW4G0ZY",
        "colab": {
          "base_uri": "https://localhost:8080/"
        },
        "outputId": "26c84c10-58f2-458c-b1b2-c9c29db3c849"
      },
      "outputs": [
        {
          "output_type": "execute_result",
          "data": {
            "text/plain": [
              "[25, 20, 40, 5, 25, 20, 40, 5]"
            ]
          },
          "metadata": {},
          "execution_count": 13
        }
      ],
      "source": [
        "2*lst_1"
      ]
    },
    {
      "cell_type": "markdown",
      "metadata": {
        "id": "CIG_FxHcHDAs"
      },
      "source": [
        "Yet its output is not what we are looking for. This is because lists are not *vectorized*: they do not assume that operations should be applied elementwise. Instead we would have to use a command like the one below:"
      ]
    },
    {
      "cell_type": "code",
      "execution_count": null,
      "metadata": {
        "id": "QcmhAnEAHB5e",
        "colab": {
          "base_uri": "https://localhost:8080/"
        },
        "outputId": "4d5333e3-52ba-4bd9-fb27-0669d8cc8289"
      },
      "outputs": [
        {
          "output_type": "execute_result",
          "data": {
            "text/plain": [
              "[50, 40, 80, 10]"
            ]
          },
          "metadata": {},
          "execution_count": 14
        }
      ],
      "source": [
        "lst_2 = [lst_1[i]*2 for i in range(4)]\n",
        "lst_2"
      ]
    },
    {
      "cell_type": "markdown",
      "metadata": {
        "id": "xmAOTJi2HT7h"
      },
      "source": [
        "To address this and other issue that arise in handling numerical data in Python, we can use `numpy`, which stands for numerical data in Python.\n",
        "\n",
        "So far, we have exclusively used Python's base functionality. `numpy` is the first example of a package that has been contributed by external users and has to be installed manually. It is, however, integral to Python for basically anyone working with numerical data."
      ]
    },
    {
      "cell_type": "code",
      "execution_count": null,
      "metadata": {
        "id": "0aQecS75HX0p"
      },
      "outputs": [],
      "source": [
        "import numpy as np"
      ]
    },
    {
      "cell_type": "markdown",
      "metadata": {
        "id": "K4prz5cvHaBa"
      },
      "source": [
        "## One-dimensional arrays: Vectors\n",
        "The central object of interest for numpy is an *array*, which refers to rectangular data (more on this later). The simplest case of an array is a one-dimensional one, a vector. You can create a vector from a list:"
      ]
    },
    {
      "cell_type": "code",
      "execution_count": null,
      "metadata": {
        "id": "g4Hrcx-XHZfD"
      },
      "outputs": [],
      "source": [
        "lst_1 = [25, 20, 40, 5]\n",
        "vec_1 = np.array(lst_1)"
      ]
    },
    {
      "cell_type": "code",
      "execution_count": null,
      "metadata": {
        "id": "YPII22m0HlSZ",
        "colab": {
          "base_uri": "https://localhost:8080/"
        },
        "outputId": "7a73c007-208c-48e4-fed5-c44fc8aeff8f"
      },
      "outputs": [
        {
          "output_type": "execute_result",
          "data": {
            "text/plain": [
              "array([25, 20, 40,  5])"
            ]
          },
          "metadata": {},
          "execution_count": 16
        }
      ],
      "source": [
        "vec_1"
      ]
    },
    {
      "cell_type": "code",
      "execution_count": null,
      "metadata": {
        "id": "u89emqUZrOCF",
        "colab": {
          "base_uri": "https://localhost:8080/"
        },
        "outputId": "b0f95520-006c-40f9-ea6c-4c1b02919447"
      },
      "outputs": [
        {
          "output_type": "execute_result",
          "data": {
            "text/plain": [
              "numpy.ndarray"
            ]
          },
          "metadata": {},
          "execution_count": 17
        }
      ],
      "source": [
        "type(vec_1)"
      ]
    },
    {
      "cell_type": "markdown",
      "metadata": {
        "id": "ty-xfOU5H0gm"
      },
      "source": [
        "We can also turn a vector back into a list:"
      ]
    },
    {
      "cell_type": "code",
      "execution_count": null,
      "metadata": {
        "id": "1IioBJziHy74",
        "colab": {
          "base_uri": "https://localhost:8080/"
        },
        "outputId": "396f830e-5eb7-4b32-df9d-0a6641523995"
      },
      "outputs": [
        {
          "output_type": "execute_result",
          "data": {
            "text/plain": [
              "[25, 20, 40, 5]"
            ]
          },
          "metadata": {},
          "execution_count": 18
        }
      ],
      "source": [
        "list(vec_1)"
      ]
    },
    {
      "cell_type": "markdown",
      "metadata": {
        "id": "jxNfol0zH5fE"
      },
      "source": [
        "Using the numpy array, we can now perform mathematical operations in the way we would like (and perhaps expect from e.g. Matlab)."
      ]
    },
    {
      "cell_type": "code",
      "execution_count": null,
      "metadata": {
        "id": "JSDCiaZAH6rK",
        "colab": {
          "base_uri": "https://localhost:8080/"
        },
        "outputId": "1042d9b3-b2fe-4362-df0c-95310c76bc1b"
      },
      "outputs": [
        {
          "output_type": "execute_result",
          "data": {
            "text/plain": [
              "array([50, 40, 80, 10])"
            ]
          },
          "metadata": {},
          "execution_count": 19
        }
      ],
      "source": [
        "vec_2 = 2*vec_1\n",
        "vec_2"
      ]
    },
    {
      "cell_type": "code",
      "execution_count": null,
      "metadata": {
        "id": "gqciRPOxH9mM",
        "colab": {
          "base_uri": "https://localhost:8080/"
        },
        "outputId": "941910f8-48e6-4eb7-ba94-d5bb54550f11"
      },
      "outputs": [
        {
          "output_type": "execute_result",
          "data": {
            "text/plain": [
              "array([ 75,  60, 120,  15])"
            ]
          },
          "metadata": {},
          "execution_count": 20
        }
      ],
      "source": [
        "vec_1+vec_2"
      ]
    },
    {
      "cell_type": "markdown",
      "metadata": {
        "id": "zNaCUrTiIDlu"
      },
      "source": [
        "In contrast, what happens if we add two lists?"
      ]
    },
    {
      "cell_type": "code",
      "execution_count": null,
      "metadata": {
        "id": "Vi4o1qOqICye",
        "colab": {
          "base_uri": "https://localhost:8080/"
        },
        "outputId": "84a031a8-0a7f-46c1-c02d-44f08540c0a7"
      },
      "outputs": [
        {
          "output_type": "execute_result",
          "data": {
            "text/plain": [
              "[25, 20, 40, 5, 50, 40, 80, 10]"
            ]
          },
          "metadata": {},
          "execution_count": 21
        }
      ],
      "source": [
        "lst_1 + lst_2"
      ]
    },
    {
      "cell_type": "markdown",
      "metadata": {
        "id": "xkMsnkgsJEzH"
      },
      "source": [
        "### Differences between lists and vectors\n",
        "Both lists and vectors can be indexed and we can easily transform an array into a list and vice versa. What are some of their differences?\n",
        "#### Elementwise operations\n",
        "We have already covered that arrays have elementwise operations whereas lists do not.\n",
        "#### Each element must have the same type\n",
        "Lists can consist of elements with different types:"
      ]
    },
    {
      "cell_type": "code",
      "execution_count": null,
      "metadata": {
        "id": "tDs2CyYJJBp8",
        "colab": {
          "base_uri": "https://localhost:8080/"
        },
        "outputId": "a6ecbfd7-2d3d-472f-c60a-a03dcd788078"
      },
      "outputs": [
        {
          "output_type": "execute_result",
          "data": {
            "text/plain": [
              "['a', 5]"
            ]
          },
          "metadata": {},
          "execution_count": 22
        }
      ],
      "source": [
        "lst_3 = ['a', 5]\n",
        "lst_3"
      ]
    },
    {
      "cell_type": "markdown",
      "metadata": {
        "id": "zAE4NuCaJVgK"
      },
      "source": [
        "An array, on the other hand, will always have the same data type for each of its elements. If a list with unequal types is converted to an array all its elements are converted to the same data type."
      ]
    },
    {
      "cell_type": "code",
      "execution_count": null,
      "metadata": {
        "id": "HenQjM7BJDm8",
        "colab": {
          "base_uri": "https://localhost:8080/"
        },
        "outputId": "9b925b21-82ba-491a-a049-1031b4e0161c"
      },
      "outputs": [
        {
          "output_type": "execute_result",
          "data": {
            "text/plain": [
              "array(['a', '5'], dtype='<U21')"
            ]
          },
          "metadata": {},
          "execution_count": 23
        }
      ],
      "source": [
        "vec_3 = np.array(lst_3)\n",
        "vec_3"
      ]
    },
    {
      "cell_type": "markdown",
      "metadata": {
        "id": "2oyiVK-eBugp"
      },
      "source": [
        "<U21 is the data type corresponding to strings. You usually don't want to rely on this automatic casting functionality and should try to avoid it."
      ]
    },
    {
      "cell_type": "code",
      "execution_count": null,
      "metadata": {
        "id": "Mq6gRIo7xLpP",
        "colab": {
          "base_uri": "https://localhost:8080/"
        },
        "outputId": "d76a67ac-d06c-48e8-d4fb-aa216e80eba1"
      },
      "outputs": [
        {
          "output_type": "execute_result",
          "data": {
            "text/plain": [
              "numpy.ndarray"
            ]
          },
          "metadata": {},
          "execution_count": 24
        }
      ],
      "source": [
        "type(vec_3)"
      ]
    },
    {
      "cell_type": "markdown",
      "metadata": {
        "id": "HU0X6nxXJmEU"
      },
      "source": [
        "How can you print out the type of this vector? Note that `type(vec_3)` gives you the type of the entire object which is a numpy array. Rather you want the type of the individual elements. Try using the autocomplete function to find out.\n",
        "\n",
        "*Hint* look at what the type information was called above."
      ]
    },
    {
      "cell_type": "code",
      "execution_count": null,
      "metadata": {
        "id": "KMTxXt7CJj4L",
        "colab": {
          "base_uri": "https://localhost:8080/"
        },
        "outputId": "5a485839-6c0a-45e6-ff1b-b08bebdfe3d8"
      },
      "outputs": [
        {
          "output_type": "execute_result",
          "data": {
            "text/plain": [
              "dtype('<U21')"
            ]
          },
          "metadata": {},
          "execution_count": 25
        }
      ],
      "source": [
        "vec_3.dtype"
      ]
    },
    {
      "cell_type": "markdown",
      "metadata": {
        "id": "s8KbrP0DWwIl"
      },
      "source": [
        "We do we not need parentheses after `dtype`? This is because `dtype` is not function, but rather a new type of Python object called an *attribute*. These are like variables, but are limited in scope to specific objects. We will get to know them in more depth in a later lesson."
      ]
    },
    {
      "cell_type": "markdown",
      "metadata": {
        "id": "9f87sfl0XXfC"
      },
      "source": [
        "### Question 1\n",
        "\n",
        "- Create a numpy array with the elements 3, 7, 10 and divide each element by two\n",
        "- Create a new array `vec_4` that is the elementwise multiplication of `vec_1` and `vec_2`.\n",
        "- Create an array `vec_5` that has a `True` value wherever `vec_1` is smaller than or equal to `20` and a `False` value otherwise. *Hint:* This should be possible in a one liner."
      ]
    },
    {
      "cell_type": "code",
      "execution_count": null,
      "metadata": {
        "id": "kRGq5IBz9jPu",
        "colab": {
          "base_uri": "https://localhost:8080/"
        },
        "outputId": "211409dd-39a1-4081-b526-700738fdb5ec"
      },
      "outputs": [
        {
          "output_type": "execute_result",
          "data": {
            "text/plain": [
              "array([1.5, 3.5, 5. ])"
            ]
          },
          "metadata": {},
          "execution_count": 26
        }
      ],
      "source": [
        "vec_q1 = np.array([3,7,10])\n",
        "vec_q1/2"
      ]
    },
    {
      "cell_type": "code",
      "execution_count": null,
      "metadata": {
        "id": "6Ffj8O1a9kV_",
        "colab": {
          "base_uri": "https://localhost:8080/"
        },
        "outputId": "2974df11-0026-43f0-8420-e62b7b38fe57"
      },
      "outputs": [
        {
          "output_type": "execute_result",
          "data": {
            "text/plain": [
              "array([1250,  800, 3200,   50])"
            ]
          },
          "metadata": {},
          "execution_count": 27
        }
      ],
      "source": [
        "vec_4= vec_1*vec_2\n",
        "vec_4"
      ]
    },
    {
      "cell_type": "code",
      "execution_count": null,
      "metadata": {
        "id": "q9kHhGP19l3E",
        "colab": {
          "base_uri": "https://localhost:8080/"
        },
        "outputId": "078f1cf2-fe76-44d1-f842-87d4e296ffb9"
      },
      "outputs": [
        {
          "output_type": "execute_result",
          "data": {
            "text/plain": [
              "array([False,  True, False,  True])"
            ]
          },
          "metadata": {},
          "execution_count": 28
        }
      ],
      "source": [
        "vec_5 = vec_1 <= 20\n",
        "vec_5"
      ]
    },
    {
      "cell_type": "markdown",
      "metadata": {
        "id": "I9g4o9-5aau7"
      },
      "source": [
        "## Two-dimensional arrays: Matrices\n",
        "Rectangular data in two dimensions is often called a matrix: it consists of observations organized by rows and columns. Basic Python would allow us to store such data using a list of lists:"
      ]
    },
    {
      "cell_type": "code",
      "execution_count": null,
      "metadata": {
        "id": "aHaussb_acn4",
        "colab": {
          "base_uri": "https://localhost:8080/"
        },
        "outputId": "4c716a75-4919-4b1a-9673-155d11ca8002"
      },
      "outputs": [
        {
          "output_type": "execute_result",
          "data": {
            "text/plain": [
              "[[1, 2], [3, 4], [5, 6]]"
            ]
          },
          "metadata": {},
          "execution_count": 29
        }
      ],
      "source": [
        "lst_1 = [\n",
        "    [1, 2],\n",
        "    [3, 4],\n",
        "    [5, 6]\n",
        "]\n",
        "lst_1"
      ]
    },
    {
      "cell_type": "markdown",
      "metadata": {
        "id": "N07rOqeqaqwQ"
      },
      "source": [
        "Yet the already tedious process of computing elementwise operations quickly becomes infeasible in this context. If wanted to multiply each element by two we would have to iterate over the outer list and then the inner set of lists."
      ]
    },
    {
      "cell_type": "code",
      "execution_count": null,
      "metadata": {
        "id": "NCbnADCCaqTC",
        "colab": {
          "base_uri": "https://localhost:8080/"
        },
        "outputId": "0f18a704-8db3-4812-da4e-3b0547a3ffaa"
      },
      "outputs": [
        {
          "output_type": "execute_result",
          "data": {
            "text/plain": [
              "[[2, 4], [6, 8], [10, 12]]"
            ]
          },
          "metadata": {},
          "execution_count": 30
        }
      ],
      "source": [
        "lst_2 = [\n",
        "    [2*it2 for it2 in it] for it in lst_1\n",
        "]\n",
        "lst_2"
      ]
    },
    {
      "cell_type": "markdown",
      "metadata": {
        "id": "6WSQCwpoa6zv"
      },
      "source": [
        "Again we can turn the list of lists into a matrix simply by applying `np.array`:"
      ]
    },
    {
      "cell_type": "code",
      "execution_count": null,
      "metadata": {
        "id": "A2ZH45xCa5xs",
        "colab": {
          "base_uri": "https://localhost:8080/"
        },
        "outputId": "b3fe20e5-684f-481c-83d8-7f8817707bf3"
      },
      "outputs": [
        {
          "output_type": "execute_result",
          "data": {
            "text/plain": [
              "array([[1, 2],\n",
              "       [3, 4],\n",
              "       [5, 6]])"
            ]
          },
          "metadata": {},
          "execution_count": 31
        }
      ],
      "source": [
        "mat_1 = np.array(lst_1)\n",
        "mat_1"
      ]
    },
    {
      "cell_type": "markdown",
      "metadata": {
        "id": "4oHG4eJpbJLQ"
      },
      "source": [
        "Now we can apply vectorized operations as previously:"
      ]
    },
    {
      "cell_type": "code",
      "execution_count": null,
      "metadata": {
        "id": "lSdMqEdfaZ-S",
        "colab": {
          "base_uri": "https://localhost:8080/"
        },
        "outputId": "26ea3452-bd96-408a-ccb9-59668d7e9860"
      },
      "outputs": [
        {
          "output_type": "execute_result",
          "data": {
            "text/plain": [
              "array([[ 2,  4],\n",
              "       [ 6,  8],\n",
              "       [10, 12]])"
            ]
          },
          "metadata": {},
          "execution_count": 32
        }
      ],
      "source": [
        "mat_2 = 2*mat_1\n",
        "mat_2"
      ]
    },
    {
      "cell_type": "markdown",
      "metadata": {
        "id": "TEchqbaYbZAx"
      },
      "source": [
        "How can you find out the number of rows and columns of the matrix? Try googling or exploring the methods using the autocomplete function."
      ]
    },
    {
      "cell_type": "code",
      "execution_count": null,
      "metadata": {
        "id": "A1SiyNYlbYDn",
        "colab": {
          "base_uri": "https://localhost:8080/"
        },
        "outputId": "23604401-947d-41b1-ede4-a57520250b1e"
      },
      "outputs": [
        {
          "output_type": "execute_result",
          "data": {
            "text/plain": [
              "(3, 2)"
            ]
          },
          "metadata": {},
          "execution_count": 33
        }
      ],
      "source": [
        "mat_1.shape"
      ]
    },
    {
      "cell_type": "markdown",
      "metadata": {
        "id": "nOVUK8v_bg8v"
      },
      "source": [
        "Importantly, numpy, by default, uses elementwise computations. So `*` results in elementwise multiplication, not matrix multiplication."
      ]
    },
    {
      "cell_type": "code",
      "execution_count": null,
      "metadata": {
        "id": "7ccLZjhTbXFl",
        "colab": {
          "base_uri": "https://localhost:8080/"
        },
        "outputId": "a6fad0c9-b01a-49dc-9caa-1ed5e0a388f8"
      },
      "outputs": [
        {
          "output_type": "execute_result",
          "data": {
            "text/plain": [
              "array([[ 2,  8],\n",
              "       [18, 32],\n",
              "       [50, 72]])"
            ]
          },
          "metadata": {},
          "execution_count": 34
        }
      ],
      "source": [
        "mat_1*mat_2"
      ]
    },
    {
      "cell_type": "markdown",
      "metadata": {
        "id": "e7MM0aFwbtM3"
      },
      "source": [
        "You can run matrix multiplication by using the `@` operator."
      ]
    },
    {
      "cell_type": "code",
      "execution_count": null,
      "metadata": {
        "id": "SdcCXPBJbPfz",
        "colab": {
          "base_uri": "https://localhost:8080/"
        },
        "outputId": "4f3d4a56-3349-4922-a805-9d1047d19686"
      },
      "outputs": [
        {
          "output_type": "execute_result",
          "data": {
            "text/plain": [
              "array([[ 7, 10],\n",
              "       [15, 22],\n",
              "       [23, 34]])"
            ]
          },
          "metadata": {},
          "execution_count": 35
        }
      ],
      "source": [
        "mat_3 = np.array([[1,2],[3,4]])\n",
        "mat_1@mat_3"
      ]
    },
    {
      "cell_type": "markdown",
      "metadata": {
        "id": "85fE77jCf4Cu"
      },
      "source": [
        "### Saving arrays\n",
        "We can save arrays using `np.save`."
      ]
    },
    {
      "cell_type": "code",
      "execution_count": null,
      "metadata": {
        "id": "sHUU-KMef2ek"
      },
      "outputs": [],
      "source": [
        "np.save('mat_1.npy', mat_1)"
      ]
    },
    {
      "cell_type": "code",
      "execution_count": null,
      "metadata": {
        "id": "ih06GwajgD1J"
      },
      "outputs": [],
      "source": [
        "mat_1_copy = np.load('mat_1.npy')"
      ]
    },
    {
      "cell_type": "code",
      "execution_count": null,
      "metadata": {
        "id": "Qk5uUcWRgGFk",
        "colab": {
          "base_uri": "https://localhost:8080/"
        },
        "outputId": "b662af2d-42e1-4d46-c9c7-be0a352b342b"
      },
      "outputs": [
        {
          "output_type": "execute_result",
          "data": {
            "text/plain": [
              "array([[1, 2],\n",
              "       [3, 4],\n",
              "       [5, 6]])"
            ]
          },
          "metadata": {},
          "execution_count": 38
        }
      ],
      "source": [
        "mat_1_copy"
      ]
    },
    {
      "cell_type": "markdown",
      "metadata": {
        "id": "4qDjYW1sgIbS"
      },
      "source": [
        "## Higher-dimensional arrays"
      ]
    },
    {
      "cell_type": "markdown",
      "metadata": {
        "id": "xjSrE54nhytJ"
      },
      "source": [
        "We now load some simulated data, which is stored in the file `ex_array.npy`. Try assigning the data in that file to the variable `arr`."
      ]
    },
    {
      "cell_type": "code",
      "execution_count": null,
      "metadata": {
        "id": "OmWwSJnhhxt2"
      },
      "outputs": [],
      "source": [
        "arr = np.load('/content/ex_array.npy')"
      ]
    },
    {
      "cell_type": "markdown",
      "metadata": {
        "id": "W6THIuYWh_6q"
      },
      "source": [
        "Suppose you know that what is stored in this data are spike rates of fifty different neurons for two different conditions and ten repeated measurements. Spike rates are recorded every second for 2000 seconds. How can you figure out how this data is represented in the array?"
      ]
    },
    {
      "cell_type": "code",
      "execution_count": null,
      "metadata": {
        "id": "lezT4fgbh7UZ",
        "colab": {
          "base_uri": "https://localhost:8080/"
        },
        "outputId": "cfc9636d-8db2-44af-85d8-fe23ed5f80be"
      },
      "outputs": [
        {
          "output_type": "execute_result",
          "data": {
            "text/plain": [
              "(2, 10, 50, 2000)"
            ]
          },
          "metadata": {},
          "execution_count": 39
        }
      ],
      "source": [
        "arr.shape"
      ]
    },
    {
      "cell_type": "code",
      "execution_count": null,
      "metadata": {
        "id": "xkPa3Zj-jArE",
        "colab": {
          "base_uri": "https://localhost:8080/"
        },
        "outputId": "174c52de-d40c-42ad-d775-a5836b5aa757"
      },
      "outputs": [
        {
          "output_type": "execute_result",
          "data": {
            "text/plain": [
              "4"
            ]
          },
          "metadata": {},
          "execution_count": 40
        }
      ],
      "source": [
        "arr.ndim"
      ]
    },
    {
      "cell_type": "markdown",
      "metadata": {
        "id": "R7dmsH5TiywM"
      },
      "source": [
        "Whereas a vector has one dimension and a matrix has two dimensions, `arr` has four dimensions: the first one specifies the condition, the second one the trial, the third one the neuron, and the fourth one the timepoint. We can also create higher-dimensional arrays directly:"
      ]
    },
    {
      "cell_type": "code",
      "execution_count": null,
      "metadata": {
        "id": "ZjMjzrDXilnk"
      },
      "outputs": [],
      "source": [
        "arr_2 = np.array([\n",
        "    [[2,4,6],\n",
        "     [1,3,5]],\n",
        "    [[0.5,1,2],\n",
        "     [0.75, 1, 1.25]]\n",
        "])"
      ]
    },
    {
      "cell_type": "markdown",
      "metadata": {
        "id": "0MJwrnNijaAs"
      },
      "source": [
        "What is `arr_2.ndim` and `arr_2.shape`?"
      ]
    },
    {
      "cell_type": "code",
      "execution_count": null,
      "metadata": {
        "id": "O5LIkrgajZWy",
        "colab": {
          "base_uri": "https://localhost:8080/"
        },
        "outputId": "2ce67fd0-d332-46d4-ac8f-c6882e341490"
      },
      "outputs": [
        {
          "output_type": "execute_result",
          "data": {
            "text/plain": [
              "3"
            ]
          },
          "metadata": {},
          "execution_count": 42
        }
      ],
      "source": [
        "arr_2.ndim"
      ]
    },
    {
      "cell_type": "code",
      "execution_count": null,
      "metadata": {
        "id": "Up9CDVi0jXC4",
        "colab": {
          "base_uri": "https://localhost:8080/"
        },
        "outputId": "bf5a3a47-2688-490c-b0b1-af0f01c369ef"
      },
      "outputs": [
        {
          "output_type": "execute_result",
          "data": {
            "text/plain": [
              "(2, 2, 3)"
            ]
          },
          "metadata": {},
          "execution_count": 43
        }
      ],
      "source": [
        "arr_2.shape"
      ]
    },
    {
      "cell_type": "markdown",
      "metadata": {
        "id": "gz4AMGrVb7p6"
      },
      "source": [
        "### Data must be rectangular\n",
        "Importantly numpy only allows for rectangular data. What happens if you create an array from a list of lists with unequal length?"
      ]
    },
    {
      "cell_type": "code",
      "execution_count": null,
      "metadata": {
        "id": "nQNcMlmwb0l1",
        "colab": {
          "base_uri": "https://localhost:8080/"
        },
        "outputId": "ab5e3152-a2c0-490c-c5ec-706e139cf17b"
      },
      "outputs": [
        {
          "output_type": "stream",
          "name": "stderr",
          "text": [
            "<ipython-input-5-3935cbbd2b7c>:1: VisibleDeprecationWarning: Creating an ndarray from ragged nested sequences (which is a list-or-tuple of lists-or-tuples-or ndarrays with different lengths or shapes) is deprecated. If you meant to do this, you must specify 'dtype=object' when creating the ndarray.\n",
            "  mat = np.array([[1,2],[3]])\n"
          ]
        }
      ],
      "source": [
        "mat = np.array([[1,2],[3]])"
      ]
    },
    {
      "cell_type": "code",
      "execution_count": null,
      "metadata": {
        "id": "wdbFi0KxcHtD",
        "colab": {
          "base_uri": "https://localhost:8080/"
        },
        "outputId": "80003135-2f7f-4373-d351-85d03b07655b"
      },
      "outputs": [
        {
          "output_type": "execute_result",
          "data": {
            "text/plain": [
              "array([list([1, 2]), list([3])], dtype=object)"
            ]
          },
          "metadata": {},
          "execution_count": 6
        }
      ],
      "source": [
        "mat"
      ]
    },
    {
      "cell_type": "markdown",
      "metadata": {
        "id": "K_bR9EdTcJ0U"
      },
      "source": [
        "### Broadcasting"
      ]
    },
    {
      "cell_type": "markdown",
      "metadata": {
        "id": "RuSm1ullcVBX"
      },
      "source": [
        "In general you cannot add two matrices with different shapes:"
      ]
    },
    {
      "cell_type": "code",
      "execution_count": null,
      "metadata": {
        "id": "dC4lJH2ncJJD",
        "colab": {
          "base_uri": "https://localhost:8080/"
        },
        "outputId": "8745686f-7bba-4f05-957e-dfd5bbca0fac"
      },
      "outputs": [
        {
          "output_type": "execute_result",
          "data": {
            "text/plain": [
              "(3, 2)"
            ]
          },
          "metadata": {},
          "execution_count": 44
        }
      ],
      "source": [
        "mat_1.shape"
      ]
    },
    {
      "cell_type": "code",
      "execution_count": null,
      "metadata": {
        "id": "lYd4fORPkZNd"
      },
      "outputs": [],
      "source": [
        "mat_3 = np.array([\n",
        "    [1,2,3],\n",
        "    [1,2,3]\n",
        "])"
      ]
    },
    {
      "cell_type": "code",
      "execution_count": null,
      "metadata": {
        "id": "3vC8NBhGkc0W",
        "colab": {
          "base_uri": "https://localhost:8080/",
          "height": 179
        },
        "outputId": "3aee479f-2021-45c8-a16e-251c8833f61b"
      },
      "outputs": [
        {
          "output_type": "error",
          "ename": "ValueError",
          "evalue": "ignored",
          "traceback": [
            "\u001b[0;31m---------------------------------------------------------------------------\u001b[0m",
            "\u001b[0;31mValueError\u001b[0m                                Traceback (most recent call last)",
            "\u001b[0;32m<ipython-input-45-7836cb378b7c>\u001b[0m in \u001b[0;36m<cell line: 1>\u001b[0;34m()\u001b[0m\n\u001b[0;32m----> 1\u001b[0;31m \u001b[0mmat_1\u001b[0m\u001b[0;34m+\u001b[0m\u001b[0mmat_3\u001b[0m\u001b[0;34m\u001b[0m\u001b[0;34m\u001b[0m\u001b[0m\n\u001b[0m",
            "\u001b[0;31mValueError\u001b[0m: operands could not be broadcast together with shapes (3,2) (2,2) "
          ]
        }
      ],
      "source": [
        "mat_1+mat_3"
      ]
    },
    {
      "cell_type": "markdown",
      "metadata": {
        "id": "OhFi4XhrkzZh"
      },
      "source": [
        "Elementwise operations can work between two arrays with unequal shapes:\n",
        "- If they match everywhere except where one of them has a dimension of length 1\n",
        "- If they have an unequal number of dimensions, the array with fewer dimensions is appended dimensions of length 1 in the beginning."
      ]
    },
    {
      "cell_type": "code",
      "execution_count": null,
      "metadata": {
        "id": "fVg714JHcTAN",
        "colab": {
          "base_uri": "https://localhost:8080/"
        },
        "outputId": "13a49a64-bc58-496a-d8b5-75e8cf9df092"
      },
      "outputs": [
        {
          "output_type": "execute_result",
          "data": {
            "text/plain": [
              "array([[2, 4],\n",
              "       [4, 6],\n",
              "       [6, 8]])"
            ]
          },
          "metadata": {},
          "execution_count": 46
        }
      ],
      "source": [
        "np.array([\n",
        "    [1,2]\n",
        "]) + np.array([\n",
        "    [1,2],\n",
        "    [3,4],\n",
        "    [5,6]\n",
        "])"
      ]
    },
    {
      "cell_type": "markdown",
      "metadata": {
        "id": "txpp5D4Fcbnh"
      },
      "source": [
        "The same thing is true for matrices with one column or other elementwise operations."
      ]
    },
    {
      "cell_type": "code",
      "execution_count": null,
      "metadata": {
        "id": "MAqugLYAxvX8"
      },
      "outputs": [],
      "source": [
        "divisor = np.array([[2], [1], [1]])"
      ]
    },
    {
      "cell_type": "code",
      "execution_count": null,
      "metadata": {
        "id": "1wwZoRZbxww4",
        "colab": {
          "base_uri": "https://localhost:8080/"
        },
        "outputId": "4051651b-48b6-4815-b714-64ff6bdd7425"
      },
      "outputs": [
        {
          "output_type": "execute_result",
          "data": {
            "text/plain": [
              "(3, 1)"
            ]
          },
          "metadata": {},
          "execution_count": 48
        }
      ],
      "source": [
        "divisor.shape"
      ]
    },
    {
      "cell_type": "code",
      "execution_count": null,
      "metadata": {
        "id": "K_YXKJNolJId",
        "colab": {
          "base_uri": "https://localhost:8080/"
        },
        "outputId": "31b63453-3896-465c-b816-8eb7958fa02a"
      },
      "outputs": [
        {
          "output_type": "execute_result",
          "data": {
            "text/plain": [
              "array([[1, 2],\n",
              "       [3, 4],\n",
              "       [5, 6]])"
            ]
          },
          "metadata": {},
          "execution_count": 49
        }
      ],
      "source": [
        "mat_1"
      ]
    },
    {
      "cell_type": "code",
      "execution_count": null,
      "metadata": {
        "id": "szv2oFgMcaJv",
        "colab": {
          "base_uri": "https://localhost:8080/"
        },
        "outputId": "526b7778-749d-4803-9587-8d48e7baf28a"
      },
      "outputs": [
        {
          "output_type": "execute_result",
          "data": {
            "text/plain": [
              "array([[0.5, 1. ],\n",
              "       [3. , 4. ],\n",
              "       [5. , 6. ]])"
            ]
          },
          "metadata": {},
          "execution_count": 50
        }
      ],
      "source": [
        "mat_1 / divisor"
      ]
    },
    {
      "cell_type": "code",
      "execution_count": null,
      "metadata": {
        "id": "de902JjElM4W"
      },
      "outputs": [],
      "source": [
        "vec_4 = np.array([1, 2])"
      ]
    },
    {
      "cell_type": "code",
      "execution_count": null,
      "metadata": {
        "id": "WOfbxyFRlQpe",
        "colab": {
          "base_uri": "https://localhost:8080/"
        },
        "outputId": "0499bc03-0ca7-44d8-f750-5f107c70d223"
      },
      "outputs": [
        {
          "output_type": "execute_result",
          "data": {
            "text/plain": [
              "(2,)"
            ]
          },
          "metadata": {},
          "execution_count": 52
        }
      ],
      "source": [
        "vec_4.shape"
      ]
    },
    {
      "cell_type": "code",
      "execution_count": null,
      "metadata": {
        "id": "Aw0ed-0alRiq",
        "colab": {
          "base_uri": "https://localhost:8080/"
        },
        "outputId": "e6b014e1-380a-495d-f3b6-46cf09664eac"
      },
      "outputs": [
        {
          "output_type": "execute_result",
          "data": {
            "text/plain": [
              "array([[2, 4],\n",
              "       [4, 6],\n",
              "       [6, 8]])"
            ]
          },
          "metadata": {},
          "execution_count": 53
        }
      ],
      "source": [
        "vec_4+mat_1"
      ]
    },
    {
      "cell_type": "markdown",
      "metadata": {
        "id": "LSYn6o4GmA7y"
      },
      "source": [
        "### Creating some arrays"
      ]
    },
    {
      "cell_type": "code",
      "execution_count": null,
      "metadata": {
        "id": "zhFYbgS_mAUl",
        "colab": {
          "base_uri": "https://localhost:8080/"
        },
        "outputId": "c257ec74-3e55-4378-ac8e-040f8ec1e1ec"
      },
      "outputs": [
        {
          "output_type": "execute_result",
          "data": {
            "text/plain": [
              "array([0.  , 0.05, 0.1 , 0.15, 0.2 , 0.25, 0.3 , 0.35, 0.4 , 0.45, 0.5 ,\n",
              "       0.55, 0.6 , 0.65, 0.7 , 0.75, 0.8 , 0.85, 0.9 , 0.95, 1.  ])"
            ]
          },
          "metadata": {},
          "execution_count": 54
        }
      ],
      "source": [
        "np.linspace(0, 1, 21)"
      ]
    },
    {
      "cell_type": "code",
      "execution_count": null,
      "metadata": {
        "id": "zX4_oVKWmD_A",
        "colab": {
          "base_uri": "https://localhost:8080/"
        },
        "outputId": "3ac9625e-bca9-4bd7-ed0e-6aa88ce60e82"
      },
      "outputs": [
        {
          "output_type": "execute_result",
          "data": {
            "text/plain": [
              "array([0, 1, 2, 3, 4, 5, 6, 7, 8, 9])"
            ]
          },
          "metadata": {},
          "execution_count": 57
        }
      ],
      "source": [
        "np.arange(10)"
      ]
    },
    {
      "cell_type": "code",
      "execution_count": null,
      "metadata": {
        "id": "WwLsYorRmE1K",
        "colab": {
          "base_uri": "https://localhost:8080/"
        },
        "outputId": "3e0eb97e-50c0-43a1-a04b-ec947bc6d949"
      },
      "outputs": [
        {
          "output_type": "execute_result",
          "data": {
            "text/plain": [
              "array([1, 3, 5, 7, 9])"
            ]
          },
          "metadata": {},
          "execution_count": 58
        }
      ],
      "source": [
        "np.arange(1, 10, 2)"
      ]
    },
    {
      "cell_type": "code",
      "execution_count": null,
      "metadata": {
        "id": "rX8g97GemF7M",
        "colab": {
          "base_uri": "https://localhost:8080/"
        },
        "outputId": "41f3f4bf-e1be-4100-a6fb-c7d8a16eaba4"
      },
      "outputs": [
        {
          "output_type": "execute_result",
          "data": {
            "text/plain": [
              "array([[[1., 1., 1.],\n",
              "        [1., 1., 1.]],\n",
              "\n",
              "       [[1., 1., 1.],\n",
              "        [1., 1., 1.]],\n",
              "\n",
              "       [[1., 1., 1.],\n",
              "        [1., 1., 1.]],\n",
              "\n",
              "       [[1., 1., 1.],\n",
              "        [1., 1., 1.]]])"
            ]
          },
          "metadata": {},
          "execution_count": 59
        }
      ],
      "source": [
        "np.ones((4, 2, 3))"
      ]
    },
    {
      "cell_type": "markdown",
      "metadata": {
        "id": "BdvzvNT1o1lx"
      },
      "source": [
        "### Question 2\n",
        "\n",
        "Below we're creating arrays with different shapes. Try predicting for each if elementwise addition would work, what shape the resulting array would have, then try it out and see if you were correct."
      ]
    },
    {
      "cell_type": "code",
      "execution_count": null,
      "metadata": {
        "id": "8vtf-cISnZyy",
        "colab": {
          "base_uri": "https://localhost:8080/"
        },
        "outputId": "b46b7e6f-9afd-43b4-8776-4b2bc3cee421"
      },
      "outputs": [
        {
          "output_type": "stream",
          "name": "stdout",
          "text": [
            "[[1. 1.]\n",
            " [1. 1.]\n",
            " [1. 1.]]\n"
          ]
        }
      ],
      "source": [
        "arr_1 = np.ones((3,2))\n",
        "arr_2 = np.ones((2,3))\n",
        "print(arr_1)"
      ]
    },
    {
      "cell_type": "code",
      "execution_count": null,
      "metadata": {
        "id": "eX7dR8TJndJ9"
      },
      "outputs": [],
      "source": [
        "arr_1 = np.ones((4,1,5))\n",
        "arr_2 = np.ones((4,6,5))"
      ]
    },
    {
      "cell_type": "code",
      "execution_count": null,
      "metadata": {
        "id": "n5gRH_tvnnai"
      },
      "outputs": [],
      "source": [
        "arr_1 = np.ones((4,1,5))\n",
        "arr_2 = np.ones((4,6,1))"
      ]
    },
    {
      "cell_type": "code",
      "execution_count": null,
      "metadata": {
        "id": "3Hgh_ZD-nuvk"
      },
      "outputs": [],
      "source": [
        "arr_1 = np.ones((4,3,5))\n",
        "arr_2 = np.ones((3,5))"
      ]
    },
    {
      "cell_type": "code",
      "execution_count": null,
      "metadata": {
        "id": "jBNPjK5gnyBF"
      },
      "outputs": [],
      "source": [
        "arr_1 = np.ones((4,3,5))\n",
        "arr_2 = np.ones((4,3))"
      ]
    },
    {
      "cell_type": "markdown",
      "metadata": {
        "id": "XHNc2woIoF4d"
      },
      "source": [
        "## Summary operations"
      ]
    },
    {
      "cell_type": "markdown",
      "metadata": {
        "id": "_X0AeYn3oF4f"
      },
      "source": [
        "Summary operations allow you to collapse an array according to a certain summary statistic. For instance, we may want to compute the overall mean firing rate in our experimental data:"
      ]
    },
    {
      "cell_type": "code",
      "execution_count": null,
      "metadata": {
        "id": "4U_ibaS2oJCJ",
        "colab": {
          "base_uri": "https://localhost:8080/"
        },
        "outputId": "224c3944-b9d7-4578-fe5b-fa8496c0f4ee"
      },
      "outputs": [
        {
          "output_type": "execute_result",
          "data": {
            "text/plain": [
              "0.8717270073789571"
            ]
          },
          "metadata": {},
          "execution_count": 66
        }
      ],
      "source": [
        "arr.mean()"
      ]
    },
    {
      "cell_type": "markdown",
      "metadata": {
        "id": "f9-MA21KoRl2"
      },
      "source": [
        "You can also specify the axis along we want to average. For instance, maybe we want to average firing rates across individual trials:"
      ]
    },
    {
      "cell_type": "code",
      "execution_count": null,
      "metadata": {
        "id": "t1gvQ6QUoYPk",
        "colab": {
          "base_uri": "https://localhost:8080/"
        },
        "outputId": "b1345d12-930e-4104-bafd-031d33d656c1"
      },
      "outputs": [
        {
          "output_type": "execute_result",
          "data": {
            "text/plain": [
              "(2, 10, 50, 2000)"
            ]
          },
          "metadata": {},
          "execution_count": 67
        }
      ],
      "source": [
        "arr.shape"
      ]
    },
    {
      "cell_type": "code",
      "execution_count": null,
      "metadata": {
        "id": "HfVJ_KpwoYz_"
      },
      "outputs": [],
      "source": [
        "arr_across_trials = arr.mean(axis=1)"
      ]
    },
    {
      "cell_type": "code",
      "execution_count": null,
      "metadata": {
        "id": "0HsGHmTAocjO",
        "colab": {
          "base_uri": "https://localhost:8080/"
        },
        "outputId": "d15b5daf-a8bf-4a66-e4bf-04f1e78d8e25"
      },
      "outputs": [
        {
          "output_type": "execute_result",
          "data": {
            "text/plain": [
              "(2, 50, 2000)"
            ]
          },
          "metadata": {},
          "execution_count": 69
        }
      ],
      "source": [
        "arr_across_trials.shape"
      ]
    },
    {
      "cell_type": "markdown",
      "metadata": {
        "id": "MUVYhRhlpkki"
      },
      "source": [
        "The `keepdims` argument means that you don't remove the dimensions you're averaging over, but rather set their length to 1:"
      ]
    },
    {
      "cell_type": "code",
      "execution_count": null,
      "metadata": {
        "id": "npaRvYsIpijK"
      },
      "outputs": [],
      "source": [
        "arr_across_trials = arr.mean(axis=1, keepdims=True)"
      ]
    },
    {
      "cell_type": "code",
      "execution_count": null,
      "metadata": {
        "id": "aPIylJSUp2hF",
        "colab": {
          "base_uri": "https://localhost:8080/"
        },
        "outputId": "927844e3-da2c-4ce4-d870-ad4ee1379564"
      },
      "outputs": [
        {
          "output_type": "execute_result",
          "data": {
            "text/plain": [
              "(2, 1, 50, 2000)"
            ]
          },
          "metadata": {},
          "execution_count": 71
        }
      ],
      "source": [
        "arr_across_trials.shape"
      ]
    },
    {
      "cell_type": "markdown",
      "metadata": {
        "id": "PAQEXyjdokWV"
      },
      "source": [
        "You can average across multiple axes as well. For instance, maybe you want to average across both trials and time:"
      ]
    },
    {
      "cell_type": "code",
      "execution_count": null,
      "metadata": {
        "id": "b-x8H3Aiojvs"
      },
      "outputs": [],
      "source": [
        "arr_across_trials_and_time = arr.mean(axis=(1,3))"
      ]
    },
    {
      "cell_type": "code",
      "execution_count": null,
      "metadata": {
        "id": "CN2sn16wpY3X",
        "colab": {
          "base_uri": "https://localhost:8080/"
        },
        "outputId": "c725e6ce-940c-4c73-9683-3efd5c08eca4"
      },
      "outputs": [
        {
          "output_type": "execute_result",
          "data": {
            "text/plain": [
              "(2, 50)"
            ]
          },
          "metadata": {},
          "execution_count": 73
        }
      ],
      "source": [
        "arr_across_trials_and_time.shape"
      ]
    },
    {
      "cell_type": "markdown",
      "metadata": {
        "id": "D7CT8DwVp5SY"
      },
      "source": [
        "### Question 3\n",
        "\n",
        "- What is the average firing rate across all neurons, times, and trials for each condition?\n",
        "- (Advanced.) Subtract the average firing rate per time across all neurons, trials, and conditions from the original array."
      ]
    },
    {
      "cell_type": "code",
      "execution_count": null,
      "metadata": {
        "id": "XrIU-kcwOVi2",
        "colab": {
          "base_uri": "https://localhost:8080/"
        },
        "outputId": "5ccc1b4a-0c5b-4638-c809-1886e278047d"
      },
      "outputs": [
        {
          "output_type": "execute_result",
          "data": {
            "text/plain": [
              "(2, 1, 1, 1)"
            ]
          },
          "metadata": {},
          "execution_count": 83
        }
      ],
      "source": [
        "avg = arr.mean(axis = (1,2,3), keepdims = True)\n",
        "avg.shape"
      ]
    },
    {
      "cell_type": "markdown",
      "metadata": {
        "id": "LdgHsGL8uPJe"
      },
      "source": [
        "## Indexing"
      ]
    },
    {
      "cell_type": "markdown",
      "metadata": {
        "id": "sKsm931VIZJW"
      },
      "source": [
        "Indexing in vectors works just as in lists:"
      ]
    },
    {
      "cell_type": "code",
      "execution_count": null,
      "metadata": {
        "id": "V5-v-1yJ4rT3",
        "colab": {
          "base_uri": "https://localhost:8080/"
        },
        "outputId": "dc1edfdd-a054-4563-a688-8713f83c1497"
      },
      "outputs": [
        {
          "output_type": "execute_result",
          "data": {
            "text/plain": [
              "array([25, 20, 40,  5])"
            ]
          },
          "metadata": {},
          "execution_count": 84
        }
      ],
      "source": [
        "vec_1"
      ]
    },
    {
      "cell_type": "code",
      "execution_count": null,
      "metadata": {
        "id": "eIEWdFR84sO5",
        "colab": {
          "base_uri": "https://localhost:8080/"
        },
        "outputId": "8a8eef6b-b833-4c4f-abbc-62b86662b1f8"
      },
      "outputs": [
        {
          "output_type": "execute_result",
          "data": {
            "text/plain": [
              "25"
            ]
          },
          "metadata": {},
          "execution_count": 85
        }
      ],
      "source": [
        "vec_1[0]"
      ]
    },
    {
      "cell_type": "markdown",
      "metadata": {
        "id": "PPbsSdmiInSS"
      },
      "source": [
        "For matrices and higher-dimensional arrays, a single index selects a single row:"
      ]
    },
    {
      "cell_type": "code",
      "execution_count": null,
      "metadata": {
        "id": "qkstcucC4v1X",
        "colab": {
          "base_uri": "https://localhost:8080/"
        },
        "outputId": "2c7a766f-28d2-40f3-97d2-974ba92bad73"
      },
      "outputs": [
        {
          "output_type": "execute_result",
          "data": {
            "text/plain": [
              "array([[1, 2],\n",
              "       [3, 4],\n",
              "       [5, 6]])"
            ]
          },
          "metadata": {},
          "execution_count": 86
        }
      ],
      "source": [
        "mat_1"
      ]
    },
    {
      "cell_type": "code",
      "execution_count": null,
      "metadata": {
        "id": "QA_-MxKyqxAF",
        "colab": {
          "base_uri": "https://localhost:8080/"
        },
        "outputId": "9497e1e5-92ec-46e2-df52-5121871b3dc8"
      },
      "outputs": [
        {
          "output_type": "execute_result",
          "data": {
            "text/plain": [
              "array([1, 2])"
            ]
          },
          "metadata": {},
          "execution_count": 87
        }
      ],
      "source": [
        "mat_1[0]"
      ]
    },
    {
      "cell_type": "code",
      "execution_count": null,
      "metadata": {
        "id": "1QEO6aFDtOnN",
        "colab": {
          "base_uri": "https://localhost:8080/"
        },
        "outputId": "13cb67d8-259f-49cf-c3d8-e0eeee9c1ffe"
      },
      "outputs": [
        {
          "output_type": "execute_result",
          "data": {
            "text/plain": [
              "2"
            ]
          },
          "metadata": {},
          "execution_count": 88
        }
      ],
      "source": [
        "mat_1[0][1]"
      ]
    },
    {
      "cell_type": "markdown",
      "metadata": {
        "id": "UgApyUCXIu3B"
      },
      "source": [
        "Instead of using two brackets, you can also separate the row and column index by a comma:"
      ]
    },
    {
      "cell_type": "code",
      "execution_count": null,
      "metadata": {
        "id": "9nTJdwrQI0Wy",
        "colab": {
          "base_uri": "https://localhost:8080/"
        },
        "outputId": "5360b278-9ec1-4529-c3da-512f6fb2475c"
      },
      "outputs": [
        {
          "output_type": "stream",
          "name": "stdout",
          "text": [
            "1\n",
            "1\n"
          ]
        }
      ],
      "source": [
        "# The following two lines of code are equivalent\n",
        "print(mat_1[0][0])\n",
        "print(mat_1[0,0])"
      ]
    },
    {
      "cell_type": "markdown",
      "metadata": {
        "id": "UzUXMPzYJFBZ"
      },
      "source": [
        "### Slicing"
      ]
    },
    {
      "cell_type": "markdown",
      "metadata": {
        "id": "Y7PMotYdJH0F"
      },
      "source": [
        "Slicing is a useful way of extracting more than one element. In particular, `j:k` extracts the elements j,...,k-1:"
      ]
    },
    {
      "cell_type": "code",
      "execution_count": null,
      "metadata": {
        "id": "j2HmNafso_i4",
        "colab": {
          "base_uri": "https://localhost:8080/"
        },
        "outputId": "c78a7d5a-27d5-4dfe-cc8f-aa6cdf4de238"
      },
      "outputs": [
        {
          "output_type": "stream",
          "name": "stdout",
          "text": [
            "[0 1 2 3 4 5 6 7 8 9]\n"
          ]
        }
      ],
      "source": [
        "vec = np.arange(10)\n",
        "print(vec)"
      ]
    },
    {
      "cell_type": "code",
      "execution_count": null,
      "metadata": {
        "id": "Bo-lVYvaJULH",
        "colab": {
          "base_uri": "https://localhost:8080/"
        },
        "outputId": "8b2d1c6e-ce38-4674-d7d6-eb44f93e16b7"
      },
      "outputs": [
        {
          "output_type": "execute_result",
          "data": {
            "text/plain": [
              "array([3, 4, 5, 6])"
            ]
          },
          "metadata": {},
          "execution_count": 91
        }
      ],
      "source": [
        "vec[3:7]"
      ]
    },
    {
      "cell_type": "markdown",
      "metadata": {
        "id": "KGYH6PlTJXUa"
      },
      "source": [
        "We can leave either end of the range away and it will default to the beginning and the end of the list, respectively."
      ]
    },
    {
      "cell_type": "code",
      "execution_count": null,
      "metadata": {
        "id": "KCYXfjBOJWrO",
        "colab": {
          "base_uri": "https://localhost:8080/"
        },
        "outputId": "8bdc1498-c61d-46ca-d838-8c07bd53ca22"
      },
      "outputs": [
        {
          "output_type": "execute_result",
          "data": {
            "text/plain": [
              "array([0, 1, 2, 3, 4, 5, 6])"
            ]
          },
          "metadata": {},
          "execution_count": 92
        }
      ],
      "source": [
        "vec[:7]"
      ]
    },
    {
      "cell_type": "code",
      "execution_count": null,
      "metadata": {
        "id": "BCLi7iPsourR",
        "colab": {
          "base_uri": "https://localhost:8080/"
        },
        "outputId": "28a26ecc-a6e5-4264-9f2c-e926b4e79ffd"
      },
      "outputs": [
        {
          "output_type": "execute_result",
          "data": {
            "text/plain": [
              "array([3, 4, 5, 6, 7, 8, 9])"
            ]
          },
          "metadata": {},
          "execution_count": 93
        }
      ],
      "source": [
        "vec[3:]"
      ]
    },
    {
      "cell_type": "code",
      "execution_count": null,
      "metadata": {
        "id": "sCtRzOkxpvtF",
        "colab": {
          "base_uri": "https://localhost:8080/"
        },
        "outputId": "910277a4-c019-43f3-e9f3-3442a8259db2"
      },
      "outputs": [
        {
          "output_type": "execute_result",
          "data": {
            "text/plain": [
              "array([0, 1, 2, 3, 4, 5, 6, 7, 8, 9])"
            ]
          },
          "metadata": {},
          "execution_count": 94
        }
      ],
      "source": [
        "vec[:] # What do you think this will do?"
      ]
    },
    {
      "cell_type": "markdown",
      "metadata": {
        "id": "oSg-s95Vp_6M"
      },
      "source": [
        "You can therefore also use the colon to select all rows of a matrix and specific columns."
      ]
    },
    {
      "cell_type": "code",
      "execution_count": null,
      "metadata": {
        "id": "PfObJZyVqVkN",
        "colab": {
          "base_uri": "https://localhost:8080/"
        },
        "outputId": "f8671112-94b0-454f-d057-9870dc11e287"
      },
      "outputs": [
        {
          "output_type": "execute_result",
          "data": {
            "text/plain": [
              "array([[1, 2],\n",
              "       [3, 4],\n",
              "       [5, 6]])"
            ]
          },
          "metadata": {},
          "execution_count": 95
        }
      ],
      "source": [
        "mat_1"
      ]
    },
    {
      "cell_type": "code",
      "execution_count": null,
      "metadata": {
        "id": "3HqeoHnTp-bF",
        "colab": {
          "base_uri": "https://localhost:8080/"
        },
        "outputId": "86ca78f5-5c75-4fc0-dab4-fd905e75371a"
      },
      "outputs": [
        {
          "output_type": "execute_result",
          "data": {
            "text/plain": [
              "array([1, 3, 5])"
            ]
          },
          "metadata": {},
          "execution_count": 96
        }
      ],
      "source": [
        "mat_1[:,0]"
      ]
    },
    {
      "cell_type": "markdown",
      "metadata": {
        "id": "A84qrlXAqg7c"
      },
      "source": [
        "You can add another colon to specify a step size, similarly to how you would use these three arguments in `range`."
      ]
    },
    {
      "cell_type": "code",
      "execution_count": null,
      "metadata": {
        "id": "KhL-XFw5qf3v",
        "colab": {
          "base_uri": "https://localhost:8080/"
        },
        "outputId": "ea5d3077-e679-4e4e-e393-3fabc29c361e"
      },
      "outputs": [
        {
          "output_type": "execute_result",
          "data": {
            "text/plain": [
              "array([3, 5])"
            ]
          },
          "metadata": {},
          "execution_count": 97
        }
      ],
      "source": [
        "vec[3:7:2]"
      ]
    },
    {
      "cell_type": "markdown",
      "metadata": {
        "id": "K6IFZsQkrX4p"
      },
      "source": [
        "We could still leave away the beginning or the end of the slice:"
      ]
    },
    {
      "cell_type": "code",
      "execution_count": null,
      "metadata": {
        "id": "D0CDln9nrXIg",
        "colab": {
          "base_uri": "https://localhost:8080/"
        },
        "outputId": "c4c4ec78-1e53-48dc-9eae-adeebc475979"
      },
      "outputs": [
        {
          "output_type": "execute_result",
          "data": {
            "text/plain": [
              "array([0, 2, 4, 6, 8])"
            ]
          },
          "metadata": {},
          "execution_count": 98
        }
      ],
      "source": [
        "vec[::2]"
      ]
    },
    {
      "cell_type": "markdown",
      "metadata": {
        "id": "9Gu8lNI_rS9Q"
      },
      "source": [
        "### Question 4\n",
        "Predict the output of the following commands:"
      ]
    },
    {
      "cell_type": "code",
      "execution_count": null,
      "metadata": {
        "id": "yNs8daxLri0i",
        "colab": {
          "base_uri": "https://localhost:8080/"
        },
        "outputId": "b94e522d-561f-443e-af9c-34e11ce36232"
      },
      "outputs": [
        {
          "output_type": "execute_result",
          "data": {
            "text/plain": [
              "array([0, 1, 2, 3])"
            ]
          },
          "metadata": {},
          "execution_count": 99
        }
      ],
      "source": [
        "vec[:4]"
      ]
    },
    {
      "cell_type": "code",
      "execution_count": null,
      "metadata": {
        "id": "-90xe62IrSPy",
        "colab": {
          "base_uri": "https://localhost:8080/"
        },
        "outputId": "63cf86e0-85ae-47a1-9ddd-7365850ea7e5"
      },
      "outputs": [
        {
          "output_type": "execute_result",
          "data": {
            "text/plain": [
              "array([5, 7])"
            ]
          },
          "metadata": {},
          "execution_count": 100
        }
      ],
      "source": [
        "vec[5:9:2]"
      ]
    },
    {
      "cell_type": "code",
      "execution_count": null,
      "metadata": {
        "id": "XZLdgm1CCwTf",
        "colab": {
          "base_uri": "https://localhost:8080/"
        },
        "outputId": "0e39ffe8-7688-4339-f073-e2a7d799f030"
      },
      "outputs": [
        {
          "output_type": "execute_result",
          "data": {
            "text/plain": [
              "array([0, 2, 4, 6])"
            ]
          },
          "metadata": {},
          "execution_count": 101
        }
      ],
      "source": [
        "vec[:7:2]"
      ]
    },
    {
      "cell_type": "code",
      "execution_count": null,
      "metadata": {
        "id": "7otovAU_rg9a",
        "colab": {
          "base_uri": "https://localhost:8080/"
        },
        "outputId": "c357a45f-6e30-4da6-9c7e-794456ca8eb2"
      },
      "outputs": [
        {
          "output_type": "execute_result",
          "data": {
            "text/plain": [
              "array([2, 4, 6, 8])"
            ]
          },
          "metadata": {},
          "execution_count": 102
        }
      ],
      "source": [
        "vec[2::2]"
      ]
    },
    {
      "cell_type": "markdown",
      "metadata": {
        "id": "XBw_AOc0rSyF"
      },
      "source": [
        "### Boolean indexing"
      ]
    },
    {
      "cell_type": "markdown",
      "metadata": {
        "id": "FG9TiQuZrVuU"
      },
      "source": [
        "Do you remember how to create an array that is true if and only if `vec` is smaller than 5?"
      ]
    },
    {
      "cell_type": "code",
      "execution_count": null,
      "metadata": {
        "id": "b8O9g9rT7v1J",
        "colab": {
          "base_uri": "https://localhost:8080/"
        },
        "outputId": "6666b216-88e0-4bcb-f9cc-dfa2ce3dcdc7"
      },
      "outputs": [
        {
          "output_type": "execute_result",
          "data": {
            "text/plain": [
              "array([0, 1, 2, 3, 4, 5, 6, 7, 8, 9])"
            ]
          },
          "metadata": {},
          "execution_count": 103
        }
      ],
      "source": [
        "vec = np.arange(10)\n",
        "vec"
      ]
    },
    {
      "cell_type": "code",
      "execution_count": null,
      "metadata": {
        "id": "x9ZXEpI4rRwN",
        "colab": {
          "base_uri": "https://localhost:8080/"
        },
        "outputId": "f3749ee0-f187-4840-ee71-bfc8b8c5a88c"
      },
      "outputs": [
        {
          "output_type": "execute_result",
          "data": {
            "text/plain": [
              "array([ True,  True,  True,  True,  True,  True, False, False, False,\n",
              "       False])"
            ]
          },
          "metadata": {},
          "execution_count": 104
        }
      ],
      "source": [
        "selector = vec <= 5\n",
        "selector"
      ]
    },
    {
      "cell_type": "markdown",
      "metadata": {
        "id": "3FE2fc9Src2F"
      },
      "source": [
        "You can use these boolean arrays to subset the corresponding true values."
      ]
    },
    {
      "cell_type": "code",
      "execution_count": null,
      "metadata": {
        "id": "E_346Ach9Yc3",
        "colab": {
          "base_uri": "https://localhost:8080/"
        },
        "outputId": "a7255b19-0893-41f6-cc47-da30fdaa2eb5"
      },
      "outputs": [
        {
          "output_type": "execute_result",
          "data": {
            "text/plain": [
              "array([0, 1, 2, 3, 4, 5, 6, 7, 8, 9])"
            ]
          },
          "metadata": {},
          "execution_count": 105
        }
      ],
      "source": [
        "vec"
      ]
    },
    {
      "cell_type": "code",
      "execution_count": null,
      "metadata": {
        "id": "__3rjtD4rcLE",
        "colab": {
          "base_uri": "https://localhost:8080/"
        },
        "outputId": "0ce91e62-5a81-4d5e-d83d-c78ab397f67d"
      },
      "outputs": [
        {
          "output_type": "execute_result",
          "data": {
            "text/plain": [
              "array([0, 1, 2, 3, 4, 5])"
            ]
          },
          "metadata": {},
          "execution_count": 106
        }
      ],
      "source": [
        "vec[selector]"
      ]
    },
    {
      "cell_type": "code",
      "execution_count": null,
      "metadata": {
        "id": "obfmbaxk9i-a",
        "colab": {
          "base_uri": "https://localhost:8080/"
        },
        "outputId": "219cbcb9-c1e7-40a7-8f74-bb9fdbbe82b6"
      },
      "outputs": [
        {
          "output_type": "execute_result",
          "data": {
            "text/plain": [
              "array([0, 1, 2, 3, 4, 5])"
            ]
          },
          "metadata": {},
          "execution_count": 107
        }
      ],
      "source": [
        "vec[vec<=5]"
      ]
    },
    {
      "cell_type": "markdown",
      "metadata": {
        "id": "8MaLCKf9rktz"
      },
      "source": [
        "You can do the same with matrices:"
      ]
    },
    {
      "cell_type": "code",
      "execution_count": null,
      "metadata": {
        "id": "rlF_CayR9mFR"
      },
      "outputs": [],
      "source": [
        "mat_1 = np.array([[1, 2],\n",
        "       [3, 4],\n",
        "       [5, 6]])"
      ]
    },
    {
      "cell_type": "code",
      "execution_count": null,
      "metadata": {
        "id": "EwzXKJemruRW",
        "colab": {
          "base_uri": "https://localhost:8080/"
        },
        "outputId": "bc773365-1414-40b0-d589-2f752cd09657"
      },
      "outputs": [
        {
          "output_type": "execute_result",
          "data": {
            "text/plain": [
              "array([[False, False],\n",
              "       [ True,  True],\n",
              "       [ True,  True]])"
            ]
          },
          "metadata": {},
          "execution_count": 109
        }
      ],
      "source": [
        "mat_1 >= 3"
      ]
    },
    {
      "cell_type": "code",
      "execution_count": null,
      "metadata": {
        "id": "Iuxu6VIkrj7b",
        "colab": {
          "base_uri": "https://localhost:8080/"
        },
        "outputId": "3247de1b-56a7-4087-c63a-894578acaef8"
      },
      "outputs": [
        {
          "output_type": "execute_result",
          "data": {
            "text/plain": [
              "array([3, 4, 5, 6])"
            ]
          },
          "metadata": {},
          "execution_count": 110
        }
      ],
      "source": [
        "mat_1[mat_1 >= 3]"
      ]
    },
    {
      "cell_type": "markdown",
      "metadata": {
        "id": "Ei0wsNmortBZ"
      },
      "source": [
        "### Questions 5\n",
        "- Consider the example matrix from above and subset all entries with values between 2 and 4. You can try to do this in one line or do it through multipel lines!"
      ]
    },
    {
      "cell_type": "code",
      "execution_count": null,
      "metadata": {
        "id": "n2Dm4_0fBo2b",
        "colab": {
          "base_uri": "https://localhost:8080/",
          "height": 179
        },
        "outputId": "9d3320a5-f529-4ec5-f45a-c3960dc73a00"
      },
      "outputs": [
        {
          "output_type": "error",
          "ename": "TypeError",
          "evalue": "ignored",
          "traceback": [
            "\u001b[0;31m---------------------------------------------------------------------------\u001b[0m",
            "\u001b[0;31mTypeError\u001b[0m                                 Traceback (most recent call last)",
            "\u001b[0;32m<ipython-input-123-dd9307607809>\u001b[0m in \u001b[0;36m<cell line: 1>\u001b[0;34m()\u001b[0m\n\u001b[0;32m----> 1\u001b[0;31m \u001b[0mmat_1\u001b[0m \u001b[0;34m[\u001b[0m\u001b[0;34m(\u001b[0m\u001b[0mmat_1\u001b[0m \u001b[0;34m<\u001b[0m \u001b[0;36m4\u001b[0m\u001b[0;34m)\u001b[0m \u001b[0;34m&\u001b[0m \u001b[0;34m(\u001b[0m\u001b[0mmat_1\u001b[0m \u001b[0;34m>\u001b[0m \u001b[0;36m2\u001b[0m\u001b[0;34m)\u001b[0m\u001b[0;34m]\u001b[0m  \u001b[0;31m#go over this\u001b[0m\u001b[0;34m\u001b[0m\u001b[0;34m\u001b[0m\u001b[0m\n\u001b[0m",
            "\u001b[0;31mTypeError\u001b[0m: 'int' object is not subscriptable"
          ]
        }
      ],
      "source": [
        "mat_1 [(mat_1 < 4) & (mat_1 > 2)]  #go over this"
      ]
    },
    {
      "cell_type": "code",
      "execution_count": null,
      "metadata": {
        "id": "y9SZGAPqxfpm"
      },
      "outputs": [],
      "source": [
        "# Good coding convention: Move all imports to the top of your notebook/file\n",
        "import pandas as pd\n",
        "import numpy as np # We will also be needing numpy as pandas is tightly integrated with numpy"
      ]
    },
    {
      "cell_type": "markdown",
      "metadata": {
        "id": "v7L5ZsN6koF4"
      },
      "source": [
        "# Pandas and Data Visualization\n",
        "## Pandas\n",
        "### Motivation for pandas\n",
        "Dictionaries allow us to save multiple attributes of a particular object. For example, we can store some information about a lesson:"
      ]
    },
    {
      "cell_type": "code",
      "execution_count": null,
      "metadata": {
        "id": "cs9Kyi6ml7WL"
      },
      "outputs": [],
      "source": [
        "lesson_5 = {\n",
        "    'topic': 'Numpy',\n",
        "    'teacher': 'Sam',\n",
        "    'week': 5\n",
        "}"
      ]
    },
    {
      "cell_type": "markdown",
      "metadata": {
        "id": "OOTyRHLTnDI_"
      },
      "source": [
        "Often, we collect multiple observations for which we record the same attributes and we'd like to store them together:"
      ]
    },
    {
      "cell_type": "code",
      "execution_count": null,
      "metadata": {
        "id": "dt3B1lMOmLF5"
      },
      "outputs": [],
      "source": [
        "lesson_3 = {\n",
        "    'topic': 'Basics of Python 2',\n",
        "    'teacher': 'Jasmine',\n",
        "    'week': 3\n",
        "}\n",
        "lesson_1 = {\n",
        "    'topic': 'Setting up Python',\n",
        "    'teacher': 'Jasmine',\n",
        "    'week': 1\n",
        "}"
      ]
    },
    {
      "cell_type": "markdown",
      "metadata": {
        "id": "cxd6NpRqnWWa"
      },
      "source": [
        "We could go about this by storing them in a list:"
      ]
    },
    {
      "cell_type": "code",
      "execution_count": null,
      "metadata": {
        "id": "Fv8ixGsSnLAY"
      },
      "outputs": [],
      "source": [
        "lst_lessons = [lesson_5, lesson_3, lesson_1]"
      ]
    },
    {
      "cell_type": "code",
      "execution_count": null,
      "metadata": {
        "id": "MmIEhXblnb6g",
        "colab": {
          "base_uri": "https://localhost:8080/"
        },
        "outputId": "5cc4e33a-c401-4ff6-a74b-0ac09c5a56f8"
      },
      "outputs": [
        {
          "output_type": "execute_result",
          "data": {
            "text/plain": [
              "[{'topic': 'Numpy', 'teacher': 'Sam', 'week': 5},\n",
              " {'topic': 'Basics of Python 2', 'teacher': 'Jasmine', 'week': 3},\n",
              " {'topic': 'Setting up Python', 'teacher': 'Jasmine', 'week': 1}]"
            ]
          },
          "metadata": {},
          "execution_count": 127
        }
      ],
      "source": [
        "lst_lessons"
      ]
    },
    {
      "cell_type": "markdown",
      "metadata": {
        "id": "qKqa4NKjnhdJ"
      },
      "source": [
        "However, such lists are lacking a lot of functionality. For example, we may want to print out only those observations where Jasmine was the teacher. We'd have to use a for loop for this:"
      ]
    },
    {
      "cell_type": "code",
      "execution_count": null,
      "metadata": {
        "id": "JoDsUCM5nCKI",
        "colab": {
          "base_uri": "https://localhost:8080/"
        },
        "outputId": "a4f9082b-c897-49e4-a8a8-68e7fe8afee4"
      },
      "outputs": [
        {
          "output_type": "execute_result",
          "data": {
            "text/plain": [
              "[{'topic': 'Basics of Python 2', 'teacher': 'Jasmine', 'week': 3},\n",
              " {'topic': 'Setting up Python', 'teacher': 'Jasmine', 'week': 1}]"
            ]
          },
          "metadata": {},
          "execution_count": 128
        }
      ],
      "source": [
        "jasmines_lessons = [\n",
        "    lesson for lesson in lst_lessons if lesson['teacher'] == 'Jasmine'\n",
        "]\n",
        "jasmines_lessons"
      ]
    },
    {
      "cell_type": "markdown",
      "metadata": {
        "id": "6Z-YMhbDn5lG"
      },
      "source": [
        "We therefore need a new data structure that can record multiple pieces of information about multiple observations. This is provided by `pandas` (which stands for *panel data*):"
      ]
    },
    {
      "cell_type": "markdown",
      "metadata": {
        "id": "-LzIWTktos51"
      },
      "source": [
        "The core object in pandas is a *data frame*, which consists of observations organized along its rows and different pieces of information about its observations organized along its columns."
      ]
    },
    {
      "cell_type": "code",
      "execution_count": null,
      "metadata": {
        "id": "hdIiS6CUosHT",
        "colab": {
          "base_uri": "https://localhost:8080/",
          "height": 143
        },
        "outputId": "ac18aee2-6760-4259-b3c0-08fce6043608"
      },
      "outputs": [
        {
          "output_type": "execute_result",
          "data": {
            "text/plain": [
              "                topic  teacher  week\n",
              "0               Numpy      Sam     5\n",
              "1  Basics of Python 2  Jasmine     3\n",
              "2   Setting up Python  Jasmine     1"
            ],
            "text/html": [
              "\n",
              "  <div id=\"df-ac0ece20-ef66-42ec-8aa3-c44026d15232\" class=\"colab-df-container\">\n",
              "    <div>\n",
              "<style scoped>\n",
              "    .dataframe tbody tr th:only-of-type {\n",
              "        vertical-align: middle;\n",
              "    }\n",
              "\n",
              "    .dataframe tbody tr th {\n",
              "        vertical-align: top;\n",
              "    }\n",
              "\n",
              "    .dataframe thead th {\n",
              "        text-align: right;\n",
              "    }\n",
              "</style>\n",
              "<table border=\"1\" class=\"dataframe\">\n",
              "  <thead>\n",
              "    <tr style=\"text-align: right;\">\n",
              "      <th></th>\n",
              "      <th>topic</th>\n",
              "      <th>teacher</th>\n",
              "      <th>week</th>\n",
              "    </tr>\n",
              "  </thead>\n",
              "  <tbody>\n",
              "    <tr>\n",
              "      <th>0</th>\n",
              "      <td>Numpy</td>\n",
              "      <td>Sam</td>\n",
              "      <td>5</td>\n",
              "    </tr>\n",
              "    <tr>\n",
              "      <th>1</th>\n",
              "      <td>Basics of Python 2</td>\n",
              "      <td>Jasmine</td>\n",
              "      <td>3</td>\n",
              "    </tr>\n",
              "    <tr>\n",
              "      <th>2</th>\n",
              "      <td>Setting up Python</td>\n",
              "      <td>Jasmine</td>\n",
              "      <td>1</td>\n",
              "    </tr>\n",
              "  </tbody>\n",
              "</table>\n",
              "</div>\n",
              "    <div class=\"colab-df-buttons\">\n",
              "\n",
              "  <div class=\"colab-df-container\">\n",
              "    <button class=\"colab-df-convert\" onclick=\"convertToInteractive('df-ac0ece20-ef66-42ec-8aa3-c44026d15232')\"\n",
              "            title=\"Convert this dataframe to an interactive table.\"\n",
              "            style=\"display:none;\">\n",
              "\n",
              "  <svg xmlns=\"http://www.w3.org/2000/svg\" height=\"24px\" viewBox=\"0 -960 960 960\">\n",
              "    <path d=\"M120-120v-720h720v720H120Zm60-500h600v-160H180v160Zm220 220h160v-160H400v160Zm0 220h160v-160H400v160ZM180-400h160v-160H180v160Zm440 0h160v-160H620v160ZM180-180h160v-160H180v160Zm440 0h160v-160H620v160Z\"/>\n",
              "  </svg>\n",
              "    </button>\n",
              "\n",
              "  <style>\n",
              "    .colab-df-container {\n",
              "      display:flex;\n",
              "      gap: 12px;\n",
              "    }\n",
              "\n",
              "    .colab-df-convert {\n",
              "      background-color: #E8F0FE;\n",
              "      border: none;\n",
              "      border-radius: 50%;\n",
              "      cursor: pointer;\n",
              "      display: none;\n",
              "      fill: #1967D2;\n",
              "      height: 32px;\n",
              "      padding: 0 0 0 0;\n",
              "      width: 32px;\n",
              "    }\n",
              "\n",
              "    .colab-df-convert:hover {\n",
              "      background-color: #E2EBFA;\n",
              "      box-shadow: 0px 1px 2px rgba(60, 64, 67, 0.3), 0px 1px 3px 1px rgba(60, 64, 67, 0.15);\n",
              "      fill: #174EA6;\n",
              "    }\n",
              "\n",
              "    .colab-df-buttons div {\n",
              "      margin-bottom: 4px;\n",
              "    }\n",
              "\n",
              "    [theme=dark] .colab-df-convert {\n",
              "      background-color: #3B4455;\n",
              "      fill: #D2E3FC;\n",
              "    }\n",
              "\n",
              "    [theme=dark] .colab-df-convert:hover {\n",
              "      background-color: #434B5C;\n",
              "      box-shadow: 0px 1px 3px 1px rgba(0, 0, 0, 0.15);\n",
              "      filter: drop-shadow(0px 1px 2px rgba(0, 0, 0, 0.3));\n",
              "      fill: #FFFFFF;\n",
              "    }\n",
              "  </style>\n",
              "\n",
              "    <script>\n",
              "      const buttonEl =\n",
              "        document.querySelector('#df-ac0ece20-ef66-42ec-8aa3-c44026d15232 button.colab-df-convert');\n",
              "      buttonEl.style.display =\n",
              "        google.colab.kernel.accessAllowed ? 'block' : 'none';\n",
              "\n",
              "      async function convertToInteractive(key) {\n",
              "        const element = document.querySelector('#df-ac0ece20-ef66-42ec-8aa3-c44026d15232');\n",
              "        const dataTable =\n",
              "          await google.colab.kernel.invokeFunction('convertToInteractive',\n",
              "                                                    [key], {});\n",
              "        if (!dataTable) return;\n",
              "\n",
              "        const docLinkHtml = 'Like what you see? Visit the ' +\n",
              "          '<a target=\"_blank\" href=https://colab.research.google.com/notebooks/data_table.ipynb>data table notebook</a>'\n",
              "          + ' to learn more about interactive tables.';\n",
              "        element.innerHTML = '';\n",
              "        dataTable['output_type'] = 'display_data';\n",
              "        await google.colab.output.renderOutput(dataTable, element);\n",
              "        const docLink = document.createElement('div');\n",
              "        docLink.innerHTML = docLinkHtml;\n",
              "        element.appendChild(docLink);\n",
              "      }\n",
              "    </script>\n",
              "  </div>\n",
              "\n",
              "\n",
              "<div id=\"df-0c8e825f-227b-47ed-b62f-20a86b013eb5\">\n",
              "  <button class=\"colab-df-quickchart\" onclick=\"quickchart('df-0c8e825f-227b-47ed-b62f-20a86b013eb5')\"\n",
              "            title=\"Suggest charts.\"\n",
              "            style=\"display:none;\">\n",
              "\n",
              "<svg xmlns=\"http://www.w3.org/2000/svg\" height=\"24px\"viewBox=\"0 0 24 24\"\n",
              "     width=\"24px\">\n",
              "    <g>\n",
              "        <path d=\"M19 3H5c-1.1 0-2 .9-2 2v14c0 1.1.9 2 2 2h14c1.1 0 2-.9 2-2V5c0-1.1-.9-2-2-2zM9 17H7v-7h2v7zm4 0h-2V7h2v10zm4 0h-2v-4h2v4z\"/>\n",
              "    </g>\n",
              "</svg>\n",
              "  </button>\n",
              "\n",
              "<style>\n",
              "  .colab-df-quickchart {\n",
              "      --bg-color: #E8F0FE;\n",
              "      --fill-color: #1967D2;\n",
              "      --hover-bg-color: #E2EBFA;\n",
              "      --hover-fill-color: #174EA6;\n",
              "      --disabled-fill-color: #AAA;\n",
              "      --disabled-bg-color: #DDD;\n",
              "  }\n",
              "\n",
              "  [theme=dark] .colab-df-quickchart {\n",
              "      --bg-color: #3B4455;\n",
              "      --fill-color: #D2E3FC;\n",
              "      --hover-bg-color: #434B5C;\n",
              "      --hover-fill-color: #FFFFFF;\n",
              "      --disabled-bg-color: #3B4455;\n",
              "      --disabled-fill-color: #666;\n",
              "  }\n",
              "\n",
              "  .colab-df-quickchart {\n",
              "    background-color: var(--bg-color);\n",
              "    border: none;\n",
              "    border-radius: 50%;\n",
              "    cursor: pointer;\n",
              "    display: none;\n",
              "    fill: var(--fill-color);\n",
              "    height: 32px;\n",
              "    padding: 0;\n",
              "    width: 32px;\n",
              "  }\n",
              "\n",
              "  .colab-df-quickchart:hover {\n",
              "    background-color: var(--hover-bg-color);\n",
              "    box-shadow: 0 1px 2px rgba(60, 64, 67, 0.3), 0 1px 3px 1px rgba(60, 64, 67, 0.15);\n",
              "    fill: var(--button-hover-fill-color);\n",
              "  }\n",
              "\n",
              "  .colab-df-quickchart-complete:disabled,\n",
              "  .colab-df-quickchart-complete:disabled:hover {\n",
              "    background-color: var(--disabled-bg-color);\n",
              "    fill: var(--disabled-fill-color);\n",
              "    box-shadow: none;\n",
              "  }\n",
              "\n",
              "  .colab-df-spinner {\n",
              "    border: 2px solid var(--fill-color);\n",
              "    border-color: transparent;\n",
              "    border-bottom-color: var(--fill-color);\n",
              "    animation:\n",
              "      spin 1s steps(1) infinite;\n",
              "  }\n",
              "\n",
              "  @keyframes spin {\n",
              "    0% {\n",
              "      border-color: transparent;\n",
              "      border-bottom-color: var(--fill-color);\n",
              "      border-left-color: var(--fill-color);\n",
              "    }\n",
              "    20% {\n",
              "      border-color: transparent;\n",
              "      border-left-color: var(--fill-color);\n",
              "      border-top-color: var(--fill-color);\n",
              "    }\n",
              "    30% {\n",
              "      border-color: transparent;\n",
              "      border-left-color: var(--fill-color);\n",
              "      border-top-color: var(--fill-color);\n",
              "      border-right-color: var(--fill-color);\n",
              "    }\n",
              "    40% {\n",
              "      border-color: transparent;\n",
              "      border-right-color: var(--fill-color);\n",
              "      border-top-color: var(--fill-color);\n",
              "    }\n",
              "    60% {\n",
              "      border-color: transparent;\n",
              "      border-right-color: var(--fill-color);\n",
              "    }\n",
              "    80% {\n",
              "      border-color: transparent;\n",
              "      border-right-color: var(--fill-color);\n",
              "      border-bottom-color: var(--fill-color);\n",
              "    }\n",
              "    90% {\n",
              "      border-color: transparent;\n",
              "      border-bottom-color: var(--fill-color);\n",
              "    }\n",
              "  }\n",
              "</style>\n",
              "\n",
              "  <script>\n",
              "    async function quickchart(key) {\n",
              "      const quickchartButtonEl =\n",
              "        document.querySelector('#' + key + ' button');\n",
              "      quickchartButtonEl.disabled = true;  // To prevent multiple clicks.\n",
              "      quickchartButtonEl.classList.add('colab-df-spinner');\n",
              "      try {\n",
              "        const charts = await google.colab.kernel.invokeFunction(\n",
              "            'suggestCharts', [key], {});\n",
              "      } catch (error) {\n",
              "        console.error('Error during call to suggestCharts:', error);\n",
              "      }\n",
              "      quickchartButtonEl.classList.remove('colab-df-spinner');\n",
              "      quickchartButtonEl.classList.add('colab-df-quickchart-complete');\n",
              "    }\n",
              "    (() => {\n",
              "      let quickchartButtonEl =\n",
              "        document.querySelector('#df-0c8e825f-227b-47ed-b62f-20a86b013eb5 button');\n",
              "      quickchartButtonEl.style.display =\n",
              "        google.colab.kernel.accessAllowed ? 'block' : 'none';\n",
              "    })();\n",
              "  </script>\n",
              "</div>\n",
              "    </div>\n",
              "  </div>\n"
            ]
          },
          "metadata": {},
          "execution_count": 132
        }
      ],
      "source": [
        "df_lessons = pd.DataFrame(lst_lessons)\n",
        "df_lessons"
      ]
    },
    {
      "cell_type": "markdown",
      "metadata": {
        "id": "q5xkkN9gzpkl"
      },
      "source": [
        "### Finding out basic information"
      ]
    },
    {
      "cell_type": "code",
      "execution_count": null,
      "metadata": {
        "id": "LhbL0lH-zvGX",
        "colab": {
          "base_uri": "https://localhost:8080/"
        },
        "outputId": "d74c9b69-c4df-42a5-e302-c8550c89b7fb"
      },
      "outputs": [
        {
          "output_type": "execute_result",
          "data": {
            "text/plain": [
              "(3, 3)"
            ]
          },
          "metadata": {},
          "execution_count": 133
        }
      ],
      "source": [
        "df_lessons.shape"
      ]
    },
    {
      "cell_type": "code",
      "execution_count": null,
      "metadata": {
        "id": "il7q8Y2bzwxJ",
        "colab": {
          "base_uri": "https://localhost:8080/"
        },
        "outputId": "e8e1084f-3a05-482e-b8c5-01f897ca7137"
      },
      "outputs": [
        {
          "output_type": "execute_result",
          "data": {
            "text/plain": [
              "Index(['topic', 'teacher', 'week'], dtype='object')"
            ]
          },
          "metadata": {},
          "execution_count": 134
        }
      ],
      "source": [
        "df_lessons.columns"
      ]
    },
    {
      "cell_type": "markdown",
      "metadata": {
        "id": "0sxbZwoNz4mK"
      },
      "source": [
        "### Indexing"
      ]
    },
    {
      "cell_type": "markdown",
      "metadata": {
        "id": "IEnYcEe-0Djo"
      },
      "source": [
        "Regular brackets return a specific column or a subset of columns:"
      ]
    },
    {
      "cell_type": "code",
      "execution_count": null,
      "metadata": {
        "id": "8W27Fn6Dz_XS",
        "colab": {
          "base_uri": "https://localhost:8080/"
        },
        "outputId": "7f6e3d1a-20d6-42c0-92f6-7b5a5d40e210"
      },
      "outputs": [
        {
          "output_type": "execute_result",
          "data": {
            "text/plain": [
              "0        Sam\n",
              "1    Jasmine\n",
              "2    Jasmine\n",
              "Name: teacher, dtype: object"
            ]
          },
          "metadata": {},
          "execution_count": 135
        }
      ],
      "source": [
        "df_lessons['teacher']"
      ]
    },
    {
      "cell_type": "markdown",
      "metadata": {
        "id": "Idorjd83wtHE"
      },
      "source": [
        "(*Note:* The object that is returned is called a `pd.Series` and has a few additional features compared to a one-dimensional numpy array. I personally don't use those additional features and think they are counter-productive, but you can look them up if you have to interact with them.)"
      ]
    },
    {
      "cell_type": "markdown",
      "metadata": {
        "id": "lIUlRsaJxLs8"
      },
      "source": [
        "You can operate on those columns in the same way you would operate on numpy arrays:"
      ]
    },
    {
      "cell_type": "code",
      "execution_count": null,
      "metadata": {
        "id": "P8iDSKxTxQ4K",
        "colab": {
          "base_uri": "https://localhost:8080/"
        },
        "outputId": "f43a93fc-8720-49b5-efc0-35211dd01294"
      },
      "outputs": [
        {
          "output_type": "execute_result",
          "data": {
            "text/plain": [
              "0    False\n",
              "1     True\n",
              "2     True\n",
              "Name: teacher, dtype: bool"
            ]
          },
          "metadata": {},
          "execution_count": 136
        }
      ],
      "source": [
        "df_lessons['teacher'] == 'Jasmine'"
      ]
    },
    {
      "cell_type": "code",
      "execution_count": null,
      "metadata": {
        "id": "IZ_LCUxx0nQC",
        "colab": {
          "base_uri": "https://localhost:8080/",
          "height": 143
        },
        "outputId": "7c45013a-909c-4788-bc76-48033808dcba"
      },
      "outputs": [
        {
          "output_type": "execute_result",
          "data": {
            "text/plain": [
              "                topic  teacher\n",
              "0               Numpy      Sam\n",
              "1  Basics of Python 2  Jasmine\n",
              "2   Setting up Python  Jasmine"
            ],
            "text/html": [
              "\n",
              "  <div id=\"df-643cf913-8ae1-42ba-a347-259e7ed29067\" class=\"colab-df-container\">\n",
              "    <div>\n",
              "<style scoped>\n",
              "    .dataframe tbody tr th:only-of-type {\n",
              "        vertical-align: middle;\n",
              "    }\n",
              "\n",
              "    .dataframe tbody tr th {\n",
              "        vertical-align: top;\n",
              "    }\n",
              "\n",
              "    .dataframe thead th {\n",
              "        text-align: right;\n",
              "    }\n",
              "</style>\n",
              "<table border=\"1\" class=\"dataframe\">\n",
              "  <thead>\n",
              "    <tr style=\"text-align: right;\">\n",
              "      <th></th>\n",
              "      <th>topic</th>\n",
              "      <th>teacher</th>\n",
              "    </tr>\n",
              "  </thead>\n",
              "  <tbody>\n",
              "    <tr>\n",
              "      <th>0</th>\n",
              "      <td>Numpy</td>\n",
              "      <td>Sam</td>\n",
              "    </tr>\n",
              "    <tr>\n",
              "      <th>1</th>\n",
              "      <td>Basics of Python 2</td>\n",
              "      <td>Jasmine</td>\n",
              "    </tr>\n",
              "    <tr>\n",
              "      <th>2</th>\n",
              "      <td>Setting up Python</td>\n",
              "      <td>Jasmine</td>\n",
              "    </tr>\n",
              "  </tbody>\n",
              "</table>\n",
              "</div>\n",
              "    <div class=\"colab-df-buttons\">\n",
              "\n",
              "  <div class=\"colab-df-container\">\n",
              "    <button class=\"colab-df-convert\" onclick=\"convertToInteractive('df-643cf913-8ae1-42ba-a347-259e7ed29067')\"\n",
              "            title=\"Convert this dataframe to an interactive table.\"\n",
              "            style=\"display:none;\">\n",
              "\n",
              "  <svg xmlns=\"http://www.w3.org/2000/svg\" height=\"24px\" viewBox=\"0 -960 960 960\">\n",
              "    <path d=\"M120-120v-720h720v720H120Zm60-500h600v-160H180v160Zm220 220h160v-160H400v160Zm0 220h160v-160H400v160ZM180-400h160v-160H180v160Zm440 0h160v-160H620v160ZM180-180h160v-160H180v160Zm440 0h160v-160H620v160Z\"/>\n",
              "  </svg>\n",
              "    </button>\n",
              "\n",
              "  <style>\n",
              "    .colab-df-container {\n",
              "      display:flex;\n",
              "      gap: 12px;\n",
              "    }\n",
              "\n",
              "    .colab-df-convert {\n",
              "      background-color: #E8F0FE;\n",
              "      border: none;\n",
              "      border-radius: 50%;\n",
              "      cursor: pointer;\n",
              "      display: none;\n",
              "      fill: #1967D2;\n",
              "      height: 32px;\n",
              "      padding: 0 0 0 0;\n",
              "      width: 32px;\n",
              "    }\n",
              "\n",
              "    .colab-df-convert:hover {\n",
              "      background-color: #E2EBFA;\n",
              "      box-shadow: 0px 1px 2px rgba(60, 64, 67, 0.3), 0px 1px 3px 1px rgba(60, 64, 67, 0.15);\n",
              "      fill: #174EA6;\n",
              "    }\n",
              "\n",
              "    .colab-df-buttons div {\n",
              "      margin-bottom: 4px;\n",
              "    }\n",
              "\n",
              "    [theme=dark] .colab-df-convert {\n",
              "      background-color: #3B4455;\n",
              "      fill: #D2E3FC;\n",
              "    }\n",
              "\n",
              "    [theme=dark] .colab-df-convert:hover {\n",
              "      background-color: #434B5C;\n",
              "      box-shadow: 0px 1px 3px 1px rgba(0, 0, 0, 0.15);\n",
              "      filter: drop-shadow(0px 1px 2px rgba(0, 0, 0, 0.3));\n",
              "      fill: #FFFFFF;\n",
              "    }\n",
              "  </style>\n",
              "\n",
              "    <script>\n",
              "      const buttonEl =\n",
              "        document.querySelector('#df-643cf913-8ae1-42ba-a347-259e7ed29067 button.colab-df-convert');\n",
              "      buttonEl.style.display =\n",
              "        google.colab.kernel.accessAllowed ? 'block' : 'none';\n",
              "\n",
              "      async function convertToInteractive(key) {\n",
              "        const element = document.querySelector('#df-643cf913-8ae1-42ba-a347-259e7ed29067');\n",
              "        const dataTable =\n",
              "          await google.colab.kernel.invokeFunction('convertToInteractive',\n",
              "                                                    [key], {});\n",
              "        if (!dataTable) return;\n",
              "\n",
              "        const docLinkHtml = 'Like what you see? Visit the ' +\n",
              "          '<a target=\"_blank\" href=https://colab.research.google.com/notebooks/data_table.ipynb>data table notebook</a>'\n",
              "          + ' to learn more about interactive tables.';\n",
              "        element.innerHTML = '';\n",
              "        dataTable['output_type'] = 'display_data';\n",
              "        await google.colab.output.renderOutput(dataTable, element);\n",
              "        const docLink = document.createElement('div');\n",
              "        docLink.innerHTML = docLinkHtml;\n",
              "        element.appendChild(docLink);\n",
              "      }\n",
              "    </script>\n",
              "  </div>\n",
              "\n",
              "\n",
              "<div id=\"df-032d6bcb-861a-4090-8d7f-8905246d9dce\">\n",
              "  <button class=\"colab-df-quickchart\" onclick=\"quickchart('df-032d6bcb-861a-4090-8d7f-8905246d9dce')\"\n",
              "            title=\"Suggest charts.\"\n",
              "            style=\"display:none;\">\n",
              "\n",
              "<svg xmlns=\"http://www.w3.org/2000/svg\" height=\"24px\"viewBox=\"0 0 24 24\"\n",
              "     width=\"24px\">\n",
              "    <g>\n",
              "        <path d=\"M19 3H5c-1.1 0-2 .9-2 2v14c0 1.1.9 2 2 2h14c1.1 0 2-.9 2-2V5c0-1.1-.9-2-2-2zM9 17H7v-7h2v7zm4 0h-2V7h2v10zm4 0h-2v-4h2v4z\"/>\n",
              "    </g>\n",
              "</svg>\n",
              "  </button>\n",
              "\n",
              "<style>\n",
              "  .colab-df-quickchart {\n",
              "      --bg-color: #E8F0FE;\n",
              "      --fill-color: #1967D2;\n",
              "      --hover-bg-color: #E2EBFA;\n",
              "      --hover-fill-color: #174EA6;\n",
              "      --disabled-fill-color: #AAA;\n",
              "      --disabled-bg-color: #DDD;\n",
              "  }\n",
              "\n",
              "  [theme=dark] .colab-df-quickchart {\n",
              "      --bg-color: #3B4455;\n",
              "      --fill-color: #D2E3FC;\n",
              "      --hover-bg-color: #434B5C;\n",
              "      --hover-fill-color: #FFFFFF;\n",
              "      --disabled-bg-color: #3B4455;\n",
              "      --disabled-fill-color: #666;\n",
              "  }\n",
              "\n",
              "  .colab-df-quickchart {\n",
              "    background-color: var(--bg-color);\n",
              "    border: none;\n",
              "    border-radius: 50%;\n",
              "    cursor: pointer;\n",
              "    display: none;\n",
              "    fill: var(--fill-color);\n",
              "    height: 32px;\n",
              "    padding: 0;\n",
              "    width: 32px;\n",
              "  }\n",
              "\n",
              "  .colab-df-quickchart:hover {\n",
              "    background-color: var(--hover-bg-color);\n",
              "    box-shadow: 0 1px 2px rgba(60, 64, 67, 0.3), 0 1px 3px 1px rgba(60, 64, 67, 0.15);\n",
              "    fill: var(--button-hover-fill-color);\n",
              "  }\n",
              "\n",
              "  .colab-df-quickchart-complete:disabled,\n",
              "  .colab-df-quickchart-complete:disabled:hover {\n",
              "    background-color: var(--disabled-bg-color);\n",
              "    fill: var(--disabled-fill-color);\n",
              "    box-shadow: none;\n",
              "  }\n",
              "\n",
              "  .colab-df-spinner {\n",
              "    border: 2px solid var(--fill-color);\n",
              "    border-color: transparent;\n",
              "    border-bottom-color: var(--fill-color);\n",
              "    animation:\n",
              "      spin 1s steps(1) infinite;\n",
              "  }\n",
              "\n",
              "  @keyframes spin {\n",
              "    0% {\n",
              "      border-color: transparent;\n",
              "      border-bottom-color: var(--fill-color);\n",
              "      border-left-color: var(--fill-color);\n",
              "    }\n",
              "    20% {\n",
              "      border-color: transparent;\n",
              "      border-left-color: var(--fill-color);\n",
              "      border-top-color: var(--fill-color);\n",
              "    }\n",
              "    30% {\n",
              "      border-color: transparent;\n",
              "      border-left-color: var(--fill-color);\n",
              "      border-top-color: var(--fill-color);\n",
              "      border-right-color: var(--fill-color);\n",
              "    }\n",
              "    40% {\n",
              "      border-color: transparent;\n",
              "      border-right-color: var(--fill-color);\n",
              "      border-top-color: var(--fill-color);\n",
              "    }\n",
              "    60% {\n",
              "      border-color: transparent;\n",
              "      border-right-color: var(--fill-color);\n",
              "    }\n",
              "    80% {\n",
              "      border-color: transparent;\n",
              "      border-right-color: var(--fill-color);\n",
              "      border-bottom-color: var(--fill-color);\n",
              "    }\n",
              "    90% {\n",
              "      border-color: transparent;\n",
              "      border-bottom-color: var(--fill-color);\n",
              "    }\n",
              "  }\n",
              "</style>\n",
              "\n",
              "  <script>\n",
              "    async function quickchart(key) {\n",
              "      const quickchartButtonEl =\n",
              "        document.querySelector('#' + key + ' button');\n",
              "      quickchartButtonEl.disabled = true;  // To prevent multiple clicks.\n",
              "      quickchartButtonEl.classList.add('colab-df-spinner');\n",
              "      try {\n",
              "        const charts = await google.colab.kernel.invokeFunction(\n",
              "            'suggestCharts', [key], {});\n",
              "      } catch (error) {\n",
              "        console.error('Error during call to suggestCharts:', error);\n",
              "      }\n",
              "      quickchartButtonEl.classList.remove('colab-df-spinner');\n",
              "      quickchartButtonEl.classList.add('colab-df-quickchart-complete');\n",
              "    }\n",
              "    (() => {\n",
              "      let quickchartButtonEl =\n",
              "        document.querySelector('#df-032d6bcb-861a-4090-8d7f-8905246d9dce button');\n",
              "      quickchartButtonEl.style.display =\n",
              "        google.colab.kernel.accessAllowed ? 'block' : 'none';\n",
              "    })();\n",
              "  </script>\n",
              "</div>\n",
              "    </div>\n",
              "  </div>\n"
            ]
          },
          "metadata": {},
          "execution_count": 137
        }
      ],
      "source": [
        "df_lessons[['topic', 'teacher']]"
      ]
    },
    {
      "cell_type": "markdown",
      "metadata": {
        "id": "6WFyoPvL0tCt"
      },
      "source": [
        "`.loc` allows you to index data frames by row numbers and column names:"
      ]
    },
    {
      "cell_type": "code",
      "execution_count": null,
      "metadata": {
        "id": "Ct-2KzWS04Pj",
        "colab": {
          "base_uri": "https://localhost:8080/",
          "height": 35
        },
        "outputId": "a1c131a2-033d-4747-c269-52f4c525a2f7"
      },
      "outputs": [
        {
          "output_type": "execute_result",
          "data": {
            "text/plain": [
              "'Jasmine'"
            ],
            "application/vnd.google.colaboratory.intrinsic+json": {
              "type": "string"
            }
          },
          "metadata": {},
          "execution_count": 138
        }
      ],
      "source": [
        "df_lessons.loc[1, 'teacher']"
      ]
    },
    {
      "cell_type": "markdown",
      "metadata": {
        "id": "86bIE7gd08U_"
      },
      "source": [
        "This also works with slicing:"
      ]
    },
    {
      "cell_type": "code",
      "execution_count": null,
      "metadata": {
        "id": "3J9tmqgO0-3S",
        "colab": {
          "base_uri": "https://localhost:8080/"
        },
        "outputId": "abe4a396-e38a-44b5-de1c-5b4db9c2c786"
      },
      "outputs": [
        {
          "output_type": "execute_result",
          "data": {
            "text/plain": [
              "1    Jasmine\n",
              "2    Jasmine\n",
              "Name: teacher, dtype: object"
            ]
          },
          "metadata": {},
          "execution_count": 139
        }
      ],
      "source": [
        "df_lessons.loc[1:, 'teacher']"
      ]
    },
    {
      "cell_type": "code",
      "execution_count": null,
      "metadata": {
        "id": "T-n1TVOO1AYe",
        "colab": {
          "base_uri": "https://localhost:8080/",
          "height": 143
        },
        "outputId": "ccfe7ae5-0c6b-43df-b739-22e37b778eca"
      },
      "outputs": [
        {
          "output_type": "execute_result",
          "data": {
            "text/plain": [
              "                topic  teacher\n",
              "0               Numpy      Sam\n",
              "1  Basics of Python 2  Jasmine\n",
              "2   Setting up Python  Jasmine"
            ],
            "text/html": [
              "\n",
              "  <div id=\"df-ba25c816-69f1-465b-9e2e-49642d3adf0c\" class=\"colab-df-container\">\n",
              "    <div>\n",
              "<style scoped>\n",
              "    .dataframe tbody tr th:only-of-type {\n",
              "        vertical-align: middle;\n",
              "    }\n",
              "\n",
              "    .dataframe tbody tr th {\n",
              "        vertical-align: top;\n",
              "    }\n",
              "\n",
              "    .dataframe thead th {\n",
              "        text-align: right;\n",
              "    }\n",
              "</style>\n",
              "<table border=\"1\" class=\"dataframe\">\n",
              "  <thead>\n",
              "    <tr style=\"text-align: right;\">\n",
              "      <th></th>\n",
              "      <th>topic</th>\n",
              "      <th>teacher</th>\n",
              "    </tr>\n",
              "  </thead>\n",
              "  <tbody>\n",
              "    <tr>\n",
              "      <th>0</th>\n",
              "      <td>Numpy</td>\n",
              "      <td>Sam</td>\n",
              "    </tr>\n",
              "    <tr>\n",
              "      <th>1</th>\n",
              "      <td>Basics of Python 2</td>\n",
              "      <td>Jasmine</td>\n",
              "    </tr>\n",
              "    <tr>\n",
              "      <th>2</th>\n",
              "      <td>Setting up Python</td>\n",
              "      <td>Jasmine</td>\n",
              "    </tr>\n",
              "  </tbody>\n",
              "</table>\n",
              "</div>\n",
              "    <div class=\"colab-df-buttons\">\n",
              "\n",
              "  <div class=\"colab-df-container\">\n",
              "    <button class=\"colab-df-convert\" onclick=\"convertToInteractive('df-ba25c816-69f1-465b-9e2e-49642d3adf0c')\"\n",
              "            title=\"Convert this dataframe to an interactive table.\"\n",
              "            style=\"display:none;\">\n",
              "\n",
              "  <svg xmlns=\"http://www.w3.org/2000/svg\" height=\"24px\" viewBox=\"0 -960 960 960\">\n",
              "    <path d=\"M120-120v-720h720v720H120Zm60-500h600v-160H180v160Zm220 220h160v-160H400v160Zm0 220h160v-160H400v160ZM180-400h160v-160H180v160Zm440 0h160v-160H620v160ZM180-180h160v-160H180v160Zm440 0h160v-160H620v160Z\"/>\n",
              "  </svg>\n",
              "    </button>\n",
              "\n",
              "  <style>\n",
              "    .colab-df-container {\n",
              "      display:flex;\n",
              "      gap: 12px;\n",
              "    }\n",
              "\n",
              "    .colab-df-convert {\n",
              "      background-color: #E8F0FE;\n",
              "      border: none;\n",
              "      border-radius: 50%;\n",
              "      cursor: pointer;\n",
              "      display: none;\n",
              "      fill: #1967D2;\n",
              "      height: 32px;\n",
              "      padding: 0 0 0 0;\n",
              "      width: 32px;\n",
              "    }\n",
              "\n",
              "    .colab-df-convert:hover {\n",
              "      background-color: #E2EBFA;\n",
              "      box-shadow: 0px 1px 2px rgba(60, 64, 67, 0.3), 0px 1px 3px 1px rgba(60, 64, 67, 0.15);\n",
              "      fill: #174EA6;\n",
              "    }\n",
              "\n",
              "    .colab-df-buttons div {\n",
              "      margin-bottom: 4px;\n",
              "    }\n",
              "\n",
              "    [theme=dark] .colab-df-convert {\n",
              "      background-color: #3B4455;\n",
              "      fill: #D2E3FC;\n",
              "    }\n",
              "\n",
              "    [theme=dark] .colab-df-convert:hover {\n",
              "      background-color: #434B5C;\n",
              "      box-shadow: 0px 1px 3px 1px rgba(0, 0, 0, 0.15);\n",
              "      filter: drop-shadow(0px 1px 2px rgba(0, 0, 0, 0.3));\n",
              "      fill: #FFFFFF;\n",
              "    }\n",
              "  </style>\n",
              "\n",
              "    <script>\n",
              "      const buttonEl =\n",
              "        document.querySelector('#df-ba25c816-69f1-465b-9e2e-49642d3adf0c button.colab-df-convert');\n",
              "      buttonEl.style.display =\n",
              "        google.colab.kernel.accessAllowed ? 'block' : 'none';\n",
              "\n",
              "      async function convertToInteractive(key) {\n",
              "        const element = document.querySelector('#df-ba25c816-69f1-465b-9e2e-49642d3adf0c');\n",
              "        const dataTable =\n",
              "          await google.colab.kernel.invokeFunction('convertToInteractive',\n",
              "                                                    [key], {});\n",
              "        if (!dataTable) return;\n",
              "\n",
              "        const docLinkHtml = 'Like what you see? Visit the ' +\n",
              "          '<a target=\"_blank\" href=https://colab.research.google.com/notebooks/data_table.ipynb>data table notebook</a>'\n",
              "          + ' to learn more about interactive tables.';\n",
              "        element.innerHTML = '';\n",
              "        dataTable['output_type'] = 'display_data';\n",
              "        await google.colab.output.renderOutput(dataTable, element);\n",
              "        const docLink = document.createElement('div');\n",
              "        docLink.innerHTML = docLinkHtml;\n",
              "        element.appendChild(docLink);\n",
              "      }\n",
              "    </script>\n",
              "  </div>\n",
              "\n",
              "\n",
              "<div id=\"df-bacd49be-607d-4501-a26f-217725bd2714\">\n",
              "  <button class=\"colab-df-quickchart\" onclick=\"quickchart('df-bacd49be-607d-4501-a26f-217725bd2714')\"\n",
              "            title=\"Suggest charts.\"\n",
              "            style=\"display:none;\">\n",
              "\n",
              "<svg xmlns=\"http://www.w3.org/2000/svg\" height=\"24px\"viewBox=\"0 0 24 24\"\n",
              "     width=\"24px\">\n",
              "    <g>\n",
              "        <path d=\"M19 3H5c-1.1 0-2 .9-2 2v14c0 1.1.9 2 2 2h14c1.1 0 2-.9 2-2V5c0-1.1-.9-2-2-2zM9 17H7v-7h2v7zm4 0h-2V7h2v10zm4 0h-2v-4h2v4z\"/>\n",
              "    </g>\n",
              "</svg>\n",
              "  </button>\n",
              "\n",
              "<style>\n",
              "  .colab-df-quickchart {\n",
              "      --bg-color: #E8F0FE;\n",
              "      --fill-color: #1967D2;\n",
              "      --hover-bg-color: #E2EBFA;\n",
              "      --hover-fill-color: #174EA6;\n",
              "      --disabled-fill-color: #AAA;\n",
              "      --disabled-bg-color: #DDD;\n",
              "  }\n",
              "\n",
              "  [theme=dark] .colab-df-quickchart {\n",
              "      --bg-color: #3B4455;\n",
              "      --fill-color: #D2E3FC;\n",
              "      --hover-bg-color: #434B5C;\n",
              "      --hover-fill-color: #FFFFFF;\n",
              "      --disabled-bg-color: #3B4455;\n",
              "      --disabled-fill-color: #666;\n",
              "  }\n",
              "\n",
              "  .colab-df-quickchart {\n",
              "    background-color: var(--bg-color);\n",
              "    border: none;\n",
              "    border-radius: 50%;\n",
              "    cursor: pointer;\n",
              "    display: none;\n",
              "    fill: var(--fill-color);\n",
              "    height: 32px;\n",
              "    padding: 0;\n",
              "    width: 32px;\n",
              "  }\n",
              "\n",
              "  .colab-df-quickchart:hover {\n",
              "    background-color: var(--hover-bg-color);\n",
              "    box-shadow: 0 1px 2px rgba(60, 64, 67, 0.3), 0 1px 3px 1px rgba(60, 64, 67, 0.15);\n",
              "    fill: var(--button-hover-fill-color);\n",
              "  }\n",
              "\n",
              "  .colab-df-quickchart-complete:disabled,\n",
              "  .colab-df-quickchart-complete:disabled:hover {\n",
              "    background-color: var(--disabled-bg-color);\n",
              "    fill: var(--disabled-fill-color);\n",
              "    box-shadow: none;\n",
              "  }\n",
              "\n",
              "  .colab-df-spinner {\n",
              "    border: 2px solid var(--fill-color);\n",
              "    border-color: transparent;\n",
              "    border-bottom-color: var(--fill-color);\n",
              "    animation:\n",
              "      spin 1s steps(1) infinite;\n",
              "  }\n",
              "\n",
              "  @keyframes spin {\n",
              "    0% {\n",
              "      border-color: transparent;\n",
              "      border-bottom-color: var(--fill-color);\n",
              "      border-left-color: var(--fill-color);\n",
              "    }\n",
              "    20% {\n",
              "      border-color: transparent;\n",
              "      border-left-color: var(--fill-color);\n",
              "      border-top-color: var(--fill-color);\n",
              "    }\n",
              "    30% {\n",
              "      border-color: transparent;\n",
              "      border-left-color: var(--fill-color);\n",
              "      border-top-color: var(--fill-color);\n",
              "      border-right-color: var(--fill-color);\n",
              "    }\n",
              "    40% {\n",
              "      border-color: transparent;\n",
              "      border-right-color: var(--fill-color);\n",
              "      border-top-color: var(--fill-color);\n",
              "    }\n",
              "    60% {\n",
              "      border-color: transparent;\n",
              "      border-right-color: var(--fill-color);\n",
              "    }\n",
              "    80% {\n",
              "      border-color: transparent;\n",
              "      border-right-color: var(--fill-color);\n",
              "      border-bottom-color: var(--fill-color);\n",
              "    }\n",
              "    90% {\n",
              "      border-color: transparent;\n",
              "      border-bottom-color: var(--fill-color);\n",
              "    }\n",
              "  }\n",
              "</style>\n",
              "\n",
              "  <script>\n",
              "    async function quickchart(key) {\n",
              "      const quickchartButtonEl =\n",
              "        document.querySelector('#' + key + ' button');\n",
              "      quickchartButtonEl.disabled = true;  // To prevent multiple clicks.\n",
              "      quickchartButtonEl.classList.add('colab-df-spinner');\n",
              "      try {\n",
              "        const charts = await google.colab.kernel.invokeFunction(\n",
              "            'suggestCharts', [key], {});\n",
              "      } catch (error) {\n",
              "        console.error('Error during call to suggestCharts:', error);\n",
              "      }\n",
              "      quickchartButtonEl.classList.remove('colab-df-spinner');\n",
              "      quickchartButtonEl.classList.add('colab-df-quickchart-complete');\n",
              "    }\n",
              "    (() => {\n",
              "      let quickchartButtonEl =\n",
              "        document.querySelector('#df-bacd49be-607d-4501-a26f-217725bd2714 button');\n",
              "      quickchartButtonEl.style.display =\n",
              "        google.colab.kernel.accessAllowed ? 'block' : 'none';\n",
              "    })();\n",
              "  </script>\n",
              "</div>\n",
              "    </div>\n",
              "  </div>\n"
            ]
          },
          "metadata": {},
          "execution_count": 140
        }
      ],
      "source": [
        "df_lessons.loc[:, ['topic', 'teacher']]"
      ]
    },
    {
      "cell_type": "markdown",
      "metadata": {
        "id": "K5nvwtqU1ETg"
      },
      "source": [
        "`iloc` works in the same way, but allows you to access columns according to their numerical index rather than their name:"
      ]
    },
    {
      "cell_type": "code",
      "execution_count": null,
      "metadata": {
        "id": "8bvIWEOu1J1y",
        "colab": {
          "base_uri": "https://localhost:8080/",
          "height": 35
        },
        "outputId": "9631c068-3d06-4ecb-db9d-429c5f93c230"
      },
      "outputs": [
        {
          "output_type": "execute_result",
          "data": {
            "text/plain": [
              "'Jasmine'"
            ],
            "application/vnd.google.colaboratory.intrinsic+json": {
              "type": "string"
            }
          },
          "metadata": {},
          "execution_count": 141
        }
      ],
      "source": [
        "df_lessons.iloc[1, 1]"
      ]
    },
    {
      "cell_type": "markdown",
      "metadata": {
        "id": "KZ27Rdjlvvo6"
      },
      "source": [
        "Finally you can also do boolean indexing with rectangular brackets."
      ]
    },
    {
      "cell_type": "code",
      "execution_count": null,
      "metadata": {
        "id": "2aMxUODwvu0Y",
        "colab": {
          "base_uri": "https://localhost:8080/",
          "height": 112
        },
        "outputId": "6c0042c2-4dac-402f-d690-a2a6aa6aef16"
      },
      "outputs": [
        {
          "output_type": "execute_result",
          "data": {
            "text/plain": [
              "                topic  teacher  week\n",
              "1  Basics of Python 2  Jasmine     3\n",
              "2   Setting up Python  Jasmine     1"
            ],
            "text/html": [
              "\n",
              "  <div id=\"df-bf36cd07-a13a-4ae6-ae55-73f451950b66\" class=\"colab-df-container\">\n",
              "    <div>\n",
              "<style scoped>\n",
              "    .dataframe tbody tr th:only-of-type {\n",
              "        vertical-align: middle;\n",
              "    }\n",
              "\n",
              "    .dataframe tbody tr th {\n",
              "        vertical-align: top;\n",
              "    }\n",
              "\n",
              "    .dataframe thead th {\n",
              "        text-align: right;\n",
              "    }\n",
              "</style>\n",
              "<table border=\"1\" class=\"dataframe\">\n",
              "  <thead>\n",
              "    <tr style=\"text-align: right;\">\n",
              "      <th></th>\n",
              "      <th>topic</th>\n",
              "      <th>teacher</th>\n",
              "      <th>week</th>\n",
              "    </tr>\n",
              "  </thead>\n",
              "  <tbody>\n",
              "    <tr>\n",
              "      <th>1</th>\n",
              "      <td>Basics of Python 2</td>\n",
              "      <td>Jasmine</td>\n",
              "      <td>3</td>\n",
              "    </tr>\n",
              "    <tr>\n",
              "      <th>2</th>\n",
              "      <td>Setting up Python</td>\n",
              "      <td>Jasmine</td>\n",
              "      <td>1</td>\n",
              "    </tr>\n",
              "  </tbody>\n",
              "</table>\n",
              "</div>\n",
              "    <div class=\"colab-df-buttons\">\n",
              "\n",
              "  <div class=\"colab-df-container\">\n",
              "    <button class=\"colab-df-convert\" onclick=\"convertToInteractive('df-bf36cd07-a13a-4ae6-ae55-73f451950b66')\"\n",
              "            title=\"Convert this dataframe to an interactive table.\"\n",
              "            style=\"display:none;\">\n",
              "\n",
              "  <svg xmlns=\"http://www.w3.org/2000/svg\" height=\"24px\" viewBox=\"0 -960 960 960\">\n",
              "    <path d=\"M120-120v-720h720v720H120Zm60-500h600v-160H180v160Zm220 220h160v-160H400v160Zm0 220h160v-160H400v160ZM180-400h160v-160H180v160Zm440 0h160v-160H620v160ZM180-180h160v-160H180v160Zm440 0h160v-160H620v160Z\"/>\n",
              "  </svg>\n",
              "    </button>\n",
              "\n",
              "  <style>\n",
              "    .colab-df-container {\n",
              "      display:flex;\n",
              "      gap: 12px;\n",
              "    }\n",
              "\n",
              "    .colab-df-convert {\n",
              "      background-color: #E8F0FE;\n",
              "      border: none;\n",
              "      border-radius: 50%;\n",
              "      cursor: pointer;\n",
              "      display: none;\n",
              "      fill: #1967D2;\n",
              "      height: 32px;\n",
              "      padding: 0 0 0 0;\n",
              "      width: 32px;\n",
              "    }\n",
              "\n",
              "    .colab-df-convert:hover {\n",
              "      background-color: #E2EBFA;\n",
              "      box-shadow: 0px 1px 2px rgba(60, 64, 67, 0.3), 0px 1px 3px 1px rgba(60, 64, 67, 0.15);\n",
              "      fill: #174EA6;\n",
              "    }\n",
              "\n",
              "    .colab-df-buttons div {\n",
              "      margin-bottom: 4px;\n",
              "    }\n",
              "\n",
              "    [theme=dark] .colab-df-convert {\n",
              "      background-color: #3B4455;\n",
              "      fill: #D2E3FC;\n",
              "    }\n",
              "\n",
              "    [theme=dark] .colab-df-convert:hover {\n",
              "      background-color: #434B5C;\n",
              "      box-shadow: 0px 1px 3px 1px rgba(0, 0, 0, 0.15);\n",
              "      filter: drop-shadow(0px 1px 2px rgba(0, 0, 0, 0.3));\n",
              "      fill: #FFFFFF;\n",
              "    }\n",
              "  </style>\n",
              "\n",
              "    <script>\n",
              "      const buttonEl =\n",
              "        document.querySelector('#df-bf36cd07-a13a-4ae6-ae55-73f451950b66 button.colab-df-convert');\n",
              "      buttonEl.style.display =\n",
              "        google.colab.kernel.accessAllowed ? 'block' : 'none';\n",
              "\n",
              "      async function convertToInteractive(key) {\n",
              "        const element = document.querySelector('#df-bf36cd07-a13a-4ae6-ae55-73f451950b66');\n",
              "        const dataTable =\n",
              "          await google.colab.kernel.invokeFunction('convertToInteractive',\n",
              "                                                    [key], {});\n",
              "        if (!dataTable) return;\n",
              "\n",
              "        const docLinkHtml = 'Like what you see? Visit the ' +\n",
              "          '<a target=\"_blank\" href=https://colab.research.google.com/notebooks/data_table.ipynb>data table notebook</a>'\n",
              "          + ' to learn more about interactive tables.';\n",
              "        element.innerHTML = '';\n",
              "        dataTable['output_type'] = 'display_data';\n",
              "        await google.colab.output.renderOutput(dataTable, element);\n",
              "        const docLink = document.createElement('div');\n",
              "        docLink.innerHTML = docLinkHtml;\n",
              "        element.appendChild(docLink);\n",
              "      }\n",
              "    </script>\n",
              "  </div>\n",
              "\n",
              "\n",
              "<div id=\"df-c1ba8a77-9a3c-4ca2-9d11-ad47769ad35d\">\n",
              "  <button class=\"colab-df-quickchart\" onclick=\"quickchart('df-c1ba8a77-9a3c-4ca2-9d11-ad47769ad35d')\"\n",
              "            title=\"Suggest charts.\"\n",
              "            style=\"display:none;\">\n",
              "\n",
              "<svg xmlns=\"http://www.w3.org/2000/svg\" height=\"24px\"viewBox=\"0 0 24 24\"\n",
              "     width=\"24px\">\n",
              "    <g>\n",
              "        <path d=\"M19 3H5c-1.1 0-2 .9-2 2v14c0 1.1.9 2 2 2h14c1.1 0 2-.9 2-2V5c0-1.1-.9-2-2-2zM9 17H7v-7h2v7zm4 0h-2V7h2v10zm4 0h-2v-4h2v4z\"/>\n",
              "    </g>\n",
              "</svg>\n",
              "  </button>\n",
              "\n",
              "<style>\n",
              "  .colab-df-quickchart {\n",
              "      --bg-color: #E8F0FE;\n",
              "      --fill-color: #1967D2;\n",
              "      --hover-bg-color: #E2EBFA;\n",
              "      --hover-fill-color: #174EA6;\n",
              "      --disabled-fill-color: #AAA;\n",
              "      --disabled-bg-color: #DDD;\n",
              "  }\n",
              "\n",
              "  [theme=dark] .colab-df-quickchart {\n",
              "      --bg-color: #3B4455;\n",
              "      --fill-color: #D2E3FC;\n",
              "      --hover-bg-color: #434B5C;\n",
              "      --hover-fill-color: #FFFFFF;\n",
              "      --disabled-bg-color: #3B4455;\n",
              "      --disabled-fill-color: #666;\n",
              "  }\n",
              "\n",
              "  .colab-df-quickchart {\n",
              "    background-color: var(--bg-color);\n",
              "    border: none;\n",
              "    border-radius: 50%;\n",
              "    cursor: pointer;\n",
              "    display: none;\n",
              "    fill: var(--fill-color);\n",
              "    height: 32px;\n",
              "    padding: 0;\n",
              "    width: 32px;\n",
              "  }\n",
              "\n",
              "  .colab-df-quickchart:hover {\n",
              "    background-color: var(--hover-bg-color);\n",
              "    box-shadow: 0 1px 2px rgba(60, 64, 67, 0.3), 0 1px 3px 1px rgba(60, 64, 67, 0.15);\n",
              "    fill: var(--button-hover-fill-color);\n",
              "  }\n",
              "\n",
              "  .colab-df-quickchart-complete:disabled,\n",
              "  .colab-df-quickchart-complete:disabled:hover {\n",
              "    background-color: var(--disabled-bg-color);\n",
              "    fill: var(--disabled-fill-color);\n",
              "    box-shadow: none;\n",
              "  }\n",
              "\n",
              "  .colab-df-spinner {\n",
              "    border: 2px solid var(--fill-color);\n",
              "    border-color: transparent;\n",
              "    border-bottom-color: var(--fill-color);\n",
              "    animation:\n",
              "      spin 1s steps(1) infinite;\n",
              "  }\n",
              "\n",
              "  @keyframes spin {\n",
              "    0% {\n",
              "      border-color: transparent;\n",
              "      border-bottom-color: var(--fill-color);\n",
              "      border-left-color: var(--fill-color);\n",
              "    }\n",
              "    20% {\n",
              "      border-color: transparent;\n",
              "      border-left-color: var(--fill-color);\n",
              "      border-top-color: var(--fill-color);\n",
              "    }\n",
              "    30% {\n",
              "      border-color: transparent;\n",
              "      border-left-color: var(--fill-color);\n",
              "      border-top-color: var(--fill-color);\n",
              "      border-right-color: var(--fill-color);\n",
              "    }\n",
              "    40% {\n",
              "      border-color: transparent;\n",
              "      border-right-color: var(--fill-color);\n",
              "      border-top-color: var(--fill-color);\n",
              "    }\n",
              "    60% {\n",
              "      border-color: transparent;\n",
              "      border-right-color: var(--fill-color);\n",
              "    }\n",
              "    80% {\n",
              "      border-color: transparent;\n",
              "      border-right-color: var(--fill-color);\n",
              "      border-bottom-color: var(--fill-color);\n",
              "    }\n",
              "    90% {\n",
              "      border-color: transparent;\n",
              "      border-bottom-color: var(--fill-color);\n",
              "    }\n",
              "  }\n",
              "</style>\n",
              "\n",
              "  <script>\n",
              "    async function quickchart(key) {\n",
              "      const quickchartButtonEl =\n",
              "        document.querySelector('#' + key + ' button');\n",
              "      quickchartButtonEl.disabled = true;  // To prevent multiple clicks.\n",
              "      quickchartButtonEl.classList.add('colab-df-spinner');\n",
              "      try {\n",
              "        const charts = await google.colab.kernel.invokeFunction(\n",
              "            'suggestCharts', [key], {});\n",
              "      } catch (error) {\n",
              "        console.error('Error during call to suggestCharts:', error);\n",
              "      }\n",
              "      quickchartButtonEl.classList.remove('colab-df-spinner');\n",
              "      quickchartButtonEl.classList.add('colab-df-quickchart-complete');\n",
              "    }\n",
              "    (() => {\n",
              "      let quickchartButtonEl =\n",
              "        document.querySelector('#df-c1ba8a77-9a3c-4ca2-9d11-ad47769ad35d button');\n",
              "      quickchartButtonEl.style.display =\n",
              "        google.colab.kernel.accessAllowed ? 'block' : 'none';\n",
              "    })();\n",
              "  </script>\n",
              "</div>\n",
              "    </div>\n",
              "  </div>\n"
            ]
          },
          "metadata": {},
          "execution_count": 142
        }
      ],
      "source": [
        "selector = df_lessons['teacher'] == 'Jasmine'\n",
        "df_lessons[selector]"
      ]
    },
    {
      "cell_type": "markdown",
      "metadata": {
        "id": "c_nsPaGeyKua"
      },
      "source": [
        "(Note that the single `=` assigns the command to the right of it to the variable on its left. The double `==` on the other hand compares the values in `df_lessons['teacher']` and determines whether they are equal to `'Jasmine'`.)"
      ]
    },
    {
      "cell_type": "code",
      "execution_count": null,
      "metadata": {
        "id": "9Rz05may2Mig",
        "colab": {
          "base_uri": "https://localhost:8080/",
          "height": 112
        },
        "outputId": "6eadbfba-1fa3-4c29-f389-23a4e43f8f08"
      },
      "outputs": [
        {
          "output_type": "execute_result",
          "data": {
            "text/plain": [
              "                topic  teacher  week\n",
              "1  Basics of Python 2  Jasmine     3\n",
              "2   Setting up Python  Jasmine     1"
            ],
            "text/html": [
              "\n",
              "  <div id=\"df-65e5a54a-aba2-4ca1-8616-38f1b210eb19\" class=\"colab-df-container\">\n",
              "    <div>\n",
              "<style scoped>\n",
              "    .dataframe tbody tr th:only-of-type {\n",
              "        vertical-align: middle;\n",
              "    }\n",
              "\n",
              "    .dataframe tbody tr th {\n",
              "        vertical-align: top;\n",
              "    }\n",
              "\n",
              "    .dataframe thead th {\n",
              "        text-align: right;\n",
              "    }\n",
              "</style>\n",
              "<table border=\"1\" class=\"dataframe\">\n",
              "  <thead>\n",
              "    <tr style=\"text-align: right;\">\n",
              "      <th></th>\n",
              "      <th>topic</th>\n",
              "      <th>teacher</th>\n",
              "      <th>week</th>\n",
              "    </tr>\n",
              "  </thead>\n",
              "  <tbody>\n",
              "    <tr>\n",
              "      <th>1</th>\n",
              "      <td>Basics of Python 2</td>\n",
              "      <td>Jasmine</td>\n",
              "      <td>3</td>\n",
              "    </tr>\n",
              "    <tr>\n",
              "      <th>2</th>\n",
              "      <td>Setting up Python</td>\n",
              "      <td>Jasmine</td>\n",
              "      <td>1</td>\n",
              "    </tr>\n",
              "  </tbody>\n",
              "</table>\n",
              "</div>\n",
              "    <div class=\"colab-df-buttons\">\n",
              "\n",
              "  <div class=\"colab-df-container\">\n",
              "    <button class=\"colab-df-convert\" onclick=\"convertToInteractive('df-65e5a54a-aba2-4ca1-8616-38f1b210eb19')\"\n",
              "            title=\"Convert this dataframe to an interactive table.\"\n",
              "            style=\"display:none;\">\n",
              "\n",
              "  <svg xmlns=\"http://www.w3.org/2000/svg\" height=\"24px\" viewBox=\"0 -960 960 960\">\n",
              "    <path d=\"M120-120v-720h720v720H120Zm60-500h600v-160H180v160Zm220 220h160v-160H400v160Zm0 220h160v-160H400v160ZM180-400h160v-160H180v160Zm440 0h160v-160H620v160ZM180-180h160v-160H180v160Zm440 0h160v-160H620v160Z\"/>\n",
              "  </svg>\n",
              "    </button>\n",
              "\n",
              "  <style>\n",
              "    .colab-df-container {\n",
              "      display:flex;\n",
              "      gap: 12px;\n",
              "    }\n",
              "\n",
              "    .colab-df-convert {\n",
              "      background-color: #E8F0FE;\n",
              "      border: none;\n",
              "      border-radius: 50%;\n",
              "      cursor: pointer;\n",
              "      display: none;\n",
              "      fill: #1967D2;\n",
              "      height: 32px;\n",
              "      padding: 0 0 0 0;\n",
              "      width: 32px;\n",
              "    }\n",
              "\n",
              "    .colab-df-convert:hover {\n",
              "      background-color: #E2EBFA;\n",
              "      box-shadow: 0px 1px 2px rgba(60, 64, 67, 0.3), 0px 1px 3px 1px rgba(60, 64, 67, 0.15);\n",
              "      fill: #174EA6;\n",
              "    }\n",
              "\n",
              "    .colab-df-buttons div {\n",
              "      margin-bottom: 4px;\n",
              "    }\n",
              "\n",
              "    [theme=dark] .colab-df-convert {\n",
              "      background-color: #3B4455;\n",
              "      fill: #D2E3FC;\n",
              "    }\n",
              "\n",
              "    [theme=dark] .colab-df-convert:hover {\n",
              "      background-color: #434B5C;\n",
              "      box-shadow: 0px 1px 3px 1px rgba(0, 0, 0, 0.15);\n",
              "      filter: drop-shadow(0px 1px 2px rgba(0, 0, 0, 0.3));\n",
              "      fill: #FFFFFF;\n",
              "    }\n",
              "  </style>\n",
              "\n",
              "    <script>\n",
              "      const buttonEl =\n",
              "        document.querySelector('#df-65e5a54a-aba2-4ca1-8616-38f1b210eb19 button.colab-df-convert');\n",
              "      buttonEl.style.display =\n",
              "        google.colab.kernel.accessAllowed ? 'block' : 'none';\n",
              "\n",
              "      async function convertToInteractive(key) {\n",
              "        const element = document.querySelector('#df-65e5a54a-aba2-4ca1-8616-38f1b210eb19');\n",
              "        const dataTable =\n",
              "          await google.colab.kernel.invokeFunction('convertToInteractive',\n",
              "                                                    [key], {});\n",
              "        if (!dataTable) return;\n",
              "\n",
              "        const docLinkHtml = 'Like what you see? Visit the ' +\n",
              "          '<a target=\"_blank\" href=https://colab.research.google.com/notebooks/data_table.ipynb>data table notebook</a>'\n",
              "          + ' to learn more about interactive tables.';\n",
              "        element.innerHTML = '';\n",
              "        dataTable['output_type'] = 'display_data';\n",
              "        await google.colab.output.renderOutput(dataTable, element);\n",
              "        const docLink = document.createElement('div');\n",
              "        docLink.innerHTML = docLinkHtml;\n",
              "        element.appendChild(docLink);\n",
              "      }\n",
              "    </script>\n",
              "  </div>\n",
              "\n",
              "\n",
              "<div id=\"df-1036f81f-e531-4f97-8c2f-a673afeb76bf\">\n",
              "  <button class=\"colab-df-quickchart\" onclick=\"quickchart('df-1036f81f-e531-4f97-8c2f-a673afeb76bf')\"\n",
              "            title=\"Suggest charts.\"\n",
              "            style=\"display:none;\">\n",
              "\n",
              "<svg xmlns=\"http://www.w3.org/2000/svg\" height=\"24px\"viewBox=\"0 0 24 24\"\n",
              "     width=\"24px\">\n",
              "    <g>\n",
              "        <path d=\"M19 3H5c-1.1 0-2 .9-2 2v14c0 1.1.9 2 2 2h14c1.1 0 2-.9 2-2V5c0-1.1-.9-2-2-2zM9 17H7v-7h2v7zm4 0h-2V7h2v10zm4 0h-2v-4h2v4z\"/>\n",
              "    </g>\n",
              "</svg>\n",
              "  </button>\n",
              "\n",
              "<style>\n",
              "  .colab-df-quickchart {\n",
              "      --bg-color: #E8F0FE;\n",
              "      --fill-color: #1967D2;\n",
              "      --hover-bg-color: #E2EBFA;\n",
              "      --hover-fill-color: #174EA6;\n",
              "      --disabled-fill-color: #AAA;\n",
              "      --disabled-bg-color: #DDD;\n",
              "  }\n",
              "\n",
              "  [theme=dark] .colab-df-quickchart {\n",
              "      --bg-color: #3B4455;\n",
              "      --fill-color: #D2E3FC;\n",
              "      --hover-bg-color: #434B5C;\n",
              "      --hover-fill-color: #FFFFFF;\n",
              "      --disabled-bg-color: #3B4455;\n",
              "      --disabled-fill-color: #666;\n",
              "  }\n",
              "\n",
              "  .colab-df-quickchart {\n",
              "    background-color: var(--bg-color);\n",
              "    border: none;\n",
              "    border-radius: 50%;\n",
              "    cursor: pointer;\n",
              "    display: none;\n",
              "    fill: var(--fill-color);\n",
              "    height: 32px;\n",
              "    padding: 0;\n",
              "    width: 32px;\n",
              "  }\n",
              "\n",
              "  .colab-df-quickchart:hover {\n",
              "    background-color: var(--hover-bg-color);\n",
              "    box-shadow: 0 1px 2px rgba(60, 64, 67, 0.3), 0 1px 3px 1px rgba(60, 64, 67, 0.15);\n",
              "    fill: var(--button-hover-fill-color);\n",
              "  }\n",
              "\n",
              "  .colab-df-quickchart-complete:disabled,\n",
              "  .colab-df-quickchart-complete:disabled:hover {\n",
              "    background-color: var(--disabled-bg-color);\n",
              "    fill: var(--disabled-fill-color);\n",
              "    box-shadow: none;\n",
              "  }\n",
              "\n",
              "  .colab-df-spinner {\n",
              "    border: 2px solid var(--fill-color);\n",
              "    border-color: transparent;\n",
              "    border-bottom-color: var(--fill-color);\n",
              "    animation:\n",
              "      spin 1s steps(1) infinite;\n",
              "  }\n",
              "\n",
              "  @keyframes spin {\n",
              "    0% {\n",
              "      border-color: transparent;\n",
              "      border-bottom-color: var(--fill-color);\n",
              "      border-left-color: var(--fill-color);\n",
              "    }\n",
              "    20% {\n",
              "      border-color: transparent;\n",
              "      border-left-color: var(--fill-color);\n",
              "      border-top-color: var(--fill-color);\n",
              "    }\n",
              "    30% {\n",
              "      border-color: transparent;\n",
              "      border-left-color: var(--fill-color);\n",
              "      border-top-color: var(--fill-color);\n",
              "      border-right-color: var(--fill-color);\n",
              "    }\n",
              "    40% {\n",
              "      border-color: transparent;\n",
              "      border-right-color: var(--fill-color);\n",
              "      border-top-color: var(--fill-color);\n",
              "    }\n",
              "    60% {\n",
              "      border-color: transparent;\n",
              "      border-right-color: var(--fill-color);\n",
              "    }\n",
              "    80% {\n",
              "      border-color: transparent;\n",
              "      border-right-color: var(--fill-color);\n",
              "      border-bottom-color: var(--fill-color);\n",
              "    }\n",
              "    90% {\n",
              "      border-color: transparent;\n",
              "      border-bottom-color: var(--fill-color);\n",
              "    }\n",
              "  }\n",
              "</style>\n",
              "\n",
              "  <script>\n",
              "    async function quickchart(key) {\n",
              "      const quickchartButtonEl =\n",
              "        document.querySelector('#' + key + ' button');\n",
              "      quickchartButtonEl.disabled = true;  // To prevent multiple clicks.\n",
              "      quickchartButtonEl.classList.add('colab-df-spinner');\n",
              "      try {\n",
              "        const charts = await google.colab.kernel.invokeFunction(\n",
              "            'suggestCharts', [key], {});\n",
              "      } catch (error) {\n",
              "        console.error('Error during call to suggestCharts:', error);\n",
              "      }\n",
              "      quickchartButtonEl.classList.remove('colab-df-spinner');\n",
              "      quickchartButtonEl.classList.add('colab-df-quickchart-complete');\n",
              "    }\n",
              "    (() => {\n",
              "      let quickchartButtonEl =\n",
              "        document.querySelector('#df-1036f81f-e531-4f97-8c2f-a673afeb76bf button');\n",
              "      quickchartButtonEl.style.display =\n",
              "        google.colab.kernel.accessAllowed ? 'block' : 'none';\n",
              "    })();\n",
              "  </script>\n",
              "</div>\n",
              "    </div>\n",
              "  </div>\n"
            ]
          },
          "metadata": {},
          "execution_count": 143
        }
      ],
      "source": [
        "df_lessons[df_lessons['teacher']=='Jasmine']"
      ]
    },
    {
      "cell_type": "markdown",
      "metadata": {
        "id": "gGOliOQSlq5R"
      },
      "source": [
        "Finally, you can add new columns in the same way you would add a new key, value pair to a dictionary:"
      ]
    },
    {
      "cell_type": "code",
      "execution_count": null,
      "metadata": {
        "id": "AT0edLi2l6rK",
        "colab": {
          "base_uri": "https://localhost:8080/",
          "height": 143
        },
        "outputId": "86729e68-42e6-4f5a-c1cd-b623e0dd9a20"
      },
      "outputs": [
        {
          "output_type": "execute_result",
          "data": {
            "text/plain": [
              "                topic  teacher  week\n",
              "0               Numpy      Sam     5\n",
              "1  Basics of Python 2  Jasmine     3\n",
              "2   Setting up Python  Jasmine     1"
            ],
            "text/html": [
              "\n",
              "  <div id=\"df-1ab73f60-fe7e-4ab9-9ad7-ba21c79fd1bc\" class=\"colab-df-container\">\n",
              "    <div>\n",
              "<style scoped>\n",
              "    .dataframe tbody tr th:only-of-type {\n",
              "        vertical-align: middle;\n",
              "    }\n",
              "\n",
              "    .dataframe tbody tr th {\n",
              "        vertical-align: top;\n",
              "    }\n",
              "\n",
              "    .dataframe thead th {\n",
              "        text-align: right;\n",
              "    }\n",
              "</style>\n",
              "<table border=\"1\" class=\"dataframe\">\n",
              "  <thead>\n",
              "    <tr style=\"text-align: right;\">\n",
              "      <th></th>\n",
              "      <th>topic</th>\n",
              "      <th>teacher</th>\n",
              "      <th>week</th>\n",
              "    </tr>\n",
              "  </thead>\n",
              "  <tbody>\n",
              "    <tr>\n",
              "      <th>0</th>\n",
              "      <td>Numpy</td>\n",
              "      <td>Sam</td>\n",
              "      <td>5</td>\n",
              "    </tr>\n",
              "    <tr>\n",
              "      <th>1</th>\n",
              "      <td>Basics of Python 2</td>\n",
              "      <td>Jasmine</td>\n",
              "      <td>3</td>\n",
              "    </tr>\n",
              "    <tr>\n",
              "      <th>2</th>\n",
              "      <td>Setting up Python</td>\n",
              "      <td>Jasmine</td>\n",
              "      <td>1</td>\n",
              "    </tr>\n",
              "  </tbody>\n",
              "</table>\n",
              "</div>\n",
              "    <div class=\"colab-df-buttons\">\n",
              "\n",
              "  <div class=\"colab-df-container\">\n",
              "    <button class=\"colab-df-convert\" onclick=\"convertToInteractive('df-1ab73f60-fe7e-4ab9-9ad7-ba21c79fd1bc')\"\n",
              "            title=\"Convert this dataframe to an interactive table.\"\n",
              "            style=\"display:none;\">\n",
              "\n",
              "  <svg xmlns=\"http://www.w3.org/2000/svg\" height=\"24px\" viewBox=\"0 -960 960 960\">\n",
              "    <path d=\"M120-120v-720h720v720H120Zm60-500h600v-160H180v160Zm220 220h160v-160H400v160Zm0 220h160v-160H400v160ZM180-400h160v-160H180v160Zm440 0h160v-160H620v160ZM180-180h160v-160H180v160Zm440 0h160v-160H620v160Z\"/>\n",
              "  </svg>\n",
              "    </button>\n",
              "\n",
              "  <style>\n",
              "    .colab-df-container {\n",
              "      display:flex;\n",
              "      gap: 12px;\n",
              "    }\n",
              "\n",
              "    .colab-df-convert {\n",
              "      background-color: #E8F0FE;\n",
              "      border: none;\n",
              "      border-radius: 50%;\n",
              "      cursor: pointer;\n",
              "      display: none;\n",
              "      fill: #1967D2;\n",
              "      height: 32px;\n",
              "      padding: 0 0 0 0;\n",
              "      width: 32px;\n",
              "    }\n",
              "\n",
              "    .colab-df-convert:hover {\n",
              "      background-color: #E2EBFA;\n",
              "      box-shadow: 0px 1px 2px rgba(60, 64, 67, 0.3), 0px 1px 3px 1px rgba(60, 64, 67, 0.15);\n",
              "      fill: #174EA6;\n",
              "    }\n",
              "\n",
              "    .colab-df-buttons div {\n",
              "      margin-bottom: 4px;\n",
              "    }\n",
              "\n",
              "    [theme=dark] .colab-df-convert {\n",
              "      background-color: #3B4455;\n",
              "      fill: #D2E3FC;\n",
              "    }\n",
              "\n",
              "    [theme=dark] .colab-df-convert:hover {\n",
              "      background-color: #434B5C;\n",
              "      box-shadow: 0px 1px 3px 1px rgba(0, 0, 0, 0.15);\n",
              "      filter: drop-shadow(0px 1px 2px rgba(0, 0, 0, 0.3));\n",
              "      fill: #FFFFFF;\n",
              "    }\n",
              "  </style>\n",
              "\n",
              "    <script>\n",
              "      const buttonEl =\n",
              "        document.querySelector('#df-1ab73f60-fe7e-4ab9-9ad7-ba21c79fd1bc button.colab-df-convert');\n",
              "      buttonEl.style.display =\n",
              "        google.colab.kernel.accessAllowed ? 'block' : 'none';\n",
              "\n",
              "      async function convertToInteractive(key) {\n",
              "        const element = document.querySelector('#df-1ab73f60-fe7e-4ab9-9ad7-ba21c79fd1bc');\n",
              "        const dataTable =\n",
              "          await google.colab.kernel.invokeFunction('convertToInteractive',\n",
              "                                                    [key], {});\n",
              "        if (!dataTable) return;\n",
              "\n",
              "        const docLinkHtml = 'Like what you see? Visit the ' +\n",
              "          '<a target=\"_blank\" href=https://colab.research.google.com/notebooks/data_table.ipynb>data table notebook</a>'\n",
              "          + ' to learn more about interactive tables.';\n",
              "        element.innerHTML = '';\n",
              "        dataTable['output_type'] = 'display_data';\n",
              "        await google.colab.output.renderOutput(dataTable, element);\n",
              "        const docLink = document.createElement('div');\n",
              "        docLink.innerHTML = docLinkHtml;\n",
              "        element.appendChild(docLink);\n",
              "      }\n",
              "    </script>\n",
              "  </div>\n",
              "\n",
              "\n",
              "<div id=\"df-6b2e4cf1-b64d-4f19-a016-44b60bea7dd0\">\n",
              "  <button class=\"colab-df-quickchart\" onclick=\"quickchart('df-6b2e4cf1-b64d-4f19-a016-44b60bea7dd0')\"\n",
              "            title=\"Suggest charts.\"\n",
              "            style=\"display:none;\">\n",
              "\n",
              "<svg xmlns=\"http://www.w3.org/2000/svg\" height=\"24px\"viewBox=\"0 0 24 24\"\n",
              "     width=\"24px\">\n",
              "    <g>\n",
              "        <path d=\"M19 3H5c-1.1 0-2 .9-2 2v14c0 1.1.9 2 2 2h14c1.1 0 2-.9 2-2V5c0-1.1-.9-2-2-2zM9 17H7v-7h2v7zm4 0h-2V7h2v10zm4 0h-2v-4h2v4z\"/>\n",
              "    </g>\n",
              "</svg>\n",
              "  </button>\n",
              "\n",
              "<style>\n",
              "  .colab-df-quickchart {\n",
              "      --bg-color: #E8F0FE;\n",
              "      --fill-color: #1967D2;\n",
              "      --hover-bg-color: #E2EBFA;\n",
              "      --hover-fill-color: #174EA6;\n",
              "      --disabled-fill-color: #AAA;\n",
              "      --disabled-bg-color: #DDD;\n",
              "  }\n",
              "\n",
              "  [theme=dark] .colab-df-quickchart {\n",
              "      --bg-color: #3B4455;\n",
              "      --fill-color: #D2E3FC;\n",
              "      --hover-bg-color: #434B5C;\n",
              "      --hover-fill-color: #FFFFFF;\n",
              "      --disabled-bg-color: #3B4455;\n",
              "      --disabled-fill-color: #666;\n",
              "  }\n",
              "\n",
              "  .colab-df-quickchart {\n",
              "    background-color: var(--bg-color);\n",
              "    border: none;\n",
              "    border-radius: 50%;\n",
              "    cursor: pointer;\n",
              "    display: none;\n",
              "    fill: var(--fill-color);\n",
              "    height: 32px;\n",
              "    padding: 0;\n",
              "    width: 32px;\n",
              "  }\n",
              "\n",
              "  .colab-df-quickchart:hover {\n",
              "    background-color: var(--hover-bg-color);\n",
              "    box-shadow: 0 1px 2px rgba(60, 64, 67, 0.3), 0 1px 3px 1px rgba(60, 64, 67, 0.15);\n",
              "    fill: var(--button-hover-fill-color);\n",
              "  }\n",
              "\n",
              "  .colab-df-quickchart-complete:disabled,\n",
              "  .colab-df-quickchart-complete:disabled:hover {\n",
              "    background-color: var(--disabled-bg-color);\n",
              "    fill: var(--disabled-fill-color);\n",
              "    box-shadow: none;\n",
              "  }\n",
              "\n",
              "  .colab-df-spinner {\n",
              "    border: 2px solid var(--fill-color);\n",
              "    border-color: transparent;\n",
              "    border-bottom-color: var(--fill-color);\n",
              "    animation:\n",
              "      spin 1s steps(1) infinite;\n",
              "  }\n",
              "\n",
              "  @keyframes spin {\n",
              "    0% {\n",
              "      border-color: transparent;\n",
              "      border-bottom-color: var(--fill-color);\n",
              "      border-left-color: var(--fill-color);\n",
              "    }\n",
              "    20% {\n",
              "      border-color: transparent;\n",
              "      border-left-color: var(--fill-color);\n",
              "      border-top-color: var(--fill-color);\n",
              "    }\n",
              "    30% {\n",
              "      border-color: transparent;\n",
              "      border-left-color: var(--fill-color);\n",
              "      border-top-color: var(--fill-color);\n",
              "      border-right-color: var(--fill-color);\n",
              "    }\n",
              "    40% {\n",
              "      border-color: transparent;\n",
              "      border-right-color: var(--fill-color);\n",
              "      border-top-color: var(--fill-color);\n",
              "    }\n",
              "    60% {\n",
              "      border-color: transparent;\n",
              "      border-right-color: var(--fill-color);\n",
              "    }\n",
              "    80% {\n",
              "      border-color: transparent;\n",
              "      border-right-color: var(--fill-color);\n",
              "      border-bottom-color: var(--fill-color);\n",
              "    }\n",
              "    90% {\n",
              "      border-color: transparent;\n",
              "      border-bottom-color: var(--fill-color);\n",
              "    }\n",
              "  }\n",
              "</style>\n",
              "\n",
              "  <script>\n",
              "    async function quickchart(key) {\n",
              "      const quickchartButtonEl =\n",
              "        document.querySelector('#' + key + ' button');\n",
              "      quickchartButtonEl.disabled = true;  // To prevent multiple clicks.\n",
              "      quickchartButtonEl.classList.add('colab-df-spinner');\n",
              "      try {\n",
              "        const charts = await google.colab.kernel.invokeFunction(\n",
              "            'suggestCharts', [key], {});\n",
              "      } catch (error) {\n",
              "        console.error('Error during call to suggestCharts:', error);\n",
              "      }\n",
              "      quickchartButtonEl.classList.remove('colab-df-spinner');\n",
              "      quickchartButtonEl.classList.add('colab-df-quickchart-complete');\n",
              "    }\n",
              "    (() => {\n",
              "      let quickchartButtonEl =\n",
              "        document.querySelector('#df-6b2e4cf1-b64d-4f19-a016-44b60bea7dd0 button');\n",
              "      quickchartButtonEl.style.display =\n",
              "        google.colab.kernel.accessAllowed ? 'block' : 'none';\n",
              "    })();\n",
              "  </script>\n",
              "</div>\n",
              "    </div>\n",
              "  </div>\n"
            ]
          },
          "metadata": {},
          "execution_count": 144
        }
      ],
      "source": [
        "df_lessons"
      ]
    },
    {
      "cell_type": "code",
      "execution_count": null,
      "metadata": {
        "id": "sO2Geh7Yl94w"
      },
      "outputs": [],
      "source": [
        "df_lessons['homework'] = [True, False, True]"
      ]
    },
    {
      "cell_type": "code",
      "execution_count": null,
      "metadata": {
        "id": "2rNXvpmDocwW",
        "colab": {
          "base_uri": "https://localhost:8080/",
          "height": 143
        },
        "outputId": "f727a03a-5aa5-49f3-b1db-3d55e40663fc"
      },
      "outputs": [
        {
          "output_type": "execute_result",
          "data": {
            "text/plain": [
              "                topic  teacher  week  homework\n",
              "0               Numpy      Sam     5      True\n",
              "1  Basics of Python 2  Jasmine     3     False\n",
              "2   Setting up Python  Jasmine     1      True"
            ],
            "text/html": [
              "\n",
              "  <div id=\"df-6ef6e4d2-8241-47ea-8287-d6abe65e78cd\" class=\"colab-df-container\">\n",
              "    <div>\n",
              "<style scoped>\n",
              "    .dataframe tbody tr th:only-of-type {\n",
              "        vertical-align: middle;\n",
              "    }\n",
              "\n",
              "    .dataframe tbody tr th {\n",
              "        vertical-align: top;\n",
              "    }\n",
              "\n",
              "    .dataframe thead th {\n",
              "        text-align: right;\n",
              "    }\n",
              "</style>\n",
              "<table border=\"1\" class=\"dataframe\">\n",
              "  <thead>\n",
              "    <tr style=\"text-align: right;\">\n",
              "      <th></th>\n",
              "      <th>topic</th>\n",
              "      <th>teacher</th>\n",
              "      <th>week</th>\n",
              "      <th>homework</th>\n",
              "    </tr>\n",
              "  </thead>\n",
              "  <tbody>\n",
              "    <tr>\n",
              "      <th>0</th>\n",
              "      <td>Numpy</td>\n",
              "      <td>Sam</td>\n",
              "      <td>5</td>\n",
              "      <td>True</td>\n",
              "    </tr>\n",
              "    <tr>\n",
              "      <th>1</th>\n",
              "      <td>Basics of Python 2</td>\n",
              "      <td>Jasmine</td>\n",
              "      <td>3</td>\n",
              "      <td>False</td>\n",
              "    </tr>\n",
              "    <tr>\n",
              "      <th>2</th>\n",
              "      <td>Setting up Python</td>\n",
              "      <td>Jasmine</td>\n",
              "      <td>1</td>\n",
              "      <td>True</td>\n",
              "    </tr>\n",
              "  </tbody>\n",
              "</table>\n",
              "</div>\n",
              "    <div class=\"colab-df-buttons\">\n",
              "\n",
              "  <div class=\"colab-df-container\">\n",
              "    <button class=\"colab-df-convert\" onclick=\"convertToInteractive('df-6ef6e4d2-8241-47ea-8287-d6abe65e78cd')\"\n",
              "            title=\"Convert this dataframe to an interactive table.\"\n",
              "            style=\"display:none;\">\n",
              "\n",
              "  <svg xmlns=\"http://www.w3.org/2000/svg\" height=\"24px\" viewBox=\"0 -960 960 960\">\n",
              "    <path d=\"M120-120v-720h720v720H120Zm60-500h600v-160H180v160Zm220 220h160v-160H400v160Zm0 220h160v-160H400v160ZM180-400h160v-160H180v160Zm440 0h160v-160H620v160ZM180-180h160v-160H180v160Zm440 0h160v-160H620v160Z\"/>\n",
              "  </svg>\n",
              "    </button>\n",
              "\n",
              "  <style>\n",
              "    .colab-df-container {\n",
              "      display:flex;\n",
              "      gap: 12px;\n",
              "    }\n",
              "\n",
              "    .colab-df-convert {\n",
              "      background-color: #E8F0FE;\n",
              "      border: none;\n",
              "      border-radius: 50%;\n",
              "      cursor: pointer;\n",
              "      display: none;\n",
              "      fill: #1967D2;\n",
              "      height: 32px;\n",
              "      padding: 0 0 0 0;\n",
              "      width: 32px;\n",
              "    }\n",
              "\n",
              "    .colab-df-convert:hover {\n",
              "      background-color: #E2EBFA;\n",
              "      box-shadow: 0px 1px 2px rgba(60, 64, 67, 0.3), 0px 1px 3px 1px rgba(60, 64, 67, 0.15);\n",
              "      fill: #174EA6;\n",
              "    }\n",
              "\n",
              "    .colab-df-buttons div {\n",
              "      margin-bottom: 4px;\n",
              "    }\n",
              "\n",
              "    [theme=dark] .colab-df-convert {\n",
              "      background-color: #3B4455;\n",
              "      fill: #D2E3FC;\n",
              "    }\n",
              "\n",
              "    [theme=dark] .colab-df-convert:hover {\n",
              "      background-color: #434B5C;\n",
              "      box-shadow: 0px 1px 3px 1px rgba(0, 0, 0, 0.15);\n",
              "      filter: drop-shadow(0px 1px 2px rgba(0, 0, 0, 0.3));\n",
              "      fill: #FFFFFF;\n",
              "    }\n",
              "  </style>\n",
              "\n",
              "    <script>\n",
              "      const buttonEl =\n",
              "        document.querySelector('#df-6ef6e4d2-8241-47ea-8287-d6abe65e78cd button.colab-df-convert');\n",
              "      buttonEl.style.display =\n",
              "        google.colab.kernel.accessAllowed ? 'block' : 'none';\n",
              "\n",
              "      async function convertToInteractive(key) {\n",
              "        const element = document.querySelector('#df-6ef6e4d2-8241-47ea-8287-d6abe65e78cd');\n",
              "        const dataTable =\n",
              "          await google.colab.kernel.invokeFunction('convertToInteractive',\n",
              "                                                    [key], {});\n",
              "        if (!dataTable) return;\n",
              "\n",
              "        const docLinkHtml = 'Like what you see? Visit the ' +\n",
              "          '<a target=\"_blank\" href=https://colab.research.google.com/notebooks/data_table.ipynb>data table notebook</a>'\n",
              "          + ' to learn more about interactive tables.';\n",
              "        element.innerHTML = '';\n",
              "        dataTable['output_type'] = 'display_data';\n",
              "        await google.colab.output.renderOutput(dataTable, element);\n",
              "        const docLink = document.createElement('div');\n",
              "        docLink.innerHTML = docLinkHtml;\n",
              "        element.appendChild(docLink);\n",
              "      }\n",
              "    </script>\n",
              "  </div>\n",
              "\n",
              "\n",
              "<div id=\"df-d90a9588-d71f-4a7b-8f14-ba302d220e29\">\n",
              "  <button class=\"colab-df-quickchart\" onclick=\"quickchart('df-d90a9588-d71f-4a7b-8f14-ba302d220e29')\"\n",
              "            title=\"Suggest charts.\"\n",
              "            style=\"display:none;\">\n",
              "\n",
              "<svg xmlns=\"http://www.w3.org/2000/svg\" height=\"24px\"viewBox=\"0 0 24 24\"\n",
              "     width=\"24px\">\n",
              "    <g>\n",
              "        <path d=\"M19 3H5c-1.1 0-2 .9-2 2v14c0 1.1.9 2 2 2h14c1.1 0 2-.9 2-2V5c0-1.1-.9-2-2-2zM9 17H7v-7h2v7zm4 0h-2V7h2v10zm4 0h-2v-4h2v4z\"/>\n",
              "    </g>\n",
              "</svg>\n",
              "  </button>\n",
              "\n",
              "<style>\n",
              "  .colab-df-quickchart {\n",
              "      --bg-color: #E8F0FE;\n",
              "      --fill-color: #1967D2;\n",
              "      --hover-bg-color: #E2EBFA;\n",
              "      --hover-fill-color: #174EA6;\n",
              "      --disabled-fill-color: #AAA;\n",
              "      --disabled-bg-color: #DDD;\n",
              "  }\n",
              "\n",
              "  [theme=dark] .colab-df-quickchart {\n",
              "      --bg-color: #3B4455;\n",
              "      --fill-color: #D2E3FC;\n",
              "      --hover-bg-color: #434B5C;\n",
              "      --hover-fill-color: #FFFFFF;\n",
              "      --disabled-bg-color: #3B4455;\n",
              "      --disabled-fill-color: #666;\n",
              "  }\n",
              "\n",
              "  .colab-df-quickchart {\n",
              "    background-color: var(--bg-color);\n",
              "    border: none;\n",
              "    border-radius: 50%;\n",
              "    cursor: pointer;\n",
              "    display: none;\n",
              "    fill: var(--fill-color);\n",
              "    height: 32px;\n",
              "    padding: 0;\n",
              "    width: 32px;\n",
              "  }\n",
              "\n",
              "  .colab-df-quickchart:hover {\n",
              "    background-color: var(--hover-bg-color);\n",
              "    box-shadow: 0 1px 2px rgba(60, 64, 67, 0.3), 0 1px 3px 1px rgba(60, 64, 67, 0.15);\n",
              "    fill: var(--button-hover-fill-color);\n",
              "  }\n",
              "\n",
              "  .colab-df-quickchart-complete:disabled,\n",
              "  .colab-df-quickchart-complete:disabled:hover {\n",
              "    background-color: var(--disabled-bg-color);\n",
              "    fill: var(--disabled-fill-color);\n",
              "    box-shadow: none;\n",
              "  }\n",
              "\n",
              "  .colab-df-spinner {\n",
              "    border: 2px solid var(--fill-color);\n",
              "    border-color: transparent;\n",
              "    border-bottom-color: var(--fill-color);\n",
              "    animation:\n",
              "      spin 1s steps(1) infinite;\n",
              "  }\n",
              "\n",
              "  @keyframes spin {\n",
              "    0% {\n",
              "      border-color: transparent;\n",
              "      border-bottom-color: var(--fill-color);\n",
              "      border-left-color: var(--fill-color);\n",
              "    }\n",
              "    20% {\n",
              "      border-color: transparent;\n",
              "      border-left-color: var(--fill-color);\n",
              "      border-top-color: var(--fill-color);\n",
              "    }\n",
              "    30% {\n",
              "      border-color: transparent;\n",
              "      border-left-color: var(--fill-color);\n",
              "      border-top-color: var(--fill-color);\n",
              "      border-right-color: var(--fill-color);\n",
              "    }\n",
              "    40% {\n",
              "      border-color: transparent;\n",
              "      border-right-color: var(--fill-color);\n",
              "      border-top-color: var(--fill-color);\n",
              "    }\n",
              "    60% {\n",
              "      border-color: transparent;\n",
              "      border-right-color: var(--fill-color);\n",
              "    }\n",
              "    80% {\n",
              "      border-color: transparent;\n",
              "      border-right-color: var(--fill-color);\n",
              "      border-bottom-color: var(--fill-color);\n",
              "    }\n",
              "    90% {\n",
              "      border-color: transparent;\n",
              "      border-bottom-color: var(--fill-color);\n",
              "    }\n",
              "  }\n",
              "</style>\n",
              "\n",
              "  <script>\n",
              "    async function quickchart(key) {\n",
              "      const quickchartButtonEl =\n",
              "        document.querySelector('#' + key + ' button');\n",
              "      quickchartButtonEl.disabled = true;  // To prevent multiple clicks.\n",
              "      quickchartButtonEl.classList.add('colab-df-spinner');\n",
              "      try {\n",
              "        const charts = await google.colab.kernel.invokeFunction(\n",
              "            'suggestCharts', [key], {});\n",
              "      } catch (error) {\n",
              "        console.error('Error during call to suggestCharts:', error);\n",
              "      }\n",
              "      quickchartButtonEl.classList.remove('colab-df-spinner');\n",
              "      quickchartButtonEl.classList.add('colab-df-quickchart-complete');\n",
              "    }\n",
              "    (() => {\n",
              "      let quickchartButtonEl =\n",
              "        document.querySelector('#df-d90a9588-d71f-4a7b-8f14-ba302d220e29 button');\n",
              "      quickchartButtonEl.style.display =\n",
              "        google.colab.kernel.accessAllowed ? 'block' : 'none';\n",
              "    })();\n",
              "  </script>\n",
              "</div>\n",
              "    </div>\n",
              "  </div>\n"
            ]
          },
          "metadata": {},
          "execution_count": 146
        }
      ],
      "source": [
        "df_lessons"
      ]
    },
    {
      "cell_type": "markdown",
      "metadata": {
        "id": "KG1uAx-ke2lY"
      },
      "source": [
        "### Exercises\n",
        "1. Create a data frame that additionally includes this week (week 6) with the appropriate topic (pandas) and teacher (Sam).\n",
        "2. Print out the topic for the second row.\n",
        "3. Subset the data frame to only print out the lessons for week 3 and higher.\n",
        "4. Create a new data frame that also includes week 7's lesson with teacher Abhi. However, you don't know the topic yet. How does `pandas` represent this information? (Hint: Create a dictionary that only contains the keys `week` and `teacher`, but not `topic`. Try adding it to the list we used above and turning it into a dataframe.)\n",
        "5. You could have alternately also represented this information as a two-dimensional array with observations structured along rows and variables structured along columns. What would the difference be and why might this be a bad idea in this case? Discuss with the other students at your table."
      ]
    },
    {
      "cell_type": "code",
      "execution_count": null,
      "metadata": {
        "id": "piAgyrfLQWhk",
        "colab": {
          "base_uri": "https://localhost:8080/",
          "height": 35
        },
        "outputId": "8b5eb860-9dcd-4f5e-c9e1-563653dccf54"
      },
      "outputs": [
        {
          "output_type": "execute_result",
          "data": {
            "text/plain": [
              "'pandas'"
            ],
            "application/vnd.google.colaboratory.intrinsic+json": {
              "type": "string"
            }
          },
          "metadata": {},
          "execution_count": 158
        }
      ],
      "source": [
        "data = {\"topic\"  : [ \"Numpy\", 'pandas', \"matplotlib\"],\n",
        "         'teacher': ['shubh', 'pooja', 'pooja'],\n",
        "         'week':[5,4,3]}\n",
        "df_lessons= pd.DataFrame(data)\n",
        "\n",
        "#2.\n",
        "df_lessons.loc[1, 'topic']\n",
        "\n"
      ]
    },
    {
      "cell_type": "markdown",
      "metadata": {
        "id": "FIXrtq8vp4qQ"
      },
      "source": [
        "### Saving and loading a data frame\n",
        "You can save data frames in different formats. A popular format is csv (comma-separated values), which represents each observation in one row and each variable separated by commas."
      ]
    },
    {
      "cell_type": "code",
      "execution_count": null,
      "metadata": {
        "id": "6fgJ7mP4nZqx"
      },
      "outputs": [],
      "source": [
        "df_lessons.to_csv('df_lessons.csv')"
      ]
    },
    {
      "cell_type": "markdown",
      "metadata": {
        "id": "QjadNSy6ylkZ"
      },
      "source": [
        "Let's inspect this file."
      ]
    },
    {
      "cell_type": "markdown",
      "metadata": {
        "id": "28F8hhu3rS2-"
      },
      "source": [
        "We'll be using csv files today. Note that they are not always ideal. For example, they do not save the type of your different values which can lead to issues. In my own work, I usually use the feather format, which is less commonplace, however. (Sam said this, I use hdf5s which can make me quite annoyed at times)"
      ]
    },
    {
      "cell_type": "code",
      "execution_count": null,
      "metadata": {
        "id": "uG3HTXrArnHO"
      },
      "outputs": [],
      "source": [
        "df_lessons_loaded = pd.read_csv('df_lessons.csv')"
      ]
    },
    {
      "cell_type": "code",
      "execution_count": null,
      "metadata": {
        "id": "UvKYsazDrpvE",
        "colab": {
          "base_uri": "https://localhost:8080/",
          "height": 143
        },
        "outputId": "9c47a551-350a-410e-8542-bb9f2168a2d7"
      },
      "outputs": [
        {
          "output_type": "execute_result",
          "data": {
            "text/plain": [
              "   Unnamed: 0       topic teacher  week\n",
              "0           0       Numpy   shubh     5\n",
              "1           1      pandas   pooja     4\n",
              "2           2  matplotlib   pooja     3"
            ],
            "text/html": [
              "\n",
              "  <div id=\"df-fb431d0e-544c-4a54-a047-4795402c1c26\" class=\"colab-df-container\">\n",
              "    <div>\n",
              "<style scoped>\n",
              "    .dataframe tbody tr th:only-of-type {\n",
              "        vertical-align: middle;\n",
              "    }\n",
              "\n",
              "    .dataframe tbody tr th {\n",
              "        vertical-align: top;\n",
              "    }\n",
              "\n",
              "    .dataframe thead th {\n",
              "        text-align: right;\n",
              "    }\n",
              "</style>\n",
              "<table border=\"1\" class=\"dataframe\">\n",
              "  <thead>\n",
              "    <tr style=\"text-align: right;\">\n",
              "      <th></th>\n",
              "      <th>Unnamed: 0</th>\n",
              "      <th>topic</th>\n",
              "      <th>teacher</th>\n",
              "      <th>week</th>\n",
              "    </tr>\n",
              "  </thead>\n",
              "  <tbody>\n",
              "    <tr>\n",
              "      <th>0</th>\n",
              "      <td>0</td>\n",
              "      <td>Numpy</td>\n",
              "      <td>shubh</td>\n",
              "      <td>5</td>\n",
              "    </tr>\n",
              "    <tr>\n",
              "      <th>1</th>\n",
              "      <td>1</td>\n",
              "      <td>pandas</td>\n",
              "      <td>pooja</td>\n",
              "      <td>4</td>\n",
              "    </tr>\n",
              "    <tr>\n",
              "      <th>2</th>\n",
              "      <td>2</td>\n",
              "      <td>matplotlib</td>\n",
              "      <td>pooja</td>\n",
              "      <td>3</td>\n",
              "    </tr>\n",
              "  </tbody>\n",
              "</table>\n",
              "</div>\n",
              "    <div class=\"colab-df-buttons\">\n",
              "\n",
              "  <div class=\"colab-df-container\">\n",
              "    <button class=\"colab-df-convert\" onclick=\"convertToInteractive('df-fb431d0e-544c-4a54-a047-4795402c1c26')\"\n",
              "            title=\"Convert this dataframe to an interactive table.\"\n",
              "            style=\"display:none;\">\n",
              "\n",
              "  <svg xmlns=\"http://www.w3.org/2000/svg\" height=\"24px\" viewBox=\"0 -960 960 960\">\n",
              "    <path d=\"M120-120v-720h720v720H120Zm60-500h600v-160H180v160Zm220 220h160v-160H400v160Zm0 220h160v-160H400v160ZM180-400h160v-160H180v160Zm440 0h160v-160H620v160ZM180-180h160v-160H180v160Zm440 0h160v-160H620v160Z\"/>\n",
              "  </svg>\n",
              "    </button>\n",
              "\n",
              "  <style>\n",
              "    .colab-df-container {\n",
              "      display:flex;\n",
              "      gap: 12px;\n",
              "    }\n",
              "\n",
              "    .colab-df-convert {\n",
              "      background-color: #E8F0FE;\n",
              "      border: none;\n",
              "      border-radius: 50%;\n",
              "      cursor: pointer;\n",
              "      display: none;\n",
              "      fill: #1967D2;\n",
              "      height: 32px;\n",
              "      padding: 0 0 0 0;\n",
              "      width: 32px;\n",
              "    }\n",
              "\n",
              "    .colab-df-convert:hover {\n",
              "      background-color: #E2EBFA;\n",
              "      box-shadow: 0px 1px 2px rgba(60, 64, 67, 0.3), 0px 1px 3px 1px rgba(60, 64, 67, 0.15);\n",
              "      fill: #174EA6;\n",
              "    }\n",
              "\n",
              "    .colab-df-buttons div {\n",
              "      margin-bottom: 4px;\n",
              "    }\n",
              "\n",
              "    [theme=dark] .colab-df-convert {\n",
              "      background-color: #3B4455;\n",
              "      fill: #D2E3FC;\n",
              "    }\n",
              "\n",
              "    [theme=dark] .colab-df-convert:hover {\n",
              "      background-color: #434B5C;\n",
              "      box-shadow: 0px 1px 3px 1px rgba(0, 0, 0, 0.15);\n",
              "      filter: drop-shadow(0px 1px 2px rgba(0, 0, 0, 0.3));\n",
              "      fill: #FFFFFF;\n",
              "    }\n",
              "  </style>\n",
              "\n",
              "    <script>\n",
              "      const buttonEl =\n",
              "        document.querySelector('#df-fb431d0e-544c-4a54-a047-4795402c1c26 button.colab-df-convert');\n",
              "      buttonEl.style.display =\n",
              "        google.colab.kernel.accessAllowed ? 'block' : 'none';\n",
              "\n",
              "      async function convertToInteractive(key) {\n",
              "        const element = document.querySelector('#df-fb431d0e-544c-4a54-a047-4795402c1c26');\n",
              "        const dataTable =\n",
              "          await google.colab.kernel.invokeFunction('convertToInteractive',\n",
              "                                                    [key], {});\n",
              "        if (!dataTable) return;\n",
              "\n",
              "        const docLinkHtml = 'Like what you see? Visit the ' +\n",
              "          '<a target=\"_blank\" href=https://colab.research.google.com/notebooks/data_table.ipynb>data table notebook</a>'\n",
              "          + ' to learn more about interactive tables.';\n",
              "        element.innerHTML = '';\n",
              "        dataTable['output_type'] = 'display_data';\n",
              "        await google.colab.output.renderOutput(dataTable, element);\n",
              "        const docLink = document.createElement('div');\n",
              "        docLink.innerHTML = docLinkHtml;\n",
              "        element.appendChild(docLink);\n",
              "      }\n",
              "    </script>\n",
              "  </div>\n",
              "\n",
              "\n",
              "<div id=\"df-45050423-e15d-43ed-b3b7-00f880418859\">\n",
              "  <button class=\"colab-df-quickchart\" onclick=\"quickchart('df-45050423-e15d-43ed-b3b7-00f880418859')\"\n",
              "            title=\"Suggest charts.\"\n",
              "            style=\"display:none;\">\n",
              "\n",
              "<svg xmlns=\"http://www.w3.org/2000/svg\" height=\"24px\"viewBox=\"0 0 24 24\"\n",
              "     width=\"24px\">\n",
              "    <g>\n",
              "        <path d=\"M19 3H5c-1.1 0-2 .9-2 2v14c0 1.1.9 2 2 2h14c1.1 0 2-.9 2-2V5c0-1.1-.9-2-2-2zM9 17H7v-7h2v7zm4 0h-2V7h2v10zm4 0h-2v-4h2v4z\"/>\n",
              "    </g>\n",
              "</svg>\n",
              "  </button>\n",
              "\n",
              "<style>\n",
              "  .colab-df-quickchart {\n",
              "      --bg-color: #E8F0FE;\n",
              "      --fill-color: #1967D2;\n",
              "      --hover-bg-color: #E2EBFA;\n",
              "      --hover-fill-color: #174EA6;\n",
              "      --disabled-fill-color: #AAA;\n",
              "      --disabled-bg-color: #DDD;\n",
              "  }\n",
              "\n",
              "  [theme=dark] .colab-df-quickchart {\n",
              "      --bg-color: #3B4455;\n",
              "      --fill-color: #D2E3FC;\n",
              "      --hover-bg-color: #434B5C;\n",
              "      --hover-fill-color: #FFFFFF;\n",
              "      --disabled-bg-color: #3B4455;\n",
              "      --disabled-fill-color: #666;\n",
              "  }\n",
              "\n",
              "  .colab-df-quickchart {\n",
              "    background-color: var(--bg-color);\n",
              "    border: none;\n",
              "    border-radius: 50%;\n",
              "    cursor: pointer;\n",
              "    display: none;\n",
              "    fill: var(--fill-color);\n",
              "    height: 32px;\n",
              "    padding: 0;\n",
              "    width: 32px;\n",
              "  }\n",
              "\n",
              "  .colab-df-quickchart:hover {\n",
              "    background-color: var(--hover-bg-color);\n",
              "    box-shadow: 0 1px 2px rgba(60, 64, 67, 0.3), 0 1px 3px 1px rgba(60, 64, 67, 0.15);\n",
              "    fill: var(--button-hover-fill-color);\n",
              "  }\n",
              "\n",
              "  .colab-df-quickchart-complete:disabled,\n",
              "  .colab-df-quickchart-complete:disabled:hover {\n",
              "    background-color: var(--disabled-bg-color);\n",
              "    fill: var(--disabled-fill-color);\n",
              "    box-shadow: none;\n",
              "  }\n",
              "\n",
              "  .colab-df-spinner {\n",
              "    border: 2px solid var(--fill-color);\n",
              "    border-color: transparent;\n",
              "    border-bottom-color: var(--fill-color);\n",
              "    animation:\n",
              "      spin 1s steps(1) infinite;\n",
              "  }\n",
              "\n",
              "  @keyframes spin {\n",
              "    0% {\n",
              "      border-color: transparent;\n",
              "      border-bottom-color: var(--fill-color);\n",
              "      border-left-color: var(--fill-color);\n",
              "    }\n",
              "    20% {\n",
              "      border-color: transparent;\n",
              "      border-left-color: var(--fill-color);\n",
              "      border-top-color: var(--fill-color);\n",
              "    }\n",
              "    30% {\n",
              "      border-color: transparent;\n",
              "      border-left-color: var(--fill-color);\n",
              "      border-top-color: var(--fill-color);\n",
              "      border-right-color: var(--fill-color);\n",
              "    }\n",
              "    40% {\n",
              "      border-color: transparent;\n",
              "      border-right-color: var(--fill-color);\n",
              "      border-top-color: var(--fill-color);\n",
              "    }\n",
              "    60% {\n",
              "      border-color: transparent;\n",
              "      border-right-color: var(--fill-color);\n",
              "    }\n",
              "    80% {\n",
              "      border-color: transparent;\n",
              "      border-right-color: var(--fill-color);\n",
              "      border-bottom-color: var(--fill-color);\n",
              "    }\n",
              "    90% {\n",
              "      border-color: transparent;\n",
              "      border-bottom-color: var(--fill-color);\n",
              "    }\n",
              "  }\n",
              "</style>\n",
              "\n",
              "  <script>\n",
              "    async function quickchart(key) {\n",
              "      const quickchartButtonEl =\n",
              "        document.querySelector('#' + key + ' button');\n",
              "      quickchartButtonEl.disabled = true;  // To prevent multiple clicks.\n",
              "      quickchartButtonEl.classList.add('colab-df-spinner');\n",
              "      try {\n",
              "        const charts = await google.colab.kernel.invokeFunction(\n",
              "            'suggestCharts', [key], {});\n",
              "      } catch (error) {\n",
              "        console.error('Error during call to suggestCharts:', error);\n",
              "      }\n",
              "      quickchartButtonEl.classList.remove('colab-df-spinner');\n",
              "      quickchartButtonEl.classList.add('colab-df-quickchart-complete');\n",
              "    }\n",
              "    (() => {\n",
              "      let quickchartButtonEl =\n",
              "        document.querySelector('#df-45050423-e15d-43ed-b3b7-00f880418859 button');\n",
              "      quickchartButtonEl.style.display =\n",
              "        google.colab.kernel.accessAllowed ? 'block' : 'none';\n",
              "    })();\n",
              "  </script>\n",
              "</div>\n",
              "    </div>\n",
              "  </div>\n"
            ]
          },
          "metadata": {},
          "execution_count": 161
        }
      ],
      "source": [
        "df_lessons_loaded"
      ]
    },
    {
      "cell_type": "markdown",
      "metadata": {
        "id": "TGnd29b_r7LF"
      },
      "source": [
        "### Exercises\n",
        "1. Read in the file `dot_motion.csv` using pandas and assign it to the variable `df_dm`.\n",
        "2. Try exploring the file and describe the data contained in it.\n",
        "3. Subset the data frame to only contain the observations with a reaction time of above 100.\n",
        "4. Create a new variable 'accuracy' that is 1 if the motion and the choice are matching and 0 otherwise.\n",
        "\n",
        "#### Hint for 4:\n",
        "If the motion and choice are matching, their entries should be equal. Create an array `accuracy` that contains as a boolean whether they are or are not matching. You can turn this boolean array (with True and False value) into a float array (which will assign 1 to True and 0 to False), using `accuracy.astype(float)`.\n"
      ]
    },
    {
      "cell_type": "code",
      "execution_count": null,
      "metadata": {
        "id": "vfavHcYFs9Aj",
        "colab": {
          "base_uri": "https://localhost:8080/"
        },
        "outputId": "852e5a97-de70-4984-b9e2-ecbb77ca3cb6"
      },
      "outputs": [
        {
          "output_type": "stream",
          "name": "stdout",
          "text": [
            "0      False\n",
            "1       True\n",
            "2       True\n",
            "3      False\n",
            "4       True\n",
            "       ...  \n",
            "495     True\n",
            "496     True\n",
            "497     True\n",
            "498     True\n",
            "499     True\n",
            "Length: 500, dtype: bool\n"
          ]
        }
      ],
      "source": [
        "df_dm = pd.read_csv('/content/dot_motion.csv')\n",
        "df_dm\n",
        "#3.\n",
        "df_dm['reaction_time'] > 100\n",
        "#4.\n",
        "accuracy = (df_dm['motion'] == df_dm['choice'])\n",
        "print(accuracy)"
      ]
    },
    {
      "cell_type": "markdown",
      "metadata": {
        "id": "TNljgcy_s97W"
      },
      "source": [
        "### Group by\n",
        "With data frames we can compute summary statistics. For these summary satistics, we might want to group observations together if they have the same value in certain columns. We can do this using `groupby`."
      ]
    },
    {
      "cell_type": "code",
      "execution_count": null,
      "metadata": {
        "id": "PTgSG-aUivKa"
      },
      "outputs": [],
      "source": [
        "grouped_by_subject = df_dm.groupby(['subject'])\n",
        "print(grouped_by_subject)"
      ]
    },
    {
      "cell_type": "markdown",
      "metadata": {
        "id": "5fVfCkpji1Qa"
      },
      "source": [
        "By default, we don't really see this object. But we can inspect the groups:"
      ]
    },
    {
      "cell_type": "code",
      "execution_count": null,
      "metadata": {
        "id": "XvLepa12jJS6"
      },
      "outputs": [],
      "source": [
        "grouped_by_subject.groups"
      ]
    },
    {
      "cell_type": "markdown",
      "metadata": {
        "id": "-5HHmM8ajOzI"
      },
      "source": [
        "We can also get each individual group:"
      ]
    },
    {
      "cell_type": "code",
      "execution_count": null,
      "metadata": {
        "id": "5xuy8X5ajOEq"
      },
      "outputs": [],
      "source": [
        "grouped_by_subject.get_group('Subject 1')"
      ]
    },
    {
      "cell_type": "markdown",
      "metadata": {
        "id": "FilqPnH_z1gE"
      },
      "source": [
        "The 'Unnamed: 0' column here is an artifact of how pandas treats row names. Here our row names (which are simply the list from 0-199) were turned into a column that did not have a name. If this happens, I recommend ignoring or removing those columns."
      ]
    },
    {
      "cell_type": "markdown",
      "metadata": {
        "id": "utonKessjbxp"
      },
      "source": [
        "Because we only want to compute the mean for the reaction time and accuracy, we subset these two columns. We can do this as with a normal data frame."
      ]
    },
    {
      "cell_type": "code",
      "execution_count": null,
      "metadata": {
        "id": "_JwNc61OjyeC"
      },
      "outputs": [],
      "source": [
        "grouped_by_subject_subset = grouped_by_subject[['reaction_time', 'accuracy']]\n",
        "grouped_by_subject_subset"
      ]
    },
    {
      "cell_type": "code",
      "execution_count": null,
      "metadata": {
        "id": "9VrkF3pZj5uK"
      },
      "outputs": [],
      "source": [
        "grouped_by_subject_subset.get_group('Subject 1') # We have removed the other columns"
      ]
    },
    {
      "cell_type": "markdown",
      "metadata": {
        "id": "5icj3dgHkQcB"
      },
      "source": [
        "We can now apply the function `mean`, to summarise each group:"
      ]
    },
    {
      "cell_type": "code",
      "execution_count": null,
      "metadata": {
        "id": "-b-FcMKWkTVo"
      },
      "outputs": [],
      "source": [
        "mean_reaction_time = grouped_by_subject_subset.mean()\n",
        "mean_reaction_time"
      ]
    },
    {
      "cell_type": "markdown",
      "metadata": {
        "id": "spP893ES-qKy"
      },
      "source": [
        "By default, the variables according to which the data frame is being grouped are not columns anymore but rather a property called row names. I dislike rownames and try to avoid them in my own work. You can turn them back into a column using the method `reset_index`."
      ]
    },
    {
      "cell_type": "code",
      "execution_count": null,
      "metadata": {
        "id": "bjqxtgg8kkeL"
      },
      "outputs": [],
      "source": [
        "mean_reaction_time_df = mean_reaction_time.reset_index()\n",
        "mean_reaction_time_df"
      ]
    },
    {
      "cell_type": "markdown",
      "metadata": {
        "id": "oLFTi6LBkqIp"
      },
      "source": [
        "Taken together, here is what we did:"
      ]
    },
    {
      "cell_type": "code",
      "execution_count": null,
      "metadata": {
        "id": "5kRlbYX6kuHn"
      },
      "outputs": [],
      "source": [
        "mean_reaction_time_df = df_dm.groupby(['subject'])\\\n",
        "                              [['reaction_time', 'accuracy']]\\\n",
        "                             .mean()\\\n",
        "                             .reset_index()\n",
        "mean_reaction_time_df"
      ]
    },
    {
      "cell_type": "markdown",
      "metadata": {
        "id": "19RlD7M90Lhk"
      },
      "source": [
        "`\\` allows you to break a line without this changing your code. The above would be equivalent to one long line as below:"
      ]
    },
    {
      "cell_type": "code",
      "execution_count": null,
      "metadata": {
        "id": "KDcaBcFd0R3m"
      },
      "outputs": [],
      "source": [
        "mean_reaction_time_df = df_dm.groupby(['subject'])[['reaction_time', 'accuracy']].mean().reset_index()\n",
        "mean_reaction_time_df"
      ]
    },
    {
      "cell_type": "markdown",
      "metadata": {
        "id": "bpJ6SzvC0XRt"
      },
      "source": [
        "Breaking lines often makes your code more easily understandable."
      ]
    },
    {
      "cell_type": "markdown",
      "metadata": {
        "id": "SjwUEPp3_QjY"
      },
      "source": [
        "A couple of aggregate functions are implemented as methods, for example `mean`, `max`, and `min`. You can also supply your own function by using the `apply` method. For example, the following command is equivalent to what we computed above:"
      ]
    },
    {
      "cell_type": "code",
      "execution_count": null,
      "metadata": {
        "id": "_wm9_hex-9mv"
      },
      "outputs": [],
      "source": [
        "mean_reaction_time_df = df_dm.groupby(['subject'])\\\n",
        "                              [['reaction_time', 'accuracy']]\\\n",
        "                             .apply(np.mean)\\\n",
        "                             .reset_index()\n",
        "mean_reaction_time_df"
      ]
    },
    {
      "cell_type": "markdown",
      "metadata": {
        "id": "jGJT_ac4_uPV"
      },
      "source": [
        "Below, we instead compute the 75-th quantile:"
      ]
    },
    {
      "cell_type": "code",
      "execution_count": null,
      "metadata": {
        "id": "bQma3k3x_ylT"
      },
      "outputs": [],
      "source": [
        "def quantile_75(x):\n",
        "  return x.quantile(.75)"
      ]
    },
    {
      "cell_type": "code",
      "execution_count": null,
      "metadata": {
        "id": "slzplvBglzcz"
      },
      "outputs": [],
      "source": [
        "rt_75 = df_dm.groupby(['subject'])\\\n",
        "              [['reaction_time']]\\\n",
        "              .apply(quantile_75)\\\n",
        "              .reset_index()\n",
        "rt_75"
      ]
    },
    {
      "cell_type": "markdown",
      "metadata": {
        "id": "HzYTof4MA264"
      },
      "source": [
        "## Exercises\n",
        "1. Compute the maximal reaction time grouped according to subject and noise level.\n",
        "2. Define a function computing the interquartile range. The interquartile range is defined as the difference between the .75-quantile and the .25-quantile.\n",
        "3. Use this function to compute the interquartile range for each subject and noise level."
      ]
    },
    {
      "cell_type": "code",
      "execution_count": null,
      "metadata": {
        "id": "tE9ycVmPQWhl"
      },
      "outputs": [],
      "source": [
        "#come back to"
      ]
    },
    {
      "cell_type": "markdown",
      "metadata": {
        "id": "alV_iYtgH0vP"
      },
      "source": [
        "## Data visualization"
      ]
    },
    {
      "cell_type": "markdown",
      "metadata": {
        "id": "lr-_Nj15IKeY"
      },
      "source": [
        "## Matplotlib\n",
        "\n",
        "Matplotlib provides some basic plotting functionality including lineplots, scatterplots, and barplots. In order to use it with some of the data we've been messing around with, we'll need to manipulate the data a little bit. We'll go over this in more detail next class!"
      ]
    },
    {
      "cell_type": "code",
      "execution_count": null,
      "metadata": {
        "id": "MNf5YZJgI5gw"
      },
      "outputs": [],
      "source": [
        "import matplotlib.pyplot as plt"
      ]
    },
    {
      "cell_type": "code",
      "execution_count": null,
      "metadata": {
        "id": "Hu3osaU_QWhm",
        "colab": {
          "base_uri": "https://localhost:8080/",
          "height": 576
        },
        "outputId": "594091ae-fa8c-4435-dc0a-ae3f966ef1b3"
      },
      "outputs": [
        {
          "output_type": "execute_result",
          "data": {
            "text/plain": [
              "           Country Name Country Code      1960      1961      1962      1963  \\\n",
              "0           Afghanistan          AFG   8996973   9169410   9351441   9543205   \n",
              "1               Albania          ALB   1608800   1659800   1711319   1762621   \n",
              "2               Algeria          DZA  11057863  11336339  11619828  11912803   \n",
              "3        American Samoa          ASM     20123     20602     21253     22034   \n",
              "4               Andorra          AND     13411     14375     15370     16412   \n",
              "5                Angola          AGO   5454933   5531472   5608539   5679458   \n",
              "6   Antigua and Barbuda          ATG     54131     55001     55841     56702   \n",
              "7             Argentina          ARG  20481779  20817266  21153052  21488912   \n",
              "8               Armenia          ARM   1874121   1941492   2009526   2077578   \n",
              "9                 Aruba          ABW     54211     55438     56225     56695   \n",
              "10            Australia          AUS  10276477  10483000  10742000  10950000   \n",
              "11              Austria          AUT   7047539   7086299   7129864   7175811   \n",
              "12           Azerbaijan          AZE   3895397   4030322   4171426   4315127   \n",
              "\n",
              "        1964      1965      1966      1967  ...      2009      2010      2011  \\\n",
              "0    9744781   9956320  10174836  10399926  ...  28394813  29185507  30117413   \n",
              "1    1814135   1864791   1914573   1965598  ...   2927519   2913021   2905195   \n",
              "2   12221675  12550885  12902627  13275026  ...  35333881  35977455  36661444   \n",
              "3      22854     23672     24462     25248  ...     56683     56079     55759   \n",
              "4      17469     18549     19647     20758  ...     84463     84449     83747   \n",
              "5    5735044   5770570   5781214   5774243  ...  22514281  23356246  24220661   \n",
              "6      57641     58698     59915     61241  ...     86746     88028     89253   \n",
              "7   21824425  22159650  22494035  22828869  ...  40482788  40788453  41261490   \n",
              "8    2145001   2211319   2276034   2339127  ...   2888092   2877319   2876538   \n",
              "9      57032     57360     57715     58055  ...    101455    101669    102046   \n",
              "10  11167000  11388000  11651000  11799000  ...  21691700  22031750  22340024   \n",
              "11   7223801   7270889   7322066   7376998  ...   8343323   8363404   8391643   \n",
              "12   4456687   4592609   4721523   4843868  ...   8947243   9054332   9173082   \n",
              "\n",
              "        2012      2013      2014      2015      2016      2017      2018  \n",
              "0   31161376  32269589  33370794  34413603  35383128  36296400  37172386  \n",
              "1    2900401   2895092   2889104   2880703   2876101   2873457   2866376  \n",
              "2   37383887  38140132  38923687  39728025  40551404  41389198  42228429  \n",
              "3      55667     55713     55791     55812     55741     55620     55465  \n",
              "4      82427     80774     79213     78011     77297     77001     77006  \n",
              "5   25107931  26015780  26941779  27884381  28842484  29816748  30809762  \n",
              "6      90409     91516     92562     93566     94527     95426     96286  \n",
              "7   41733271  42202935  42669500  43131966  43590368  44044811  44494502  \n",
              "8    2884229   2897584   2912403   2925553   2936146   2944809   2951776  \n",
              "9     102560    103159    103774    104341    104872    105366    105845  \n",
              "10  22733465  23128129  23475686  23815995  24190907  24601860  24982688  \n",
              "11   8429991   8479823   8546356   8642699   8736668   8797566   8840521  \n",
              "12   9295784   9416801   9535079   9649341   9757812   9854033   9939800  \n",
              "\n",
              "[13 rows x 61 columns]"
            ],
            "text/html": [
              "\n",
              "  <div id=\"df-404a6ac7-25d8-4ebb-baf9-09c2bce146db\" class=\"colab-df-container\">\n",
              "    <div>\n",
              "<style scoped>\n",
              "    .dataframe tbody tr th:only-of-type {\n",
              "        vertical-align: middle;\n",
              "    }\n",
              "\n",
              "    .dataframe tbody tr th {\n",
              "        vertical-align: top;\n",
              "    }\n",
              "\n",
              "    .dataframe thead th {\n",
              "        text-align: right;\n",
              "    }\n",
              "</style>\n",
              "<table border=\"1\" class=\"dataframe\">\n",
              "  <thead>\n",
              "    <tr style=\"text-align: right;\">\n",
              "      <th></th>\n",
              "      <th>Country Name</th>\n",
              "      <th>Country Code</th>\n",
              "      <th>1960</th>\n",
              "      <th>1961</th>\n",
              "      <th>1962</th>\n",
              "      <th>1963</th>\n",
              "      <th>1964</th>\n",
              "      <th>1965</th>\n",
              "      <th>1966</th>\n",
              "      <th>1967</th>\n",
              "      <th>...</th>\n",
              "      <th>2009</th>\n",
              "      <th>2010</th>\n",
              "      <th>2011</th>\n",
              "      <th>2012</th>\n",
              "      <th>2013</th>\n",
              "      <th>2014</th>\n",
              "      <th>2015</th>\n",
              "      <th>2016</th>\n",
              "      <th>2017</th>\n",
              "      <th>2018</th>\n",
              "    </tr>\n",
              "  </thead>\n",
              "  <tbody>\n",
              "    <tr>\n",
              "      <th>0</th>\n",
              "      <td>Afghanistan</td>\n",
              "      <td>AFG</td>\n",
              "      <td>8996973</td>\n",
              "      <td>9169410</td>\n",
              "      <td>9351441</td>\n",
              "      <td>9543205</td>\n",
              "      <td>9744781</td>\n",
              "      <td>9956320</td>\n",
              "      <td>10174836</td>\n",
              "      <td>10399926</td>\n",
              "      <td>...</td>\n",
              "      <td>28394813</td>\n",
              "      <td>29185507</td>\n",
              "      <td>30117413</td>\n",
              "      <td>31161376</td>\n",
              "      <td>32269589</td>\n",
              "      <td>33370794</td>\n",
              "      <td>34413603</td>\n",
              "      <td>35383128</td>\n",
              "      <td>36296400</td>\n",
              "      <td>37172386</td>\n",
              "    </tr>\n",
              "    <tr>\n",
              "      <th>1</th>\n",
              "      <td>Albania</td>\n",
              "      <td>ALB</td>\n",
              "      <td>1608800</td>\n",
              "      <td>1659800</td>\n",
              "      <td>1711319</td>\n",
              "      <td>1762621</td>\n",
              "      <td>1814135</td>\n",
              "      <td>1864791</td>\n",
              "      <td>1914573</td>\n",
              "      <td>1965598</td>\n",
              "      <td>...</td>\n",
              "      <td>2927519</td>\n",
              "      <td>2913021</td>\n",
              "      <td>2905195</td>\n",
              "      <td>2900401</td>\n",
              "      <td>2895092</td>\n",
              "      <td>2889104</td>\n",
              "      <td>2880703</td>\n",
              "      <td>2876101</td>\n",
              "      <td>2873457</td>\n",
              "      <td>2866376</td>\n",
              "    </tr>\n",
              "    <tr>\n",
              "      <th>2</th>\n",
              "      <td>Algeria</td>\n",
              "      <td>DZA</td>\n",
              "      <td>11057863</td>\n",
              "      <td>11336339</td>\n",
              "      <td>11619828</td>\n",
              "      <td>11912803</td>\n",
              "      <td>12221675</td>\n",
              "      <td>12550885</td>\n",
              "      <td>12902627</td>\n",
              "      <td>13275026</td>\n",
              "      <td>...</td>\n",
              "      <td>35333881</td>\n",
              "      <td>35977455</td>\n",
              "      <td>36661444</td>\n",
              "      <td>37383887</td>\n",
              "      <td>38140132</td>\n",
              "      <td>38923687</td>\n",
              "      <td>39728025</td>\n",
              "      <td>40551404</td>\n",
              "      <td>41389198</td>\n",
              "      <td>42228429</td>\n",
              "    </tr>\n",
              "    <tr>\n",
              "      <th>3</th>\n",
              "      <td>American Samoa</td>\n",
              "      <td>ASM</td>\n",
              "      <td>20123</td>\n",
              "      <td>20602</td>\n",
              "      <td>21253</td>\n",
              "      <td>22034</td>\n",
              "      <td>22854</td>\n",
              "      <td>23672</td>\n",
              "      <td>24462</td>\n",
              "      <td>25248</td>\n",
              "      <td>...</td>\n",
              "      <td>56683</td>\n",
              "      <td>56079</td>\n",
              "      <td>55759</td>\n",
              "      <td>55667</td>\n",
              "      <td>55713</td>\n",
              "      <td>55791</td>\n",
              "      <td>55812</td>\n",
              "      <td>55741</td>\n",
              "      <td>55620</td>\n",
              "      <td>55465</td>\n",
              "    </tr>\n",
              "    <tr>\n",
              "      <th>4</th>\n",
              "      <td>Andorra</td>\n",
              "      <td>AND</td>\n",
              "      <td>13411</td>\n",
              "      <td>14375</td>\n",
              "      <td>15370</td>\n",
              "      <td>16412</td>\n",
              "      <td>17469</td>\n",
              "      <td>18549</td>\n",
              "      <td>19647</td>\n",
              "      <td>20758</td>\n",
              "      <td>...</td>\n",
              "      <td>84463</td>\n",
              "      <td>84449</td>\n",
              "      <td>83747</td>\n",
              "      <td>82427</td>\n",
              "      <td>80774</td>\n",
              "      <td>79213</td>\n",
              "      <td>78011</td>\n",
              "      <td>77297</td>\n",
              "      <td>77001</td>\n",
              "      <td>77006</td>\n",
              "    </tr>\n",
              "    <tr>\n",
              "      <th>5</th>\n",
              "      <td>Angola</td>\n",
              "      <td>AGO</td>\n",
              "      <td>5454933</td>\n",
              "      <td>5531472</td>\n",
              "      <td>5608539</td>\n",
              "      <td>5679458</td>\n",
              "      <td>5735044</td>\n",
              "      <td>5770570</td>\n",
              "      <td>5781214</td>\n",
              "      <td>5774243</td>\n",
              "      <td>...</td>\n",
              "      <td>22514281</td>\n",
              "      <td>23356246</td>\n",
              "      <td>24220661</td>\n",
              "      <td>25107931</td>\n",
              "      <td>26015780</td>\n",
              "      <td>26941779</td>\n",
              "      <td>27884381</td>\n",
              "      <td>28842484</td>\n",
              "      <td>29816748</td>\n",
              "      <td>30809762</td>\n",
              "    </tr>\n",
              "    <tr>\n",
              "      <th>6</th>\n",
              "      <td>Antigua and Barbuda</td>\n",
              "      <td>ATG</td>\n",
              "      <td>54131</td>\n",
              "      <td>55001</td>\n",
              "      <td>55841</td>\n",
              "      <td>56702</td>\n",
              "      <td>57641</td>\n",
              "      <td>58698</td>\n",
              "      <td>59915</td>\n",
              "      <td>61241</td>\n",
              "      <td>...</td>\n",
              "      <td>86746</td>\n",
              "      <td>88028</td>\n",
              "      <td>89253</td>\n",
              "      <td>90409</td>\n",
              "      <td>91516</td>\n",
              "      <td>92562</td>\n",
              "      <td>93566</td>\n",
              "      <td>94527</td>\n",
              "      <td>95426</td>\n",
              "      <td>96286</td>\n",
              "    </tr>\n",
              "    <tr>\n",
              "      <th>7</th>\n",
              "      <td>Argentina</td>\n",
              "      <td>ARG</td>\n",
              "      <td>20481779</td>\n",
              "      <td>20817266</td>\n",
              "      <td>21153052</td>\n",
              "      <td>21488912</td>\n",
              "      <td>21824425</td>\n",
              "      <td>22159650</td>\n",
              "      <td>22494035</td>\n",
              "      <td>22828869</td>\n",
              "      <td>...</td>\n",
              "      <td>40482788</td>\n",
              "      <td>40788453</td>\n",
              "      <td>41261490</td>\n",
              "      <td>41733271</td>\n",
              "      <td>42202935</td>\n",
              "      <td>42669500</td>\n",
              "      <td>43131966</td>\n",
              "      <td>43590368</td>\n",
              "      <td>44044811</td>\n",
              "      <td>44494502</td>\n",
              "    </tr>\n",
              "    <tr>\n",
              "      <th>8</th>\n",
              "      <td>Armenia</td>\n",
              "      <td>ARM</td>\n",
              "      <td>1874121</td>\n",
              "      <td>1941492</td>\n",
              "      <td>2009526</td>\n",
              "      <td>2077578</td>\n",
              "      <td>2145001</td>\n",
              "      <td>2211319</td>\n",
              "      <td>2276034</td>\n",
              "      <td>2339127</td>\n",
              "      <td>...</td>\n",
              "      <td>2888092</td>\n",
              "      <td>2877319</td>\n",
              "      <td>2876538</td>\n",
              "      <td>2884229</td>\n",
              "      <td>2897584</td>\n",
              "      <td>2912403</td>\n",
              "      <td>2925553</td>\n",
              "      <td>2936146</td>\n",
              "      <td>2944809</td>\n",
              "      <td>2951776</td>\n",
              "    </tr>\n",
              "    <tr>\n",
              "      <th>9</th>\n",
              "      <td>Aruba</td>\n",
              "      <td>ABW</td>\n",
              "      <td>54211</td>\n",
              "      <td>55438</td>\n",
              "      <td>56225</td>\n",
              "      <td>56695</td>\n",
              "      <td>57032</td>\n",
              "      <td>57360</td>\n",
              "      <td>57715</td>\n",
              "      <td>58055</td>\n",
              "      <td>...</td>\n",
              "      <td>101455</td>\n",
              "      <td>101669</td>\n",
              "      <td>102046</td>\n",
              "      <td>102560</td>\n",
              "      <td>103159</td>\n",
              "      <td>103774</td>\n",
              "      <td>104341</td>\n",
              "      <td>104872</td>\n",
              "      <td>105366</td>\n",
              "      <td>105845</td>\n",
              "    </tr>\n",
              "    <tr>\n",
              "      <th>10</th>\n",
              "      <td>Australia</td>\n",
              "      <td>AUS</td>\n",
              "      <td>10276477</td>\n",
              "      <td>10483000</td>\n",
              "      <td>10742000</td>\n",
              "      <td>10950000</td>\n",
              "      <td>11167000</td>\n",
              "      <td>11388000</td>\n",
              "      <td>11651000</td>\n",
              "      <td>11799000</td>\n",
              "      <td>...</td>\n",
              "      <td>21691700</td>\n",
              "      <td>22031750</td>\n",
              "      <td>22340024</td>\n",
              "      <td>22733465</td>\n",
              "      <td>23128129</td>\n",
              "      <td>23475686</td>\n",
              "      <td>23815995</td>\n",
              "      <td>24190907</td>\n",
              "      <td>24601860</td>\n",
              "      <td>24982688</td>\n",
              "    </tr>\n",
              "    <tr>\n",
              "      <th>11</th>\n",
              "      <td>Austria</td>\n",
              "      <td>AUT</td>\n",
              "      <td>7047539</td>\n",
              "      <td>7086299</td>\n",
              "      <td>7129864</td>\n",
              "      <td>7175811</td>\n",
              "      <td>7223801</td>\n",
              "      <td>7270889</td>\n",
              "      <td>7322066</td>\n",
              "      <td>7376998</td>\n",
              "      <td>...</td>\n",
              "      <td>8343323</td>\n",
              "      <td>8363404</td>\n",
              "      <td>8391643</td>\n",
              "      <td>8429991</td>\n",
              "      <td>8479823</td>\n",
              "      <td>8546356</td>\n",
              "      <td>8642699</td>\n",
              "      <td>8736668</td>\n",
              "      <td>8797566</td>\n",
              "      <td>8840521</td>\n",
              "    </tr>\n",
              "    <tr>\n",
              "      <th>12</th>\n",
              "      <td>Azerbaijan</td>\n",
              "      <td>AZE</td>\n",
              "      <td>3895397</td>\n",
              "      <td>4030322</td>\n",
              "      <td>4171426</td>\n",
              "      <td>4315127</td>\n",
              "      <td>4456687</td>\n",
              "      <td>4592609</td>\n",
              "      <td>4721523</td>\n",
              "      <td>4843868</td>\n",
              "      <td>...</td>\n",
              "      <td>8947243</td>\n",
              "      <td>9054332</td>\n",
              "      <td>9173082</td>\n",
              "      <td>9295784</td>\n",
              "      <td>9416801</td>\n",
              "      <td>9535079</td>\n",
              "      <td>9649341</td>\n",
              "      <td>9757812</td>\n",
              "      <td>9854033</td>\n",
              "      <td>9939800</td>\n",
              "    </tr>\n",
              "  </tbody>\n",
              "</table>\n",
              "<p>13 rows × 61 columns</p>\n",
              "</div>\n",
              "    <div class=\"colab-df-buttons\">\n",
              "\n",
              "  <div class=\"colab-df-container\">\n",
              "    <button class=\"colab-df-convert\" onclick=\"convertToInteractive('df-404a6ac7-25d8-4ebb-baf9-09c2bce146db')\"\n",
              "            title=\"Convert this dataframe to an interactive table.\"\n",
              "            style=\"display:none;\">\n",
              "\n",
              "  <svg xmlns=\"http://www.w3.org/2000/svg\" height=\"24px\" viewBox=\"0 -960 960 960\">\n",
              "    <path d=\"M120-120v-720h720v720H120Zm60-500h600v-160H180v160Zm220 220h160v-160H400v160Zm0 220h160v-160H400v160ZM180-400h160v-160H180v160Zm440 0h160v-160H620v160ZM180-180h160v-160H180v160Zm440 0h160v-160H620v160Z\"/>\n",
              "  </svg>\n",
              "    </button>\n",
              "\n",
              "  <style>\n",
              "    .colab-df-container {\n",
              "      display:flex;\n",
              "      gap: 12px;\n",
              "    }\n",
              "\n",
              "    .colab-df-convert {\n",
              "      background-color: #E8F0FE;\n",
              "      border: none;\n",
              "      border-radius: 50%;\n",
              "      cursor: pointer;\n",
              "      display: none;\n",
              "      fill: #1967D2;\n",
              "      height: 32px;\n",
              "      padding: 0 0 0 0;\n",
              "      width: 32px;\n",
              "    }\n",
              "\n",
              "    .colab-df-convert:hover {\n",
              "      background-color: #E2EBFA;\n",
              "      box-shadow: 0px 1px 2px rgba(60, 64, 67, 0.3), 0px 1px 3px 1px rgba(60, 64, 67, 0.15);\n",
              "      fill: #174EA6;\n",
              "    }\n",
              "\n",
              "    .colab-df-buttons div {\n",
              "      margin-bottom: 4px;\n",
              "    }\n",
              "\n",
              "    [theme=dark] .colab-df-convert {\n",
              "      background-color: #3B4455;\n",
              "      fill: #D2E3FC;\n",
              "    }\n",
              "\n",
              "    [theme=dark] .colab-df-convert:hover {\n",
              "      background-color: #434B5C;\n",
              "      box-shadow: 0px 1px 3px 1px rgba(0, 0, 0, 0.15);\n",
              "      filter: drop-shadow(0px 1px 2px rgba(0, 0, 0, 0.3));\n",
              "      fill: #FFFFFF;\n",
              "    }\n",
              "  </style>\n",
              "\n",
              "    <script>\n",
              "      const buttonEl =\n",
              "        document.querySelector('#df-404a6ac7-25d8-4ebb-baf9-09c2bce146db button.colab-df-convert');\n",
              "      buttonEl.style.display =\n",
              "        google.colab.kernel.accessAllowed ? 'block' : 'none';\n",
              "\n",
              "      async function convertToInteractive(key) {\n",
              "        const element = document.querySelector('#df-404a6ac7-25d8-4ebb-baf9-09c2bce146db');\n",
              "        const dataTable =\n",
              "          await google.colab.kernel.invokeFunction('convertToInteractive',\n",
              "                                                    [key], {});\n",
              "        if (!dataTable) return;\n",
              "\n",
              "        const docLinkHtml = 'Like what you see? Visit the ' +\n",
              "          '<a target=\"_blank\" href=https://colab.research.google.com/notebooks/data_table.ipynb>data table notebook</a>'\n",
              "          + ' to learn more about interactive tables.';\n",
              "        element.innerHTML = '';\n",
              "        dataTable['output_type'] = 'display_data';\n",
              "        await google.colab.output.renderOutput(dataTable, element);\n",
              "        const docLink = document.createElement('div');\n",
              "        docLink.innerHTML = docLinkHtml;\n",
              "        element.appendChild(docLink);\n",
              "      }\n",
              "    </script>\n",
              "  </div>\n",
              "\n",
              "\n",
              "<div id=\"df-417dec92-2c8e-4bc9-a11a-2fcf6e63a8e7\">\n",
              "  <button class=\"colab-df-quickchart\" onclick=\"quickchart('df-417dec92-2c8e-4bc9-a11a-2fcf6e63a8e7')\"\n",
              "            title=\"Suggest charts.\"\n",
              "            style=\"display:none;\">\n",
              "\n",
              "<svg xmlns=\"http://www.w3.org/2000/svg\" height=\"24px\"viewBox=\"0 0 24 24\"\n",
              "     width=\"24px\">\n",
              "    <g>\n",
              "        <path d=\"M19 3H5c-1.1 0-2 .9-2 2v14c0 1.1.9 2 2 2h14c1.1 0 2-.9 2-2V5c0-1.1-.9-2-2-2zM9 17H7v-7h2v7zm4 0h-2V7h2v10zm4 0h-2v-4h2v4z\"/>\n",
              "    </g>\n",
              "</svg>\n",
              "  </button>\n",
              "\n",
              "<style>\n",
              "  .colab-df-quickchart {\n",
              "      --bg-color: #E8F0FE;\n",
              "      --fill-color: #1967D2;\n",
              "      --hover-bg-color: #E2EBFA;\n",
              "      --hover-fill-color: #174EA6;\n",
              "      --disabled-fill-color: #AAA;\n",
              "      --disabled-bg-color: #DDD;\n",
              "  }\n",
              "\n",
              "  [theme=dark] .colab-df-quickchart {\n",
              "      --bg-color: #3B4455;\n",
              "      --fill-color: #D2E3FC;\n",
              "      --hover-bg-color: #434B5C;\n",
              "      --hover-fill-color: #FFFFFF;\n",
              "      --disabled-bg-color: #3B4455;\n",
              "      --disabled-fill-color: #666;\n",
              "  }\n",
              "\n",
              "  .colab-df-quickchart {\n",
              "    background-color: var(--bg-color);\n",
              "    border: none;\n",
              "    border-radius: 50%;\n",
              "    cursor: pointer;\n",
              "    display: none;\n",
              "    fill: var(--fill-color);\n",
              "    height: 32px;\n",
              "    padding: 0;\n",
              "    width: 32px;\n",
              "  }\n",
              "\n",
              "  .colab-df-quickchart:hover {\n",
              "    background-color: var(--hover-bg-color);\n",
              "    box-shadow: 0 1px 2px rgba(60, 64, 67, 0.3), 0 1px 3px 1px rgba(60, 64, 67, 0.15);\n",
              "    fill: var(--button-hover-fill-color);\n",
              "  }\n",
              "\n",
              "  .colab-df-quickchart-complete:disabled,\n",
              "  .colab-df-quickchart-complete:disabled:hover {\n",
              "    background-color: var(--disabled-bg-color);\n",
              "    fill: var(--disabled-fill-color);\n",
              "    box-shadow: none;\n",
              "  }\n",
              "\n",
              "  .colab-df-spinner {\n",
              "    border: 2px solid var(--fill-color);\n",
              "    border-color: transparent;\n",
              "    border-bottom-color: var(--fill-color);\n",
              "    animation:\n",
              "      spin 1s steps(1) infinite;\n",
              "  }\n",
              "\n",
              "  @keyframes spin {\n",
              "    0% {\n",
              "      border-color: transparent;\n",
              "      border-bottom-color: var(--fill-color);\n",
              "      border-left-color: var(--fill-color);\n",
              "    }\n",
              "    20% {\n",
              "      border-color: transparent;\n",
              "      border-left-color: var(--fill-color);\n",
              "      border-top-color: var(--fill-color);\n",
              "    }\n",
              "    30% {\n",
              "      border-color: transparent;\n",
              "      border-left-color: var(--fill-color);\n",
              "      border-top-color: var(--fill-color);\n",
              "      border-right-color: var(--fill-color);\n",
              "    }\n",
              "    40% {\n",
              "      border-color: transparent;\n",
              "      border-right-color: var(--fill-color);\n",
              "      border-top-color: var(--fill-color);\n",
              "    }\n",
              "    60% {\n",
              "      border-color: transparent;\n",
              "      border-right-color: var(--fill-color);\n",
              "    }\n",
              "    80% {\n",
              "      border-color: transparent;\n",
              "      border-right-color: var(--fill-color);\n",
              "      border-bottom-color: var(--fill-color);\n",
              "    }\n",
              "    90% {\n",
              "      border-color: transparent;\n",
              "      border-bottom-color: var(--fill-color);\n",
              "    }\n",
              "  }\n",
              "</style>\n",
              "\n",
              "  <script>\n",
              "    async function quickchart(key) {\n",
              "      const quickchartButtonEl =\n",
              "        document.querySelector('#' + key + ' button');\n",
              "      quickchartButtonEl.disabled = true;  // To prevent multiple clicks.\n",
              "      quickchartButtonEl.classList.add('colab-df-spinner');\n",
              "      try {\n",
              "        const charts = await google.colab.kernel.invokeFunction(\n",
              "            'suggestCharts', [key], {});\n",
              "      } catch (error) {\n",
              "        console.error('Error during call to suggestCharts:', error);\n",
              "      }\n",
              "      quickchartButtonEl.classList.remove('colab-df-spinner');\n",
              "      quickchartButtonEl.classList.add('colab-df-quickchart-complete');\n",
              "    }\n",
              "    (() => {\n",
              "      let quickchartButtonEl =\n",
              "        document.querySelector('#df-417dec92-2c8e-4bc9-a11a-2fcf6e63a8e7 button');\n",
              "      quickchartButtonEl.style.display =\n",
              "        google.colab.kernel.accessAllowed ? 'block' : 'none';\n",
              "    })();\n",
              "  </script>\n",
              "</div>\n",
              "    </div>\n",
              "  </div>\n"
            ]
          },
          "metadata": {},
          "execution_count": 184
        }
      ],
      "source": [
        "populations"
      ]
    },
    {
      "cell_type": "code",
      "execution_count": null,
      "metadata": {
        "id": "EdAljCe0HG9l"
      },
      "outputs": [],
      "source": [
        "populations = pd.read_csv('/content/populations.csv')\n",
        "populations = populations.drop('Unnamed: 0', axis=1)\n",
        "tidied_populations = populations.melt(id_vars=['Country Name', 'Country Code'], var_name='Year', value_name='population')"
      ]
    },
    {
      "cell_type": "code",
      "execution_count": null,
      "metadata": {
        "id": "B1u_sYZUIkz3"
      },
      "outputs": [],
      "source": [
        "# Create a data frame that only contains the population for Canada\n",
        "arg_population = tidied_populations[tidied_populations['Country Name'] == 'Argentina']\n"
      ]
    },
    {
      "cell_type": "code",
      "execution_count": null,
      "metadata": {
        "id": "W3a9eJvnIwyC",
        "colab": {
          "base_uri": "https://localhost:8080/",
          "height": 463
        },
        "outputId": "797fadbd-4093-47cf-98b6-67200857c9f8"
      },
      "outputs": [
        {
          "output_type": "execute_result",
          "data": {
            "text/plain": [
              "[<matplotlib.lines.Line2D at 0x7cb5b05fc310>]"
            ]
          },
          "metadata": {},
          "execution_count": 186
        },
        {
          "output_type": "display_data",
          "data": {
            "text/plain": [
              "<Figure size 640x480 with 1 Axes>"
            ],
            "image/png": "[encoded data removed]"
          },
          "metadata": {}
        }
      ],
      "source": [
        "plt.plot(arg_population['Year'], arg_population['population'])"
      ]
    },
    {
      "cell_type": "markdown",
      "metadata": {
        "id": "v3PKNJORJUgs"
      },
      "source": [
        "### Exercise\n",
        "1. Create a data frame that contains the average of the selected countries for each year.\n",
        "2. Plot this average as a lineplot over the years."
      ]
    },
    {
      "cell_type": "code",
      "source": [
        "new_population = tidied_populations[tidied_populations['Country Name'] == 'Austria']\n",
        "plt.plot(new_population['Year'], new_population['population'])"
      ],
      "metadata": {
        "colab": {
          "base_uri": "https://localhost:8080/",
          "height": 463
        },
        "id": "w_U8Wm0B_HPa",
        "outputId": "01abd132-4ad8-4be4-829f-69f77fe23dbb"
      },
      "execution_count": null,
      "outputs": [
        {
          "output_type": "execute_result",
          "data": {
            "text/plain": [
              "[<matplotlib.lines.Line2D at 0x7cb5adb8a560>]"
            ]
          },
          "metadata": {},
          "execution_count": 196
        },
        {
          "output_type": "display_data",
          "data": {
            "text/plain": [
              "<Figure size 640x480 with 1 Axes>"
            ],
            "image/png": "[encoded data removed]"
          },
          "metadata": {}
        }
      ]
    },
    {
      "cell_type": "markdown",
      "metadata": {
        "id": "OGua3TtFQWhm"
      },
      "source": [
        "## A taste of what's coming up next week!"
      ]
    },
    {
      "cell_type": "code",
      "execution_count": null,
      "metadata": {
        "id": "vUwFDRyJQWhm",
        "colab": {
          "base_uri": "https://localhost:8080/",
          "height": 483
        },
        "outputId": "0813273a-81c8-44d0-b7c7-c03140cd1926"
      },
      "outputs": [
        {
          "output_type": "execute_result",
          "data": {
            "text/plain": [
              "<Axes: xlabel='Year', ylabel='population'>"
            ]
          },
          "metadata": {},
          "execution_count": 197
        },
        {
          "output_type": "display_data",
          "data": {
            "text/plain": [
              "<Figure size 640x480 with 1 Axes>"
            ],
            "image/png": "[encoded data removed]"
          },
          "metadata": {}
        }
      ],
      "source": [
        "import seaborn as sns\n",
        "sns.lineplot(data=tidied_populations, x='Year', y='population', hue = 'Country Code')"
      ]
    },
    {
      "cell_type": "code",
      "execution_count": null,
      "metadata": {
        "id": "Avx1gEdTQWhm"
      },
      "outputs": [],
      "source": []
    }
  ],
  "metadata": {
    "colab": {
      "provenance": []
    },
    "kernelspec": {
      "display_name": "Python 3",
      "name": "python3"
    },
    "language_info": {
      "name": "python"
    }
  },
  "nbformat": 4,
  "nbformat_minor": 0
}