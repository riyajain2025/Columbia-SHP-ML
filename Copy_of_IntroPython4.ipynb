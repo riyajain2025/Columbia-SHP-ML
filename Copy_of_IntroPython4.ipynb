{
  "cells": [
    {
      "cell_type": "markdown",
      "source": [
        "# **Python: From Tools to Healthcare Applications**\n",
        "\n",
        "*Week 3: Object-Oriented Programming*\n",
        "---\n",
        "Compiled for SHP by Shubh & Pooja\n",
        "\n",
        "---\n",
        "<img src='https://ci4.googleusercontent.com/proxy/7Ez6K_uIaTysEszBbe-CfmLqEWOtH5GRpCsuSGX94RJqqM5HpYvbp2G9Nd8xSzYSoQ8trqz_vPBJyrmw7XlY2we0rSgxj-x34GSw_E3ufYUkktudm1Vdz8FCbT3vQ6_l51X3TLK4942cJQ=s0-d-e1-ft#https://ongpng.com/wp-content/uploads/2023/04/3.Columbia_University-Logo-1680x428-1.png' align='center' width='300px'>\n"
      ],
      "metadata": {
        "id": "yfC1Lqbr7yZ2"
      }
    },
    {
      "cell_type": "markdown",
      "metadata": {
        "id": "r-F-bcJBtG9z"
      },
      "source": [
        "## Object-Oriented Programming (OOP)\n",
        "\n",
        "**Object-oriented programming** is a style of programming that is used heavily in Python packages. To understand what it is, let's understand what it's not: **functional programming**."
      ]
    },
    {
      "cell_type": "code",
      "execution_count": null,
      "metadata": {
        "id": "zkc_PkyvtG9z"
      },
      "outputs": [],
      "source": [
        "#imports\n",
        "from datetime import date\n",
        "from abc import ABC, abstractmethod\n",
        "import numpy as np\n",
        "import pandas as pd"
      ]
    },
    {
      "cell_type": "markdown",
      "metadata": {
        "id": "0ufWbG0etG94"
      },
      "source": [
        "This is functional-style code - take just a few minutes to guess what this will output."
      ]
    },
    {
      "cell_type": "code",
      "execution_count": null,
      "metadata": {
        "id": "eWyDXqW3tG94",
        "colab": {
          "base_uri": "https://localhost:8080/"
        },
        "outputId": "9039baed-a01e-45b4-b059-17aaede0f32b"
      },
      "outputs": [
        {
          "output_type": "stream",
          "name": "stdout",
          "text": [
            "Abhi is teaching units [6, 7, 8] and is colorblind!\n",
            "Sharon is teaching units [1, 2] and is NOT colorblind!\n"
          ]
        }
      ],
      "source": [
        "abhi = {'name': 'Abhi',\n",
        "        'units': [6,7,8],\n",
        "        'cblind': True}\n",
        "\n",
        "sharon = {'name': 'Sharon',\n",
        "        'units': [1,2],\n",
        "        'cblind': False}\n",
        "\n",
        "def print_teacher_info(teacher):\n",
        "    if teacher['cblind']:\n",
        "        cblind = 'is'\n",
        "    else:\n",
        "        cblind = 'is NOT'\n",
        "    print(teacher['name'] + ' is teaching units ' + str(teacher['units']) + ' and ' + cblind + ' colorblind!')\n",
        "\n",
        "print_teacher_info(abhi)\n",
        "print_teacher_info(sharon)"
      ]
    },
    {
      "cell_type": "code",
      "execution_count": null,
      "metadata": {
        "id": "2TiT2OgotG94"
      },
      "outputs": [],
      "source": [
        "#ENTER YOUR GUESS HERE, AND THEN RUN THE CODE ABOVE TO CHECK"
      ]
    },
    {
      "cell_type": "markdown",
      "metadata": {
        "id": "Xm4mCRlCtG94"
      },
      "source": [
        "Now, let's look at an OOP example of the same code."
      ]
    },
    {
      "cell_type": "code",
      "execution_count": null,
      "metadata": {
        "id": "XJjuuSVZtG94",
        "colab": {
          "base_uri": "https://localhost:8080/"
        },
        "outputId": "5ab04bef-0aeb-4bf7-f84c-67282ed7b2c0"
      },
      "outputs": [
        {
          "output_type": "stream",
          "name": "stdout",
          "text": [
            "Abhi is teaching units [7, 8, 9] and is colorblind!\n",
            "Sam is teaching units [4, 5, 6] and is NOT colorblind!\n"
          ]
        }
      ],
      "source": [
        "class Teacher:\n",
        "\n",
        "    def __init__(self, name, units, colorblind):\n",
        "        self.name = name\n",
        "        self.units = units\n",
        "        self.colorblind = colorblind\n",
        "\n",
        "    def print_teacher_info(self):\n",
        "        if self.colorblind:\n",
        "            cblind = 'is'\n",
        "        else:\n",
        "            cblind = 'is NOT'\n",
        "        print(self.name + ' is teaching units ' + str(self.units) + ' and ' + cblind + ' colorblind!')\n",
        "\n",
        "abhi = Teacher('Abhi', [7,8,9], True)\n",
        "sam = Teacher('Sam', [4,5,6], False)\n",
        "abhi.print_teacher_info()\n",
        "sam.print_teacher_info()"
      ]
    },
    {
      "cell_type": "markdown",
      "metadata": {
        "id": "M5EWYFU7tG94"
      },
      "source": [
        "#### What is OOP?\n",
        "At it's root, OOP is about encapsulation and modularity. We'll go over the specifics in the lesson today!\n",
        "\n",
        "\n",
        "As you can see, it is possible to use both functional and OOP coding styles in Python. Today, we're going to go over exactly what OOP is, what it's useful for, and how to read OOP code."
      ]
    },
    {
      "cell_type": "markdown",
      "metadata": {
        "id": "dumvYQa1tG94"
      },
      "source": [
        "### Classes and objects\n",
        "We've actually already used OOP before! For example, does the code below look familiar?"
      ]
    },
    {
      "cell_type": "code",
      "execution_count": null,
      "metadata": {
        "id": "ZCmzrbt1tG94"
      },
      "outputs": [],
      "source": [
        "df = pd.DataFrame([1,2,3])"
      ]
    },
    {
      "cell_type": "markdown",
      "metadata": {
        "id": "TRMlZpnbtG94"
      },
      "source": [
        "In this code, df is an **object**, defined in the DatFrame **class**. Confusing?\n",
        "\n",
        "Let's use an analogy: the class is a recipe, and the object is the food you make using that recipe.\n",
        "In fact, almost everything in Python is an object. For example:"
      ]
    },
    {
      "cell_type": "code",
      "execution_count": null,
      "metadata": {
        "id": "NJyzwzcAtG94",
        "colab": {
          "base_uri": "https://localhost:8080/"
        },
        "outputId": "b871d625-0912-413d-c7bb-7a0210546e09"
      },
      "outputs": [
        {
          "output_type": "stream",
          "name": "stdout",
          "text": [
            "<class 'float'>\n",
            "<class 'int'>\n"
          ]
        }
      ],
      "source": [
        "a = 3.1\n",
        "b = int(3)\n",
        "print(type(a))\n",
        "print(type(b))"
      ]
    },
    {
      "cell_type": "markdown",
      "metadata": {
        "id": "Rd2vrcDutG94"
      },
      "source": [
        "See how it says class? What do we think type (df) will return?"
      ]
    },
    {
      "cell_type": "code",
      "execution_count": null,
      "metadata": {
        "id": "j4PXQi2_tG94",
        "colab": {
          "base_uri": "https://localhost:8080/"
        },
        "outputId": "7a56d435-4f0a-4e3b-c7f2-0693b112c4a0"
      },
      "outputs": [
        {
          "output_type": "execute_result",
          "data": {
            "text/plain": [
              "pandas.core.frame.DataFrame"
            ]
          },
          "metadata": {},
          "execution_count": 6
        }
      ],
      "source": [
        "type(df)"
      ]
    },
    {
      "cell_type": "markdown",
      "metadata": {
        "id": "xdQOdV2ZtG94"
      },
      "source": [
        "#### Example class code\n",
        "Now let's go over how to use classes and objects in detail. Run the code below to load in our custom `Experiment` class. Remember that this class is like a recipe to make specific objects!"
      ]
    },
    {
      "cell_type": "code",
      "execution_count": null,
      "metadata": {
        "id": "6dQ27aFctG94"
      },
      "outputs": [],
      "source": [
        "#Run this code to load the class\n",
        "class Experiment:\n",
        "\n",
        "    def __init__(self, path_to_expt, expt_date, experimenter):\n",
        "        self.path_to_expt = path_to_expt\n",
        "        self.expt_date = expt_date\n",
        "        self.experimenter = experimenter\n",
        "        self.generated_date = date.today()\n",
        "        print('Constructor called')\n",
        "\n",
        "    def print_expt_info(self):\n",
        "        print('Path: ', self.path_to_expt)\n",
        "        print('Experiment Date: ', self.expt_date)\n",
        "        print('Experimenter: ', self.experimenter)\n",
        "        print('Generation Date: ', self.generated_date)\n",
        "\n",
        "    def return_data(self):\n",
        "        return 'There is no data here for now'"
      ]
    },
    {
      "cell_type": "markdown",
      "metadata": {
        "id": "lT5A7xZctG94"
      },
      "source": [
        "Let's pause to go through what's inside the class code.\n",
        "First, we have a function called `__init__`. This is a **constructor**, and it will be run anytime you create an object from this class. The constructor is a place to put commands that you create an object: for example, here we assign some attributes (or variables) associated with out class.\n",
        "\n",
        "Let's see the constructor in action by creating an object First, we create an object named `expt`, by calling `Experiment` and providing information. This process is called **instantiation**."
      ]
    },
    {
      "cell_type": "code",
      "execution_count": null,
      "metadata": {
        "id": "dMCC2JlLtG95",
        "colab": {
          "base_uri": "https://localhost:8080/"
        },
        "outputId": "d3d60b4c-7f83-4e10-a9f1-2fea5a1ea6f0"
      },
      "outputs": [
        {
          "output_type": "stream",
          "name": "stdout",
          "text": [
            "Constructor called\n"
          ]
        }
      ],
      "source": [
        "expt = Experiment('experiment.csv', '342321', 'Abhi')"
      ]
    },
    {
      "cell_type": "markdown",
      "metadata": {
        "id": "Kz8SSpCFtG95"
      },
      "source": [
        "What happened here is we created an object called `expt` from Experiment, which automatically ran the constructor. Notice that when we instantiated our object, we provided information to the function call, just like you would with any other function. We can access this data, as in our constructor we save the data to the object using the **self** command."
      ]
    },
    {
      "cell_type": "code",
      "execution_count": null,
      "metadata": {
        "id": "5fdP-EJptG95",
        "colab": {
          "base_uri": "https://localhost:8080/",
          "height": 35
        },
        "outputId": "7ef66b09-d4f2-4ad7-9fd7-7068bae14cab"
      },
      "outputs": [
        {
          "output_type": "execute_result",
          "data": {
            "text/plain": [
              "'342321'"
            ],
            "application/vnd.google.colaboratory.intrinsic+json": {
              "type": "string"
            }
          },
          "metadata": {},
          "execution_count": 9
        }
      ],
      "source": [
        "expt.expt_date"
      ]
    },
    {
      "cell_type": "markdown",
      "metadata": {
        "id": "p7HHeSt_tG95"
      },
      "source": [
        "We've already seen attributes before - can you think of an example?"
      ]
    },
    {
      "cell_type": "code",
      "execution_count": null,
      "metadata": {
        "id": "-5MqjkDTtG95",
        "colab": {
          "base_uri": "https://localhost:8080/"
        },
        "outputId": "fc121095-9eb4-4c2b-a8ae-0c29c7447270"
      },
      "outputs": [
        {
          "output_type": "execute_result",
          "data": {
            "text/plain": [
              "(3,)"
            ]
          },
          "metadata": {},
          "execution_count": 10
        }
      ],
      "source": [
        "np.array([1,2,3]).shape"
      ]
    },
    {
      "cell_type": "markdown",
      "metadata": {
        "id": "1v9L4FNbtG95"
      },
      "source": [
        "\n",
        "We can also call functions within the class. For example:"
      ]
    },
    {
      "cell_type": "code",
      "execution_count": null,
      "metadata": {
        "id": "xRtfx6G0tG95",
        "colab": {
          "base_uri": "https://localhost:8080/"
        },
        "outputId": "8427c1f4-fada-4596-9cd5-3af5a1f09e26"
      },
      "outputs": [
        {
          "output_type": "stream",
          "name": "stdout",
          "text": [
            "Path:  experiment.csv\n",
            "Experiment Date:  342321\n",
            "Experimenter:  Abhi\n",
            "Generation Date:  2023-10-28\n"
          ]
        }
      ],
      "source": [
        "expt.print_expt_info()"
      ]
    },
    {
      "cell_type": "markdown",
      "metadata": {
        "id": "puQH6Ka8tG95"
      },
      "source": [
        "What happens if we try to call the function directly?"
      ]
    },
    {
      "cell_type": "code",
      "execution_count": null,
      "metadata": {
        "id": "oVj4nulntG95",
        "colab": {
          "base_uri": "https://localhost:8080/",
          "height": 197
        },
        "outputId": "1f8ae270-5057-47c1-c7c1-854a7c5ed074"
      },
      "outputs": [
        {
          "output_type": "error",
          "ename": "TypeError",
          "evalue": "ignored",
          "traceback": [
            "\u001b[0;31m---------------------------------------------------------------------------\u001b[0m",
            "\u001b[0;31mTypeError\u001b[0m                                 Traceback (most recent call last)",
            "\u001b[0;32m<ipython-input-12-3aad839f6f19>\u001b[0m in \u001b[0;36m<cell line: 2>\u001b[0;34m()\u001b[0m\n\u001b[1;32m      1\u001b[0m \u001b[0;31m#print_expt_info()\u001b[0m\u001b[0;34m\u001b[0m\u001b[0;34m\u001b[0m\u001b[0m\n\u001b[0;32m----> 2\u001b[0;31m \u001b[0mExperiment\u001b[0m\u001b[0;34m.\u001b[0m\u001b[0mprint_expt_info\u001b[0m\u001b[0;34m(\u001b[0m\u001b[0;34m)\u001b[0m\u001b[0;34m\u001b[0m\u001b[0;34m\u001b[0m\u001b[0m\n\u001b[0m",
            "\u001b[0;31mTypeError\u001b[0m: Experiment.print_expt_info() missing 1 required positional argument: 'self'"
          ]
        }
      ],
      "source": [
        "#print_expt_info()\n",
        "Experiment.print_expt_info()"
      ]
    },
    {
      "cell_type": "markdown",
      "metadata": {
        "id": "OF5VBPIctG95"
      },
      "source": [
        "In OOP, self refers to the *object itself*. That is to say: you can't call a function without an object. We can get a little hacky and pass in the object though."
      ]
    },
    {
      "cell_type": "code",
      "execution_count": null,
      "metadata": {
        "id": "RvZ5YVSZtG95",
        "colab": {
          "base_uri": "https://localhost:8080/"
        },
        "outputId": "05989484-abd1-486f-8bc8-47707b2d85aa"
      },
      "outputs": [
        {
          "output_type": "stream",
          "name": "stdout",
          "text": [
            "Path:  experiment.csv\n",
            "Experiment Date:  342321\n",
            "Experimenter:  Abhi\n",
            "Generation Date:  2023-10-28\n"
          ]
        }
      ],
      "source": [
        "Experiment.print_expt_info(self=expt)"
      ]
    },
    {
      "cell_type": "markdown",
      "metadata": {
        "id": "vfhyAk7StG95"
      },
      "source": [
        "This is what happens when you call functions from a class - it just happens to pass `self` (a reference to the object) in for you!"
      ]
    },
    {
      "cell_type": "markdown",
      "metadata": {
        "id": "2CjEQzsxtG95"
      },
      "source": [
        "### Problem 3\n",
        "\n",
        "Modify the code from the cells above to add another argument to the constructor called `results`. Then, create an object of your class, and call  `print_expt_info`."
      ]
    },
    {
      "cell_type": "code",
      "execution_count": null,
      "metadata": {
        "id": "FTW4adcmtG95"
      },
      "outputs": [],
      "source": [
        "#Edit this code to add an argument to the constructor, and then create an object from the class that utilizes the new argument.\n",
        "class Experiment:\n",
        "\n",
        "    #HI, I AM THE CONSTRUCTOR\n",
        "    def __init__(self, path_to_expt, expt_date, experimenter):\n",
        "        self.path_to_expt = path_to_expt\n",
        "        self.expt_date = expt_date\n",
        "        self.experimenter = experimenter\n",
        "        self.generated_date = date.today()\n",
        "        print('Constructor called')\n",
        "\n",
        "    def print_expt_info(self):\n",
        "        print('Path: ', self.path_to_expt)\n",
        "        print('Experiment Date: ', self.expt_date)\n",
        "        print('Experimenter: ', self.experimenter)\n",
        "        print('Generation Date: ', self.generated_date)\n",
        "\n",
        "    def return_data(self):\n",
        "        return 'There is no data here for now'"
      ]
    },
    {
      "cell_type": "code",
      "execution_count": null,
      "metadata": {
        "id": "U6jMTiGBtG95"
      },
      "outputs": [],
      "source": []
    },
    {
      "cell_type": "markdown",
      "metadata": {
        "id": "nqdXY7motG95"
      },
      "source": [
        "#### Making multiple objects\n",
        "A class can support many independent objects! Back to the analogy: if I have two recipes for a pumpkin pie, I can make two pumpkin pies, and if I put whipped cream on one, then it won't magically appear on the other.\n",
        "\n",
        "Let's make two objects from a new class, and see if modifying one affects the other. |"
      ]
    },
    {
      "cell_type": "code",
      "execution_count": null,
      "metadata": {
        "id": "OCUCTzcktG96"
      },
      "outputs": [],
      "source": [
        "class BehaviorExperiment:\n",
        "\n",
        "    def __init__(self, head_turn, freezing):\n",
        "        self.head_turn = head_turn\n",
        "        self.freezing = freezing\n",
        "        self.time = date.today()\n",
        "\n",
        "    def print_info(self):\n",
        "        print(self.head_turn)\n",
        "        print(self.freezing)\n",
        "        print(self.time)\n",
        "\n",
        "    def calc_velocity(self):\n",
        "        self.velocity = self.head_turn * 2\n",
        "        return self.velocity"
      ]
    },
    {
      "cell_type": "code",
      "execution_count": null,
      "metadata": {
        "id": "FgqYcmCFtG96",
        "colab": {
          "base_uri": "https://localhost:8080/"
        },
        "outputId": "10c38246-f402-4a76-c1ba-efcbf649f502"
      },
      "outputs": [
        {
          "output_type": "stream",
          "name": "stdout",
          "text": [
            "5\n",
            "True\n",
            "2023-10-28\n"
          ]
        }
      ],
      "source": [
        "beh_expt1 = BehaviorExperiment(5, True)\n",
        "beh_expt1.print_info()\n"
      ]
    },
    {
      "cell_type": "code",
      "execution_count": null,
      "metadata": {
        "id": "3BF4uO2htG96",
        "colab": {
          "base_uri": "https://localhost:8080/"
        },
        "outputId": "bb1fcda8-0b98-44ea-c55b-4eff7bec43f6"
      },
      "outputs": [
        {
          "output_type": "stream",
          "name": "stdout",
          "text": [
            "10\n"
          ]
        }
      ],
      "source": [
        "velocity = beh_expt1.calc_velocity()\n",
        "print(velocity)"
      ]
    },
    {
      "cell_type": "code",
      "execution_count": null,
      "metadata": {
        "id": "JROp9cfYtG96",
        "colab": {
          "base_uri": "https://localhost:8080/"
        },
        "outputId": "c3147f4f-d19d-4251-cff0-bfaa6083c5fc"
      },
      "outputs": [
        {
          "output_type": "stream",
          "name": "stdout",
          "text": [
            "5\n",
            "True\n",
            "2023-10-28\n",
            "20\n",
            "False\n",
            "2023-10-28\n"
          ]
        }
      ],
      "source": [
        "beh_expt2 = BehaviorExperiment(20, False)\n",
        "beh_expt1.print_info()\n",
        "beh_expt2.print_info()"
      ]
    },
    {
      "cell_type": "markdown",
      "metadata": {
        "id": "Loa-ftOTtG96"
      },
      "source": [
        "### Inheritance and polymorphism\n",
        "\n",
        "As I mentioned earlier, one of the important features of OOP is modularity. Let's go back to the recipe analogy I mentioned earlier. Say we had a recipe for cooking a cake, in general. What if we wanted to bake a vanilla cake? I could write a totally new recipe, but that would be redundant. Instead, what I could do is simply change the section where I add flavorings to the cake mix.\n",
        "\n",
        "Inheritance is exactly this concept: you can create child classes that inherit from a parent class. Let's see what this means using an example."
      ]
    },
    {
      "cell_type": "code",
      "execution_count": null,
      "metadata": {
        "id": "KkuirPmStG96"
      },
      "outputs": [],
      "source": [
        "#Run this code to load the class\n",
        "class Experiment:\n",
        "\n",
        "    def __init__(self, path_to_expt, expt_date, experimenter):\n",
        "        self.path_to_expt = path_to_expt\n",
        "        self.expt_date = expt_date\n",
        "        self.experimenter = experimenter\n",
        "        self.generated_date = date.today()\n",
        "        print('Constructor called')\n",
        "\n",
        "    def print_expt_info(self):\n",
        "        print('Path: ', self.path_to_expt)\n",
        "        print('Experiment Date: ', self.expt_date)\n",
        "        print('Experimenter: ', self.experimenter)\n",
        "        print('Generation Date: ', self.generated_date)\n",
        "\n",
        "    def return_data(self):\n",
        "        return 'There is no data here for now'"
      ]
    },
    {
      "cell_type": "markdown",
      "metadata": {
        "id": "mrDg8w0StG96"
      },
      "source": [
        "Now, we have a small child class that **inherits** from and **extends** a parent class. Notice the syntax: we just place the name of the parent class in the parenthes at the beginning of the class."
      ]
    },
    {
      "cell_type": "code",
      "execution_count": null,
      "metadata": {
        "id": "3Dffz9GktG96"
      },
      "outputs": [],
      "source": [
        "class ImagingExperiment(Experiment):\n",
        "\n",
        "    def __init__(self, path_to_expt, expt_date, experimenter, frame_rate):\n",
        "        self.frame_rate = frame_rate\n",
        "        #Super refers to our parent class\n",
        "        print('Imaging constructor called')\n",
        "        super().__init__(path_to_expt, expt_date, experimenter)\n",
        "\n",
        "    #This is a new function!\n",
        "    def print_frame_rate(self):\n",
        "        print('Frame Rate: {} Hz'.format(self.frame_rate))\n",
        "\n",
        "    #This is an old function we modified!\n",
        "    def return_data(self):\n",
        "        return 'Pretend that I am imaging data'"
      ]
    },
    {
      "cell_type": "markdown",
      "metadata": {
        "id": "5kncvJ_3tG96"
      },
      "source": [
        "Let's start by creating an object of our new class: anyone remember how to do this?"
      ]
    },
    {
      "cell_type": "code",
      "execution_count": null,
      "metadata": {
        "id": "UHgzVxmPtG96",
        "colab": {
          "base_uri": "https://localhost:8080/"
        },
        "outputId": "0b9f6e4b-a23f-4f85-b158-7c27b2c0d6cb"
      },
      "outputs": [
        {
          "output_type": "stream",
          "name": "stdout",
          "text": [
            "Imaging constructor called\n",
            "Constructor called\n"
          ]
        }
      ],
      "source": [
        "imaging_expt = ImagingExperiment('experiment_file.csv', '031122', 'Abhi', 30)"
      ]
    },
    {
      "cell_type": "markdown",
      "metadata": {
        "id": "1ZNBWDlKtG97"
      },
      "source": [
        "A few things to unpack: <br>\n",
        "1) Notice how we are providing one more argument to the constructor. Let's follow this number.\n",
        "2) See how the imaging constructor is called first, and then the constructor for the parent experiment class?\n",
        "3) What do we think the type of our new object will be?"
      ]
    },
    {
      "cell_type": "code",
      "execution_count": null,
      "metadata": {
        "id": "0cf8bdx4tG97",
        "colab": {
          "base_uri": "https://localhost:8080/"
        },
        "outputId": "6d777723-4ddc-4a1e-8470-7e2b7d885b07"
      },
      "outputs": [
        {
          "output_type": "execute_result",
          "data": {
            "text/plain": [
              "__main__.ImagingExperiment"
            ]
          },
          "metadata": {},
          "execution_count": 21
        }
      ],
      "source": [
        "type(imaging_expt)"
      ]
    },
    {
      "cell_type": "markdown",
      "metadata": {
        "id": "4zM0BI8OtG97"
      },
      "source": [
        "Now, let's understand these new functions."
      ]
    },
    {
      "cell_type": "code",
      "execution_count": null,
      "metadata": {
        "id": "yx2nmGEqtG97",
        "colab": {
          "base_uri": "https://localhost:8080/"
        },
        "outputId": "74edb36d-0a54-458d-d0a7-5d4f4a4934e1"
      },
      "outputs": [
        {
          "output_type": "stream",
          "name": "stdout",
          "text": [
            "Frame Rate: 30 Hz\n"
          ]
        }
      ],
      "source": [
        "imaging_expt.print_frame_rate()"
      ]
    },
    {
      "cell_type": "markdown",
      "metadata": {
        "id": "aCxVbcuBtG97"
      },
      "source": [
        "That seems self-explanatory - that's a new function we added. Do the old ones still work?"
      ]
    },
    {
      "cell_type": "code",
      "execution_count": null,
      "metadata": {
        "id": "GaZk4Pt8tG97",
        "colab": {
          "base_uri": "https://localhost:8080/"
        },
        "outputId": "f3968f22-a55c-4f5c-86b3-5b6d2d836309"
      },
      "outputs": [
        {
          "output_type": "stream",
          "name": "stdout",
          "text": [
            "Path:  experiment_file.csv\n",
            "Experiment Date:  031122\n",
            "Experimenter:  Abhi\n",
            "Generation Date:  2023-10-28\n"
          ]
        }
      ],
      "source": [
        "imaging_expt.print_expt_info()"
      ]
    },
    {
      "cell_type": "markdown",
      "metadata": {
        "id": "zPONxR47tG97"
      },
      "source": [
        "Ok, what about return_data? What do we think it will output?"
      ]
    },
    {
      "cell_type": "code",
      "execution_count": null,
      "metadata": {
        "id": "CtUmZghdtG97",
        "colab": {
          "base_uri": "https://localhost:8080/",
          "height": 35
        },
        "outputId": "ac63fcfb-457e-424f-f906-bcb12edb3c10"
      },
      "outputs": [
        {
          "output_type": "execute_result",
          "data": {
            "text/plain": [
              "'Pretend that I am imaging data'"
            ],
            "application/vnd.google.colaboratory.intrinsic+json": {
              "type": "string"
            }
          },
          "metadata": {},
          "execution_count": 24
        }
      ],
      "source": [
        "imaging_expt.return_data()"
      ]
    },
    {
      "cell_type": "markdown",
      "metadata": {
        "id": "8FHVlVWKtG97"
      },
      "source": [
        "See how we've created a new version of `return_data`? This is called polymorphism - a single function can take many forms in OOP. This is useful, because often you want a child class to subtly modify or add to a parent class. Think about a vegan cake - the general steps might be the same, but you'd want to go back and modify some of the tasks you're peforming to include different ingredients."
      ]
    },
    {
      "cell_type": "markdown",
      "metadata": {
        "id": "O3wCmH_StG97"
      },
      "source": [
        "### Problem 4\n",
        "Just as we did with ImagingExperiment, create a class called BehaviorExperiment that inherits from Experiment. In this class, please take in a `behavior_task` variable instead of `frame_rate`. Create a new function in lieu of `frame_rate` to print your `behavior_task`.  In addition, please write a modified `return_data` function to print your behavior task. Use the templates above and don't be afraid of copying and pasting!"
      ]
    },
    {
      "cell_type": "code",
      "execution_count": null,
      "metadata": {
        "id": "NjJyCJjjtG99"
      },
      "outputs": [],
      "source": []
    },
    {
      "cell_type": "code",
      "execution_count": null,
      "metadata": {
        "id": "6xMmU1k6tG99"
      },
      "outputs": [],
      "source": []
    },
    {
      "cell_type": "code",
      "execution_count": null,
      "metadata": {
        "id": "G-xkWBzEtG99"
      },
      "outputs": [],
      "source": []
    },
    {
      "cell_type": "code",
      "execution_count": null,
      "metadata": {
        "id": "TRjlKwbutG99"
      },
      "outputs": [],
      "source": []
    }
  ],
  "metadata": {
    "kernelspec": {
      "display_name": "intropython",
      "language": "python",
      "name": "python3"
    },
    "language_info": {
      "codemirror_mode": {
        "name": "ipython",
        "version": 3
      },
      "file_extension": ".py",
      "mimetype": "text/x-python",
      "name": "python",
      "nbconvert_exporter": "python",
      "pygments_lexer": "ipython3",
      "version": "3.10.6"
    },
    "colab": {
      "provenance": []
    }
  },
  "nbformat": 4,
  "nbformat_minor": 0
}