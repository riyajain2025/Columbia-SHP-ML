{
  "cells": [
    {
      "cell_type": "markdown",
      "source": [
        "# **Python: From Tools to Healthcare Applications**\n",
        "\n",
        "*Week 5 - Machine Learning using sklearn*\n",
        "---\n",
        "Compiled for SHP by Shubh & Pooja\n",
        "\n",
        "---\n",
        "\n",
        "<img src='https://ci4.googleusercontent.com/proxy/7Ez6K_uIaTysEszBbe-CfmLqEWOtH5GRpCsuSGX94RJqqM5HpYvbp2G9Nd8xSzYSoQ8trqz_vPBJyrmw7XlY2we0rSgxj-x34GSw_E3ufYUkktudm1Vdz8FCbT3vQ6_l51X3TLK4942cJQ=s0-d-e1-ft#https://ongpng.com/wp-content/uploads/2023/04/3.Columbia_University-Logo-1680x428-1.png' align='center' width='300px'>"
      ],
      "metadata": {
        "id": "yfC1Lqbr7yZ2"
      }
    },
    {
      "cell_type": "markdown",
      "metadata": {
        "id": "Z8wJA2Yxrajp"
      },
      "source": [
        "> **Note:** If you are using this notebook outside of Google Colab, **please ensure that you're using a Python version 3.6 or higher**. You can check that in the top right corner of your browser window. If you're using a different Version, go to the Tab \"Kernel\" --> \"Change Kernel\" and select \"Python 3.6\" or higher. <br>\n",
        "\n",
        "**Executing the below cell should return a version higher than 3.6.0**"
      ]
    },
    {
      "cell_type": "code",
      "execution_count": 1,
      "metadata": {
        "colab": {
          "base_uri": "https://localhost:8080/"
        },
        "id": "8jFJUJs5rajq",
        "outputId": "f0aec08f-0466-424c-e5c8-42da1518153a"
      },
      "outputs": [
        {
          "output_type": "stream",
          "name": "stdout",
          "text": [
            "Python 3.10.12\n"
          ]
        }
      ],
      "source": [
        "!python --version"
      ]
    },
    {
      "cell_type": "markdown",
      "metadata": {
        "id": "aFtix2l_rajs"
      },
      "source": [
        "## 1. Aims of this session\n",
        "\n",
        "This session will serve as a programming tutorial following the previous theoretical session on machine learning. We will revisit the basic concepts of **machine learning** using a practical example. We will use the Python programming language and learn to use Python's machine learning package '*scikit-learn*' (along with *pandas*, *numpy* and *matplotlib* packages), to train different types of machine learning models and compare them.  "
      ]
    },
    {
      "cell_type": "markdown",
      "metadata": {
        "id": "aChmZAzWrajt"
      },
      "source": [
        "## 2. Learning goals\n",
        "\n",
        "By the end of this session, you should be familiar with:\n",
        "\n",
        "- How to read a dataset, explore the different data columns and clean it, if necessary, for training machine learning models.\n",
        "- Cross validation: Why we should split our dataset into 'training' data and 'test' data and how to do it.\n",
        "- Learn to identify if the task at hand is a *classification task* or a *regression task*.\n",
        "- Training 2 different machine learning models:\n",
        "    - Support Vector Machine Classifiers (SVC)\n",
        "    - Logistic Regression\n",
        "- Compare the performance of different machine learning models and determine which one is better."
      ]
    },
    {
      "cell_type": "markdown",
      "metadata": {
        "id": "BKJGFy0Uraju"
      },
      "source": [
        "## 3. References\n",
        "\n",
        "Documentation for python libraries used in this notebook:\n",
        "\n",
        "- https://scikit-learn.org/stable/\n",
        "- https://pandas.pydata.org/pandas-docs/stable/\n",
        "- https://numpy.org/doc/\n",
        "- https://matplotlib.org/\n",
        "\n",
        "Documentation for classifiers:\n",
        "\n",
        "- https://en.wikipedia.org/wiki/Support_vector_machine\n",
        "- https://en.wikipedia.org/wiki/Logistic_regression\n",
        "\n",
        "Documentation for metrics used:\n",
        "\n",
        "- https://en.wikipedia.org/wiki/Accuracy_and_precision\n",
        "- https://towardsdatascience.com/understanding-confusion-matrix-a9ad42dcfd62\n",
        "- https://towardsdatascience.com/understanding-auc-roc-curve-68b2303cc9c5\n",
        "\n",
        "Further learning material:\n",
        "\n",
        "- StatQuest's Machine learning lecture series on youtube: ([click here](https://www.youtube.com/playlist?list=PLblh5JKOoLUICTaGLRoHQDuF_7q2GfuJF))<br>(Episodes: Introduction, Cross-validation, Confusion Matrix, Sensitivity and Specificity, k-nearest neighbor, linear / logistic regression, support vector machines)\n"
      ]
    },
    {
      "cell_type": "markdown",
      "metadata": {
        "id": "I8grn6SOrajv"
      },
      "source": [
        "## 4. Theory\n",
        "The theory will be refreshed alongside, as we walk-through the practical sections."
      ]
    },
    {
      "cell_type": "markdown",
      "metadata": {
        "id": "ABQe0rbXrajw"
      },
      "source": [
        "## 5. Practical\n",
        "5.1 Data loading and exploration<br>\n",
        "5.2 Data preprocessing<br>\n",
        "5.3 Classification or regression?<br>\n",
        "5.4 Splitting the data into 'training' set and a 'test' set<br>\n",
        "5.5 Train machine learning models<br>\n",
        "5.6 Evaluate model performance<br>"
      ]
    },
    {
      "cell_type": "markdown",
      "metadata": {
        "id": "Ul7JMlwsrajx"
      },
      "source": [
        "### 5.1 Data loading and exploration\n",
        "\n",
        "* In this tutorial, we will look at the dataset provided by *Pima Indians Diabetes Database*. It is freely [available here](https://www.kaggle.com/uciml/pima-indians-diabetes-database).\n",
        "* Our objective is to build a machine learning model that can accurately predict (diagnose) whether or not a patient has diabetes or not, based on several diagnostic measurements provided in the dataset.\n",
        "* We will be using a subset of the larger database for ease-of-use. In our subset we have selected only females who are at least 21 years old, and of Pima Indian heritage. You can find this data subset in our GDRIVE repository: https://drive.google.com/drive/folders/1rKYfSmKJtK0cQdg8Bd6FauYWmwhbtJ9J\n",
        "\n",
        "*In this part, you will get a chance to apply the lessons learned in the previous programming sessions too.*\n",
        "\n",
        "The source publication of the data for reference:<br>\n",
        "*Smith, J.W., Everhart, J.E., Dickson, W.C., Knowler, W.C., & Johannes, R.S. (1988). Using the ADAP learning algorithm to forecast the onset of diabetes mellitus. In Proceedings of the Symposium on Computer Applications and Medical Care (pp. 261--265). IEEE Computer Society Press.*"
      ]
    },
    {
      "cell_type": "markdown",
      "metadata": {
        "id": "MtD6DaC1rajy"
      },
      "source": [
        "Let us first load the dataset and try to understand the different columns provided:"
      ]
    },
    {
      "cell_type": "code",
      "execution_count": 2,
      "metadata": {
        "id": "Svu28rpLrajz"
      },
      "outputs": [],
      "source": [
        "# First, import the Pandas, NumPy and matplotlib libraries\n",
        "import pandas as pd\n",
        "import numpy as np\n",
        "from matplotlib import pyplot as plt"
      ]
    },
    {
      "cell_type": "code",
      "execution_count": 5,
      "metadata": {
        "id": "eJOKPLpIrajz"
      },
      "outputs": [],
      "source": [
        "# load the csv file as a pandas dataframe\n",
        "df = pd.read_csv('/content/diabetes.csv')"
      ]
    },
    {
      "cell_type": "code",
      "execution_count": 6,
      "metadata": {
        "id": "fbWxm4l4raj0",
        "colab": {
          "base_uri": "https://localhost:8080/",
          "height": 444
        },
        "outputId": "e01990ac-30cb-40d0-8898-ede352801538"
      },
      "outputs": [
        {
          "output_type": "execute_result",
          "data": {
            "text/plain": [
              "     Pregnancies  Glucose  BloodPressure  SkinThickness  Insulin   BMI  \\\n",
              "0              6      148             72             35        0  33.6   \n",
              "1              1       85             66             29        0  26.6   \n",
              "2              8      183             64              0        0  23.3   \n",
              "3              1       89             66             23       94  28.1   \n",
              "4              0      137             40             35      168  43.1   \n",
              "..           ...      ...            ...            ...      ...   ...   \n",
              "763           10      101             76             48      180  32.9   \n",
              "764            2      122             70             27        0  36.8   \n",
              "765            5      121             72             23      112  26.2   \n",
              "766            1      126             60              0        0  30.1   \n",
              "767            1       93             70             31        0  30.4   \n",
              "\n",
              "     DiabetesPedigreeFunction  Age  Outcome  \n",
              "0                       0.627   50        1  \n",
              "1                       0.351   31        0  \n",
              "2                       0.672   32        1  \n",
              "3                       0.167   21        0  \n",
              "4                       2.288   33        1  \n",
              "..                        ...  ...      ...  \n",
              "763                     0.171   63        0  \n",
              "764                     0.340   27        0  \n",
              "765                     0.245   30        0  \n",
              "766                     0.349   47        1  \n",
              "767                     0.315   23        0  \n",
              "\n",
              "[768 rows x 9 columns]"
            ],
            "text/html": [
              "\n",
              "  <div id=\"df-49aa8723-4b1e-4d92-9a3a-8d2d98f7eb28\" class=\"colab-df-container\">\n",
              "    <div>\n",
              "<style scoped>\n",
              "    .dataframe tbody tr th:only-of-type {\n",
              "        vertical-align: middle;\n",
              "    }\n",
              "\n",
              "    .dataframe tbody tr th {\n",
              "        vertical-align: top;\n",
              "    }\n",
              "\n",
              "    .dataframe thead th {\n",
              "        text-align: right;\n",
              "    }\n",
              "</style>\n",
              "<table border=\"1\" class=\"dataframe\">\n",
              "  <thead>\n",
              "    <tr style=\"text-align: right;\">\n",
              "      <th></th>\n",
              "      <th>Pregnancies</th>\n",
              "      <th>Glucose</th>\n",
              "      <th>BloodPressure</th>\n",
              "      <th>SkinThickness</th>\n",
              "      <th>Insulin</th>\n",
              "      <th>BMI</th>\n",
              "      <th>DiabetesPedigreeFunction</th>\n",
              "      <th>Age</th>\n",
              "      <th>Outcome</th>\n",
              "    </tr>\n",
              "  </thead>\n",
              "  <tbody>\n",
              "    <tr>\n",
              "      <th>0</th>\n",
              "      <td>6</td>\n",
              "      <td>148</td>\n",
              "      <td>72</td>\n",
              "      <td>35</td>\n",
              "      <td>0</td>\n",
              "      <td>33.6</td>\n",
              "      <td>0.627</td>\n",
              "      <td>50</td>\n",
              "      <td>1</td>\n",
              "    </tr>\n",
              "    <tr>\n",
              "      <th>1</th>\n",
              "      <td>1</td>\n",
              "      <td>85</td>\n",
              "      <td>66</td>\n",
              "      <td>29</td>\n",
              "      <td>0</td>\n",
              "      <td>26.6</td>\n",
              "      <td>0.351</td>\n",
              "      <td>31</td>\n",
              "      <td>0</td>\n",
              "    </tr>\n",
              "    <tr>\n",
              "      <th>2</th>\n",
              "      <td>8</td>\n",
              "      <td>183</td>\n",
              "      <td>64</td>\n",
              "      <td>0</td>\n",
              "      <td>0</td>\n",
              "      <td>23.3</td>\n",
              "      <td>0.672</td>\n",
              "      <td>32</td>\n",
              "      <td>1</td>\n",
              "    </tr>\n",
              "    <tr>\n",
              "      <th>3</th>\n",
              "      <td>1</td>\n",
              "      <td>89</td>\n",
              "      <td>66</td>\n",
              "      <td>23</td>\n",
              "      <td>94</td>\n",
              "      <td>28.1</td>\n",
              "      <td>0.167</td>\n",
              "      <td>21</td>\n",
              "      <td>0</td>\n",
              "    </tr>\n",
              "    <tr>\n",
              "      <th>4</th>\n",
              "      <td>0</td>\n",
              "      <td>137</td>\n",
              "      <td>40</td>\n",
              "      <td>35</td>\n",
              "      <td>168</td>\n",
              "      <td>43.1</td>\n",
              "      <td>2.288</td>\n",
              "      <td>33</td>\n",
              "      <td>1</td>\n",
              "    </tr>\n",
              "    <tr>\n",
              "      <th>...</th>\n",
              "      <td>...</td>\n",
              "      <td>...</td>\n",
              "      <td>...</td>\n",
              "      <td>...</td>\n",
              "      <td>...</td>\n",
              "      <td>...</td>\n",
              "      <td>...</td>\n",
              "      <td>...</td>\n",
              "      <td>...</td>\n",
              "    </tr>\n",
              "    <tr>\n",
              "      <th>763</th>\n",
              "      <td>10</td>\n",
              "      <td>101</td>\n",
              "      <td>76</td>\n",
              "      <td>48</td>\n",
              "      <td>180</td>\n",
              "      <td>32.9</td>\n",
              "      <td>0.171</td>\n",
              "      <td>63</td>\n",
              "      <td>0</td>\n",
              "    </tr>\n",
              "    <tr>\n",
              "      <th>764</th>\n",
              "      <td>2</td>\n",
              "      <td>122</td>\n",
              "      <td>70</td>\n",
              "      <td>27</td>\n",
              "      <td>0</td>\n",
              "      <td>36.8</td>\n",
              "      <td>0.340</td>\n",
              "      <td>27</td>\n",
              "      <td>0</td>\n",
              "    </tr>\n",
              "    <tr>\n",
              "      <th>765</th>\n",
              "      <td>5</td>\n",
              "      <td>121</td>\n",
              "      <td>72</td>\n",
              "      <td>23</td>\n",
              "      <td>112</td>\n",
              "      <td>26.2</td>\n",
              "      <td>0.245</td>\n",
              "      <td>30</td>\n",
              "      <td>0</td>\n",
              "    </tr>\n",
              "    <tr>\n",
              "      <th>766</th>\n",
              "      <td>1</td>\n",
              "      <td>126</td>\n",
              "      <td>60</td>\n",
              "      <td>0</td>\n",
              "      <td>0</td>\n",
              "      <td>30.1</td>\n",
              "      <td>0.349</td>\n",
              "      <td>47</td>\n",
              "      <td>1</td>\n",
              "    </tr>\n",
              "    <tr>\n",
              "      <th>767</th>\n",
              "      <td>1</td>\n",
              "      <td>93</td>\n",
              "      <td>70</td>\n",
              "      <td>31</td>\n",
              "      <td>0</td>\n",
              "      <td>30.4</td>\n",
              "      <td>0.315</td>\n",
              "      <td>23</td>\n",
              "      <td>0</td>\n",
              "    </tr>\n",
              "  </tbody>\n",
              "</table>\n",
              "<p>768 rows × 9 columns</p>\n",
              "</div>\n",
              "    <div class=\"colab-df-buttons\">\n",
              "\n",
              "  <div class=\"colab-df-container\">\n",
              "    <button class=\"colab-df-convert\" onclick=\"convertToInteractive('df-49aa8723-4b1e-4d92-9a3a-8d2d98f7eb28')\"\n",
              "            title=\"Convert this dataframe to an interactive table.\"\n",
              "            style=\"display:none;\">\n",
              "\n",
              "  <svg xmlns=\"http://www.w3.org/2000/svg\" height=\"24px\" viewBox=\"0 -960 960 960\">\n",
              "    <path d=\"M120-120v-720h720v720H120Zm60-500h600v-160H180v160Zm220 220h160v-160H400v160Zm0 220h160v-160H400v160ZM180-400h160v-160H180v160Zm440 0h160v-160H620v160ZM180-180h160v-160H180v160Zm440 0h160v-160H620v160Z\"/>\n",
              "  </svg>\n",
              "    </button>\n",
              "\n",
              "  <style>\n",
              "    .colab-df-container {\n",
              "      display:flex;\n",
              "      gap: 12px;\n",
              "    }\n",
              "\n",
              "    .colab-df-convert {\n",
              "      background-color: #E8F0FE;\n",
              "      border: none;\n",
              "      border-radius: 50%;\n",
              "      cursor: pointer;\n",
              "      display: none;\n",
              "      fill: #1967D2;\n",
              "      height: 32px;\n",
              "      padding: 0 0 0 0;\n",
              "      width: 32px;\n",
              "    }\n",
              "\n",
              "    .colab-df-convert:hover {\n",
              "      background-color: #E2EBFA;\n",
              "      box-shadow: 0px 1px 2px rgba(60, 64, 67, 0.3), 0px 1px 3px 1px rgba(60, 64, 67, 0.15);\n",
              "      fill: #174EA6;\n",
              "    }\n",
              "\n",
              "    .colab-df-buttons div {\n",
              "      margin-bottom: 4px;\n",
              "    }\n",
              "\n",
              "    [theme=dark] .colab-df-convert {\n",
              "      background-color: #3B4455;\n",
              "      fill: #D2E3FC;\n",
              "    }\n",
              "\n",
              "    [theme=dark] .colab-df-convert:hover {\n",
              "      background-color: #434B5C;\n",
              "      box-shadow: 0px 1px 3px 1px rgba(0, 0, 0, 0.15);\n",
              "      filter: drop-shadow(0px 1px 2px rgba(0, 0, 0, 0.3));\n",
              "      fill: #FFFFFF;\n",
              "    }\n",
              "  </style>\n",
              "\n",
              "    <script>\n",
              "      const buttonEl =\n",
              "        document.querySelector('#df-49aa8723-4b1e-4d92-9a3a-8d2d98f7eb28 button.colab-df-convert');\n",
              "      buttonEl.style.display =\n",
              "        google.colab.kernel.accessAllowed ? 'block' : 'none';\n",
              "\n",
              "      async function convertToInteractive(key) {\n",
              "        const element = document.querySelector('#df-49aa8723-4b1e-4d92-9a3a-8d2d98f7eb28');\n",
              "        const dataTable =\n",
              "          await google.colab.kernel.invokeFunction('convertToInteractive',\n",
              "                                                    [key], {});\n",
              "        if (!dataTable) return;\n",
              "\n",
              "        const docLinkHtml = 'Like what you see? Visit the ' +\n",
              "          '<a target=\"_blank\" href=https://colab.research.google.com/notebooks/data_table.ipynb>data table notebook</a>'\n",
              "          + ' to learn more about interactive tables.';\n",
              "        element.innerHTML = '';\n",
              "        dataTable['output_type'] = 'display_data';\n",
              "        await google.colab.output.renderOutput(dataTable, element);\n",
              "        const docLink = document.createElement('div');\n",
              "        docLink.innerHTML = docLinkHtml;\n",
              "        element.appendChild(docLink);\n",
              "      }\n",
              "    </script>\n",
              "  </div>\n",
              "\n",
              "\n",
              "<div id=\"df-61cc505a-3a87-4a12-9d49-3cae35ee783e\">\n",
              "  <button class=\"colab-df-quickchart\" onclick=\"quickchart('df-61cc505a-3a87-4a12-9d49-3cae35ee783e')\"\n",
              "            title=\"Suggest charts\"\n",
              "            style=\"display:none;\">\n",
              "\n",
              "<svg xmlns=\"http://www.w3.org/2000/svg\" height=\"24px\"viewBox=\"0 0 24 24\"\n",
              "     width=\"24px\">\n",
              "    <g>\n",
              "        <path d=\"M19 3H5c-1.1 0-2 .9-2 2v14c0 1.1.9 2 2 2h14c1.1 0 2-.9 2-2V5c0-1.1-.9-2-2-2zM9 17H7v-7h2v7zm4 0h-2V7h2v10zm4 0h-2v-4h2v4z\"/>\n",
              "    </g>\n",
              "</svg>\n",
              "  </button>\n",
              "\n",
              "<style>\n",
              "  .colab-df-quickchart {\n",
              "      --bg-color: #E8F0FE;\n",
              "      --fill-color: #1967D2;\n",
              "      --hover-bg-color: #E2EBFA;\n",
              "      --hover-fill-color: #174EA6;\n",
              "      --disabled-fill-color: #AAA;\n",
              "      --disabled-bg-color: #DDD;\n",
              "  }\n",
              "\n",
              "  [theme=dark] .colab-df-quickchart {\n",
              "      --bg-color: #3B4455;\n",
              "      --fill-color: #D2E3FC;\n",
              "      --hover-bg-color: #434B5C;\n",
              "      --hover-fill-color: #FFFFFF;\n",
              "      --disabled-bg-color: #3B4455;\n",
              "      --disabled-fill-color: #666;\n",
              "  }\n",
              "\n",
              "  .colab-df-quickchart {\n",
              "    background-color: var(--bg-color);\n",
              "    border: none;\n",
              "    border-radius: 50%;\n",
              "    cursor: pointer;\n",
              "    display: none;\n",
              "    fill: var(--fill-color);\n",
              "    height: 32px;\n",
              "    padding: 0;\n",
              "    width: 32px;\n",
              "  }\n",
              "\n",
              "  .colab-df-quickchart:hover {\n",
              "    background-color: var(--hover-bg-color);\n",
              "    box-shadow: 0 1px 2px rgba(60, 64, 67, 0.3), 0 1px 3px 1px rgba(60, 64, 67, 0.15);\n",
              "    fill: var(--button-hover-fill-color);\n",
              "  }\n",
              "\n",
              "  .colab-df-quickchart-complete:disabled,\n",
              "  .colab-df-quickchart-complete:disabled:hover {\n",
              "    background-color: var(--disabled-bg-color);\n",
              "    fill: var(--disabled-fill-color);\n",
              "    box-shadow: none;\n",
              "  }\n",
              "\n",
              "  .colab-df-spinner {\n",
              "    border: 2px solid var(--fill-color);\n",
              "    border-color: transparent;\n",
              "    border-bottom-color: var(--fill-color);\n",
              "    animation:\n",
              "      spin 1s steps(1) infinite;\n",
              "  }\n",
              "\n",
              "  @keyframes spin {\n",
              "    0% {\n",
              "      border-color: transparent;\n",
              "      border-bottom-color: var(--fill-color);\n",
              "      border-left-color: var(--fill-color);\n",
              "    }\n",
              "    20% {\n",
              "      border-color: transparent;\n",
              "      border-left-color: var(--fill-color);\n",
              "      border-top-color: var(--fill-color);\n",
              "    }\n",
              "    30% {\n",
              "      border-color: transparent;\n",
              "      border-left-color: var(--fill-color);\n",
              "      border-top-color: var(--fill-color);\n",
              "      border-right-color: var(--fill-color);\n",
              "    }\n",
              "    40% {\n",
              "      border-color: transparent;\n",
              "      border-right-color: var(--fill-color);\n",
              "      border-top-color: var(--fill-color);\n",
              "    }\n",
              "    60% {\n",
              "      border-color: transparent;\n",
              "      border-right-color: var(--fill-color);\n",
              "    }\n",
              "    80% {\n",
              "      border-color: transparent;\n",
              "      border-right-color: var(--fill-color);\n",
              "      border-bottom-color: var(--fill-color);\n",
              "    }\n",
              "    90% {\n",
              "      border-color: transparent;\n",
              "      border-bottom-color: var(--fill-color);\n",
              "    }\n",
              "  }\n",
              "</style>\n",
              "\n",
              "  <script>\n",
              "    async function quickchart(key) {\n",
              "      const quickchartButtonEl =\n",
              "        document.querySelector('#' + key + ' button');\n",
              "      quickchartButtonEl.disabled = true;  // To prevent multiple clicks.\n",
              "      quickchartButtonEl.classList.add('colab-df-spinner');\n",
              "      try {\n",
              "        const charts = await google.colab.kernel.invokeFunction(\n",
              "            'suggestCharts', [key], {});\n",
              "      } catch (error) {\n",
              "        console.error('Error during call to suggestCharts:', error);\n",
              "      }\n",
              "      quickchartButtonEl.classList.remove('colab-df-spinner');\n",
              "      quickchartButtonEl.classList.add('colab-df-quickchart-complete');\n",
              "    }\n",
              "    (() => {\n",
              "      let quickchartButtonEl =\n",
              "        document.querySelector('#df-61cc505a-3a87-4a12-9d49-3cae35ee783e button');\n",
              "      quickchartButtonEl.style.display =\n",
              "        google.colab.kernel.accessAllowed ? 'block' : 'none';\n",
              "    })();\n",
              "  </script>\n",
              "</div>\n",
              "    </div>\n",
              "  </div>\n"
            ]
          },
          "metadata": {},
          "execution_count": 6
        }
      ],
      "source": [
        "#see the loaded dataframe\n",
        "df"
      ]
    },
    {
      "cell_type": "markdown",
      "metadata": {
        "id": "8X8ammq9raj0"
      },
      "source": [
        "As we can observe,\n",
        "- the dataset has 768 subjects and each subject have 9 variables:\n",
        "    1. Pregnancies\n",
        "    2. Glucose\n",
        "    3. BloodPressure\n",
        "    4. SkinThickness\n",
        "    5. Insulin\n",
        "    6. BMI\n",
        "    7. DiabetesPedigreeFunction\n",
        "    8. Age\n",
        "    9. Outcome\n",
        "- The last column \"Outcome\" denotes the diabetic information. A value of '1' here denotes that the subject has diabetes.\n",
        "- The rest of the 8 columns are medical predictor variables that are known to be associated with diabetes and they *might* help us to more accurately predict diabetes.\n",
        "\n",
        "**Our task here is to use these 8 medical predictor variables and try and predict if the subject has diabetes or not** (i.e. to predict the 'outcome' variable):\n",
        "\n",
        "<img src=\"https://github.com/volkamerlab/ai_in_medicine/raw/master/images/MLflowchart.png\">\n",
        "\n",
        "(*[link to the source diagram](https://github.com/volkamerlab/ai_in_medicine/raw/master/images/MLflowchart.png)*)"
      ]
    },
    {
      "cell_type": "markdown",
      "metadata": {
        "id": "6UgxfYNWraj0"
      },
      "source": [
        "**Discussion:**\n",
        "1. Would a machine learning model that uses these variables and diagnoses diabetes accurately be beneficial for the medical field?"
      ]
    },
    {
      "cell_type": "markdown",
      "metadata": {
        "id": "I40hlG_sraj1"
      },
      "source": [
        "Let us try to visualize the 'distribution' of the diabetes column in our data.\n",
        "\n",
        "---\n",
        "\n",
        "<br>\n",
        "We can use the `values_counts()` method of a `pandas.Dataframe`, to print the count of diabetic/ non-diabetic subjects."
      ]
    },
    {
      "cell_type": "code",
      "execution_count": 7,
      "metadata": {
        "id": "crD8LeWGraj1",
        "colab": {
          "base_uri": "https://localhost:8080/"
        },
        "outputId": "5f911b85-68fe-4dc2-82d7-bfbc36e3ae71"
      },
      "outputs": [
        {
          "output_type": "execute_result",
          "data": {
            "text/plain": [
              "0    500\n",
              "1    268\n",
              "Name: Outcome, dtype: int64"
            ]
          },
          "metadata": {},
          "execution_count": 7
        }
      ],
      "source": [
        "# count the subject with and without diabetes\n",
        "# first, select the 'Outcome' column from the dataframe\n",
        "label = df[\"Outcome\"]\n",
        "\n",
        "# next, use the pandas 'value_counts()' method\n",
        "label_counts = label.value_counts()\n",
        "\n",
        "# print the result\n",
        "label_counts"
      ]
    },
    {
      "cell_type": "markdown",
      "metadata": {
        "id": "yD_x7rFTraj1"
      },
      "source": [
        "Let's make these numbers more intuitive by plotting a 'bar' graph. <br>\n",
        "We can use the `plot()` function of pandas Dataframe to do this."
      ]
    },
    {
      "cell_type": "code",
      "execution_count": 8,
      "metadata": {
        "id": "aD2w6JFMraj2",
        "colab": {
          "base_uri": "https://localhost:8080/",
          "height": 425
        },
        "outputId": "e5c6c39e-8a2d-4b93-df37-1168f58421db"
      },
      "outputs": [
        {
          "output_type": "display_data",
          "data": {
            "text/plain": [
              "<Figure size 640x480 with 1 Axes>"
            ],
            "image/png": "[encoded data removed]"
          },
          "metadata": {}
        }
      ],
      "source": [
        "ax = label_counts.plot(kind=\"bar\")"
      ]
    },
    {
      "cell_type": "markdown",
      "metadata": {
        "id": "ZJyOsbX6raj2"
      },
      "source": [
        "Ok, we can definitely improve this graph a bit more and make it readable for anyone else who would look at it."
      ]
    },
    {
      "cell_type": "code",
      "execution_count": 9,
      "metadata": {
        "id": "BaCb8cyMraj2",
        "colab": {
          "base_uri": "https://localhost:8080/",
          "height": 452
        },
        "outputId": "bb56ff49-52eb-497c-ba5d-cea2e9bb58f2"
      },
      "outputs": [
        {
          "output_type": "display_data",
          "data": {
            "text/plain": [
              "<Figure size 640x480 with 1 Axes>"
            ],
            "image/png": "[encoded data removed]"
          },
          "metadata": {}
        }
      ],
      "source": [
        "ax = label_counts.plot(kind=\"bar\",\n",
        "                       title=\"Count of diabetic vs healthy subjects\",\n",
        "                       ylabel=\"number of subjects\",\n",
        "                       rot=0)\n",
        "#Note: rot=0: Rotates the x-axis labels to 0 degrees. This is useful if you want the x-axis labels to be horizontal.\n",
        "\n",
        "tick_names = ax.set_xticklabels([\"healthy\", \"diabetic\"])"
      ]
    },
    {
      "cell_type": "markdown",
      "metadata": {
        "id": "NBkyzhBPraj2"
      },
      "source": [
        "Now, let's visualize the distributions of the different medical variables that will be provided as input to our machine learning model."
      ]
    },
    {
      "cell_type": "code",
      "execution_count": 10,
      "metadata": {
        "id": "couJ5_xoraj3",
        "colab": {
          "base_uri": "https://localhost:8080/",
          "height": 171
        },
        "outputId": "2cd10c75-c422-4be5-a51d-d4a3ded91ad6"
      },
      "outputs": [
        {
          "output_type": "display_data",
          "data": {
            "text/plain": [
              "<Figure size 1600x400 with 4 Axes>"
            ],
            "image/png": "[encoded data removed]"
          },
          "metadata": {}
        }
      ],
      "source": [
        "# Goal: This code is using the matplotlib library to create a 1x4 grid of histograms for four different columns from a DataFrame (df)\n",
        "\n",
        "# first, create a canvas on which 1 x 4 graphs can be drawn\n",
        "f, axes = plt.subplots(1, 4, sharey=True, figsize=(16,4))\n",
        "#Note: sharey=True parameter means that all subplots share the same y-axis\n",
        "\n",
        "df.plot(y=\"Age\", kind=\"hist\", ax=axes[0])\n",
        "df.plot(y=\"Glucose\", kind=\"hist\", ax=axes[1])\n",
        "df.plot(y=\"DiabetesPedigreeFunction\", kind=\"hist\", ax=axes[2])\n",
        "df.plot(y=\"Pregnancies\", kind=\"hist\", ax=axes[3])\n",
        "\n",
        "#plt.tight_layout(): Adjusts the layout of the subplots to prevent overlapping.\n",
        "plt.tight_layout()\n",
        "\n",
        "#plt.show(): Displays the figure with the subplots.\n",
        "plt.show()"
      ]
    },
    {
      "cell_type": "markdown",
      "metadata": {
        "id": "k2v_nxHlraj3"
      },
      "source": [
        "Side note: We can also use the 'density' plot to visualize the same data.."
      ]
    },
    {
      "cell_type": "markdown",
      "metadata": {
        "id": "LLkysCG1raj3"
      },
      "source": [
        "**Exercise:** Now it's your turn. Similar to what we did in the previous cell, plot the distributions of the remaining 4 variables in the dataset:\n",
        "1. BMI\n",
        "2. SkinThickness\n",
        "3. BloodPressure\n",
        "4. Insulin"
      ]
    },
    {
      "cell_type": "code",
      "execution_count": 12,
      "metadata": {
        "id": "OghKO-bgraj3",
        "colab": {
          "base_uri": "https://localhost:8080/",
          "height": 171
        },
        "outputId": "692eca46-98fb-42e4-f209-e0d74f958bc8"
      },
      "outputs": [
        {
          "output_type": "display_data",
          "data": {
            "text/plain": [
              "<Figure size 1600x400 with 4 Axes>"
            ],
            "image/png": "[encoded data removed]"
          },
          "metadata": {}
        }
      ],
      "source": [
        "# YOUR CODE GOES HERE\n",
        "# hint: start by copying the code from the above cell.\n",
        "# Next, provide the column names you want to visualize.\n",
        "f, axes = plt.subplots(1,4,sharey=True, figsize = (16, 4))\n",
        "\n",
        "df.plot(y=\"BMI\", kind = \"hist\" , ax = axes[0]) # specifying what column that should be\n",
        "df.plot(y=\"SkinThickness\", kind = \"hist\" , ax = axes[1])\n",
        "df.plot(y=\"BloodPressure\", kind = \"hist\" , ax = axes[2])\n",
        "df.plot(y=\"Insulin\", kind = \"hist\" , ax = axes[3])\n",
        "\n",
        "plt.tight_layout()\n",
        "plt.show()"
      ]
    },
    {
      "cell_type": "markdown",
      "metadata": {
        "id": "UdNEJSePraj4"
      },
      "source": [
        "<!-- f, axes = plt.subplots(1, 4, sharey=True, figsize=(16,4))\n",
        "\n",
        "df.plot(y=\"BMI\", kind=\"hist\", ax=axes[0])\n",
        "df.plot(y=\"SkinThickness\", kind=\"hist\", ax=axes[1])\n",
        "df.plot(y=\"BloodPressure\", kind=\"hist\", ax=axes[2])\n",
        "df.plot(y=\"Insulin\", kind=\"hist\", ax=axes[3])\n",
        "\n",
        "plt.tight_layout()\n",
        "plt.show() -->"
      ]
    },
    {
      "cell_type": "markdown",
      "metadata": {
        "id": "17VtdY6iraj4"
      },
      "source": [
        "### 5.2 Preprocessing the data"
      ]
    },
    {
      "cell_type": "markdown",
      "metadata": {
        "id": "OUDksElTraj4"
      },
      "source": [
        "Generally, large datasets are messy with missing information or incorrect and invalid values due to human errors or systemic issues in the data collection process. Therefore, in practice, you need to preprocess the data. Otherwise, they wouldn't be reliable enough to train a machine learning model.\n",
        "\n",
        "Some of the prominent preprocessing steps include:\n",
        "* Dropping invalid/non-numeric/gibberish values\n",
        "* Cleaning unneeded columns\n",
        "* Converting measurement units\n",
        "* Reducing noise using smoothing functions\n",
        "* Standardizing and normalizing variable values"
      ]
    },
    {
      "cell_type": "markdown",
      "metadata": {
        "id": "raskVsYBraj5"
      },
      "source": [
        "Some subjects have 'Glucose' value as '0' which can't be the case.\n",
        "\n",
        "Maybe the data was not collected for these subjects.\n",
        "\n",
        "\n",
        "* Glucose level in non-diabetic patinet typically is in the range of 70 to 99 mg/dL (milligrams per deciliter)\n",
        "\n",
        "\n"
      ]
    },
    {
      "cell_type": "code",
      "execution_count": 13,
      "metadata": {
        "id": "Uu8z2crwraj5",
        "colab": {
          "base_uri": "https://localhost:8080/"
        },
        "outputId": "3dc12299-aa30-4675-cb90-51cbedf0c310"
      },
      "outputs": [
        {
          "output_type": "execute_result",
          "data": {
            "text/plain": [
              "0      False\n",
              "1      False\n",
              "2      False\n",
              "3      False\n",
              "4      False\n",
              "       ...  \n",
              "763    False\n",
              "764    False\n",
              "765    False\n",
              "766    False\n",
              "767    False\n",
              "Name: Glucose, Length: 768, dtype: bool"
            ]
          },
          "metadata": {},
          "execution_count": 13
        }
      ],
      "source": [
        "# print the count of subjects with Glucose == 0\n",
        "(df['Glucose'] == 0)"
      ]
    },
    {
      "cell_type": "code",
      "execution_count": 14,
      "metadata": {
        "id": "3TQ9FTjyraj5",
        "colab": {
          "base_uri": "https://localhost:8080/"
        },
        "outputId": "030d13b8-9432-4e31-cefb-10da4382e5a2"
      },
      "outputs": [
        {
          "output_type": "execute_result",
          "data": {
            "text/plain": [
              "False    763\n",
              "True       5\n",
              "Name: Glucose, dtype: int64"
            ]
          },
          "metadata": {},
          "execution_count": 14
        }
      ],
      "source": [
        "(df['Glucose'] == 0).value_counts()"
      ]
    },
    {
      "cell_type": "markdown",
      "metadata": {
        "id": "NOlQPFWUraj6"
      },
      "source": [
        "Let's drop these subjects from our data as they are probably not very reliable"
      ]
    },
    {
      "cell_type": "code",
      "execution_count": 19,
      "metadata": {
        "id": "uFHXipmdraj6",
        "colab": {
          "base_uri": "https://localhost:8080/",
          "height": 444
        },
        "outputId": "40bc8686-62e6-414f-e23a-f9fbd5bd84b2"
      },
      "outputs": [
        {
          "output_type": "execute_result",
          "data": {
            "text/plain": [
              "     Pregnancies  Glucose  BloodPressure  SkinThickness  Insulin   BMI  \\\n",
              "0              6      148             72             35        0  33.6   \n",
              "1              1       85             66             29        0  26.6   \n",
              "2              8      183             64              0        0  23.3   \n",
              "3              1       89             66             23       94  28.1   \n",
              "4              0      137             40             35      168  43.1   \n",
              "..           ...      ...            ...            ...      ...   ...   \n",
              "763           10      101             76             48      180  32.9   \n",
              "764            2      122             70             27        0  36.8   \n",
              "765            5      121             72             23      112  26.2   \n",
              "766            1      126             60              0        0  30.1   \n",
              "767            1       93             70             31        0  30.4   \n",
              "\n",
              "     DiabetesPedigreeFunction  Age  Outcome  \n",
              "0                       0.627   50        1  \n",
              "1                       0.351   31        0  \n",
              "2                       0.672   32        1  \n",
              "3                       0.167   21        0  \n",
              "4                       2.288   33        1  \n",
              "..                        ...  ...      ...  \n",
              "763                     0.171   63        0  \n",
              "764                     0.340   27        0  \n",
              "765                     0.245   30        0  \n",
              "766                     0.349   47        1  \n",
              "767                     0.315   23        0  \n",
              "\n",
              "[763 rows x 9 columns]"
            ],
            "text/html": [
              "\n",
              "  <div id=\"df-e470d5dd-bcc8-4241-8923-1bee0165e1a5\" class=\"colab-df-container\">\n",
              "    <div>\n",
              "<style scoped>\n",
              "    .dataframe tbody tr th:only-of-type {\n",
              "        vertical-align: middle;\n",
              "    }\n",
              "\n",
              "    .dataframe tbody tr th {\n",
              "        vertical-align: top;\n",
              "    }\n",
              "\n",
              "    .dataframe thead th {\n",
              "        text-align: right;\n",
              "    }\n",
              "</style>\n",
              "<table border=\"1\" class=\"dataframe\">\n",
              "  <thead>\n",
              "    <tr style=\"text-align: right;\">\n",
              "      <th></th>\n",
              "      <th>Pregnancies</th>\n",
              "      <th>Glucose</th>\n",
              "      <th>BloodPressure</th>\n",
              "      <th>SkinThickness</th>\n",
              "      <th>Insulin</th>\n",
              "      <th>BMI</th>\n",
              "      <th>DiabetesPedigreeFunction</th>\n",
              "      <th>Age</th>\n",
              "      <th>Outcome</th>\n",
              "    </tr>\n",
              "  </thead>\n",
              "  <tbody>\n",
              "    <tr>\n",
              "      <th>0</th>\n",
              "      <td>6</td>\n",
              "      <td>148</td>\n",
              "      <td>72</td>\n",
              "      <td>35</td>\n",
              "      <td>0</td>\n",
              "      <td>33.6</td>\n",
              "      <td>0.627</td>\n",
              "      <td>50</td>\n",
              "      <td>1</td>\n",
              "    </tr>\n",
              "    <tr>\n",
              "      <th>1</th>\n",
              "      <td>1</td>\n",
              "      <td>85</td>\n",
              "      <td>66</td>\n",
              "      <td>29</td>\n",
              "      <td>0</td>\n",
              "      <td>26.6</td>\n",
              "      <td>0.351</td>\n",
              "      <td>31</td>\n",
              "      <td>0</td>\n",
              "    </tr>\n",
              "    <tr>\n",
              "      <th>2</th>\n",
              "      <td>8</td>\n",
              "      <td>183</td>\n",
              "      <td>64</td>\n",
              "      <td>0</td>\n",
              "      <td>0</td>\n",
              "      <td>23.3</td>\n",
              "      <td>0.672</td>\n",
              "      <td>32</td>\n",
              "      <td>1</td>\n",
              "    </tr>\n",
              "    <tr>\n",
              "      <th>3</th>\n",
              "      <td>1</td>\n",
              "      <td>89</td>\n",
              "      <td>66</td>\n",
              "      <td>23</td>\n",
              "      <td>94</td>\n",
              "      <td>28.1</td>\n",
              "      <td>0.167</td>\n",
              "      <td>21</td>\n",
              "      <td>0</td>\n",
              "    </tr>\n",
              "    <tr>\n",
              "      <th>4</th>\n",
              "      <td>0</td>\n",
              "      <td>137</td>\n",
              "      <td>40</td>\n",
              "      <td>35</td>\n",
              "      <td>168</td>\n",
              "      <td>43.1</td>\n",
              "      <td>2.288</td>\n",
              "      <td>33</td>\n",
              "      <td>1</td>\n",
              "    </tr>\n",
              "    <tr>\n",
              "      <th>...</th>\n",
              "      <td>...</td>\n",
              "      <td>...</td>\n",
              "      <td>...</td>\n",
              "      <td>...</td>\n",
              "      <td>...</td>\n",
              "      <td>...</td>\n",
              "      <td>...</td>\n",
              "      <td>...</td>\n",
              "      <td>...</td>\n",
              "    </tr>\n",
              "    <tr>\n",
              "      <th>763</th>\n",
              "      <td>10</td>\n",
              "      <td>101</td>\n",
              "      <td>76</td>\n",
              "      <td>48</td>\n",
              "      <td>180</td>\n",
              "      <td>32.9</td>\n",
              "      <td>0.171</td>\n",
              "      <td>63</td>\n",
              "      <td>0</td>\n",
              "    </tr>\n",
              "    <tr>\n",
              "      <th>764</th>\n",
              "      <td>2</td>\n",
              "      <td>122</td>\n",
              "      <td>70</td>\n",
              "      <td>27</td>\n",
              "      <td>0</td>\n",
              "      <td>36.8</td>\n",
              "      <td>0.340</td>\n",
              "      <td>27</td>\n",
              "      <td>0</td>\n",
              "    </tr>\n",
              "    <tr>\n",
              "      <th>765</th>\n",
              "      <td>5</td>\n",
              "      <td>121</td>\n",
              "      <td>72</td>\n",
              "      <td>23</td>\n",
              "      <td>112</td>\n",
              "      <td>26.2</td>\n",
              "      <td>0.245</td>\n",
              "      <td>30</td>\n",
              "      <td>0</td>\n",
              "    </tr>\n",
              "    <tr>\n",
              "      <th>766</th>\n",
              "      <td>1</td>\n",
              "      <td>126</td>\n",
              "      <td>60</td>\n",
              "      <td>0</td>\n",
              "      <td>0</td>\n",
              "      <td>30.1</td>\n",
              "      <td>0.349</td>\n",
              "      <td>47</td>\n",
              "      <td>1</td>\n",
              "    </tr>\n",
              "    <tr>\n",
              "      <th>767</th>\n",
              "      <td>1</td>\n",
              "      <td>93</td>\n",
              "      <td>70</td>\n",
              "      <td>31</td>\n",
              "      <td>0</td>\n",
              "      <td>30.4</td>\n",
              "      <td>0.315</td>\n",
              "      <td>23</td>\n",
              "      <td>0</td>\n",
              "    </tr>\n",
              "  </tbody>\n",
              "</table>\n",
              "<p>763 rows × 9 columns</p>\n",
              "</div>\n",
              "    <div class=\"colab-df-buttons\">\n",
              "\n",
              "  <div class=\"colab-df-container\">\n",
              "    <button class=\"colab-df-convert\" onclick=\"convertToInteractive('df-e470d5dd-bcc8-4241-8923-1bee0165e1a5')\"\n",
              "            title=\"Convert this dataframe to an interactive table.\"\n",
              "            style=\"display:none;\">\n",
              "\n",
              "  <svg xmlns=\"http://www.w3.org/2000/svg\" height=\"24px\" viewBox=\"0 -960 960 960\">\n",
              "    <path d=\"M120-120v-720h720v720H120Zm60-500h600v-160H180v160Zm220 220h160v-160H400v160Zm0 220h160v-160H400v160ZM180-400h160v-160H180v160Zm440 0h160v-160H620v160ZM180-180h160v-160H180v160Zm440 0h160v-160H620v160Z\"/>\n",
              "  </svg>\n",
              "    </button>\n",
              "\n",
              "  <style>\n",
              "    .colab-df-container {\n",
              "      display:flex;\n",
              "      gap: 12px;\n",
              "    }\n",
              "\n",
              "    .colab-df-convert {\n",
              "      background-color: #E8F0FE;\n",
              "      border: none;\n",
              "      border-radius: 50%;\n",
              "      cursor: pointer;\n",
              "      display: none;\n",
              "      fill: #1967D2;\n",
              "      height: 32px;\n",
              "      padding: 0 0 0 0;\n",
              "      width: 32px;\n",
              "    }\n",
              "\n",
              "    .colab-df-convert:hover {\n",
              "      background-color: #E2EBFA;\n",
              "      box-shadow: 0px 1px 2px rgba(60, 64, 67, 0.3), 0px 1px 3px 1px rgba(60, 64, 67, 0.15);\n",
              "      fill: #174EA6;\n",
              "    }\n",
              "\n",
              "    .colab-df-buttons div {\n",
              "      margin-bottom: 4px;\n",
              "    }\n",
              "\n",
              "    [theme=dark] .colab-df-convert {\n",
              "      background-color: #3B4455;\n",
              "      fill: #D2E3FC;\n",
              "    }\n",
              "\n",
              "    [theme=dark] .colab-df-convert:hover {\n",
              "      background-color: #434B5C;\n",
              "      box-shadow: 0px 1px 3px 1px rgba(0, 0, 0, 0.15);\n",
              "      filter: drop-shadow(0px 1px 2px rgba(0, 0, 0, 0.3));\n",
              "      fill: #FFFFFF;\n",
              "    }\n",
              "  </style>\n",
              "\n",
              "    <script>\n",
              "      const buttonEl =\n",
              "        document.querySelector('#df-e470d5dd-bcc8-4241-8923-1bee0165e1a5 button.colab-df-convert');\n",
              "      buttonEl.style.display =\n",
              "        google.colab.kernel.accessAllowed ? 'block' : 'none';\n",
              "\n",
              "      async function convertToInteractive(key) {\n",
              "        const element = document.querySelector('#df-e470d5dd-bcc8-4241-8923-1bee0165e1a5');\n",
              "        const dataTable =\n",
              "          await google.colab.kernel.invokeFunction('convertToInteractive',\n",
              "                                                    [key], {});\n",
              "        if (!dataTable) return;\n",
              "\n",
              "        const docLinkHtml = 'Like what you see? Visit the ' +\n",
              "          '<a target=\"_blank\" href=https://colab.research.google.com/notebooks/data_table.ipynb>data table notebook</a>'\n",
              "          + ' to learn more about interactive tables.';\n",
              "        element.innerHTML = '';\n",
              "        dataTable['output_type'] = 'display_data';\n",
              "        await google.colab.output.renderOutput(dataTable, element);\n",
              "        const docLink = document.createElement('div');\n",
              "        docLink.innerHTML = docLinkHtml;\n",
              "        element.appendChild(docLink);\n",
              "      }\n",
              "    </script>\n",
              "  </div>\n",
              "\n",
              "\n",
              "<div id=\"df-7f5289e2-b7e9-4822-a05b-87e85e5244a6\">\n",
              "  <button class=\"colab-df-quickchart\" onclick=\"quickchart('df-7f5289e2-b7e9-4822-a05b-87e85e5244a6')\"\n",
              "            title=\"Suggest charts\"\n",
              "            style=\"display:none;\">\n",
              "\n",
              "<svg xmlns=\"http://www.w3.org/2000/svg\" height=\"24px\"viewBox=\"0 0 24 24\"\n",
              "     width=\"24px\">\n",
              "    <g>\n",
              "        <path d=\"M19 3H5c-1.1 0-2 .9-2 2v14c0 1.1.9 2 2 2h14c1.1 0 2-.9 2-2V5c0-1.1-.9-2-2-2zM9 17H7v-7h2v7zm4 0h-2V7h2v10zm4 0h-2v-4h2v4z\"/>\n",
              "    </g>\n",
              "</svg>\n",
              "  </button>\n",
              "\n",
              "<style>\n",
              "  .colab-df-quickchart {\n",
              "      --bg-color: #E8F0FE;\n",
              "      --fill-color: #1967D2;\n",
              "      --hover-bg-color: #E2EBFA;\n",
              "      --hover-fill-color: #174EA6;\n",
              "      --disabled-fill-color: #AAA;\n",
              "      --disabled-bg-color: #DDD;\n",
              "  }\n",
              "\n",
              "  [theme=dark] .colab-df-quickchart {\n",
              "      --bg-color: #3B4455;\n",
              "      --fill-color: #D2E3FC;\n",
              "      --hover-bg-color: #434B5C;\n",
              "      --hover-fill-color: #FFFFFF;\n",
              "      --disabled-bg-color: #3B4455;\n",
              "      --disabled-fill-color: #666;\n",
              "  }\n",
              "\n",
              "  .colab-df-quickchart {\n",
              "    background-color: var(--bg-color);\n",
              "    border: none;\n",
              "    border-radius: 50%;\n",
              "    cursor: pointer;\n",
              "    display: none;\n",
              "    fill: var(--fill-color);\n",
              "    height: 32px;\n",
              "    padding: 0;\n",
              "    width: 32px;\n",
              "  }\n",
              "\n",
              "  .colab-df-quickchart:hover {\n",
              "    background-color: var(--hover-bg-color);\n",
              "    box-shadow: 0 1px 2px rgba(60, 64, 67, 0.3), 0 1px 3px 1px rgba(60, 64, 67, 0.15);\n",
              "    fill: var(--button-hover-fill-color);\n",
              "  }\n",
              "\n",
              "  .colab-df-quickchart-complete:disabled,\n",
              "  .colab-df-quickchart-complete:disabled:hover {\n",
              "    background-color: var(--disabled-bg-color);\n",
              "    fill: var(--disabled-fill-color);\n",
              "    box-shadow: none;\n",
              "  }\n",
              "\n",
              "  .colab-df-spinner {\n",
              "    border: 2px solid var(--fill-color);\n",
              "    border-color: transparent;\n",
              "    border-bottom-color: var(--fill-color);\n",
              "    animation:\n",
              "      spin 1s steps(1) infinite;\n",
              "  }\n",
              "\n",
              "  @keyframes spin {\n",
              "    0% {\n",
              "      border-color: transparent;\n",
              "      border-bottom-color: var(--fill-color);\n",
              "      border-left-color: var(--fill-color);\n",
              "    }\n",
              "    20% {\n",
              "      border-color: transparent;\n",
              "      border-left-color: var(--fill-color);\n",
              "      border-top-color: var(--fill-color);\n",
              "    }\n",
              "    30% {\n",
              "      border-color: transparent;\n",
              "      border-left-color: var(--fill-color);\n",
              "      border-top-color: var(--fill-color);\n",
              "      border-right-color: var(--fill-color);\n",
              "    }\n",
              "    40% {\n",
              "      border-color: transparent;\n",
              "      border-right-color: var(--fill-color);\n",
              "      border-top-color: var(--fill-color);\n",
              "    }\n",
              "    60% {\n",
              "      border-color: transparent;\n",
              "      border-right-color: var(--fill-color);\n",
              "    }\n",
              "    80% {\n",
              "      border-color: transparent;\n",
              "      border-right-color: var(--fill-color);\n",
              "      border-bottom-color: var(--fill-color);\n",
              "    }\n",
              "    90% {\n",
              "      border-color: transparent;\n",
              "      border-bottom-color: var(--fill-color);\n",
              "    }\n",
              "  }\n",
              "</style>\n",
              "\n",
              "  <script>\n",
              "    async function quickchart(key) {\n",
              "      const quickchartButtonEl =\n",
              "        document.querySelector('#' + key + ' button');\n",
              "      quickchartButtonEl.disabled = true;  // To prevent multiple clicks.\n",
              "      quickchartButtonEl.classList.add('colab-df-spinner');\n",
              "      try {\n",
              "        const charts = await google.colab.kernel.invokeFunction(\n",
              "            'suggestCharts', [key], {});\n",
              "      } catch (error) {\n",
              "        console.error('Error during call to suggestCharts:', error);\n",
              "      }\n",
              "      quickchartButtonEl.classList.remove('colab-df-spinner');\n",
              "      quickchartButtonEl.classList.add('colab-df-quickchart-complete');\n",
              "    }\n",
              "    (() => {\n",
              "      let quickchartButtonEl =\n",
              "        document.querySelector('#df-7f5289e2-b7e9-4822-a05b-87e85e5244a6 button');\n",
              "      quickchartButtonEl.style.display =\n",
              "        google.colab.kernel.accessAllowed ? 'block' : 'none';\n",
              "    })();\n",
              "  </script>\n",
              "</div>\n",
              "    </div>\n",
              "  </div>\n"
            ]
          },
          "metadata": {},
          "execution_count": 19
        }
      ],
      "source": [
        "# select only the subjects who have a 'Glucose' value\n",
        "df_clean = df[(df['Glucose'] != 0)]\n",
        "df_clean"
      ]
    },
    {
      "cell_type": "markdown",
      "metadata": {
        "id": "Zt-oqb50raj6"
      },
      "source": [
        "It is the same case with 'BMI' where some subjects have '0'. Let's remove them too."
      ]
    },
    {
      "cell_type": "code",
      "execution_count": 16,
      "metadata": {
        "id": "cFTjcvZBraj6"
      },
      "outputs": [],
      "source": [
        "df_clean = df_clean[(df_clean['BMI'] != 0)]"
      ]
    },
    {
      "cell_type": "markdown",
      "metadata": {
        "id": "u9ulmLkcraj7"
      },
      "source": [
        "**Exercise:** Similarly, lets also remove subjects with BloodPressure=0 as those are also probably incoherent data."
      ]
    },
    {
      "cell_type": "code",
      "execution_count": 20,
      "metadata": {
        "id": "8LhY4mMArakP"
      },
      "outputs": [],
      "source": [
        "# YOUR CODE GOES HERE\n",
        "df_clean = df_clean[(df_clean['BloodPressure'] != 0)]"
      ]
    },
    {
      "cell_type": "markdown",
      "metadata": {
        "id": "A2jtAlSWrakP"
      },
      "source": [
        "<!--  df_clean = df_clean[(df_clean['BMI'] != 0)] -->"
      ]
    },
    {
      "cell_type": "code",
      "execution_count": 21,
      "metadata": {
        "id": "l0KHQ6mdrakP",
        "colab": {
          "base_uri": "https://localhost:8080/",
          "height": 444
        },
        "outputId": "f9f48bd5-e390-45cb-d33b-8083a48f1215"
      },
      "outputs": [
        {
          "output_type": "execute_result",
          "data": {
            "text/plain": [
              "     Pregnancies  Glucose  BloodPressure  SkinThickness  Insulin   BMI  \\\n",
              "0              6      148             72             35        0  33.6   \n",
              "1              1       85             66             29        0  26.6   \n",
              "2              8      183             64              0        0  23.3   \n",
              "3              1       89             66             23       94  28.1   \n",
              "4              0      137             40             35      168  43.1   \n",
              "..           ...      ...            ...            ...      ...   ...   \n",
              "763           10      101             76             48      180  32.9   \n",
              "764            2      122             70             27        0  36.8   \n",
              "765            5      121             72             23      112  26.2   \n",
              "766            1      126             60              0        0  30.1   \n",
              "767            1       93             70             31        0  30.4   \n",
              "\n",
              "     DiabetesPedigreeFunction  Age  Outcome  \n",
              "0                       0.627   50        1  \n",
              "1                       0.351   31        0  \n",
              "2                       0.672   32        1  \n",
              "3                       0.167   21        0  \n",
              "4                       2.288   33        1  \n",
              "..                        ...  ...      ...  \n",
              "763                     0.171   63        0  \n",
              "764                     0.340   27        0  \n",
              "765                     0.245   30        0  \n",
              "766                     0.349   47        1  \n",
              "767                     0.315   23        0  \n",
              "\n",
              "[728 rows x 9 columns]"
            ],
            "text/html": [
              "\n",
              "  <div id=\"df-0866f5f7-40ba-4f24-846f-3e51e1d4c469\" class=\"colab-df-container\">\n",
              "    <div>\n",
              "<style scoped>\n",
              "    .dataframe tbody tr th:only-of-type {\n",
              "        vertical-align: middle;\n",
              "    }\n",
              "\n",
              "    .dataframe tbody tr th {\n",
              "        vertical-align: top;\n",
              "    }\n",
              "\n",
              "    .dataframe thead th {\n",
              "        text-align: right;\n",
              "    }\n",
              "</style>\n",
              "<table border=\"1\" class=\"dataframe\">\n",
              "  <thead>\n",
              "    <tr style=\"text-align: right;\">\n",
              "      <th></th>\n",
              "      <th>Pregnancies</th>\n",
              "      <th>Glucose</th>\n",
              "      <th>BloodPressure</th>\n",
              "      <th>SkinThickness</th>\n",
              "      <th>Insulin</th>\n",
              "      <th>BMI</th>\n",
              "      <th>DiabetesPedigreeFunction</th>\n",
              "      <th>Age</th>\n",
              "      <th>Outcome</th>\n",
              "    </tr>\n",
              "  </thead>\n",
              "  <tbody>\n",
              "    <tr>\n",
              "      <th>0</th>\n",
              "      <td>6</td>\n",
              "      <td>148</td>\n",
              "      <td>72</td>\n",
              "      <td>35</td>\n",
              "      <td>0</td>\n",
              "      <td>33.6</td>\n",
              "      <td>0.627</td>\n",
              "      <td>50</td>\n",
              "      <td>1</td>\n",
              "    </tr>\n",
              "    <tr>\n",
              "      <th>1</th>\n",
              "      <td>1</td>\n",
              "      <td>85</td>\n",
              "      <td>66</td>\n",
              "      <td>29</td>\n",
              "      <td>0</td>\n",
              "      <td>26.6</td>\n",
              "      <td>0.351</td>\n",
              "      <td>31</td>\n",
              "      <td>0</td>\n",
              "    </tr>\n",
              "    <tr>\n",
              "      <th>2</th>\n",
              "      <td>8</td>\n",
              "      <td>183</td>\n",
              "      <td>64</td>\n",
              "      <td>0</td>\n",
              "      <td>0</td>\n",
              "      <td>23.3</td>\n",
              "      <td>0.672</td>\n",
              "      <td>32</td>\n",
              "      <td>1</td>\n",
              "    </tr>\n",
              "    <tr>\n",
              "      <th>3</th>\n",
              "      <td>1</td>\n",
              "      <td>89</td>\n",
              "      <td>66</td>\n",
              "      <td>23</td>\n",
              "      <td>94</td>\n",
              "      <td>28.1</td>\n",
              "      <td>0.167</td>\n",
              "      <td>21</td>\n",
              "      <td>0</td>\n",
              "    </tr>\n",
              "    <tr>\n",
              "      <th>4</th>\n",
              "      <td>0</td>\n",
              "      <td>137</td>\n",
              "      <td>40</td>\n",
              "      <td>35</td>\n",
              "      <td>168</td>\n",
              "      <td>43.1</td>\n",
              "      <td>2.288</td>\n",
              "      <td>33</td>\n",
              "      <td>1</td>\n",
              "    </tr>\n",
              "    <tr>\n",
              "      <th>...</th>\n",
              "      <td>...</td>\n",
              "      <td>...</td>\n",
              "      <td>...</td>\n",
              "      <td>...</td>\n",
              "      <td>...</td>\n",
              "      <td>...</td>\n",
              "      <td>...</td>\n",
              "      <td>...</td>\n",
              "      <td>...</td>\n",
              "    </tr>\n",
              "    <tr>\n",
              "      <th>763</th>\n",
              "      <td>10</td>\n",
              "      <td>101</td>\n",
              "      <td>76</td>\n",
              "      <td>48</td>\n",
              "      <td>180</td>\n",
              "      <td>32.9</td>\n",
              "      <td>0.171</td>\n",
              "      <td>63</td>\n",
              "      <td>0</td>\n",
              "    </tr>\n",
              "    <tr>\n",
              "      <th>764</th>\n",
              "      <td>2</td>\n",
              "      <td>122</td>\n",
              "      <td>70</td>\n",
              "      <td>27</td>\n",
              "      <td>0</td>\n",
              "      <td>36.8</td>\n",
              "      <td>0.340</td>\n",
              "      <td>27</td>\n",
              "      <td>0</td>\n",
              "    </tr>\n",
              "    <tr>\n",
              "      <th>765</th>\n",
              "      <td>5</td>\n",
              "      <td>121</td>\n",
              "      <td>72</td>\n",
              "      <td>23</td>\n",
              "      <td>112</td>\n",
              "      <td>26.2</td>\n",
              "      <td>0.245</td>\n",
              "      <td>30</td>\n",
              "      <td>0</td>\n",
              "    </tr>\n",
              "    <tr>\n",
              "      <th>766</th>\n",
              "      <td>1</td>\n",
              "      <td>126</td>\n",
              "      <td>60</td>\n",
              "      <td>0</td>\n",
              "      <td>0</td>\n",
              "      <td>30.1</td>\n",
              "      <td>0.349</td>\n",
              "      <td>47</td>\n",
              "      <td>1</td>\n",
              "    </tr>\n",
              "    <tr>\n",
              "      <th>767</th>\n",
              "      <td>1</td>\n",
              "      <td>93</td>\n",
              "      <td>70</td>\n",
              "      <td>31</td>\n",
              "      <td>0</td>\n",
              "      <td>30.4</td>\n",
              "      <td>0.315</td>\n",
              "      <td>23</td>\n",
              "      <td>0</td>\n",
              "    </tr>\n",
              "  </tbody>\n",
              "</table>\n",
              "<p>728 rows × 9 columns</p>\n",
              "</div>\n",
              "    <div class=\"colab-df-buttons\">\n",
              "\n",
              "  <div class=\"colab-df-container\">\n",
              "    <button class=\"colab-df-convert\" onclick=\"convertToInteractive('df-0866f5f7-40ba-4f24-846f-3e51e1d4c469')\"\n",
              "            title=\"Convert this dataframe to an interactive table.\"\n",
              "            style=\"display:none;\">\n",
              "\n",
              "  <svg xmlns=\"http://www.w3.org/2000/svg\" height=\"24px\" viewBox=\"0 -960 960 960\">\n",
              "    <path d=\"M120-120v-720h720v720H120Zm60-500h600v-160H180v160Zm220 220h160v-160H400v160Zm0 220h160v-160H400v160ZM180-400h160v-160H180v160Zm440 0h160v-160H620v160ZM180-180h160v-160H180v160Zm440 0h160v-160H620v160Z\"/>\n",
              "  </svg>\n",
              "    </button>\n",
              "\n",
              "  <style>\n",
              "    .colab-df-container {\n",
              "      display:flex;\n",
              "      gap: 12px;\n",
              "    }\n",
              "\n",
              "    .colab-df-convert {\n",
              "      background-color: #E8F0FE;\n",
              "      border: none;\n",
              "      border-radius: 50%;\n",
              "      cursor: pointer;\n",
              "      display: none;\n",
              "      fill: #1967D2;\n",
              "      height: 32px;\n",
              "      padding: 0 0 0 0;\n",
              "      width: 32px;\n",
              "    }\n",
              "\n",
              "    .colab-df-convert:hover {\n",
              "      background-color: #E2EBFA;\n",
              "      box-shadow: 0px 1px 2px rgba(60, 64, 67, 0.3), 0px 1px 3px 1px rgba(60, 64, 67, 0.15);\n",
              "      fill: #174EA6;\n",
              "    }\n",
              "\n",
              "    .colab-df-buttons div {\n",
              "      margin-bottom: 4px;\n",
              "    }\n",
              "\n",
              "    [theme=dark] .colab-df-convert {\n",
              "      background-color: #3B4455;\n",
              "      fill: #D2E3FC;\n",
              "    }\n",
              "\n",
              "    [theme=dark] .colab-df-convert:hover {\n",
              "      background-color: #434B5C;\n",
              "      box-shadow: 0px 1px 3px 1px rgba(0, 0, 0, 0.15);\n",
              "      filter: drop-shadow(0px 1px 2px rgba(0, 0, 0, 0.3));\n",
              "      fill: #FFFFFF;\n",
              "    }\n",
              "  </style>\n",
              "\n",
              "    <script>\n",
              "      const buttonEl =\n",
              "        document.querySelector('#df-0866f5f7-40ba-4f24-846f-3e51e1d4c469 button.colab-df-convert');\n",
              "      buttonEl.style.display =\n",
              "        google.colab.kernel.accessAllowed ? 'block' : 'none';\n",
              "\n",
              "      async function convertToInteractive(key) {\n",
              "        const element = document.querySelector('#df-0866f5f7-40ba-4f24-846f-3e51e1d4c469');\n",
              "        const dataTable =\n",
              "          await google.colab.kernel.invokeFunction('convertToInteractive',\n",
              "                                                    [key], {});\n",
              "        if (!dataTable) return;\n",
              "\n",
              "        const docLinkHtml = 'Like what you see? Visit the ' +\n",
              "          '<a target=\"_blank\" href=https://colab.research.google.com/notebooks/data_table.ipynb>data table notebook</a>'\n",
              "          + ' to learn more about interactive tables.';\n",
              "        element.innerHTML = '';\n",
              "        dataTable['output_type'] = 'display_data';\n",
              "        await google.colab.output.renderOutput(dataTable, element);\n",
              "        const docLink = document.createElement('div');\n",
              "        docLink.innerHTML = docLinkHtml;\n",
              "        element.appendChild(docLink);\n",
              "      }\n",
              "    </script>\n",
              "  </div>\n",
              "\n",
              "\n",
              "<div id=\"df-5ab6573d-7f00-49be-aa37-8cea97b557d7\">\n",
              "  <button class=\"colab-df-quickchart\" onclick=\"quickchart('df-5ab6573d-7f00-49be-aa37-8cea97b557d7')\"\n",
              "            title=\"Suggest charts\"\n",
              "            style=\"display:none;\">\n",
              "\n",
              "<svg xmlns=\"http://www.w3.org/2000/svg\" height=\"24px\"viewBox=\"0 0 24 24\"\n",
              "     width=\"24px\">\n",
              "    <g>\n",
              "        <path d=\"M19 3H5c-1.1 0-2 .9-2 2v14c0 1.1.9 2 2 2h14c1.1 0 2-.9 2-2V5c0-1.1-.9-2-2-2zM9 17H7v-7h2v7zm4 0h-2V7h2v10zm4 0h-2v-4h2v4z\"/>\n",
              "    </g>\n",
              "</svg>\n",
              "  </button>\n",
              "\n",
              "<style>\n",
              "  .colab-df-quickchart {\n",
              "      --bg-color: #E8F0FE;\n",
              "      --fill-color: #1967D2;\n",
              "      --hover-bg-color: #E2EBFA;\n",
              "      --hover-fill-color: #174EA6;\n",
              "      --disabled-fill-color: #AAA;\n",
              "      --disabled-bg-color: #DDD;\n",
              "  }\n",
              "\n",
              "  [theme=dark] .colab-df-quickchart {\n",
              "      --bg-color: #3B4455;\n",
              "      --fill-color: #D2E3FC;\n",
              "      --hover-bg-color: #434B5C;\n",
              "      --hover-fill-color: #FFFFFF;\n",
              "      --disabled-bg-color: #3B4455;\n",
              "      --disabled-fill-color: #666;\n",
              "  }\n",
              "\n",
              "  .colab-df-quickchart {\n",
              "    background-color: var(--bg-color);\n",
              "    border: none;\n",
              "    border-radius: 50%;\n",
              "    cursor: pointer;\n",
              "    display: none;\n",
              "    fill: var(--fill-color);\n",
              "    height: 32px;\n",
              "    padding: 0;\n",
              "    width: 32px;\n",
              "  }\n",
              "\n",
              "  .colab-df-quickchart:hover {\n",
              "    background-color: var(--hover-bg-color);\n",
              "    box-shadow: 0 1px 2px rgba(60, 64, 67, 0.3), 0 1px 3px 1px rgba(60, 64, 67, 0.15);\n",
              "    fill: var(--button-hover-fill-color);\n",
              "  }\n",
              "\n",
              "  .colab-df-quickchart-complete:disabled,\n",
              "  .colab-df-quickchart-complete:disabled:hover {\n",
              "    background-color: var(--disabled-bg-color);\n",
              "    fill: var(--disabled-fill-color);\n",
              "    box-shadow: none;\n",
              "  }\n",
              "\n",
              "  .colab-df-spinner {\n",
              "    border: 2px solid var(--fill-color);\n",
              "    border-color: transparent;\n",
              "    border-bottom-color: var(--fill-color);\n",
              "    animation:\n",
              "      spin 1s steps(1) infinite;\n",
              "  }\n",
              "\n",
              "  @keyframes spin {\n",
              "    0% {\n",
              "      border-color: transparent;\n",
              "      border-bottom-color: var(--fill-color);\n",
              "      border-left-color: var(--fill-color);\n",
              "    }\n",
              "    20% {\n",
              "      border-color: transparent;\n",
              "      border-left-color: var(--fill-color);\n",
              "      border-top-color: var(--fill-color);\n",
              "    }\n",
              "    30% {\n",
              "      border-color: transparent;\n",
              "      border-left-color: var(--fill-color);\n",
              "      border-top-color: var(--fill-color);\n",
              "      border-right-color: var(--fill-color);\n",
              "    }\n",
              "    40% {\n",
              "      border-color: transparent;\n",
              "      border-right-color: var(--fill-color);\n",
              "      border-top-color: var(--fill-color);\n",
              "    }\n",
              "    60% {\n",
              "      border-color: transparent;\n",
              "      border-right-color: var(--fill-color);\n",
              "    }\n",
              "    80% {\n",
              "      border-color: transparent;\n",
              "      border-right-color: var(--fill-color);\n",
              "      border-bottom-color: var(--fill-color);\n",
              "    }\n",
              "    90% {\n",
              "      border-color: transparent;\n",
              "      border-bottom-color: var(--fill-color);\n",
              "    }\n",
              "  }\n",
              "</style>\n",
              "\n",
              "  <script>\n",
              "    async function quickchart(key) {\n",
              "      const quickchartButtonEl =\n",
              "        document.querySelector('#' + key + ' button');\n",
              "      quickchartButtonEl.disabled = true;  // To prevent multiple clicks.\n",
              "      quickchartButtonEl.classList.add('colab-df-spinner');\n",
              "      try {\n",
              "        const charts = await google.colab.kernel.invokeFunction(\n",
              "            'suggestCharts', [key], {});\n",
              "      } catch (error) {\n",
              "        console.error('Error during call to suggestCharts:', error);\n",
              "      }\n",
              "      quickchartButtonEl.classList.remove('colab-df-spinner');\n",
              "      quickchartButtonEl.classList.add('colab-df-quickchart-complete');\n",
              "    }\n",
              "    (() => {\n",
              "      let quickchartButtonEl =\n",
              "        document.querySelector('#df-5ab6573d-7f00-49be-aa37-8cea97b557d7 button');\n",
              "      quickchartButtonEl.style.display =\n",
              "        google.colab.kernel.accessAllowed ? 'block' : 'none';\n",
              "    })();\n",
              "  </script>\n",
              "</div>\n",
              "    </div>\n",
              "  </div>\n"
            ]
          },
          "metadata": {},
          "execution_count": 21
        }
      ],
      "source": [
        "df_clean"
      ]
    },
    {
      "cell_type": "markdown",
      "metadata": {
        "id": "wkGvA5iDrakP"
      },
      "source": [
        "### 5.3 Classification or regression?"
      ]
    },
    {
      "cell_type": "markdown",
      "metadata": {
        "id": "w7OvenM8rakQ"
      },
      "source": [
        "Is our task a classification task or a regression task?\n",
        "\n",
        "<img src=\"https://github.com/volkamerlab/ai_in_medicine/raw/master/images/classandregress.png\" width=\"700\" />\n",
        "\n",
        "*([link to source image](http://tonyeiyalla.com/images/classandregress.png))*"
      ]
    },
    {
      "cell_type": "markdown",
      "metadata": {
        "id": "lBjUjZZ6rakQ"
      },
      "source": [
        "Let's try to look at our data again. <br>\n",
        "This time, let's use a 'scatter plot' to compare how 2 input variable relate to each others."
      ]
    },
    {
      "cell_type": "code",
      "execution_count": 22,
      "metadata": {
        "id": "5q00gbj4rakQ",
        "colab": {
          "base_uri": "https://localhost:8080/",
          "height": 290
        },
        "outputId": "8008bf99-7547-428d-914e-77c340e850d0"
      },
      "outputs": [
        {
          "output_type": "display_data",
          "data": {
            "text/plain": [
              "<Figure size 1000x400 with 2 Axes>"
            ],
            "image/png": "[encoded data removed]"
          },
          "metadata": {}
        }
      ],
      "source": [
        "f, axes = plt.subplots(1, 2, figsize=(10,4))\n",
        "\n",
        "# plot BMI vs Glucose\n",
        "ax1 = df_clean.plot(x=\"BMI\", y=\"Glucose\", kind=\"scatter\", ax=axes[0])\n",
        "\n",
        "# plot DiabetesPedigreeFunction vs Glucose\n",
        "ax2 = df_clean.plot(x=\"DiabetesPedigreeFunction\", y=\"Glucose\", kind=\"scatter\", ax=axes[1])\n",
        "\n",
        "plt.show()"
      ]
    },
    {
      "cell_type": "markdown",
      "metadata": {
        "id": "ecnX0lwirakQ"
      },
      "source": [
        "Now, let's see how the output 'diabetes' variable relates to these relations."
      ]
    },
    {
      "cell_type": "code",
      "execution_count": 23,
      "metadata": {
        "id": "Mt2qQujGrakR",
        "colab": {
          "base_uri": "https://localhost:8080/",
          "height": 290
        },
        "outputId": "f94230dd-5e6d-4362-d0f3-38422c029473"
      },
      "outputs": [
        {
          "output_type": "display_data",
          "data": {
            "text/plain": [
              "<Figure size 1000x400 with 2 Axes>"
            ],
            "image/png": "[encoded data removed]"
          },
          "metadata": {}
        }
      ],
      "source": [
        "f, axes = plt.subplots(1, 2, figsize=(10,4))\n",
        "\n",
        "# set a red color for diabetic subjects and blue for healthy subjects\n",
        "label = df_clean['Outcome'].map({0:'blue', 1:'red'})\n",
        "\n",
        "# plot BMI vs Glucose\n",
        "ax1 = df_clean.plot(x=\"BMI\", y=\"Glucose\", kind=\"scatter\", ax=axes[0], c=label)\n",
        "ax1.legend([\"Diabetic\", \"Healthy\"])\n",
        "\n",
        "# plot DiabetesPedigreeFunction vs Glucose\n",
        "ax2 = df_clean.plot(x=\"DiabetesPedigreeFunction\", y=\"Glucose\", kind=\"scatter\", ax=axes[1], c=label)\n",
        "ax2.legend([\"Diabetic\", \"Healthy\"])\n",
        "\n",
        "plt.show()"
      ]
    },
    {
      "cell_type": "code",
      "source": [],
      "metadata": {
        "id": "bgGrUlEUJZXm"
      },
      "execution_count": null,
      "outputs": []
    },
    {
      "cell_type": "markdown",
      "metadata": {
        "id": "8iQWsxlfrakR"
      },
      "source": [
        "**Discussion:**\n",
        "1. Do you see a correlation between the \"BMI\" and \"Glucose\" scores?\n",
        "2. If you had to draw a line to differentiate between diabetic and healthy subjects in the first plot, where would you put it? **In the middle**\n",
        "3. Are we doing classification or regression? **Classification**\n",
        "4. If we were trying to predict 'Glucose' from 'BMI', would we be doing a classification or a regression? **Regression**"
      ]
    },
    {
      "cell_type": "markdown",
      "metadata": {
        "id": "XGpRaRCxrakS"
      },
      "source": [
        "Extract the 'X' and y for our machine learning model as numpy arrays:\n",
        "\n",
        "1.   List item\n",
        "2.   List item\n",
        "\n"
      ]
    },
    {
      "cell_type": "code",
      "execution_count": 24,
      "metadata": {
        "id": "wRzuQMf3rakS"
      },
      "outputs": [],
      "source": [
        "X = df_clean[[\"Pregnancies\",\"Glucose\",\"BloodPressure\",\"SkinThickness\",\n",
        "              \"Insulin\",\"BMI\",\"DiabetesPedigreeFunction\",\"Age\"]].values\n",
        "y = df_clean[[\"Outcome\"]].values"
      ]
    },
    {
      "cell_type": "code",
      "execution_count": 25,
      "metadata": {
        "id": "_mLi5vj0rakS",
        "colab": {
          "base_uri": "https://localhost:8080/"
        },
        "outputId": "8e39a594-29f5-4982-ccbc-b41eb6fb7094"
      },
      "outputs": [
        {
          "output_type": "execute_result",
          "data": {
            "text/plain": [
              "((728, 8), (728, 1))"
            ]
          },
          "metadata": {},
          "execution_count": 25
        }
      ],
      "source": [
        "# print the shapes of our numpy arrays\n",
        "X.shape, y.shape"
      ]
    },
    {
      "cell_type": "markdown",
      "metadata": {
        "id": "ClpcFxXPrakT"
      },
      "source": [
        "### 5.4 Splitting the data into 'training' set and 'test' set"
      ]
    },
    {
      "cell_type": "markdown",
      "metadata": {
        "id": "3fERPVU1rakT"
      },
      "source": [
        "[link text](https://)### Why do we need a test set?\n",
        "\n",
        "Our goal is to learn a (machine learning) model that **generalizes** well. <br>\n",
        "Over-fitting problem in a classification task vs a regression task:\n",
        "<table>\n",
        "    <tr>\n",
        "        <td>\n",
        "            <img src=\"https://github.com/volkamerlab/ai_in_medicine/raw/master/images/tuning.png\" width=\"300\" />\n",
        "        </td>\n",
        "        <td>\n",
        "            <img src=\"https://github.com/volkamerlab/ai_in_medicine/raw/master/images/fitting_data.png\" width=\"800\" />\n",
        "        </td>\n",
        "    </tr>\n",
        "</table>\n",
        "\n",
        "*([link to source](https://github.com/volkamerlab/ai_in_medicine/raw/update-2021.02/images/tuning.png))*\n",
        "*([link to source](https://github.com/volkamerlab/ai_in_medicine/raw/update-2021.02/images/fitting_data.png))*"
      ]
    },
    {
      "cell_type": "markdown",
      "metadata": {
        "id": "TTPekha9rakT"
      },
      "source": [
        "Therefore, we split our dataset into 2 subsets:\n",
        "1. A larger subset on which we will train our model called the 'training' set.\n",
        "2. A smaller subset on which we will 'test' the model. It is important that we evaluate our model on a subset of the data it has never seen before to ensure that we are not overfitting the data and that our model can generalize well to unseen data.\n",
        "\n",
        "Let us use 20% of our data as the test set. The remainding 80% can be used to train the classifer. These ratios may vary depending on the size of the dataset we are using, but 20% to 80% is a good starting point."
      ]
    },
    {
      "cell_type": "code",
      "execution_count": 26,
      "metadata": {
        "colab": {
          "base_uri": "https://localhost:8080/"
        },
        "id": "Lz9mlT3trakU",
        "outputId": "94401d88-ff10-462c-c117-ccdd155dd71f"
      },
      "outputs": [
        {
          "output_type": "execute_result",
          "data": {
            "text/plain": [
              "582"
            ]
          },
          "metadata": {},
          "execution_count": 26
        }
      ],
      "source": [
        "# find out how many subject form '80%' in our data\n",
        "round(len(X)*80/100)"
      ]
    },
    {
      "cell_type": "code",
      "execution_count": 27,
      "metadata": {
        "colab": {
          "base_uri": "https://localhost:8080/"
        },
        "id": "PstIaRLArakU",
        "outputId": "c6c91403-2663-4ff0-c7cf-63f29c7ade08"
      },
      "outputs": [
        {
          "output_type": "execute_result",
          "data": {
            "text/plain": [
              "((602, 8), (126, 8), (602, 1), (126, 1))"
            ]
          },
          "metadata": {},
          "execution_count": 27
        }
      ],
      "source": [
        "x_train = X[:602]\n",
        "x_test = X[602:]\n",
        "\n",
        "y_train = y[:602]\n",
        "y_test = y[602:]\n",
        "\n",
        "(x_train.shape), (x_test.shape), (y_train.shape), (y_test.shape)"
      ]
    },
    {
      "cell_type": "markdown",
      "metadata": {
        "id": "VrILMZotrakU"
      },
      "source": [
        "Python has a machine learning library called '*sklearn*' that provides several convenient functions for machine learning:<br>\n",
        "<img src=\"https://github.com/volkamerlab/ai_in_medicine/raw/master/images/Scikit_learn_logo.png\" width=\"300\" />\n",
        "*([link to source](https://en.wikipedia.org/wiki/Scikit-learn#/media/File:Scikit_learn_logo_small.svg))* <br>\n",
        "\n",
        "*sklearn* library has a function called `train_test_split()` that can be used for splitting our dataset."
      ]
    },
    {
      "cell_type": "code",
      "execution_count": 28,
      "metadata": {
        "colab": {
          "base_uri": "https://localhost:8080/"
        },
        "id": "QFPYXC1-rakV",
        "outputId": "4679a2fb-e458-480d-d2e2-e5f2d09df5d9"
      },
      "outputs": [
        {
          "output_type": "execute_result",
          "data": {
            "text/plain": [
              "((582, 8), (146, 8), (582, 1), (146, 1))"
            ]
          },
          "metadata": {},
          "execution_count": 28
        }
      ],
      "source": [
        "# import function for splitting our data\n",
        "from sklearn.model_selection import train_test_split\n",
        "\n",
        "# Split the features and labels intro training and test sets by setting the test_size variable to 20%\n",
        "x_train, x_test, y_train, y_test = train_test_split(X, y, test_size=0.2, shuffle=False)\n",
        "#Note:shuffle=false ensures we are not shuffling the data while splitting\n",
        "\n",
        "(x_train.shape), (x_test.shape), (y_train.shape), (y_test.shape)"
      ]
    },
    {
      "cell_type": "markdown",
      "metadata": {
        "id": "KU1kR9I8rakV"
      },
      "source": [
        "### 5.5 Train machine learning models\n",
        "\n",
        "There are many different machine learning models. Just to name a few popular ones:\n",
        "1. Linear Regression\n",
        "2. Logistic Regression\n",
        "3. Decision Tree\n",
        "4. Linear Support Vector Machine Classifier (LinearSVC)\n",
        "5. Non-linear Support Vector Machine Classifier (SVC)\n",
        "6. Deep learning methods:\n",
        "    1. Feed-forward networks\n",
        "    2. Convolutional neural networks (CNN)\n",
        "    3. Recurrent neural networks (RNN)\n",
        "    \n",
        "We will try 3 different machine learning models for our task:\n",
        "1. Linear Support Vector Machine Classifier (LinearSVC)\n",
        "2. Non-linear Support Vector Machine Classifier (SVC)\n",
        "3. Logistic Regression\n",
        "\n",
        "Why do we need so many different models?\n",
        "- In machine learning, the idea of using an algorithm is to figure out the relationship or function mapping between the features X and target y.\n",
        "- Every machine learning algorithm makes its assumptions about the data based on which it generalizes and makes predictions. Its performance depends on how well the assumptions correlate with the underlying patterns in the data.\n",
        "- No free lunch theorem: There is \"no free lunch\" (best predictions) without having the best knowledge of the underlying data. It is the job of the data scientist to determine what fits best with the data."
      ]
    },
    {
      "cell_type": "markdown",
      "metadata": {
        "id": "-h2mxnPZrakV"
      },
      "source": [
        "#### 5.5.1 Linear Support Vector Machine Classifier (LinearSVC)\n",
        "Support Vector Machine (SVM) is a supervised machine learning algorithm used for both classification and regression. Though we say regression problems as well it’s best suited for classification.\n",
        "\n",
        "The main objective of the SVM algorithm is to find the optimal hyperplane in an N-dimensional space that can separate the data points in different classes in the feature space. The hyperplane tries that the margin between the closest points of different classes should be as maximum as possible.\n",
        "\n",
        "The dimension of the hyperplane depends upon the number of features. If the number of input features is two, then the hyperplane is just a line. If the number of input features is three, then the hyperplane becomes a 2-D plane. It becomes difficult to imagine when the number of features exceeds three.\n",
        "\n"
      ]
    },
    {
      "cell_type": "code",
      "execution_count": 29,
      "metadata": {
        "id": "GfVcmftBrakW",
        "colab": {
          "base_uri": "https://localhost:8080/",
          "height": 166
        },
        "outputId": "a42256f2-cbe1-433f-f800-93df4ef5b40d"
      },
      "outputs": [
        {
          "output_type": "stream",
          "name": "stderr",
          "text": [
            "/usr/local/lib/python3.10/dist-packages/sklearn/utils/validation.py:1143: DataConversionWarning: A column-vector y was passed when a 1d array was expected. Please change the shape of y to (n_samples, ), for example using ravel().\n",
            "  y = column_or_1d(y, warn=True)\n",
            "/usr/local/lib/python3.10/dist-packages/sklearn/svm/_base.py:1244: ConvergenceWarning: Liblinear failed to converge, increase the number of iterations.\n",
            "  warnings.warn(\n"
          ]
        },
        {
          "output_type": "execute_result",
          "data": {
            "text/plain": [
              "LinearSVC(max_iter=2000)"
            ],
            "text/html": [
              "<style>#sk-container-id-1 {color: black;background-color: white;}#sk-container-id-1 pre{padding: 0;}#sk-container-id-1 div.sk-toggleable {background-color: white;}#sk-container-id-1 label.sk-toggleable__label {cursor: pointer;display: block;width: 100%;margin-bottom: 0;padding: 0.3em;box-sizing: border-box;text-align: center;}#sk-container-id-1 label.sk-toggleable__label-arrow:before {content: \"▸\";float: left;margin-right: 0.25em;color: #696969;}#sk-container-id-1 label.sk-toggleable__label-arrow:hover:before {color: black;}#sk-container-id-1 div.sk-estimator:hover label.sk-toggleable__label-arrow:before {color: black;}#sk-container-id-1 div.sk-toggleable__content {max-height: 0;max-width: 0;overflow: hidden;text-align: left;background-color: #f0f8ff;}#sk-container-id-1 div.sk-toggleable__content pre {margin: 0.2em;color: black;border-radius: 0.25em;background-color: #f0f8ff;}#sk-container-id-1 input.sk-toggleable__control:checked~div.sk-toggleable__content {max-height: 200px;max-width: 100%;overflow: auto;}#sk-container-id-1 input.sk-toggleable__control:checked~label.sk-toggleable__label-arrow:before {content: \"▾\";}#sk-container-id-1 div.sk-estimator input.sk-toggleable__control:checked~label.sk-toggleable__label {background-color: #d4ebff;}#sk-container-id-1 div.sk-label input.sk-toggleable__control:checked~label.sk-toggleable__label {background-color: #d4ebff;}#sk-container-id-1 input.sk-hidden--visually {border: 0;clip: rect(1px 1px 1px 1px);clip: rect(1px, 1px, 1px, 1px);height: 1px;margin: -1px;overflow: hidden;padding: 0;position: absolute;width: 1px;}#sk-container-id-1 div.sk-estimator {font-family: monospace;background-color: #f0f8ff;border: 1px dotted black;border-radius: 0.25em;box-sizing: border-box;margin-bottom: 0.5em;}#sk-container-id-1 div.sk-estimator:hover {background-color: #d4ebff;}#sk-container-id-1 div.sk-parallel-item::after {content: \"\";width: 100%;border-bottom: 1px solid gray;flex-grow: 1;}#sk-container-id-1 div.sk-label:hover label.sk-toggleable__label {background-color: #d4ebff;}#sk-container-id-1 div.sk-serial::before {content: \"\";position: absolute;border-left: 1px solid gray;box-sizing: border-box;top: 0;bottom: 0;left: 50%;z-index: 0;}#sk-container-id-1 div.sk-serial {display: flex;flex-direction: column;align-items: center;background-color: white;padding-right: 0.2em;padding-left: 0.2em;position: relative;}#sk-container-id-1 div.sk-item {position: relative;z-index: 1;}#sk-container-id-1 div.sk-parallel {display: flex;align-items: stretch;justify-content: center;background-color: white;position: relative;}#sk-container-id-1 div.sk-item::before, #sk-container-id-1 div.sk-parallel-item::before {content: \"\";position: absolute;border-left: 1px solid gray;box-sizing: border-box;top: 0;bottom: 0;left: 50%;z-index: -1;}#sk-container-id-1 div.sk-parallel-item {display: flex;flex-direction: column;z-index: 1;position: relative;background-color: white;}#sk-container-id-1 div.sk-parallel-item:first-child::after {align-self: flex-end;width: 50%;}#sk-container-id-1 div.sk-parallel-item:last-child::after {align-self: flex-start;width: 50%;}#sk-container-id-1 div.sk-parallel-item:only-child::after {width: 0;}#sk-container-id-1 div.sk-dashed-wrapped {border: 1px dashed gray;margin: 0 0.4em 0.5em 0.4em;box-sizing: border-box;padding-bottom: 0.4em;background-color: white;}#sk-container-id-1 div.sk-label label {font-family: monospace;font-weight: bold;display: inline-block;line-height: 1.2em;}#sk-container-id-1 div.sk-label-container {text-align: center;}#sk-container-id-1 div.sk-container {/* jupyter's `normalize.less` sets `[hidden] { display: none; }` but bootstrap.min.css set `[hidden] { display: none !important; }` so we also need the `!important` here to be able to override the default hidden behavior on the sphinx rendered scikit-learn.org. See: https://github.com/scikit-learn/scikit-learn/issues/21755 */display: inline-block !important;position: relative;}#sk-container-id-1 div.sk-text-repr-fallback {display: none;}</style><div id=\"sk-container-id-1\" class=\"sk-top-container\"><div class=\"sk-text-repr-fallback\"><pre>LinearSVC(max_iter=2000)</pre><b>In a Jupyter environment, please rerun this cell to show the HTML representation or trust the notebook. <br />On GitHub, the HTML representation is unable to render, please try loading this page with nbviewer.org.</b></div><div class=\"sk-container\" hidden><div class=\"sk-item\"><div class=\"sk-estimator sk-toggleable\"><input class=\"sk-toggleable__control sk-hidden--visually\" id=\"sk-estimator-id-1\" type=\"checkbox\" checked><label for=\"sk-estimator-id-1\" class=\"sk-toggleable__label sk-toggleable__label-arrow\">LinearSVC</label><div class=\"sk-toggleable__content\"><pre>LinearSVC(max_iter=2000)</pre></div></div></div></div></div>"
            ]
          },
          "metadata": {},
          "execution_count": 29
        }
      ],
      "source": [
        "# import model classe from sklearn\n",
        "from sklearn.svm import LinearSVC\n",
        "\n",
        "# Create a model (also called creating an 'instance' of a model class in programming lingo)\n",
        "linsvc = LinearSVC(max_iter=2000)\n",
        "\n",
        "# fit the model to our train data using a class method\n",
        "linsvc.fit(x_train, y_train)"
      ]
    },
    {
      "cell_type": "code",
      "execution_count": 30,
      "metadata": {
        "id": "8MJNcgKhrakW"
      },
      "outputs": [],
      "source": [
        "y_train = y_train.ravel() #ravel transforms data into one dimensional, important bc scikit learn can only handle one input\n",
        "y_test = y_test.ravel()"
      ]
    },
    {
      "cell_type": "markdown",
      "metadata": {
        "id": "alKcxs5xrakW"
      },
      "source": [
        "Linearly seperable task vs non-linearly seperable task:\n",
        "<table>\n",
        "    <tr>\n",
        "        <td>\n",
        "            <img src=\"https://github.com/volkamerlab/ai_in_medicine/raw/master/images/linear_sep.png\" width=\"300\" />\n",
        "        </td>\n",
        "        <td>\n",
        "            <img src=\"https://github.com/volkamerlab/ai_in_medicine/raw/master/images/non-linear_sep.png\" width=\"300\" />\n",
        "        </td>\n",
        "    </tr>\n",
        "</table>\n",
        "\n",
        "\n",
        "\n",
        "\n",
        "\n",
        "Reading the warning message from python, it appears as though our linear SVC did not converge. This may imply that our data is not linearly separable and maybe a different classifier is better suited for the classification task. Lets forget the linear SVC and try the other classifier methods.\n",
        "\n",
        "\n",
        "#### 5.5.2 Non-linear Support Vector Machine Classifier (SVC)\n",
        "This is good for separating non-linearly separable data.<br>"
      ]
    },
    {
      "cell_type": "code",
      "execution_count": 31,
      "metadata": {
        "id": "QyNHP5acrakX",
        "colab": {
          "base_uri": "https://localhost:8080/",
          "height": 75
        },
        "outputId": "9d8d05ad-fb40-4d2a-837e-c35459c905d7"
      },
      "outputs": [
        {
          "output_type": "execute_result",
          "data": {
            "text/plain": [
              "SVC(probability=True)"
            ],
            "text/html": [
              "<style>#sk-container-id-2 {color: black;background-color: white;}#sk-container-id-2 pre{padding: 0;}#sk-container-id-2 div.sk-toggleable {background-color: white;}#sk-container-id-2 label.sk-toggleable__label {cursor: pointer;display: block;width: 100%;margin-bottom: 0;padding: 0.3em;box-sizing: border-box;text-align: center;}#sk-container-id-2 label.sk-toggleable__label-arrow:before {content: \"▸\";float: left;margin-right: 0.25em;color: #696969;}#sk-container-id-2 label.sk-toggleable__label-arrow:hover:before {color: black;}#sk-container-id-2 div.sk-estimator:hover label.sk-toggleable__label-arrow:before {color: black;}#sk-container-id-2 div.sk-toggleable__content {max-height: 0;max-width: 0;overflow: hidden;text-align: left;background-color: #f0f8ff;}#sk-container-id-2 div.sk-toggleable__content pre {margin: 0.2em;color: black;border-radius: 0.25em;background-color: #f0f8ff;}#sk-container-id-2 input.sk-toggleable__control:checked~div.sk-toggleable__content {max-height: 200px;max-width: 100%;overflow: auto;}#sk-container-id-2 input.sk-toggleable__control:checked~label.sk-toggleable__label-arrow:before {content: \"▾\";}#sk-container-id-2 div.sk-estimator input.sk-toggleable__control:checked~label.sk-toggleable__label {background-color: #d4ebff;}#sk-container-id-2 div.sk-label input.sk-toggleable__control:checked~label.sk-toggleable__label {background-color: #d4ebff;}#sk-container-id-2 input.sk-hidden--visually {border: 0;clip: rect(1px 1px 1px 1px);clip: rect(1px, 1px, 1px, 1px);height: 1px;margin: -1px;overflow: hidden;padding: 0;position: absolute;width: 1px;}#sk-container-id-2 div.sk-estimator {font-family: monospace;background-color: #f0f8ff;border: 1px dotted black;border-radius: 0.25em;box-sizing: border-box;margin-bottom: 0.5em;}#sk-container-id-2 div.sk-estimator:hover {background-color: #d4ebff;}#sk-container-id-2 div.sk-parallel-item::after {content: \"\";width: 100%;border-bottom: 1px solid gray;flex-grow: 1;}#sk-container-id-2 div.sk-label:hover label.sk-toggleable__label {background-color: #d4ebff;}#sk-container-id-2 div.sk-serial::before {content: \"\";position: absolute;border-left: 1px solid gray;box-sizing: border-box;top: 0;bottom: 0;left: 50%;z-index: 0;}#sk-container-id-2 div.sk-serial {display: flex;flex-direction: column;align-items: center;background-color: white;padding-right: 0.2em;padding-left: 0.2em;position: relative;}#sk-container-id-2 div.sk-item {position: relative;z-index: 1;}#sk-container-id-2 div.sk-parallel {display: flex;align-items: stretch;justify-content: center;background-color: white;position: relative;}#sk-container-id-2 div.sk-item::before, #sk-container-id-2 div.sk-parallel-item::before {content: \"\";position: absolute;border-left: 1px solid gray;box-sizing: border-box;top: 0;bottom: 0;left: 50%;z-index: -1;}#sk-container-id-2 div.sk-parallel-item {display: flex;flex-direction: column;z-index: 1;position: relative;background-color: white;}#sk-container-id-2 div.sk-parallel-item:first-child::after {align-self: flex-end;width: 50%;}#sk-container-id-2 div.sk-parallel-item:last-child::after {align-self: flex-start;width: 50%;}#sk-container-id-2 div.sk-parallel-item:only-child::after {width: 0;}#sk-container-id-2 div.sk-dashed-wrapped {border: 1px dashed gray;margin: 0 0.4em 0.5em 0.4em;box-sizing: border-box;padding-bottom: 0.4em;background-color: white;}#sk-container-id-2 div.sk-label label {font-family: monospace;font-weight: bold;display: inline-block;line-height: 1.2em;}#sk-container-id-2 div.sk-label-container {text-align: center;}#sk-container-id-2 div.sk-container {/* jupyter's `normalize.less` sets `[hidden] { display: none; }` but bootstrap.min.css set `[hidden] { display: none !important; }` so we also need the `!important` here to be able to override the default hidden behavior on the sphinx rendered scikit-learn.org. See: https://github.com/scikit-learn/scikit-learn/issues/21755 */display: inline-block !important;position: relative;}#sk-container-id-2 div.sk-text-repr-fallback {display: none;}</style><div id=\"sk-container-id-2\" class=\"sk-top-container\"><div class=\"sk-text-repr-fallback\"><pre>SVC(probability=True)</pre><b>In a Jupyter environment, please rerun this cell to show the HTML representation or trust the notebook. <br />On GitHub, the HTML representation is unable to render, please try loading this page with nbviewer.org.</b></div><div class=\"sk-container\" hidden><div class=\"sk-item\"><div class=\"sk-estimator sk-toggleable\"><input class=\"sk-toggleable__control sk-hidden--visually\" id=\"sk-estimator-id-2\" type=\"checkbox\" checked><label for=\"sk-estimator-id-2\" class=\"sk-toggleable__label sk-toggleable__label-arrow\">SVC</label><div class=\"sk-toggleable__content\"><pre>SVC(probability=True)</pre></div></div></div></div></div>"
            ]
          },
          "metadata": {},
          "execution_count": 31
        }
      ],
      "source": [
        "# import model classe from sklearn\n",
        "from sklearn.svm import SVC\n",
        "\n",
        "# Instantiate an object of the model class\n",
        "svc = SVC(probability=True)\n",
        "# We set probability to True when instantiating our SVC model to get a probability estimate of the labels.\n",
        "\n",
        "# fit the model to our train data using a class method\n",
        "svc.fit(x_train, y_train)"
      ]
    },
    {
      "cell_type": "markdown",
      "metadata": {
        "id": "todiiOQ9rakX"
      },
      "source": [
        "#### 5.5.3 Logistic Regression Classifier\n",
        "\n",
        "A logistic regression classifier is also good for separating non-linearly separable data.\n",
        "\n",
        "```\n",
        "# This is formatted as code\n",
        "```\n",
        "\n",
        "\n",
        "<img src=\"https://github.com/volkamerlab/ai_in_medicine/raw/master/images/logistic_reg.png\" width=\"400\" /> *([link to source](https://github.com/volkamerlab/ai_in_medicine/raw/update-2021.02/images/logistic_reg.png))*\n"
      ]
    },
    {
      "cell_type": "code",
      "execution_count": 32,
      "metadata": {
        "id": "rGC9Ww9RrakX",
        "colab": {
          "base_uri": "https://localhost:8080/",
          "height": 75
        },
        "outputId": "ace2c8c8-3d49-4144-db90-2eada8d6e56b"
      },
      "outputs": [
        {
          "output_type": "execute_result",
          "data": {
            "text/plain": [
              "LogisticRegression(max_iter=200)"
            ],
            "text/html": [
              "<style>#sk-container-id-3 {color: black;background-color: white;}#sk-container-id-3 pre{padding: 0;}#sk-container-id-3 div.sk-toggleable {background-color: white;}#sk-container-id-3 label.sk-toggleable__label {cursor: pointer;display: block;width: 100%;margin-bottom: 0;padding: 0.3em;box-sizing: border-box;text-align: center;}#sk-container-id-3 label.sk-toggleable__label-arrow:before {content: \"▸\";float: left;margin-right: 0.25em;color: #696969;}#sk-container-id-3 label.sk-toggleable__label-arrow:hover:before {color: black;}#sk-container-id-3 div.sk-estimator:hover label.sk-toggleable__label-arrow:before {color: black;}#sk-container-id-3 div.sk-toggleable__content {max-height: 0;max-width: 0;overflow: hidden;text-align: left;background-color: #f0f8ff;}#sk-container-id-3 div.sk-toggleable__content pre {margin: 0.2em;color: black;border-radius: 0.25em;background-color: #f0f8ff;}#sk-container-id-3 input.sk-toggleable__control:checked~div.sk-toggleable__content {max-height: 200px;max-width: 100%;overflow: auto;}#sk-container-id-3 input.sk-toggleable__control:checked~label.sk-toggleable__label-arrow:before {content: \"▾\";}#sk-container-id-3 div.sk-estimator input.sk-toggleable__control:checked~label.sk-toggleable__label {background-color: #d4ebff;}#sk-container-id-3 div.sk-label input.sk-toggleable__control:checked~label.sk-toggleable__label {background-color: #d4ebff;}#sk-container-id-3 input.sk-hidden--visually {border: 0;clip: rect(1px 1px 1px 1px);clip: rect(1px, 1px, 1px, 1px);height: 1px;margin: -1px;overflow: hidden;padding: 0;position: absolute;width: 1px;}#sk-container-id-3 div.sk-estimator {font-family: monospace;background-color: #f0f8ff;border: 1px dotted black;border-radius: 0.25em;box-sizing: border-box;margin-bottom: 0.5em;}#sk-container-id-3 div.sk-estimator:hover {background-color: #d4ebff;}#sk-container-id-3 div.sk-parallel-item::after {content: \"\";width: 100%;border-bottom: 1px solid gray;flex-grow: 1;}#sk-container-id-3 div.sk-label:hover label.sk-toggleable__label {background-color: #d4ebff;}#sk-container-id-3 div.sk-serial::before {content: \"\";position: absolute;border-left: 1px solid gray;box-sizing: border-box;top: 0;bottom: 0;left: 50%;z-index: 0;}#sk-container-id-3 div.sk-serial {display: flex;flex-direction: column;align-items: center;background-color: white;padding-right: 0.2em;padding-left: 0.2em;position: relative;}#sk-container-id-3 div.sk-item {position: relative;z-index: 1;}#sk-container-id-3 div.sk-parallel {display: flex;align-items: stretch;justify-content: center;background-color: white;position: relative;}#sk-container-id-3 div.sk-item::before, #sk-container-id-3 div.sk-parallel-item::before {content: \"\";position: absolute;border-left: 1px solid gray;box-sizing: border-box;top: 0;bottom: 0;left: 50%;z-index: -1;}#sk-container-id-3 div.sk-parallel-item {display: flex;flex-direction: column;z-index: 1;position: relative;background-color: white;}#sk-container-id-3 div.sk-parallel-item:first-child::after {align-self: flex-end;width: 50%;}#sk-container-id-3 div.sk-parallel-item:last-child::after {align-self: flex-start;width: 50%;}#sk-container-id-3 div.sk-parallel-item:only-child::after {width: 0;}#sk-container-id-3 div.sk-dashed-wrapped {border: 1px dashed gray;margin: 0 0.4em 0.5em 0.4em;box-sizing: border-box;padding-bottom: 0.4em;background-color: white;}#sk-container-id-3 div.sk-label label {font-family: monospace;font-weight: bold;display: inline-block;line-height: 1.2em;}#sk-container-id-3 div.sk-label-container {text-align: center;}#sk-container-id-3 div.sk-container {/* jupyter's `normalize.less` sets `[hidden] { display: none; }` but bootstrap.min.css set `[hidden] { display: none !important; }` so we also need the `!important` here to be able to override the default hidden behavior on the sphinx rendered scikit-learn.org. See: https://github.com/scikit-learn/scikit-learn/issues/21755 */display: inline-block !important;position: relative;}#sk-container-id-3 div.sk-text-repr-fallback {display: none;}</style><div id=\"sk-container-id-3\" class=\"sk-top-container\"><div class=\"sk-text-repr-fallback\"><pre>LogisticRegression(max_iter=200)</pre><b>In a Jupyter environment, please rerun this cell to show the HTML representation or trust the notebook. <br />On GitHub, the HTML representation is unable to render, please try loading this page with nbviewer.org.</b></div><div class=\"sk-container\" hidden><div class=\"sk-item\"><div class=\"sk-estimator sk-toggleable\"><input class=\"sk-toggleable__control sk-hidden--visually\" id=\"sk-estimator-id-3\" type=\"checkbox\" checked><label for=\"sk-estimator-id-3\" class=\"sk-toggleable__label sk-toggleable__label-arrow\">LogisticRegression</label><div class=\"sk-toggleable__content\"><pre>LogisticRegression(max_iter=200)</pre></div></div></div></div></div>"
            ]
          },
          "metadata": {},
          "execution_count": 32
        }
      ],
      "source": [
        "# import model from sklearn\n",
        "from sklearn.linear_model import LogisticRegression\n",
        "\n",
        "# Instantiate an object of the model class\n",
        "logreg = LogisticRegression(max_iter=200)\n",
        "# We set the max iterations of our logistic classigier to 200 when we instantiate our class because it did not converges with the default value of 100.\n",
        "\n",
        "# fit the model to our train data using a class method\n",
        "logreg.fit(x_train, y_train)"
      ]
    },
    {
      "cell_type": "markdown",
      "metadata": {
        "id": "pkkvZVHRrakY"
      },
      "source": [
        "Now that we have two model that have been fit to our training data, we can use our test data to evaluate them.\n",
        "\n",
        "### 5.6 Evaluate model performance\n",
        "\n",
        "\n",
        "#### 5.6.1 Make predictions\n",
        "\n",
        "Lets make predictions on the test set that we will later compare to the respective true labels to evaluate of our model."
      ]
    },
    {
      "cell_type": "code",
      "execution_count": 38,
      "metadata": {
        "id": "n7zFIqcLrakY"
      },
      "outputs": [],
      "source": [
        "# import useful functions from the metrics module to evaluate our model\n",
        "from sklearn.metrics import roc_auc_score\n",
        "from sklearn.metrics import roc_curve #higher roc score means model is performing well\n",
        "#from sklearn.metrics import plot_confusion_matrix\n",
        "from sklearn.metrics import classification_report"
      ]
    },
    {
      "cell_type": "code",
      "execution_count": 39,
      "metadata": {
        "id": "-vdcQIN1rakZ"
      },
      "outputs": [],
      "source": [
        "# use the predict() method from our model classes to predict labels given the test set of features x_test.\n",
        "y_pred_svc = svc.predict(x_test)\n",
        "y_pred_log = logreg.predict(x_test)"
      ]
    },
    {
      "cell_type": "markdown",
      "metadata": {
        "id": "AKFgQKQfrakZ"
      },
      "source": [
        "#### 5.6.2 Accuracy\n",
        "\n",
        "$\\text{accuracy} = \\frac{tp + tn}{tp + fp + tn + fn}$, is a measure of how well our classifier can determine the true labels of inputs. <br><br>\n",
        "Here we will compute the accuracies of both of our models."
      ]
    },
    {
      "cell_type": "code",
      "execution_count": 40,
      "metadata": {
        "id": "OIJ5287CrakZ",
        "colab": {
          "base_uri": "https://localhost:8080/"
        },
        "outputId": "e593a01d-b88a-4bd5-8de3-f4546bd32691"
      },
      "outputs": [
        {
          "output_type": "stream",
          "name": "stdout",
          "text": [
            "Accuracy of Support Vector classifier on test set: 76.0%\n",
            "Accuracy of logistic regression classifier on test set: 77.4%\n"
          ]
        }
      ],
      "source": [
        "# we are using the model class method score() to return the accuracy of predictions from each model.\n",
        "acc_svc = svc.score(x_test, y_test)\n",
        "acc_log = logreg.score(x_test, y_test)\n",
        "print('Accuracy of Support Vector classifier on test set: {:.1f}%'.format(acc_svc*100))\n",
        "print('Accuracy of logistic regression classifier on test set: {:.1f}%'.format(acc_log*100))"
      ]
    },
    {
      "cell_type": "markdown",
      "metadata": {
        "id": "hF03ja3Draka"
      },
      "source": [
        "Although accuracy is a common metric, it often does not tell the whole story.\n",
        "\n",
        "We need other ways to assess how well our classifier performs.\n",
        "\n",
        "#### 5.6.3 Outcomes of a classifier\n",
        "\n",
        "_Successful predictions_ are only one of the possible outcomes of a prediction from a classifier. These outcomes can be generalized using the following four classes:\n",
        "\n",
        "- True positives\n",
        "- False positives\n",
        "- True negatives\n",
        "- False negatives\n",
        "\n",
        "<table>\n",
        "    <tr>\n",
        "        <td>\n",
        "            <img src=\"https://github.com/volkamerlab/ai_in_medicine/raw/master/images/confusion_matrix.png\" width=\"500\" />\n",
        "        </td>\n",
        "        <td>\n",
        "            <img src=\"https://github.com/volkamerlab/ai_in_medicine/raw/master/images/confusion_matrix_pregnancy.png\" width=\"500\" />\n",
        "        </td>\n",
        "    </tr>\n",
        "</table>"
      ]
    },
    {
      "cell_type": "markdown",
      "metadata": {
        "id": "P4kDDVMnraka"
      },
      "source": [
        "#### 5.6.4 Confusion Matrices\n",
        "\n",
        "We can visualize the distribution of prediction classes predicted using a classifier by plotting a confusion matrix. We now use the plot_confusion_matrix function we imported above to visualize the distribution of True Positives, False Positives, False Negatives, True Negatives for both of our classifiers."
      ]
    },
    {
      "cell_type": "code",
      "execution_count": 41,
      "metadata": {
        "id": "j23MxAHtraka",
        "colab": {
          "base_uri": "https://localhost:8080/",
          "height": 527
        },
        "outputId": "b48ce60e-9f80-40ca-851d-52a189f3c485"
      },
      "outputs": [
        {
          "output_type": "error",
          "ename": "NameError",
          "evalue": "ignored",
          "traceback": [
            "\u001b[0;31m---------------------------------------------------------------------------\u001b[0m",
            "\u001b[0;31mNameError\u001b[0m                                 Traceback (most recent call last)",
            "\u001b[0;32m<ipython-input-41-35d0e89db9b7>\u001b[0m in \u001b[0;36m<cell line: 4>\u001b[0;34m()\u001b[0m\n\u001b[1;32m      2\u001b[0m \u001b[0mfig\u001b[0m\u001b[0;34m,\u001b[0m \u001b[0;34m(\u001b[0m\u001b[0max1\u001b[0m\u001b[0;34m,\u001b[0m\u001b[0max2\u001b[0m\u001b[0;34m)\u001b[0m \u001b[0;34m=\u001b[0m \u001b[0mplt\u001b[0m\u001b[0;34m.\u001b[0m\u001b[0msubplots\u001b[0m\u001b[0;34m(\u001b[0m\u001b[0;36m1\u001b[0m\u001b[0;34m,\u001b[0m\u001b[0;36m2\u001b[0m\u001b[0;34m,\u001b[0m\u001b[0mfigsize\u001b[0m\u001b[0;34m=\u001b[0m\u001b[0;34m(\u001b[0m\u001b[0;36m15\u001b[0m\u001b[0;34m,\u001b[0m \u001b[0;36m5\u001b[0m\u001b[0;34m)\u001b[0m\u001b[0;34m)\u001b[0m\u001b[0;34m\u001b[0m\u001b[0;34m\u001b[0m\u001b[0m\n\u001b[1;32m      3\u001b[0m \u001b[0;34m\u001b[0m\u001b[0m\n\u001b[0;32m----> 4\u001b[0;31m \u001b[0mplot_confusion_matrix\u001b[0m\u001b[0;34m(\u001b[0m\u001b[0msvc\u001b[0m\u001b[0;34m,\u001b[0m \u001b[0mx_test\u001b[0m\u001b[0;34m,\u001b[0m \u001b[0my_test\u001b[0m\u001b[0;34m,\u001b[0m \u001b[0max\u001b[0m\u001b[0;34m=\u001b[0m\u001b[0max1\u001b[0m\u001b[0;34m)\u001b[0m \u001b[0;31m# , normalize='all'\u001b[0m\u001b[0;34m\u001b[0m\u001b[0;34m\u001b[0m\u001b[0m\n\u001b[0m\u001b[1;32m      5\u001b[0m \u001b[0max1\u001b[0m\u001b[0;34m.\u001b[0m\u001b[0mset_title\u001b[0m\u001b[0;34m(\u001b[0m\u001b[0;34m'Confusion Matrix - SVC'\u001b[0m\u001b[0;34m)\u001b[0m \u001b[0;31m# , fontsize=20\u001b[0m\u001b[0;34m\u001b[0m\u001b[0;34m\u001b[0m\u001b[0m\n\u001b[1;32m      6\u001b[0m \u001b[0;34m\u001b[0m\u001b[0m\n",
            "\u001b[0;31mNameError\u001b[0m: name 'plot_confusion_matrix' is not defined"
          ]
        },
        {
          "output_type": "display_data",
          "data": {
            "text/plain": [
              "<Figure size 1500x500 with 2 Axes>"
            ],
            "image/png": "[encoded data removed]"
          },
          "metadata": {}
        }
      ],
      "source": [
        "# Check the documentation to know what variables to use!\n",
        "fig, (ax1,ax2) = plt.subplots(1,2,figsize=(15, 5))\n",
        "\n",
        "plot_confusion_matrix(svc, x_test, y_test, ax=ax1) # , normalize='all'\n",
        "ax1.set_title('Confusion Matrix - SVC') # , fontsize=20\n",
        "\n",
        "plot_confusion_matrix(logreg, x_test, y_test, ax=ax2) # , normalize='all'\n",
        "ax2.set_title('Confusion Matrix - LR') # , fontsize=20\n",
        "\n",
        "plt.show()"
      ]
    },
    {
      "cell_type": "markdown",
      "metadata": {
        "id": "zEJcs0Tsraka"
      },
      "source": [
        "#### 5.6.5 Receiver Operating Characteristic (ROC) Curve\n",
        "\n",
        "- The ROC curve is a graphical method to summarise all possible confusion matrix of a model.\n",
        "- It shows the performance of a classification model at all thresholds.\n",
        "- It is a common choice for assessing a binary classifier.\n",
        "- The ROC curve is a plot of the True Positive Rate (recall) vs the False Positive Rate.\n",
        "- The diagonal line (C) represents the performance of a random classifier that has a 50% chance of outputting either label.\n",
        "- The area under the curve (AUC) of the ROC curve is a measure that tells us how well our classifier can distinguish between the classes.\n",
        "\n",
        "\n",
        "<img src=\"https://github.com/volkamerlab/ai_in_medicine/raw/master/images/rocs.png\" width=\"600\" />\n",
        "\n"
      ]
    },
    {
      "cell_type": "code",
      "execution_count": 42,
      "metadata": {
        "id": "kSQBsoBlrakb",
        "colab": {
          "base_uri": "https://localhost:8080/"
        },
        "outputId": "5bab7c14-f6f0-493c-ae1a-40e48f8be56b"
      },
      "outputs": [
        {
          "output_type": "stream",
          "name": "stdout",
          "text": [
            "ROC AUC score for Support Vector classifier on test set: 70.6%\n",
            "ROC AUC score for logistic regression classifier on test set: 72.1%\n"
          ]
        }
      ],
      "source": [
        "svc_roc_auc = roc_auc_score(y_test, svc.predict(x_test))\n",
        "logit_roc_auc = roc_auc_score(y_test, logreg.predict(x_test))\n",
        "print('ROC AUC score for Support Vector classifier on test set: {:.1f}%'.format(svc_roc_auc*100))\n",
        "print('ROC AUC score for logistic regression classifier on test set: {:.1f}%'.format(logit_roc_auc*100))"
      ]
    },
    {
      "cell_type": "code",
      "execution_count": 43,
      "metadata": {
        "id": "Y9TjiQR3rakb",
        "colab": {
          "base_uri": "https://localhost:8080/",
          "height": 255
        },
        "outputId": "4243508d-a504-482e-fe15-13d078755bb9"
      },
      "outputs": [
        {
          "output_type": "display_data",
          "data": {
            "text/plain": [
              "<Figure size 1500x500 with 2 Axes>"
            ],
            "image/png": "[encoded data removed]"
          },
          "metadata": {}
        }
      ],
      "source": [
        "# create Figure, Axes objects and set figure dimensions\n",
        "fig, (ax1,ax2) = plt.subplots(1,2,figsize=(15, 5))\n",
        "\n",
        "# compute and plot the AUC and ROC values for the support vector classifier\n",
        "fpr, tpr, thresholds = roc_curve(y_test, svc.predict_proba(x_test)[:,1])\n",
        "\n",
        "ax1.plot(\n",
        "    fpr, tpr,\n",
        "    label='SVC - RBF Kernel (area = {:.2f})'.format(svc_roc_auc*100)\n",
        ")\n",
        "ax1.plot([0, 1], [0, 1],'r--')\n",
        "ax1.set_xlim([0.0, 1.0])\n",
        "ax1.set_ylim([0.0, 1.05])\n",
        "ax1.set_xlabel('False Positive Rate')\n",
        "ax1.set_ylabel('True Positive Rate')\n",
        "ax1.set_title('Receiver operating characteristic')\n",
        "ax1.legend(loc=\"lower right\")\n",
        "ax1.grid()\n",
        "\n",
        "\n",
        "# compute and plot the AUC and ROC values for the logistic regression classifier\n",
        "fpr, tpr, thresholds = roc_curve(y_test, logreg.predict_proba(x_test)[:,1])\n",
        "\n",
        "ax2.plot(\n",
        "    fpr, tpr,\n",
        "    label='Logistic Regression (area = {:.2f})'.format(logit_roc_auc*100)\n",
        ")\n",
        "ax2.plot([0, 1], [0, 1],'r--')\n",
        "ax2.set_xlim([0.0, 1.0])\n",
        "ax2.set_ylim([0.0, 1.05])\n",
        "ax2.set_xlabel('False Positive Rate')\n",
        "ax2.set_ylabel('True Positive Rate')\n",
        "ax2.set_title('Receiver operating characteristic')\n",
        "ax2.legend(loc=\"lower right\")\n",
        "ax2.grid()\n",
        "\n",
        "plt.show()"
      ]
    },
    {
      "cell_type": "markdown",
      "metadata": {
        "id": "ZDSx7G6Frakb"
      },
      "source": [
        "**Discussion:** Which model do you think is better?"
      ]
    },
    {
      "cell_type": "markdown",
      "metadata": {
        "id": "FfMGcFMMrakc"
      },
      "source": [
        "In practice, data scientists also use n-fold cross-validation and permutation tests to better compare models, tune hyperparameters, and get better estimates for our metrics. <br>\n",
        "This will result in a clearer picture of how the models preform, and which models to use for classification of novel data."
      ]
    },
    {
      "cell_type": "markdown",
      "metadata": {
        "id": "mHI93MSbrakc"
      },
      "source": [
        "## 6. Summary\n",
        "\n",
        "Lets briefly revisit some topics covered in this module:\n",
        "\n",
        "- Machine learning is a task of learning models that can map input variables to desired outputs with high precision; features to labels\n",
        "    - classification: outputs are discrete variables or classes\n",
        "    - regression: outputs are continuous variables\n",
        "- We can load our dataset in python from a csv file using pandas and explore it using different plotting types\n",
        "    - normally we would have to preprocess our data\n",
        "- Data is split up into training and test sets so that we can evaluate the model's generalization capacity on unseen data\n",
        "- models are trained on the training set and their performance evaluated on the test set\n",
        "- It is generally a good idea to use different metrics when evaluating a model\n",
        "    - this leads to a better understanding of how the model performs\n",
        "\n",
        "\n",
        "## 7. Exercises (Optional)\n",
        "### Let us now use the different columns to predict if a subject's age is 35 years or older.\n",
        "Going through these exercises, you will develop a better undertanding of how to train and test models given a dataset. We suggest that you use the above code as a reference but do **NOT** simply copy and paste. You will gain a deeper understanding if your type the code yourself, implement the functions, and use docs to understand how functions work and what parameters to pass in."
      ]
    },
    {
      "cell_type": "markdown",
      "metadata": {
        "id": "ovE2nhKWrakc"
      },
      "source": [
        "Let's create a dataframe for our task"
      ]
    },
    {
      "cell_type": "code",
      "execution_count": null,
      "metadata": {
        "id": "Jhx2r9vtrakd"
      },
      "outputs": [],
      "source": [
        "# set a common random seed to avoid getting very different scores due to model stochasticity\n",
        "np.random.seed(0)"
      ]
    },
    {
      "cell_type": "code",
      "execution_count": null,
      "metadata": {
        "id": "YROprMt9rakd"
      },
      "outputs": [],
      "source": [
        "# add diabetes as another input variable\n",
        "df_age = df_clean.rename(columns={\"Outcome\":\"Diabetes\"})\n",
        "# Make age the new 'Outcome' variable\n",
        "df_age[\"Outcome\"] = (df_age[\"Age\"] >= 35).astype(int)\n",
        "df_age = df_age.drop(columns=[\"Age\"])\n",
        "df_age"
      ]
    },
    {
      "cell_type": "markdown",
      "metadata": {
        "id": "pCfdsyH2rakd"
      },
      "source": [
        "### 7.1 Plot the new label's distribution or counts"
      ]
    },
    {
      "cell_type": "code",
      "execution_count": null,
      "metadata": {
        "id": "qWW1g6V8rakd"
      },
      "outputs": [],
      "source": [
        "# YOUR CODE GOES HERE\n",
        "# Note: Play around with the plt methods and parameter to see how it changes the\n",
        "#       display of your plots."
      ]
    },
    {
      "cell_type": "markdown",
      "metadata": {
        "id": "lS46LBqbrake"
      },
      "source": [
        "<!--\n",
        "ax = df_age[\"Outcome\"].value_counts().plot(kind='bar',\n",
        "                       title=\"Age<35 vs Age>=35\",\n",
        "                       ylabel=\"number of subjects\",\n",
        "                       rot=0)\n",
        "tick_names = ax.set_xticklabels([\"Age<35\", \"Age>=35\"])\n",
        "plt.show()-->"
      ]
    },
    {
      "cell_type": "markdown",
      "metadata": {
        "id": "AMCPAuLZrake"
      },
      "source": [
        "### 7.2 Create the new X (features) and y (labels) variables"
      ]
    },
    {
      "cell_type": "code",
      "execution_count": null,
      "metadata": {
        "id": "TMdkhvKJrake"
      },
      "outputs": [],
      "source": [
        "# YOUR CODE GOES HERE"
      ]
    },
    {
      "cell_type": "markdown",
      "metadata": {
        "id": "8yH8SXu4rake"
      },
      "source": [
        "<!-- X = df_age[[\"Pregnancies\",\"Glucose\",\"BloodPressure\",\"SkinThickness\",\n",
        "              \"Insulin\",\"BMI\",\"DiabetesPedigreeFunction\",\"Age\"]].values\n",
        "y = df_age[[\"Outcome\"]].values -->"
      ]
    },
    {
      "cell_type": "code",
      "execution_count": null,
      "metadata": {
        "id": "4hHvzVZHrakf"
      },
      "outputs": [],
      "source": [
        "# verification: this cell should return ((724, 8), (724, 1))\n",
        "X.shape, y.shape"
      ]
    },
    {
      "cell_type": "markdown",
      "metadata": {
        "id": "D0dNJ82prakf"
      },
      "source": [
        "### 7.3 Split your data into training and test sets\n",
        "\n",
        "You should use the `train_test_split` function imported from sklearn. We want you to use a test set size of 25%.\n",
        "\n",
        "Explicitly pass `shuffle=False` in `train_test_split` to make sure we all have the same train and test splits."
      ]
    },
    {
      "cell_type": "code",
      "execution_count": null,
      "metadata": {
        "id": "El-fKzuSrakf"
      },
      "outputs": [],
      "source": [
        "# YOUR CODE GOES HERE"
      ]
    },
    {
      "cell_type": "markdown",
      "metadata": {
        "id": "RD_T7xzJrakf"
      },
      "source": [
        "<!-- x_train, x_test, y_train, y_test = train_test_split(X, y, test_size=0.2, shuffle=False)\n",
        "y_train = y_train.ravel()\n",
        "y_test = y_test.ravel() -->"
      ]
    },
    {
      "cell_type": "code",
      "execution_count": null,
      "metadata": {
        "id": "URVpXzz1rakg"
      },
      "outputs": [],
      "source": [
        "# verification: this cell should return numpy shapes ((543, 8), (181, 8), (543, 1), (181, 1))\n",
        "(x_train.shape), (x_test.shape), (y_train.shape), (y_test.shape)"
      ]
    },
    {
      "cell_type": "markdown",
      "metadata": {
        "id": "qEIKj_XZrakg"
      },
      "source": [
        "### 7.4 Train your Models\n",
        "\n",
        "Implement the non-linear SVC and Logistic Regression models and fit them to the training data."
      ]
    },
    {
      "cell_type": "code",
      "execution_count": null,
      "metadata": {
        "id": "t11VGebKrakg"
      },
      "outputs": [],
      "source": [
        "# YOUR CODE GOES HERE\n",
        "# Hint: Remember to compute the probabilities for SVC and make sure that the logistic regression\n",
        "#       model converges (by increasing the max_iter argument if necessary)."
      ]
    },
    {
      "cell_type": "markdown",
      "metadata": {
        "id": "ejcn0ZQmrakg"
      },
      "source": [
        "### 7.5 Evaluate your Models\n",
        "\n",
        "#### 7.5.1 Predict the labels of the test set using both classifiers"
      ]
    },
    {
      "cell_type": "code",
      "execution_count": null,
      "metadata": {
        "id": "d6hItPcErakh"
      },
      "outputs": [],
      "source": [
        "# Hint: Use the predict method from the classifier class\n",
        "# YOUR CODE GOES HERE"
      ]
    },
    {
      "cell_type": "markdown",
      "metadata": {
        "id": "1M2bu4Derakh"
      },
      "source": [
        "<!-- y_pred_svc = svc.predict(x_test)\n",
        "y_pred_log = logreg.predict(x_test) -->"
      ]
    },
    {
      "cell_type": "markdown",
      "metadata": {
        "id": "nf20PCA4rakh"
      },
      "source": [
        "#### 7.5.2 Compute and print the Accuracy for both models"
      ]
    },
    {
      "cell_type": "code",
      "execution_count": null,
      "metadata": {
        "id": "4Kwv5PXRrakh"
      },
      "outputs": [],
      "source": [
        "# Hint: Use the score method from each model class.\n",
        "# YOUR CODE GOES HERE"
      ]
    },
    {
      "cell_type": "markdown",
      "metadata": {
        "id": "DITO9D3Mraki"
      },
      "source": [
        "<!-- acc_svc = svc.score(x_test, y_test)\n",
        "acc_log = logreg.score(x_test, y_test)\n",
        "print('Accuracy of Support Vector classifier on test set: {:.1f}%'.format(acc_svc*100))\n",
        "print('Accuracy of logistic regression classifier on test set: {:.1f}%'.format(acc_log*100)) -->"
      ]
    },
    {
      "cell_type": "markdown",
      "metadata": {
        "id": "GKXIleLEraki"
      },
      "source": [
        "#### 7.5.3 Plot the confusion matrices from each classifier"
      ]
    },
    {
      "cell_type": "code",
      "execution_count": null,
      "metadata": {
        "id": "qkFPgZFvraki"
      },
      "outputs": [],
      "source": [
        "# Hint: Use the plot_confusion_matrix function import from sklearn\n",
        "# YOUR CODE GOES HERE"
      ]
    },
    {
      "cell_type": "markdown",
      "metadata": {
        "id": "lCLy2RJBrakj"
      },
      "source": [
        "<!-- fig, (ax1,ax2) = plt.subplots(1,2,figsize=(15, 5))\n",
        "\n",
        "plot_confusion_matrix(svc, x_test, y_test, ax=ax1) # , normalize='all'\n",
        "ax1.set_title('Confusion Matrix - SVC') # , fontsize=20\n",
        "\n",
        "plot_confusion_matrix(logreg, x_test, y_test, ax=ax2) # , normalize='all'\n",
        "ax2.set_title('Confusion Matrix - LR') # , fontsize=20\n",
        "\n",
        "plt.show() -->"
      ]
    },
    {
      "cell_type": "markdown",
      "metadata": {
        "id": "ic9H-NnBrakj"
      },
      "source": [
        "#### 7.5.4 Plot the ROC curves and compute the AUC for both classifiers"
      ]
    },
    {
      "cell_type": "code",
      "execution_count": null,
      "metadata": {
        "id": "d7Bo2RE4rakj"
      },
      "outputs": [],
      "source": [
        "# Hint: Use the roc_auc_score and roc_curve functions\n",
        "# YOUR CODE GOES HERE"
      ]
    },
    {
      "cell_type": "markdown",
      "metadata": {
        "id": "RNeejqvqrakk"
      },
      "source": [
        "<!-- fig, (ax1,ax2) = plt.subplots(1,2,figsize=(15, 5))\n",
        "\n",
        "\n",
        "# compute and plot the AUC and ROC values for the support vector classifier\n",
        "svc_roc_auc = roc_auc_score(y_test, svc.predict(x_test))\n",
        "fpr, tpr, thresholds = roc_curve(y_test, svc.predict_proba(x_test)[:,1])\n",
        "\n",
        "\n",
        "ax1.plot(\n",
        "    fpr, tpr,\n",
        "    label='SVC - RBF Kernel (area = {:0.2f})'.format(svc_roc_auc)\n",
        ")\n",
        "ax1.plot([0, 1], [0, 1],'r--')\n",
        "ax1.set_xlim([0.0, 1.0])\n",
        "ax1.set_ylim([0.0, 1.05])\n",
        "ax1.set_xlabel('False Positive Rate')\n",
        "ax1.set_ylabel('True Positive Rate')\n",
        "ax1.set_title('Receiver operating characteristic')\n",
        "ax1.legend(loc=\"lower right\")\n",
        "ax1.grid()\n",
        "\n",
        "\n",
        "# compute and plot the AUC and ROC values for the logistic\n",
        "# regression classifier\n",
        "logit_roc_auc = roc_auc_score(y_test, logreg.predict(x_test))\n",
        "fpr, tpr, thresholds = roc_curve(y_test, logreg.predict_proba(x_test)[:,1])\n",
        "\n",
        "\n",
        "ax2.plot(\n",
        "    fpr, tpr,\n",
        "    label='Logistic Regression (area = {:0.2f})'.format(logit_roc_auc)\n",
        ")\n",
        "ax2.plot([0, 1], [0, 1],'r--')\n",
        "ax2.set_xlim([0.0, 1.0])\n",
        "ax2.set_ylim([0.0, 1.05])\n",
        "ax2.set_xlabel('False Positive Rate')\n",
        "ax2.set_ylabel('True Positive Rate')\n",
        "ax2.set_title('Receiver operating characteristic')\n",
        "ax2.legend(loc=\"lower right\")\n",
        "ax2.grid()\n",
        "\n",
        "plt.show() -->"
      ]
    }
  ],
  "metadata": {
    "hide_input": false,
    "kernelspec": {
      "display_name": "Python 3",
      "language": "python",
      "name": "python3"
    },
    "language_info": {
      "codemirror_mode": {
        "name": "ipython",
        "version": 3
      },
      "file_extension": ".py",
      "mimetype": "text/x-python",
      "name": "python",
      "nbconvert_exporter": "python",
      "pygments_lexer": "ipython3",
      "version": "3.7.9"
    },
    "toc": {
      "base_numbering": 1,
      "nav_menu": {},
      "number_sections": false,
      "sideBar": true,
      "skip_h1_title": false,
      "title_cell": "Table of Contents",
      "title_sidebar": "Contents",
      "toc_cell": false,
      "toc_position": {
        "height": "calc(100% - 180px)",
        "left": "10px",
        "top": "150px",
        "width": "380.8px"
      },
      "toc_section_display": true,
      "toc_window_display": false
    },
    "varInspector": {
      "cols": {
        "lenName": 16,
        "lenType": 16,
        "lenVar": 40
      },
      "kernels_config": {
        "python": {
          "delete_cmd_postfix": "",
          "delete_cmd_prefix": "del ",
          "library": "var_list.py",
          "varRefreshCmd": "print(var_dic_list())"
        },
        "r": {
          "delete_cmd_postfix": ") ",
          "delete_cmd_prefix": "rm(",
          "library": "var_list.r",
          "varRefreshCmd": "cat(var_dic_list()) "
        }
      },
      "types_to_exclude": [
        "module",
        "function",
        "builtin_function_or_method",
        "instance",
        "_Feature"
      ],
      "window_display": false
    },
    "colab": {
      "provenance": []
    }
  },
  "nbformat": 4,
  "nbformat_minor": 0
}